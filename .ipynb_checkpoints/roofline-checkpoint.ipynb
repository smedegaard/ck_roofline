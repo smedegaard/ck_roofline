{
 "cells": [
  {
   "cell_type": "code",
   "execution_count": 1,
   "id": "dc83d9e5-b010-422f-9287-d737c2f888da",
   "metadata": {},
   "outputs": [],
   "source": [
    "import polars as pl\n",
    "import plotly.express as px\n",
    "import plotly.graph_objects as go\n",
    "import re\n",
    "import glob\n",
    "import numpy as np"
   ]
  },
  {
   "cell_type": "code",
   "execution_count": 2,
   "id": "86418108-6a9e-4bb6-b1be-cf5ed44b9de2",
   "metadata": {},
   "outputs": [],
   "source": [
    "def load_gemm_data(path: str):\n",
    "    files = glob.glob(path + \"/*.jsonl\")\n",
    "    pattern = re.compile(r\"M(\\d+)_N(\\d+)_K(\\d+)\")\n",
    "    \n",
    "    dfs = []\n",
    "    for file in files:\n",
    "        match = pattern.search(file)\n",
    "        if match:\n",
    "            M, N, K = match.groups()\n",
    "            df = pl.read_ndjson(file).filter(pl.col(\"is_best\") == \"true\")\n",
    "            dfs.append(df)\n",
    "    \n",
    "    if dfs:\n",
    "        combined_df = pl.concat(dfs)\n",
    "    else:\n",
    "        raise RuntimeError(\"No data loaded\")\n",
    "    return combined_df"
   ]
  },
  {
   "cell_type": "code",
   "execution_count": 16,
   "id": "f735c592-9284-4380-b2e3-f2c107d155a7",
   "metadata": {},
   "outputs": [],
   "source": [
    "def calculate_roofline_data(df, peak_compute, peak_bandwidth):\n",
    "    df = df.with_columns([\n",
    "        (\n",
    "            (pl.col(\"M\") * pl.col(\"N\") * pl.col(\"K\")) /\n",
    "            (pl.col(\"M\") * pl.col(\"K\") + pl.col(\"N\") * pl.col(\"K\") + pl.col(\"M\") * pl.col(\"N\"))\n",
    "        ).alias(\"gemm_arithmetic_intensity\"),\n",
    "        (pl.col(\"M\").cast(pl.Utf8) + \"_\" + pl.col(\"N\").cast(pl.Utf8) + \"_\" + pl.col(\"K\").cast(pl.Utf8)).alias(\"group\")\n",
    "    ])\n",
    "\n",
    "    df = df.with_columns([\n",
    "        pl.min_horizontal(\n",
    "            peak_compute,\n",
    "            peak_bandwidth * pl.col(\"gemm_arithmetic_intensity\")\n",
    "        ).alias(\"attainable_performance\")\n",
    "    ])\n",
    "    return df"
   ]
  },
  {
   "cell_type": "code",
   "execution_count": 38,
   "id": "a83c1dbb-5c7b-48d0-9a9e-bb0cbfc5786d",
   "metadata": {},
   "outputs": [],
   "source": [
    "def generate_roofline_plot(combined_df):    \n",
    "    # Apply square root scaling to 'time_ms'\n",
    "    combined_df = combined_df.with_columns(\n",
    "        (pl.col(\"time_ms\").sqrt().alias(\"time_scaled\"))\n",
    "    )\n",
    "\n",
    "    # force categorical coloring of \"M\"\n",
    "    combined_df = combined_df.sort(\"M\")\n",
    "    combined_df = combined_df.cast({\"M\": pl.String})\n",
    "    \n",
    "  \n",
    "    # Create main scatter plot \n",
    "    fig = px.scatter(\n",
    "        combined_df, \n",
    "        x=\"gemm_arithmetic_intensity\",\n",
    "        y=\"tflops\",\n",
    "        log_x=True,\n",
    "        log_y=True,\n",
    "        color=\"M\",\n",
    "        color_discrete_sequence=px.colors.qualitative.G10,\n",
    "        size=\"time_scaled\",\n",
    "        hover_data={\n",
    "            \"time_scaled\": False,\n",
    "            \"time_ms\": True,\n",
    "            \"M\": True,\n",
    "            \"N\": True,\n",
    "            \"K\": True\n",
    "        },\n",
    "        labels={\n",
    "            \"operational_intensity\": \"Operational Intensity (TFLOPs/GB/s)\",\n",
    "            \"tflops\": \"Performance (TFLOPs)\",\n",
    "            \"time_ms\": \"Execution Time (ms)\",\n",
    "        },\n",
    "        title=\"AMD RX 7900 XTX Roofline Analysis\",\n",
    "        height=600\n",
    "    )\n",
    "    \n",
    "    # Add roofline\n",
    "    fig.add_trace(go.Scatter(\n",
    "        x=combined_df[\"gemm_arithmetic_intensity\"].to_list(),\n",
    "        y=combined_df[\"attainable_performance\"].to_list(),\n",
    "        mode='lines',\n",
    "        line=dict(color='tomato', width=1),\n",
    "        opacity=0.45,\n",
    "        name='Theoretical Roofline'\n",
    "    ))\n",
    "    \n",
    "    return fig\n"
   ]
  },
  {
   "cell_type": "code",
   "execution_count": 39,
   "id": "53849821-4bae-42c0-b13f-8c1004b103b9",
   "metadata": {},
   "outputs": [],
   "source": [
    "peak_compute = 61.44 * 10e-3\n",
    "peak_bandwidth = 960"
   ]
  },
  {
   "cell_type": "markdown",
   "id": "16c66911-7a67-4355-999e-2067fc47e68f",
   "metadata": {},
   "source": [
    "# Roofline for RX 7900 XTX GPU\n",
    "\n",
    "Spec from https://en.wikipedia.org/wiki/List_of_AMD_graphics_processing_units\n",
    "\n",
    "Processing power for RX 7900 XTX in TFLPOS\n",
    "\n",
    "|Half|Single|Double|\n",
    "|---|---|---|\n",
    "|61.44|61.44|0.960|\n",
    "\n",
    "Memory bandwidth in GB/s\n",
    "\n",
    "960"
   ]
  },
  {
   "cell_type": "markdown",
   "id": "3c2fca34-b36e-4b0c-a2f2-2b1522e9a3bf",
   "metadata": {},
   "source": [
    "# Kernel Scan Results"
   ]
  },
  {
   "cell_type": "code",
   "execution_count": 47,
   "id": "a4461454-011b-455e-8192-0e0f2d575eb7",
   "metadata": {},
   "outputs": [
    {
     "data": {
      "application/vnd.plotly.v1+json": {
       "config": {
        "plotlyServerURL": "https://plot.ly"
       },
       "data": [
        {
         "customdata": [
          [
           0.3319246902536779,
           0.110174,
           "1",
           8192,
           8192
          ],
          [
           0.09645776277729025,
           0.0093041,
           "1",
           512,
           512
          ],
          [
           0.21009664442822498,
           0.0441406,
           "1",
           4096,
           4096
          ],
          [
           0.15208024197771386,
           0.0231284,
           "1",
           2048,
           2048
          ],
          [
           0.07258098924649622,
           0.005268,
           "1",
           128,
           128
          ],
          [
           0.5939705379898905,
           0.352801,
           "1",
           16384,
           16384
          ],
          [
           0.08325923372215241,
           0.0069321,
           "1",
           64,
           64
          ],
          [
           0.08321117713384422,
           0.0069241,
           "1",
           256,
           256
          ],
          [
           0.11886210497883672,
           0.0141282,
           "1",
           1024,
           1024
          ]
         ],
         "hovertemplate": "M=%{customdata[2]}<br>gemm_arithmetic_intensity=%{x}<br>Performance (TFLOPs)=%{y}<br>Execution Time (ms)=%{customdata[1]}<br>N=%{customdata[3]}<br>K=%{customdata[4]}<extra></extra>",
         "legendgroup": "1",
         "marker": {
          "color": "#3366CC",
          "size": {
           "bdata": "bPdXDkE+1T/B45K4dLG4P83GaGRy5Mo/+L3UiF13wz/mASDvqpSyPwiIboDOAeM/6jntJXpQtT8Tl3PkU021P50pnjW/bb4/",
           "dtype": "f8"
          },
          "sizemode": "area",
          "sizeref": 0.003549454183392145,
          "symbol": "circle"
         },
         "mode": "markers",
         "name": "1",
         "orientation": "v",
         "showlegend": true,
         "type": "scatter",
         "x": {
          "bdata": "IAD+HwD+7z8g4B/gH+DvPwAC8H8A/O8/+B+A/wH47z8g+IEf+IHvPwLA/wcA/+8/CB988MEH7z/wB/wBf8DvPwD/AfwH8O8/",
          "dtype": "f8"
         },
         "xaxis": "x",
         "y": {
          "bdata": "Wd3qOel98z+eAT/07tmsP5m36jpUU+g/M95Wem021z/2eTE5Wnp5P5s90AoMWfg/VvSHZp5cUz+B5a1fVWKTP9MXQs77/8I/",
          "dtype": "f8"
         },
         "yaxis": "y"
        },
        {
         "customdata": [
          [
           0.3329834830738606,
           0.110878,
           "2",
           8192,
           8192
          ],
          [
           0.09608433795369566,
           0.0092322,
           "2",
           512,
           512
          ],
          [
           0.21025841243574536,
           0.0442086,
           "2",
           4096,
           4096
          ],
          [
           0.15186836405255705,
           0.023064,
           "2",
           2048,
           2048
          ],
          [
           0.07194442299441979,
           0.005176,
           "2",
           128,
           128
          ],
          [
           0.5920954314973221,
           0.350577,
           "2",
           16384,
           16384
          ],
          [
           0.07769234196495817,
           0.0060361,
           "2",
           64,
           64
          ],
          [
           0.08342721378543096,
           0.0069601,
           "2",
           256,
           256
          ],
          [
           0.11738909659759716,
           0.0137802,
           "2",
           1024,
           1024
          ]
         ],
         "hovertemplate": "M=%{customdata[2]}<br>gemm_arithmetic_intensity=%{x}<br>Performance (TFLOPs)=%{y}<br>Execution Time (ms)=%{customdata[1]}<br>N=%{customdata[3]}<br>K=%{customdata[4]}<extra></extra>",
         "legendgroup": "2",
         "marker": {
          "color": "#DC3912",
          "size": {
           "bdata": "AkR69JlP1T9JPyux+5i4P3dpj2a/6co/do1zLGxwwz/l/+Mf82qyP1KLTB5y8uI/7J7jM6Xjsz8ZCc5ifFu1P5wtyzo2Db4/",
           "dtype": "f8"
          },
          "sizemode": "area",
          "sizeref": 0.003549454183392145,
          "symbol": "circle"
         },
         "mode": "markers",
         "name": "2",
         "orientation": "v",
         "showlegend": true,
         "type": "scatter",
         "x": {
          "bdata": "AALwfwD8/z/wB/wBf8D/P/gfgP8B+P8/AP8B/Afw/z8IH3zwwQf/PyAA/h8A/v8/Hh4eHh4e/j8g+IEf+IH/PyDgH+Af4P8/",
          "dtype": "f8"
         },
         "xaxis": "x",
         "y": {
          "bdata": "yk+qfTpeA0DjioujchO9P30/NV66Sfg/LJrOTgZH5z/Er1jDRe6JP3EgJAuYgAhAqpn3MGI8Zj+cdXxqq0ijP/JbdLLUetM/",
          "dtype": "f8"
         },
         "yaxis": "y"
        },
        {
         "customdata": [
          [
           0.33267100865569876,
           0.11067,
           "4",
           8192,
           8192
          ],
          [
           0.09668557286379391,
           0.0093481,
           "4",
           512,
           512
          ],
          [
           0.21031571505714927,
           0.0442327,
           "4",
           4096,
           4096
          ],
          [
           0.1523430339726763,
           0.0232084,
           "4",
           2048,
           2048
          ],
          [
           0.07205622804449315,
           0.0051921,
           "4",
           128,
           128
          ],
          [
           0.5912808131505706,
           0.349613,
           "4",
           16384,
           16384
          ],
          [
           0.08202560575820211,
           0.0067282,
           "4",
           64,
           64
          ],
          [
           0.08330726258856427,
           0.0069401,
           "4",
           256,
           256
          ],
          [
           0.11896301946403344,
           0.0141522,
           "4",
           1024,
           1024
          ]
         ],
         "hovertemplate": "M=%{customdata[2]}<br>gemm_arithmetic_intensity=%{x}<br>Performance (TFLOPs)=%{y}<br>Execution Time (ms)=%{customdata[1]}<br>N=%{customdata[3]}<br>K=%{customdata[4]}<extra></extra>",
         "legendgroup": "4",
         "marker": {
          "color": "#FF9900",
          "size": {
           "bdata": "UDqgV3tK1T/T7HG9YsC4PweuABeg68o/3tBX/vl/wz9tmezmRnKyP9N8Z73F6+I/ZIMqTqH/tD+iUFbwn1O1PyEMCEZcdL4/",
           "dtype": "f8"
          },
          "sizemode": "area",
          "sizeref": 0.003549454183392145,
          "symbol": "circle"
         },
         "mode": "markers",
         "name": "4",
         "orientation": "v",
         "showlegend": true,
         "type": "scatter",
         "x": {
          "bdata": "+B+A/wH4D0Ag+IEf+IEPQAD/AfwH8A9AIOAf4B/gD0AeHh4eHh4OQAAC8H8A/A9AHMdxHMdxDEAIH3zwwQcPQPAH/AF/wA9A",
          "dtype": "f8"
         },
         "xaxis": "x",
         "y": {
          "bdata": "1uJTAIxnE0BJopdRLLfMPxFTIoleRghANSTusfQh9z+fkJ23sdmZP+DzwwjhkRhAKNGSx9Pycz9/2eK/5VazP3XmHhK+9+I/",
          "dtype": "f8"
         },
         "yaxis": "y"
        },
        {
         "customdata": [
          [
           0.33185689686972003,
           0.110129,
           "8",
           8192,
           8192
          ],
          [
           0.09722191111061333,
           0.0094521,
           "8",
           512,
           512
          ],
          [
           0.21082836621289838,
           0.0444486,
           "8",
           4096,
           4096
          ],
          [
           0.15289309990970815,
           0.0233763,
           "8",
           2048,
           2048
          ],
          [
           0.07002927959075404,
           0.0049041,
           "8",
           128,
           128
          ],
          [
           0.5955745125506967,
           0.354709,
           "8",
           16384,
           16384
          ],
          [
           0.08651127094199923,
           0.0074842,
           "8",
           64,
           64
          ],
          [
           0.083833764081067,
           0.0070281,
           "8",
           256,
           256
          ],
          [
           0.11973387156523421,
           0.0143362,
           "8",
           1024,
           1024
          ]
         ],
         "hovertemplate": "M=%{customdata[2]}<br>gemm_arithmetic_intensity=%{x}<br>Performance (TFLOPs)=%{y}<br>Execution Time (ms)=%{customdata[1]}<br>N=%{customdata[3]}<br>K=%{customdata[4]}<extra></extra>",
         "legendgroup": "8",
         "marker": {
          "color": "#109618",
          "size": {
           "bdata": "wXrAtSQ91T9buawAieO4P50M+oRs/Mo/jbjyRwCSwz+Dz5pZcO2xP3WQt0fyDuM/fGhuR5oltj/3XAcrIXa1P/qcmAbhpr4/",
           "dtype": "f8"
          },
          "sizemode": "area",
          "sizeref": 0.003549454183392145,
          "symbol": "circle"
         },
         "mode": "markers",
         "name": "8",
         "orientation": "v",
         "showlegend": true,
         "type": "scatter",
         "x": {
          "bdata": "AP8B/AfwH0AIH3zwwQcfQCDgH+Af4B9A8Af8AX/AH0Acx3Ecx3EcQPgfgP8B+B9AmpmZmZmZGUAeHh4eHh4eQCD4gR/4gR9A",
          "dtype": "f8"
         },
         "xaxis": "x",
         "y": {
          "bdata": "cm2oGOd/I0AoDTUKSWbcP5wWvOgrKBhA8zy4O2v3BkAnmqz2VV6rP9bFbTSANyhA+GfMRfjugT86dlCJ6xjDP7bWFwltufI/",
          "dtype": "f8"
         },
         "yaxis": "y"
        },
        {
         "customdata": [
          [
           0.33136988396654277,
           0.109806,
           "16",
           8192,
           8192
          ],
          [
           0.09899545444110049,
           0.0098001,
           "16",
           512,
           512
          ],
          [
           0.2117559916507677,
           0.0448406,
           "16",
           4096,
           4096
          ],
          [
           0.1521193610294232,
           0.0231403,
           "16",
           2048,
           2048
          ],
          [
           0.07028513356322232,
           0.00494,
           "16",
           128,
           128
          ],
          [
           0.596443626841632,
           0.355745,
           "16",
           16384,
           16384
          ],
          [
           0.07017121917139534,
           0.004924,
           "16",
           64,
           64
          ],
          [
           0.08414333009811295,
           0.0070801,
           "16",
           256,
           256
          ],
          [
           0.11978397221665343,
           0.0143482,
           "16",
           1024,
           1024
          ]
         ],
         "hovertemplate": "M=%{customdata[2]}<br>gemm_arithmetic_intensity=%{x}<br>Performance (TFLOPs)=%{y}<br>Execution Time (ms)=%{customdata[1]}<br>N=%{customdata[3]}<br>K=%{customdata[4]}<extra></extra>",
         "legendgroup": "16",
         "marker": {
          "color": "#990099",
          "size": {
           "bdata": "2v+gByo11T+R9UYfxFe5P9qgbwHSGss/YtpasKV4wz9ZjQzeNP6xP3Io5vEQFuM/1yp2s732sT9iq/LSaoq1P2RoQZMpqr4/",
           "dtype": "f8"
          },
          "sizemode": "area",
          "sizeref": 0.003549454183392145,
          "symbol": "circle"
         },
         "mode": "markers",
         "name": "16",
         "orientation": "v",
         "showlegend": true,
         "type": "scatter",
         "x": {
          "bdata": "IOAf4B/gL0AeHh4eHh4uQPAH/AF/wC9AIPiBH/iBL0CamZmZmZkpQAD/AfwH8C9AVVVVVVVVJUAcx3Ecx3EsQAgffPDBBy9A",
          "dtype": "f8"
         },
         "xaxis": "x",
         "y": {
          "bdata": "ylTBqKSOM0C0VUlkH2TrP4qO5PIf8idAFva0w18zF0Cifhe2Ziu7P6Fns+pzJThAzxPP2QJCmz/KcDyfAfXSPy+jWG5ptQJA",
          "dtype": "f8"
         },
         "yaxis": "y"
        },
        {
         "customdata": [
          [
           0.35710782685345893,
           0.127526,
           "32",
           8192,
           8192
          ],
          [
           0.09748897373549482,
           0.0095041,
           "32",
           512,
           512
          ],
          [
           0.21399205592731707,
           0.0457926,
           "32",
           4096,
           4096
          ],
          [
           0.15253950308034964,
           0.0232683,
           "32",
           2048,
           2048
          ],
          [
           0.06931089380465383,
           0.004804,
           "32",
           128,
           128
          ],
          [
           0.6028208689154682,
           0.363393,
           "32",
           16384,
           16384
          ],
          [
           0.06991494833009605,
           0.0048881,
           "32",
           64,
           64
          ],
          [
           0.08419085461022474,
           0.0070881,
           "32",
           256,
           256
          ],
          [
           0.11862630399704781,
           0.0140722,
           "32",
           1024,
           1024
          ]
         ],
         "hovertemplate": "M=%{customdata[2]}<br>gemm_arithmetic_intensity=%{x}<br>Performance (TFLOPs)=%{y}<br>Execution Time (ms)=%{customdata[1]}<br>N=%{customdata[3]}<br>K=%{customdata[4]}<extra></extra>",
         "legendgroup": "32",
         "marker": {
          "color": "#0099C6",
          "size": {
           "bdata": "lcxeydra1j8pIOqRCfW4P3zj53gXZMs/OgKKGGqGwz+wwyXWW76xP9rSqv1OSuM/gUyUMPLlsT88VywniI21PzvYHCBLXr4/",
           "dtype": "f8"
          },
          "sizemode": "area",
          "sizeref": 0.003549454183392145,
          "symbol": "circle"
         },
         "mode": "markers",
         "name": "32",
         "orientation": "v",
         "showlegend": true,
         "type": "scatter",
         "x": {
          "bdata": "8Af8AX/AP0Acx3Ecx3E8QCD4gR/4gT9ACB988MEHP0BVVVVVVVU1QCDgH+Af4D9AAAAAAAAAMECamZmZmZk5QB4eHh4eHj5A",
          "dtype": "f8"
         },
         "xaxis": "x",
         "y": {
          "bdata": "u7iNBvDWQEDK/Q5FgT78P9/gC5OpcjdAppvEILASJ0DMJVXbTfDLP0HxY8xdo0dAi/87okJ1qz9ckZighu/iP96Th4VaExNA",
          "dtype": "f8"
         },
         "yaxis": "y"
        },
        {
         "customdata": [
          [
           0.3823113914075802,
           0.146162,
           "64",
           8192,
           8192
          ],
          [
           0.09440391941016008,
           0.0089121,
           "64",
           512,
           512
          ],
          [
           0.23349668091859463,
           0.0545207,
           "64",
           4096,
           4096
          ],
          [
           0.15693406258680745,
           0.0246283,
           "64",
           2048,
           2048
          ],
          [
           0.07427045172879992,
           0.0055161,
           "64",
           128,
           128
          ],
          [
           0.7680651014074262,
           0.589924,
           "64",
           16384,
           16384
          ],
          [
           0.0677347768875044,
           0.004588,
           "64",
           64,
           64
          ],
          [
           0.08212246951961442,
           0.0067441,
           "64",
           256,
           256
          ],
          [
           0.11946631324352484,
           0.0142722,
           "64",
           1024,
           1024
          ]
         ],
         "hovertemplate": "M=%{customdata[2]}<br>gemm_arithmetic_intensity=%{x}<br>Performance (TFLOPs)=%{y}<br>Execution Time (ms)=%{customdata[1]}<br>N=%{customdata[3]}<br>K=%{customdata[4]}<extra></extra>",
         "legendgroup": "64",
         "marker": {
          "color": "#DD4477",
          "size": {
           "bdata": "yPa+Msp32D90GXvy2iq4P3OMIiA4480/ISk4VWoWxD/c/TtpYwOzP17Nd0P9k+g/yJ+I+xBXsT8Hf9po+gW1PxfJWiRYlb4/",
           "dtype": "f8"
          },
          "sizemode": "area",
          "sizeref": 0.003549454183392145,
          "symbol": "circle"
         },
         "mode": "markers",
         "name": "64",
         "orientation": "v",
         "showlegend": true,
         "type": "scatter",
         "x": {
          "bdata": "IPiBH/iBT0CamZmZmZlJQAgffPDBB09AHh4eHh4eTkAAAAAAAABAQPAH/AF/wE9AVVVVVVVVNUBVVVVVVVVFQBzHcRzHcUxA",
          "dtype": "f8"
         },
         "xaxis": "x",
         "y": {
          "bdata": "w/UoXI9iTUACDqFKzR4OQBniWBe3sUNAP8bctYTMNUCLUdfa+1TYP9c07zhFH01AgXnIlA9BvT9mTpfFxObzP8kCJnDrziJA",
          "dtype": "f8"
         },
         "yaxis": "y"
        },
        {
         "customdata": [
          [
           0.5432715711317867,
           0.295144,
           "128",
           8192,
           8192
          ],
          [
           0.09606300016135244,
           0.0092281,
           "128",
           512,
           512
          ],
          [
           0.2745926073294764,
           0.0754011,
           "128",
           4096,
           4096
          ],
          [
           0.17023630635090742,
           0.0289804,
           "128",
           2048,
           2048
          ],
          [
           0.07093729625521401,
           0.0050321,
           "128",
           128,
           128
          ],
          [
           0.9655288706196206,
           0.932246,
           "128",
           16384,
           16384
          ],
          [
           0.06425029182813102,
           0.0041281,
           "128",
           64,
           64
          ],
          [
           0.07985048528343457,
           0.0063761,
           "128",
           256,
           256
          ],
          [
           0.12236094148052311,
           0.0149722,
           "128",
           1024,
           1024
          ]
         ],
         "hovertemplate": "M=%{customdata[2]}<br>gemm_arithmetic_intensity=%{x}<br>Performance (TFLOPs)=%{y}<br>Execution Time (ms)=%{customdata[1]}<br>N=%{customdata[3]}<br>K=%{customdata[4]}<extra></extra>",
         "legendgroup": "128",
         "marker": {
          "color": "#66AA00",
          "size": {
           "bdata": "JXHbD3ti4T9sdAy0lZe4P6sFDd/sktE/4jovpE3KxT9FmXtX8iiyP3b2VM2c5e4/CAgpBrVysD9TsdzWFHG0Py909/ELU78/",
           "dtype": "f8"
          },
          "sizemode": "area",
          "sizeref": 0.003549454183392145,
          "symbol": "circle"
         },
         "mode": "markers",
         "name": "128",
         "orientation": "v",
         "showlegend": true,
         "type": "scatter",
         "x": {
          "bdata": "CB988MEHX0BVVVVVVVVVQB4eHh4eHl5AHMdxHMdxXEBVVVVVVVVFQCD4gR/4gV9AmpmZmZmZOUAAAAAAAABQQJqZmZmZmVlA",
          "dtype": "f8"
         },
         "xaxis": "x",
         "y": {
          "bdata": "Qj7o2awaTUDY9Qt2wxYdQLPqc7UVe0xAvJaQD3qGQkBcctwpHazqP1InoImwbVJAQfD49q5B0D8/kSdJ1wwFQCBB8WPM7TFA",
          "dtype": "f8"
         },
         "yaxis": "y"
        },
        {
         "customdata": [
          [
           0.6419735197031105,
           0.41213,
           "256",
           8192,
           8192
          ],
          [
           0.09893482703274918,
           0.0097881,
           "256",
           512,
           512
          ],
          [
           0.36060227398062816,
           0.130034,
           "256",
           4096,
           4096
          ],
          [
           0.19098821953199102,
           0.0364765,
           "256",
           2048,
           2048
          ],
          [
           0.0718616726774433,
           0.0051641,
           "256",
           128,
           128
          ],
          [
           1.419781673356858,
           2.01578,
           "256",
           16384,
           16384
          ],
          [
           0.06452906321960672,
           0.004164,
           "256",
           64,
           64
          ],
          [
           0.08158492507810496,
           0.0066561,
           "256",
           256,
           256
          ],
          [
           0.1297855924207306,
           0.0168443,
           "256",
           1024,
           1024
          ]
         ],
         "hovertemplate": "M=%{customdata[2]}<br>gemm_arithmetic_intensity=%{x}<br>Performance (TFLOPs)=%{y}<br>Execution Time (ms)=%{customdata[1]}<br>N=%{customdata[3]}<br>K=%{customdata[4]}<extra></extra>",
         "legendgroup": "256",
         "marker": {
          "color": "#B82E2E",
          "size": {
           "bdata": "XLsADQyL5D/bg4r2ylO5P7oKZ48bFNc/atRnTk1yyD8jSPzNhmWyPx1y6Pxst/Y/QHMrCPqEsD81nA7pv+K0P+sxeHXQnMA/",
           "dtype": "f8"
          },
          "sizemode": "area",
          "sizeref": 0.003549454183392145,
          "symbol": "circle"
         },
         "mode": "markers",
         "name": "256",
         "orientation": "v",
         "showlegend": true,
         "type": "scatter",
         "x": {
          "bdata": "Hh4eHh4ebkAAAAAAAABgQBzHcRzHcWxAmpmZmZmZaUCamZmZmZlJQAgffPDBB29AHMdxHMdxPEBVVVVVVVVVQFVVVVVVVWVA",
          "dtype": "f8"
         },
         "xaxis": "x",
         "y": {
          "bdata": "6+I2GsDXVECx4emVsmwrQBb7y+7Jg1BAnRGlvcFvTUDLuRRXlf35P1YOLbKdC1FAQq8/ic8d4D/u68A5IyoUQFZ9rrZi3z9A",
          "dtype": "f8"
         },
         "yaxis": "y"
        },
        {
         "line": {
          "color": "tomato",
          "width": 1
         },
         "mode": "lines",
         "name": "Theoretical Roofline",
         "opacity": 0.45,
         "type": "scatter",
         "x": [
          0.9997559189650964,
          0.9961089494163424,
          0.9995119570522206,
          0.9990243902439024,
          0.9846153846153847,
          0.9998779445868424,
          0.9696969696969697,
          0.9922480620155039,
          0.9980506822612085,
          1.9990239141044412,
          1.9844961240310077,
          1.9980487804878049,
          1.996101364522417,
          1.9393939393939394,
          1.9995118379301928,
          1.8823529411764706,
          1.9692307692307693,
          1.9922178988326849,
          3.9960975609756098,
          3.9384615384615387,
          3.992202729044834,
          3.9844357976653697,
          3.764705882352941,
          3.9980478282088825,
          3.5555555555555554,
          3.878787878787879,
          3.9689922480620154,
          7.984405458089668,
          7.757575757575758,
          7.968871595330739,
          7.937984496124031,
          7.111111111111111,
          7.9921951219512195,
          6.4,
          7.529411764705882,
          7.876923076923077,
          15.937743190661479,
          15.058823529411764,
          15.875968992248062,
          15.753846153846155,
          12.8,
          15.968810916179336,
          10.666666666666666,
          14.222222222222221,
          15.515151515151516,
          31.751937984496124,
          28.444444444444443,
          31.50769230769231,
          31.03030303030303,
          21.333333333333332,
          31.875486381322958,
          16,
          25.6,
          30.11764705882353,
          63.01538461538462,
          51.2,
          62.06060606060606,
          60.23529411764706,
          32,
          63.50387596899225,
          21.333333333333332,
          42.666666666666664,
          56.888888888888886,
          124.12121212121212,
          85.33333333333333,
          120.47058823529412,
          113.77777777777777,
          42.666666666666664,
          126.03076923076924,
          25.6,
          64,
          102.4,
          240.94117647058823,
          128,
          227.55555555555554,
          204.8,
          51.2,
          248.24242424242425,
          28.444444444444443,
          85.33333333333333,
          170.66666666666666
         ],
         "y": [
          0.6144,
          0.6144,
          0.6144,
          0.6144,
          0.6144,
          0.6144,
          0.6144,
          0.6144,
          0.6144,
          0.6144,
          0.6144,
          0.6144,
          0.6144,
          0.6144,
          0.6144,
          0.6144,
          0.6144,
          0.6144,
          0.6144,
          0.6144,
          0.6144,
          0.6144,
          0.6144,
          0.6144,
          0.6144,
          0.6144,
          0.6144,
          0.6144,
          0.6144,
          0.6144,
          0.6144,
          0.6144,
          0.6144,
          0.6144,
          0.6144,
          0.6144,
          0.6144,
          0.6144,
          0.6144,
          0.6144,
          0.6144,
          0.6144,
          0.6144,
          0.6144,
          0.6144,
          0.6144,
          0.6144,
          0.6144,
          0.6144,
          0.6144,
          0.6144,
          0.6144,
          0.6144,
          0.6144,
          0.6144,
          0.6144,
          0.6144,
          0.6144,
          0.6144,
          0.6144,
          0.6144,
          0.6144,
          0.6144,
          0.6144,
          0.6144,
          0.6144,
          0.6144,
          0.6144,
          0.6144,
          0.6144,
          0.6144,
          0.6144,
          0.6144,
          0.6144,
          0.6144,
          0.6144,
          0.6144,
          0.6144,
          0.6144,
          0.6144,
          0.6144
         ]
        }
       ],
       "layout": {
        "height": 600,
        "legend": {
         "itemsizing": "constant",
         "title": {
          "text": "M"
         },
         "tracegroupgap": 0
        },
        "template": {
         "data": {
          "bar": [
           {
            "error_x": {
             "color": "#2a3f5f"
            },
            "error_y": {
             "color": "#2a3f5f"
            },
            "marker": {
             "line": {
              "color": "#E5ECF6",
              "width": 0.5
             },
             "pattern": {
              "fillmode": "overlay",
              "size": 10,
              "solidity": 0.2
             }
            },
            "type": "bar"
           }
          ],
          "barpolar": [
           {
            "marker": {
             "line": {
              "color": "#E5ECF6",
              "width": 0.5
             },
             "pattern": {
              "fillmode": "overlay",
              "size": 10,
              "solidity": 0.2
             }
            },
            "type": "barpolar"
           }
          ],
          "carpet": [
           {
            "aaxis": {
             "endlinecolor": "#2a3f5f",
             "gridcolor": "white",
             "linecolor": "white",
             "minorgridcolor": "white",
             "startlinecolor": "#2a3f5f"
            },
            "baxis": {
             "endlinecolor": "#2a3f5f",
             "gridcolor": "white",
             "linecolor": "white",
             "minorgridcolor": "white",
             "startlinecolor": "#2a3f5f"
            },
            "type": "carpet"
           }
          ],
          "choropleth": [
           {
            "colorbar": {
             "outlinewidth": 0,
             "ticks": ""
            },
            "type": "choropleth"
           }
          ],
          "contour": [
           {
            "colorbar": {
             "outlinewidth": 0,
             "ticks": ""
            },
            "colorscale": [
             [
              0,
              "#0d0887"
             ],
             [
              0.1111111111111111,
              "#46039f"
             ],
             [
              0.2222222222222222,
              "#7201a8"
             ],
             [
              0.3333333333333333,
              "#9c179e"
             ],
             [
              0.4444444444444444,
              "#bd3786"
             ],
             [
              0.5555555555555556,
              "#d8576b"
             ],
             [
              0.6666666666666666,
              "#ed7953"
             ],
             [
              0.7777777777777778,
              "#fb9f3a"
             ],
             [
              0.8888888888888888,
              "#fdca26"
             ],
             [
              1,
              "#f0f921"
             ]
            ],
            "type": "contour"
           }
          ],
          "contourcarpet": [
           {
            "colorbar": {
             "outlinewidth": 0,
             "ticks": ""
            },
            "type": "contourcarpet"
           }
          ],
          "heatmap": [
           {
            "colorbar": {
             "outlinewidth": 0,
             "ticks": ""
            },
            "colorscale": [
             [
              0,
              "#0d0887"
             ],
             [
              0.1111111111111111,
              "#46039f"
             ],
             [
              0.2222222222222222,
              "#7201a8"
             ],
             [
              0.3333333333333333,
              "#9c179e"
             ],
             [
              0.4444444444444444,
              "#bd3786"
             ],
             [
              0.5555555555555556,
              "#d8576b"
             ],
             [
              0.6666666666666666,
              "#ed7953"
             ],
             [
              0.7777777777777778,
              "#fb9f3a"
             ],
             [
              0.8888888888888888,
              "#fdca26"
             ],
             [
              1,
              "#f0f921"
             ]
            ],
            "type": "heatmap"
           }
          ],
          "histogram": [
           {
            "marker": {
             "pattern": {
              "fillmode": "overlay",
              "size": 10,
              "solidity": 0.2
             }
            },
            "type": "histogram"
           }
          ],
          "histogram2d": [
           {
            "colorbar": {
             "outlinewidth": 0,
             "ticks": ""
            },
            "colorscale": [
             [
              0,
              "#0d0887"
             ],
             [
              0.1111111111111111,
              "#46039f"
             ],
             [
              0.2222222222222222,
              "#7201a8"
             ],
             [
              0.3333333333333333,
              "#9c179e"
             ],
             [
              0.4444444444444444,
              "#bd3786"
             ],
             [
              0.5555555555555556,
              "#d8576b"
             ],
             [
              0.6666666666666666,
              "#ed7953"
             ],
             [
              0.7777777777777778,
              "#fb9f3a"
             ],
             [
              0.8888888888888888,
              "#fdca26"
             ],
             [
              1,
              "#f0f921"
             ]
            ],
            "type": "histogram2d"
           }
          ],
          "histogram2dcontour": [
           {
            "colorbar": {
             "outlinewidth": 0,
             "ticks": ""
            },
            "colorscale": [
             [
              0,
              "#0d0887"
             ],
             [
              0.1111111111111111,
              "#46039f"
             ],
             [
              0.2222222222222222,
              "#7201a8"
             ],
             [
              0.3333333333333333,
              "#9c179e"
             ],
             [
              0.4444444444444444,
              "#bd3786"
             ],
             [
              0.5555555555555556,
              "#d8576b"
             ],
             [
              0.6666666666666666,
              "#ed7953"
             ],
             [
              0.7777777777777778,
              "#fb9f3a"
             ],
             [
              0.8888888888888888,
              "#fdca26"
             ],
             [
              1,
              "#f0f921"
             ]
            ],
            "type": "histogram2dcontour"
           }
          ],
          "mesh3d": [
           {
            "colorbar": {
             "outlinewidth": 0,
             "ticks": ""
            },
            "type": "mesh3d"
           }
          ],
          "parcoords": [
           {
            "line": {
             "colorbar": {
              "outlinewidth": 0,
              "ticks": ""
             }
            },
            "type": "parcoords"
           }
          ],
          "pie": [
           {
            "automargin": true,
            "type": "pie"
           }
          ],
          "scatter": [
           {
            "fillpattern": {
             "fillmode": "overlay",
             "size": 10,
             "solidity": 0.2
            },
            "type": "scatter"
           }
          ],
          "scatter3d": [
           {
            "line": {
             "colorbar": {
              "outlinewidth": 0,
              "ticks": ""
             }
            },
            "marker": {
             "colorbar": {
              "outlinewidth": 0,
              "ticks": ""
             }
            },
            "type": "scatter3d"
           }
          ],
          "scattercarpet": [
           {
            "marker": {
             "colorbar": {
              "outlinewidth": 0,
              "ticks": ""
             }
            },
            "type": "scattercarpet"
           }
          ],
          "scattergeo": [
           {
            "marker": {
             "colorbar": {
              "outlinewidth": 0,
              "ticks": ""
             }
            },
            "type": "scattergeo"
           }
          ],
          "scattergl": [
           {
            "marker": {
             "colorbar": {
              "outlinewidth": 0,
              "ticks": ""
             }
            },
            "type": "scattergl"
           }
          ],
          "scattermap": [
           {
            "marker": {
             "colorbar": {
              "outlinewidth": 0,
              "ticks": ""
             }
            },
            "type": "scattermap"
           }
          ],
          "scattermapbox": [
           {
            "marker": {
             "colorbar": {
              "outlinewidth": 0,
              "ticks": ""
             }
            },
            "type": "scattermapbox"
           }
          ],
          "scatterpolar": [
           {
            "marker": {
             "colorbar": {
              "outlinewidth": 0,
              "ticks": ""
             }
            },
            "type": "scatterpolar"
           }
          ],
          "scatterpolargl": [
           {
            "marker": {
             "colorbar": {
              "outlinewidth": 0,
              "ticks": ""
             }
            },
            "type": "scatterpolargl"
           }
          ],
          "scatterternary": [
           {
            "marker": {
             "colorbar": {
              "outlinewidth": 0,
              "ticks": ""
             }
            },
            "type": "scatterternary"
           }
          ],
          "surface": [
           {
            "colorbar": {
             "outlinewidth": 0,
             "ticks": ""
            },
            "colorscale": [
             [
              0,
              "#0d0887"
             ],
             [
              0.1111111111111111,
              "#46039f"
             ],
             [
              0.2222222222222222,
              "#7201a8"
             ],
             [
              0.3333333333333333,
              "#9c179e"
             ],
             [
              0.4444444444444444,
              "#bd3786"
             ],
             [
              0.5555555555555556,
              "#d8576b"
             ],
             [
              0.6666666666666666,
              "#ed7953"
             ],
             [
              0.7777777777777778,
              "#fb9f3a"
             ],
             [
              0.8888888888888888,
              "#fdca26"
             ],
             [
              1,
              "#f0f921"
             ]
            ],
            "type": "surface"
           }
          ],
          "table": [
           {
            "cells": {
             "fill": {
              "color": "#EBF0F8"
             },
             "line": {
              "color": "white"
             }
            },
            "header": {
             "fill": {
              "color": "#C8D4E3"
             },
             "line": {
              "color": "white"
             }
            },
            "type": "table"
           }
          ]
         },
         "layout": {
          "annotationdefaults": {
           "arrowcolor": "#2a3f5f",
           "arrowhead": 0,
           "arrowwidth": 1
          },
          "autotypenumbers": "strict",
          "coloraxis": {
           "colorbar": {
            "outlinewidth": 0,
            "ticks": ""
           }
          },
          "colorscale": {
           "diverging": [
            [
             0,
             "#8e0152"
            ],
            [
             0.1,
             "#c51b7d"
            ],
            [
             0.2,
             "#de77ae"
            ],
            [
             0.3,
             "#f1b6da"
            ],
            [
             0.4,
             "#fde0ef"
            ],
            [
             0.5,
             "#f7f7f7"
            ],
            [
             0.6,
             "#e6f5d0"
            ],
            [
             0.7,
             "#b8e186"
            ],
            [
             0.8,
             "#7fbc41"
            ],
            [
             0.9,
             "#4d9221"
            ],
            [
             1,
             "#276419"
            ]
           ],
           "sequential": [
            [
             0,
             "#0d0887"
            ],
            [
             0.1111111111111111,
             "#46039f"
            ],
            [
             0.2222222222222222,
             "#7201a8"
            ],
            [
             0.3333333333333333,
             "#9c179e"
            ],
            [
             0.4444444444444444,
             "#bd3786"
            ],
            [
             0.5555555555555556,
             "#d8576b"
            ],
            [
             0.6666666666666666,
             "#ed7953"
            ],
            [
             0.7777777777777778,
             "#fb9f3a"
            ],
            [
             0.8888888888888888,
             "#fdca26"
            ],
            [
             1,
             "#f0f921"
            ]
           ],
           "sequentialminus": [
            [
             0,
             "#0d0887"
            ],
            [
             0.1111111111111111,
             "#46039f"
            ],
            [
             0.2222222222222222,
             "#7201a8"
            ],
            [
             0.3333333333333333,
             "#9c179e"
            ],
            [
             0.4444444444444444,
             "#bd3786"
            ],
            [
             0.5555555555555556,
             "#d8576b"
            ],
            [
             0.6666666666666666,
             "#ed7953"
            ],
            [
             0.7777777777777778,
             "#fb9f3a"
            ],
            [
             0.8888888888888888,
             "#fdca26"
            ],
            [
             1,
             "#f0f921"
            ]
           ]
          },
          "colorway": [
           "#636efa",
           "#EF553B",
           "#00cc96",
           "#ab63fa",
           "#FFA15A",
           "#19d3f3",
           "#FF6692",
           "#B6E880",
           "#FF97FF",
           "#FECB52"
          ],
          "font": {
           "color": "#2a3f5f"
          },
          "geo": {
           "bgcolor": "white",
           "lakecolor": "white",
           "landcolor": "#E5ECF6",
           "showlakes": true,
           "showland": true,
           "subunitcolor": "white"
          },
          "hoverlabel": {
           "align": "left"
          },
          "hovermode": "closest",
          "mapbox": {
           "style": "light"
          },
          "paper_bgcolor": "white",
          "plot_bgcolor": "#E5ECF6",
          "polar": {
           "angularaxis": {
            "gridcolor": "white",
            "linecolor": "white",
            "ticks": ""
           },
           "bgcolor": "#E5ECF6",
           "radialaxis": {
            "gridcolor": "white",
            "linecolor": "white",
            "ticks": ""
           }
          },
          "scene": {
           "xaxis": {
            "backgroundcolor": "#E5ECF6",
            "gridcolor": "white",
            "gridwidth": 2,
            "linecolor": "white",
            "showbackground": true,
            "ticks": "",
            "zerolinecolor": "white"
           },
           "yaxis": {
            "backgroundcolor": "#E5ECF6",
            "gridcolor": "white",
            "gridwidth": 2,
            "linecolor": "white",
            "showbackground": true,
            "ticks": "",
            "zerolinecolor": "white"
           },
           "zaxis": {
            "backgroundcolor": "#E5ECF6",
            "gridcolor": "white",
            "gridwidth": 2,
            "linecolor": "white",
            "showbackground": true,
            "ticks": "",
            "zerolinecolor": "white"
           }
          },
          "shapedefaults": {
           "line": {
            "color": "#2a3f5f"
           }
          },
          "ternary": {
           "aaxis": {
            "gridcolor": "white",
            "linecolor": "white",
            "ticks": ""
           },
           "baxis": {
            "gridcolor": "white",
            "linecolor": "white",
            "ticks": ""
           },
           "bgcolor": "#E5ECF6",
           "caxis": {
            "gridcolor": "white",
            "linecolor": "white",
            "ticks": ""
           }
          },
          "title": {
           "x": 0.05
          },
          "xaxis": {
           "automargin": true,
           "gridcolor": "white",
           "linecolor": "white",
           "ticks": "",
           "title": {
            "standoff": 15
           },
           "zerolinecolor": "white",
           "zerolinewidth": 2
          },
          "yaxis": {
           "automargin": true,
           "gridcolor": "white",
           "linecolor": "white",
           "ticks": "",
           "title": {
            "standoff": 15
           },
           "zerolinecolor": "white",
           "zerolinewidth": 2
          }
         }
        },
        "title": {
         "text": "AMD RX 7900 XTX Roofline Analysis"
        },
        "xaxis": {
         "anchor": "y",
         "domain": [
          0,
          1
         ],
         "title": {
          "text": "gemm_arithmetic_intensity"
         },
         "type": "log"
        },
        "yaxis": {
         "anchor": "x",
         "domain": [
          0,
          1
         ],
         "title": {
          "text": "Performance (TFLOPs)"
         },
         "type": "log"
        }
       }
      },
      "image/png": "[encoded data removed]"
     },
     "metadata": {},
     "output_type": "display_data"
    }
   ],
   "source": [
    "df = load_gemm_data(\"results/**/INT8/**/\")\n",
    "df = calculate_roofline_data(df, peak_compute, peak_bandwidth)\n",
    "fig = generate_roofline_plot(df)\n",
    "fig.show()"
   ]
  },
  {
   "cell_type": "code",
   "execution_count": 48,
   "id": "f261039a-6ae0-404a-b495-3e48ef40a809",
   "metadata": {},
   "outputs": [
    {
     "data": {
      "application/vnd.plotly.v1+json": {
       "config": {
        "plotlyServerURL": "https://plot.ly"
       },
       "data": [
        {
         "customdata": [
          [
           0.3970415595375376,
           0.157642,
           "1",
           8192,
           8192
          ],
          [
           0.08185413856366701,
           0.0067001,
           "1",
           512,
           512
          ],
          [
           0.1957562259546296,
           0.0383205,
           "1",
           4096,
           4096
          ],
          [
           0.1401720371543483,
           0.0196482,
           "1",
           2048,
           2048
          ],
          [
           0.08231706991869912,
           0.0067761,
           "1",
           128,
           128
          ],
          [
           0.7867858666752982,
           0.619032,
           "1",
           16384,
           16384
          ],
          [
           0.0785117825552318,
           0.0061641,
           "1",
           64,
           64
          ],
          [
           0.07491328320131217,
           0.005612,
           "1",
           256,
           256
          ],
          [
           0.09348850196681943,
           0.0087401,
           "1",
           1024,
           1024
          ]
         ],
         "hovertemplate": "M=%{customdata[2]}<br>gemm_arithmetic_intensity=%{x}<br>Performance (TFLOPs)=%{y}<br>Execution Time (ms)=%{customdata[1]}<br>N=%{customdata[3]}<br>K=%{customdata[4]}<extra></extra>",
         "legendgroup": "1",
         "marker": {
          "color": "#3366CC",
          "size": {
           "bdata": "vHVXACFp2T/7ViyQZPS0P6RUOz6KDsk/syCyRSjxwT9HDzRDuxK1P9tpyo1ZLek/9eVsIlkZtD8fuGJVhC2zP57gf8rc7rc/",
           "dtype": "f8"
          },
          "sizemode": "area",
          "sizeref": 0.0035000803562204113,
          "symbol": "circle"
         },
         "mode": "markers",
         "name": "1",
         "orientation": "v",
         "showlegend": true,
         "type": "scatter",
         "x": {
          "bdata": "IAD+HwD+7z8g4B/gH+DvPwAC8H8A/O8/+B+A/wH47z8g+IEf+IHvPwLA/wcA/+8/CB988MEH7z/wB/wBf8DvPwD/AfwH8O8/",
          "dtype": "f8"
         },
         "xaxis": "x",
         "y": {
          "bdata": "R7Bx/bs+6z8zxuKSPgi0P5zfMNEgBew/3qtWJvxS2z/LTv2Luc5zP695VWe1wOs/dqyMJTDGVT9GZLN+juqXP4grZ++Mts4/",
          "dtype": "f8"
         },
         "yaxis": "y"
        },
        {
         "customdata": [
          [
           0.3955477215204254,
           0.156458,
           "2",
           8192,
           8192
          ],
          [
           0.08032496498598676,
           0.0064521,
           "2",
           512,
           512
          ],
          [
           0.1974145384717144,
           0.0389725,
           "2",
           4096,
           4096
          ],
          [
           0.14653429632683265,
           0.0214723,
           "2",
           2048,
           2048
          ],
          [
           0.08632554662439156,
           0.0074521,
           "2",
           128,
           128
          ],
          [
           0.7979448602503809,
           0.636716,
           "2",
           16384,
           16384
          ],
          [
           0.0781631626791035,
           0.00610948,
           "2",
           64,
           64
          ],
          [
           0.07337642673229598,
           0.0053841,
           "2",
           256,
           256
          ],
          [
           0.09350989252480188,
           0.0087441,
           "2",
           1024,
           1024
          ]
         ],
         "hovertemplate": "M=%{customdata[2]}<br>gemm_arithmetic_intensity=%{x}<br>Performance (TFLOPs)=%{y}<br>Execution Time (ms)=%{customdata[1]}<br>N=%{customdata[3]}<br>K=%{customdata[4]}<extra></extra>",
         "legendgroup": "2",
         "marker": {
          "color": "#DC3912",
          "size": {
           "bdata": "sgD8Y6dQ2T/iyqpJLZC0P1vXPi3hRMk/y6k7xaLBwj9Do49Xbhm2P3Qs2ajDiOk/4Gt1Q4ACtD8r0BwpzMiyP44aP6pD8Lc/",
           "dtype": "f8"
          },
          "sizemode": "area",
          "sizeref": 0.0035000803562204113,
          "symbol": "circle"
         },
         "mode": "markers",
         "name": "2",
         "orientation": "v",
         "showlegend": true,
         "type": "scatter",
         "x": {
          "bdata": "AALwfwD8/z/wB/wBf8D/P/gfgP8B+P8/AP8B/Afw/z8IH3zwwQf/PyAA/h8A/v8/Hh4eHh4e/j8g+IEf+IH/PyDgH+Af4P8/",
          "dtype": "f8"
         },
         "xaxis": "x",
         "y": {
          "bdata": "iPTb14Fz+z/XogVoW83EPyKOdXEbjfs/LLgf8MAA6T8tNCH3vgKCP89J7xtf+/o/j8ix1P73ZT+N8WH2su2oP3KkMzDyst4/",
          "dtype": "f8"
         },
         "yaxis": "y"
        },
        {
         "customdata": [
          [
           0.39675433204944344,
           0.157414,
           "4",
           8192,
           8192
          ],
          [
           0.08114246730288648,
           0.0065841,
           "4",
           512,
           512
          ],
          [
           0.1932162001489523,
           0.0373325,
           "4",
           4096,
           4096
          ],
          [
           0.14649334455872048,
           0.0214603,
           "4",
           2048,
           2048
          ],
          [
           0.08494763092635367,
           0.0072161,
           "4",
           128,
           128
          ],
          [
           0.8021583384843668,
           0.643458,
           "4",
           16384,
           16384
          ],
          [
           0.07949842765740717,
           0.00632,
           "4",
           64,
           64
          ],
          [
           0.0741087039422496,
           0.0054921,
           "4",
           256,
           256
          ],
          [
           0.09385201116651683,
           0.0088082,
           "4",
           1024,
           1024
          ]
         ],
         "hovertemplate": "M=%{customdata[2]}<br>gemm_arithmetic_intensity=%{x}<br>Performance (TFLOPs)=%{y}<br>Execution Time (ms)=%{customdata[1]}<br>N=%{customdata[3]}<br>K=%{customdata[4]}<extra></extra>",
         "legendgroup": "4",
         "marker": {
          "color": "#FF9900",
          "size": {
           "bdata": "PrcsSGxk2T8j9WGzwMW0P+Y7WfZOu8g/+g37PUvAwj/NjLPAIL+1PzUhwPZHq+k/dDrfSgJatD+b6ce7yfiyP42/n3avBrg/",
           "dtype": "f8"
          },
          "sizemode": "area",
          "sizeref": 0.0035000803562204113,
          "symbol": "circle"
         },
         "mode": "markers",
         "name": "4",
         "orientation": "v",
         "showlegend": true,
         "type": "scatter",
         "x": {
          "bdata": "+B+A/wH4D0Ag+IEf+IEPQAD/AfwH8A9AIOAf4B/gD0AeHh4eHh4OQAAC8H8A/A9AHMdxHMdxDEAIH3zwwQcPQPAH/AF/wA9A",
          "dtype": "f8"
         },
         "xaxis": "x",
         "y": {
          "bdata": "8L+V7NhIC0Av/UtSmWLUPzSitDf4wgxAFVeVfVcE+T8OZOL7h5mSPzS/mgMEswpA0vIs1qo8dT/8EwHzNXC4P090XfjBee4/",
          "dtype": "f8"
         },
         "yaxis": "y"
        },
        {
         "customdata": [
          [
           0.40374992260061177,
           0.163014,
           "8",
           8192,
           8192
          ],
          [
           0.08082140805504442,
           0.0065321,
           "8",
           512,
           512
          ],
          [
           0.19965094540221942,
           0.0398605,
           "8",
           4096,
           4096
          ],
          [
           0.14602807949158272,
           0.0213242,
           "8",
           2048,
           2048
          ],
          [
           0.08224414872804023,
           0.0067641,
           "8",
           128,
           128
          ],
          [
           0.7995223574109732,
           0.639236,
           "8",
           16384,
           16384
          ],
          [
           0.07871530981962785,
           0.0061961,
           "8",
           64,
           64
          ],
          [
           0.07402769751923938,
           0.0054801,
           "8",
           256,
           256
          ],
          [
           0.09562478758146342,
           0.0091441,
           "8",
           1024,
           1024
          ]
         ],
         "hovertemplate": "M=%{customdata[2]}<br>gemm_arithmetic_intensity=%{x}<br>Performance (TFLOPs)=%{y}<br>Execution Time (ms)=%{customdata[1]}<br>N=%{customdata[3]}<br>K=%{customdata[4]}<extra></extra>",
         "legendgroup": "8",
         "marker": {
          "color": "#109618",
          "size": {
           "bdata": "F0JV6gnX2T8OwGk4trC0PxUbj4Qpjsk/iWXbUAyxwj/aBBPZ8w21P88HMOmvlek/0qtewa8mtD9k49erevOyP9htWbfderg/",
           "dtype": "f8"
          },
          "sizemode": "area",
          "sizeref": 0.0035000803562204113,
          "symbol": "circle"
         },
         "mode": "markers",
         "name": "8",
         "orientation": "v",
         "showlegend": true,
         "type": "scatter",
         "x": {
          "bdata": "AP8B/AfwH0AIH3zwwQcfQCDgH+Af4B9A8Af8AX/AH0Acx3Ecx3EcQPgfgP8B+B9AmpmZmZmZGUAeHh4eHh4eQCD4gR/4gR9A",
          "dtype": "f8"
         },
         "xaxis": "x",
         "y": {
          "bdata": "1CtlGeJYGkCmC7H6I4zkP3KndLD+7xpAWipvRzgtCUChkRm5uNejP6pgVFIn4BpA3uS36GSphT+Hxahr7X3IP7MkQE0tW/0/",
          "dtype": "f8"
         },
         "yaxis": "y"
        },
        {
         "customdata": [
          [
           0.40549969173847716,
           0.16443,
           "16",
           8192,
           8192
          ],
          [
           0.08124099950148324,
           0.0066001,
           "16",
           512,
           512
          ],
          [
           0.21860603834295153,
           0.0477886,
           "16",
           4096,
           4096
          ],
          [
           0.14072739605350482,
           0.0198042,
           "16",
           2048,
           2048
          ],
          [
           0.08380865110476364,
           0.00702389,
           "16",
           128,
           128
          ],
          [
           0.8032888646060021,
           0.645273,
           "16",
           16384,
           16384
          ],
          [
           0.078587530817554,
           0.006176,
           "16",
           64,
           64
          ],
          [
           0.07353910524340095,
           0.005408,
           "16",
           256,
           256
          ],
          [
           0.09893533241466368,
           0.0097882,
           "16",
           1024,
           1024
          ]
         ],
         "hovertemplate": "M=%{customdata[2]}<br>gemm_arithmetic_intensity=%{x}<br>Performance (TFLOPs)=%{y}<br>Execution Time (ms)=%{customdata[1]}<br>N=%{customdata[3]}<br>K=%{customdata[4]}<extra></extra>",
         "legendgroup": "16",
         "marker": {
          "color": "#990099",
          "size": {
           "bdata": "g4Kj+rTz2T9pBvTLNcy0P4cPslxI+8s/xLvZ9VoDwj/X6J3Xe3S1P/goV9mKtOk/+Rq8+k8etD/DXP9zddOyP3jOI3HTU7k/",
           "dtype": "f8"
          },
          "sizemode": "area",
          "sizeref": 0.0035000803562204113,
          "symbol": "circle"
         },
         "mode": "markers",
         "name": "16",
         "orientation": "v",
         "showlegend": true,
         "type": "scatter",
         "x": {
          "bdata": "IOAf4B/gL0AeHh4eHh4uQPAH/AF/wC9AIPiBH/iBL0CamZmZmZkpQAD/AfwH8C9AVVVVVVVVJUAcx3Ecx3EsQAgffPDBBy9A",
          "dtype": "f8"
         },
         "xaxis": "x",
         "y": {
          "bdata": "O3DOiNIeKkDZ690f71X0P9Xnaiv2dyZAeZJ0zeQbG0Da5Vsf1huzP8cpOpLLnypApNu3/227lT/KF7SQgNHYPyJseHqlbAtA",
          "dtype": "f8"
         },
         "yaxis": "y"
        },
        {
         "customdata": [
          [
           0.44128675484315183,
           0.194734,
           "32",
           8192,
           8192
          ],
          [
           0.0842383523105717,
           0.0070961,
           "32",
           512,
           512
          ],
          [
           0.2689254543549197,
           0.0723209,
           "32",
           4096,
           4096
          ],
          [
           0.1613576772267127,
           0.0260363,
           "32",
           2048,
           2048
          ],
          [
           0.08185413856366701,
           0.0067001,
           "32",
           128,
           128
          ],
          [
           0.8278466041483772,
           0.68533,
           "32",
           16384,
           16384
          ],
          [
           0.08079665834674105,
           0.0065281,
           "32",
           64,
           64
          ],
          [
           0.09035540935660687,
           0.0081641,
           "32",
           256,
           256
          ],
          [
           0.11164318160998458,
           0.0124642,
           "32",
           1024,
           1024
          ]
         ],
         "hovertemplate": "M=%{customdata[2]}<br>gemm_arithmetic_intensity=%{x}<br>Performance (TFLOPs)=%{y}<br>Execution Time (ms)=%{customdata[1]}<br>N=%{customdata[3]}<br>K=%{customdata[4]}<extra></extra>",
         "legendgroup": "32",
         "marker": {
          "color": "#0099C6",
          "size": {
           "bdata": "SGUNzQo+3D80Kj4IpZC1P2cL4RsTNtE/QdlSTV6nxD/7ViyQZPS0P4SAXSm4feo/xK85/RavtD+1DDQ4iCG3P/MV1sWllLw/",
           "dtype": "f8"
          },
          "sizemode": "area",
          "sizeref": 0.0035000803562204113,
          "symbol": "circle"
         },
         "mode": "markers",
         "name": "32",
         "orientation": "v",
         "showlegend": true,
         "type": "scatter",
         "x": {
          "bdata": "8Af8AX/AP0Acx3Ecx3E8QCD4gR/4gT9ACB988MEHP0BVVVVVVVU1QCDgH+Af4D9AAAAAAAAAMECamZmZmZk5QB4eHh4eHj5A",
          "dtype": "f8"
         },
         "xaxis": "x",
         "y": {
          "bdata": "ke18PzUONkAnFCLgEOoCQP32deCcsS1AH4XrUbieJECLGeHtQQjEP8UgsHJoETlA5Jh2e1qPpD9xPQrXo3DgP2Gm7V9ZiRVA",
          "dtype": "f8"
         },
         "yaxis": "y"
        },
        {
         "customdata": [
          [
           0.49770975477681767,
           0.247715,
           "64",
           8192,
           8192
          ],
          [
           0.09208745842947345,
           0.0084801,
           "64",
           512,
           512
          ],
          [
           0.25998615347744963,
           0.0675928,
           "64",
           4096,
           4096
          ],
          [
           0.19822335886569978,
           0.0392925,
           "64",
           2048,
           2048
          ],
          [
           0.06717216685503007,
           0.0045121,
           "64",
           128,
           128
          ],
          [
           0.860547500141625,
           0.740542,
           "64",
           16384,
           16384
          ],
          [
           0.07359415737679181,
           0.0054161,
           "64",
           64,
           64
          ],
          [
           0.07445871339205372,
           0.0055441,
           "64",
           256,
           256
          ],
          [
           0.11908064494282855,
           0.0141802,
           "64",
           1024,
           1024
          ]
         ],
         "hovertemplate": "M=%{customdata[2]}<br>gemm_arithmetic_intensity=%{x}<br>Performance (TFLOPs)=%{y}<br>Execution Time (ms)=%{customdata[1]}<br>N=%{customdata[3]}<br>K=%{customdata[4]}<extra></extra>",
         "legendgroup": "64",
         "marker": {
          "color": "#DD4477",
          "size": {
           "bdata": "xKnqA3ra3z+Li1MuC5O3P4tNpvaco9A/bdPQDWJfyT/jA9jzMTKxPyRpOOmaies/1CgcExHXsj+7zevquQ+zP5C0nbMRfL4/",
           "dtype": "f8"
          },
          "sizemode": "area",
          "sizeref": 0.0035000803562204113,
          "symbol": "circle"
         },
         "mode": "markers",
         "name": "64",
         "orientation": "v",
         "showlegend": true,
         "type": "scatter",
         "x": {
          "bdata": "IPiBH/iBT0CamZmZmZlJQAgffPDBB09AHh4eHh4eTkAAAAAAAABAQPAH/AF/wE9AVVVVVVVVNUBVVVVVVVVFQBzHcRzHcUxA",
          "dtype": "f8"
         },
         "xaxis": "x",
         "y": {
          "bdata": "nzws1JpWQUCBCdy6m6cPQIV80LNZxT9AMlUwKqlTK0BiD+1jBb/dP9BE2PD0MkdAlKUxtQDIuD+E8GjjiDX4PwN4CyQo7iJA",
          "dtype": "f8"
         },
         "yaxis": "y"
        },
        {
         "customdata": [
          [
           0.5764633552967613,
           0.33231,
           "128",
           8192,
           8192
          ],
          [
           0.09757151223589804,
           0.0095202,
           "128",
           512,
           512
          ],
          [
           0.3546434829515411,
           0.125772,
           "128",
           4096,
           4096
          ],
          [
           0.23559456700017511,
           0.0555048,
           "128",
           2048,
           2048
          ],
          [
           0.06597044792935698,
           0.0043521,
           "128",
           128,
           128
          ],
          [
           0.9788345110385105,
           0.958117,
           "128",
           16384,
           16384
          ],
          [
           0.08042810454063927,
           0.00646868,
           "128",
           64,
           64
          ],
          [
           0.07967433714816836,
           0.006348,
           "128",
           256,
           256
          ],
          [
           0.1453829426033192,
           0.0211362,
           "128",
           1024,
           1024
          ]
         ],
         "hovertemplate": "M=%{customdata[2]}<br>gemm_arithmetic_intensity=%{x}<br>Performance (TFLOPs)=%{y}<br>Execution Time (ms)=%{customdata[1]}<br>N=%{customdata[3]}<br>K=%{customdata[4]}<extra></extra>",
         "legendgroup": "128",
         "marker": {
          "color": "#66AA00",
          "size": {
           "bdata": "0PFKR2Ny4j/jDhNWcvq4P70MQZR6stY/sMUwePYnzj9N61t0cOOwP+Noo8CcUu8/pWquru+WtD+lwWGQiWW0P/RR8IPom8I/",
           "dtype": "f8"
          },
          "sizemode": "area",
          "sizeref": 0.0035000803562204113,
          "symbol": "circle"
         },
         "mode": "markers",
         "name": "128",
         "orientation": "v",
         "showlegend": true,
         "type": "scatter",
         "x": {
          "bdata": "CB988MEHX0BVVVVVVVVVQB4eHh4eHl5AHMdxHMdxXEBVVVVVVVVFQCD4gR/4gV9AmpmZmZmZOUAAAAAAAABQQJqZmZmZmVlA",
          "dtype": "f8"
         },
         "xaxis": "x",
         "y": {
          "bdata": "/mX35GHZSUA17zhFRzIcQOwvuycPE0FAuB6F61FYM0A491eP+9buP/yp8dJN7lFAqz5XW7G/xD+/K4L/rSQFQBHHuriNZilA",
          "dtype": "f8"
         },
         "yaxis": "y"
        },
        {
         "customdata": [
          [
           0.7671023399781804,
           0.588446,
           "256",
           8192,
           8192
          ],
          [
           0.11288976924416136,
           0.0127441,
           "256",
           512,
           512
          ],
          [
           0.46248675656714755,
           0.213894,
           "256",
           4096,
           4096
          ],
          [
           0.2994014028023249,
           0.0896412,
           "256",
           2048,
           2048
          ],
          [
           0.06687376167077787,
           0.0044721,
           "256",
           128,
           128
          ],
          [
           1.4000321424881645,
           1.96009,
           "256",
           16384,
           16384
          ],
          [
           0.08310048134637969,
           0.00690569,
           "256",
           64,
           64
          ],
          [
           0.08202499619018583,
           0.0067281,
           "256",
           256,
           256
          ],
          [
           0.19015914387691168,
           0.0361605,
           "256",
           1024,
           1024
          ]
         ],
         "hovertemplate": "M=%{customdata[2]}<br>gemm_arithmetic_intensity=%{x}<br>Performance (TFLOPs)=%{y}<br>Execution Time (ms)=%{customdata[1]}<br>N=%{customdata[3]}<br>K=%{customdata[4]}<extra></extra>",
         "legendgroup": "256",
         "marker": {
          "color": "#B82E2E",
          "size": {
           "bdata": "AobcNBqM6D+m5/QKWOa8Pyx/kg1imd0/iWZagGQp0z8pJFaLox6xPx9elRqIZvY/hyCquRJGtT80ZBcUl/+0PwBM/oMiV8g/",
           "dtype": "f8"
          },
          "sizemode": "area",
          "sizeref": 0.0035000803562204113,
          "symbol": "circle"
         },
         "mode": "markers",
         "name": "256",
         "orientation": "v",
         "showlegend": true,
         "type": "scatter",
         "x": {
          "bdata": "Hh4eHh4ebkAAAAAAAABgQBzHcRzHcWxAmpmZmZmZaUCamZmZmZlJQAgffPDBB29AHMdxHMdxPEBVVVVVVVVVQFVVVVVVVWVA",
          "dtype": "f8"
         },
         "xaxis": "x",
         "y": {
          "bdata": "C0YldQIyTUCOBvAWSBAlQE3zjlN0FERA9+Rhodb0N0DCUfLqHAP+P49TdCSXh1FA5EnSNZNv0z/7IqEt5/ITQP32deCcsS1A",
          "dtype": "f8"
         },
         "yaxis": "y"
        },
        {
         "line": {
          "color": "tomato",
          "width": 1
         },
         "mode": "lines",
         "name": "Theoretical Roofline",
         "opacity": 0.45,
         "type": "scatter",
         "x": [
          0.9997559189650964,
          0.9961089494163424,
          0.9995119570522206,
          0.9990243902439024,
          0.9846153846153847,
          0.9998779445868424,
          0.9696969696969697,
          0.9922480620155039,
          0.9980506822612085,
          1.9990239141044412,
          1.9844961240310077,
          1.9980487804878049,
          1.996101364522417,
          1.9393939393939394,
          1.9995118379301928,
          1.8823529411764706,
          1.9692307692307693,
          1.9922178988326849,
          3.9960975609756098,
          3.9384615384615387,
          3.992202729044834,
          3.9844357976653697,
          3.764705882352941,
          3.9980478282088825,
          3.5555555555555554,
          3.878787878787879,
          3.9689922480620154,
          7.984405458089668,
          7.757575757575758,
          7.968871595330739,
          7.937984496124031,
          7.111111111111111,
          7.9921951219512195,
          6.4,
          7.529411764705882,
          7.876923076923077,
          15.937743190661479,
          15.058823529411764,
          15.875968992248062,
          15.753846153846155,
          12.8,
          15.968810916179336,
          10.666666666666666,
          14.222222222222221,
          15.515151515151516,
          31.751937984496124,
          28.444444444444443,
          31.50769230769231,
          31.03030303030303,
          21.333333333333332,
          31.875486381322958,
          16,
          25.6,
          30.11764705882353,
          63.01538461538462,
          51.2,
          62.06060606060606,
          60.23529411764706,
          32,
          63.50387596899225,
          21.333333333333332,
          42.666666666666664,
          56.888888888888886,
          124.12121212121212,
          85.33333333333333,
          120.47058823529412,
          113.77777777777777,
          42.666666666666664,
          126.03076923076924,
          25.6,
          64,
          102.4,
          240.94117647058823,
          128,
          227.55555555555554,
          204.8,
          51.2,
          248.24242424242425,
          28.444444444444443,
          85.33333333333333,
          170.66666666666666
         ],
         "y": [
          0.6144,
          0.6144,
          0.6144,
          0.6144,
          0.6144,
          0.6144,
          0.6144,
          0.6144,
          0.6144,
          0.6144,
          0.6144,
          0.6144,
          0.6144,
          0.6144,
          0.6144,
          0.6144,
          0.6144,
          0.6144,
          0.6144,
          0.6144,
          0.6144,
          0.6144,
          0.6144,
          0.6144,
          0.6144,
          0.6144,
          0.6144,
          0.6144,
          0.6144,
          0.6144,
          0.6144,
          0.6144,
          0.6144,
          0.6144,
          0.6144,
          0.6144,
          0.6144,
          0.6144,
          0.6144,
          0.6144,
          0.6144,
          0.6144,
          0.6144,
          0.6144,
          0.6144,
          0.6144,
          0.6144,
          0.6144,
          0.6144,
          0.6144,
          0.6144,
          0.6144,
          0.6144,
          0.6144,
          0.6144,
          0.6144,
          0.6144,
          0.6144,
          0.6144,
          0.6144,
          0.6144,
          0.6144,
          0.6144,
          0.6144,
          0.6144,
          0.6144,
          0.6144,
          0.6144,
          0.6144,
          0.6144,
          0.6144,
          0.6144,
          0.6144,
          0.6144,
          0.6144,
          0.6144,
          0.6144,
          0.6144,
          0.6144,
          0.6144,
          0.6144
         ]
        }
       ],
       "layout": {
        "height": 600,
        "legend": {
         "itemsizing": "constant",
         "title": {
          "text": "M"
         },
         "tracegroupgap": 0
        },
        "template": {
         "data": {
          "bar": [
           {
            "error_x": {
             "color": "#2a3f5f"
            },
            "error_y": {
             "color": "#2a3f5f"
            },
            "marker": {
             "line": {
              "color": "#E5ECF6",
              "width": 0.5
             },
             "pattern": {
              "fillmode": "overlay",
              "size": 10,
              "solidity": 0.2
             }
            },
            "type": "bar"
           }
          ],
          "barpolar": [
           {
            "marker": {
             "line": {
              "color": "#E5ECF6",
              "width": 0.5
             },
             "pattern": {
              "fillmode": "overlay",
              "size": 10,
              "solidity": 0.2
             }
            },
            "type": "barpolar"
           }
          ],
          "carpet": [
           {
            "aaxis": {
             "endlinecolor": "#2a3f5f",
             "gridcolor": "white",
             "linecolor": "white",
             "minorgridcolor": "white",
             "startlinecolor": "#2a3f5f"
            },
            "baxis": {
             "endlinecolor": "#2a3f5f",
             "gridcolor": "white",
             "linecolor": "white",
             "minorgridcolor": "white",
             "startlinecolor": "#2a3f5f"
            },
            "type": "carpet"
           }
          ],
          "choropleth": [
           {
            "colorbar": {
             "outlinewidth": 0,
             "ticks": ""
            },
            "type": "choropleth"
           }
          ],
          "contour": [
           {
            "colorbar": {
             "outlinewidth": 0,
             "ticks": ""
            },
            "colorscale": [
             [
              0,
              "#0d0887"
             ],
             [
              0.1111111111111111,
              "#46039f"
             ],
             [
              0.2222222222222222,
              "#7201a8"
             ],
             [
              0.3333333333333333,
              "#9c179e"
             ],
             [
              0.4444444444444444,
              "#bd3786"
             ],
             [
              0.5555555555555556,
              "#d8576b"
             ],
             [
              0.6666666666666666,
              "#ed7953"
             ],
             [
              0.7777777777777778,
              "#fb9f3a"
             ],
             [
              0.8888888888888888,
              "#fdca26"
             ],
             [
              1,
              "#f0f921"
             ]
            ],
            "type": "contour"
           }
          ],
          "contourcarpet": [
           {
            "colorbar": {
             "outlinewidth": 0,
             "ticks": ""
            },
            "type": "contourcarpet"
           }
          ],
          "heatmap": [
           {
            "colorbar": {
             "outlinewidth": 0,
             "ticks": ""
            },
            "colorscale": [
             [
              0,
              "#0d0887"
             ],
             [
              0.1111111111111111,
              "#46039f"
             ],
             [
              0.2222222222222222,
              "#7201a8"
             ],
             [
              0.3333333333333333,
              "#9c179e"
             ],
             [
              0.4444444444444444,
              "#bd3786"
             ],
             [
              0.5555555555555556,
              "#d8576b"
             ],
             [
              0.6666666666666666,
              "#ed7953"
             ],
             [
              0.7777777777777778,
              "#fb9f3a"
             ],
             [
              0.8888888888888888,
              "#fdca26"
             ],
             [
              1,
              "#f0f921"
             ]
            ],
            "type": "heatmap"
           }
          ],
          "histogram": [
           {
            "marker": {
             "pattern": {
              "fillmode": "overlay",
              "size": 10,
              "solidity": 0.2
             }
            },
            "type": "histogram"
           }
          ],
          "histogram2d": [
           {
            "colorbar": {
             "outlinewidth": 0,
             "ticks": ""
            },
            "colorscale": [
             [
              0,
              "#0d0887"
             ],
             [
              0.1111111111111111,
              "#46039f"
             ],
             [
              0.2222222222222222,
              "#7201a8"
             ],
             [
              0.3333333333333333,
              "#9c179e"
             ],
             [
              0.4444444444444444,
              "#bd3786"
             ],
             [
              0.5555555555555556,
              "#d8576b"
             ],
             [
              0.6666666666666666,
              "#ed7953"
             ],
             [
              0.7777777777777778,
              "#fb9f3a"
             ],
             [
              0.8888888888888888,
              "#fdca26"
             ],
             [
              1,
              "#f0f921"
             ]
            ],
            "type": "histogram2d"
           }
          ],
          "histogram2dcontour": [
           {
            "colorbar": {
             "outlinewidth": 0,
             "ticks": ""
            },
            "colorscale": [
             [
              0,
              "#0d0887"
             ],
             [
              0.1111111111111111,
              "#46039f"
             ],
             [
              0.2222222222222222,
              "#7201a8"
             ],
             [
              0.3333333333333333,
              "#9c179e"
             ],
             [
              0.4444444444444444,
              "#bd3786"
             ],
             [
              0.5555555555555556,
              "#d8576b"
             ],
             [
              0.6666666666666666,
              "#ed7953"
             ],
             [
              0.7777777777777778,
              "#fb9f3a"
             ],
             [
              0.8888888888888888,
              "#fdca26"
             ],
             [
              1,
              "#f0f921"
             ]
            ],
            "type": "histogram2dcontour"
           }
          ],
          "mesh3d": [
           {
            "colorbar": {
             "outlinewidth": 0,
             "ticks": ""
            },
            "type": "mesh3d"
           }
          ],
          "parcoords": [
           {
            "line": {
             "colorbar": {
              "outlinewidth": 0,
              "ticks": ""
             }
            },
            "type": "parcoords"
           }
          ],
          "pie": [
           {
            "automargin": true,
            "type": "pie"
           }
          ],
          "scatter": [
           {
            "fillpattern": {
             "fillmode": "overlay",
             "size": 10,
             "solidity": 0.2
            },
            "type": "scatter"
           }
          ],
          "scatter3d": [
           {
            "line": {
             "colorbar": {
              "outlinewidth": 0,
              "ticks": ""
             }
            },
            "marker": {
             "colorbar": {
              "outlinewidth": 0,
              "ticks": ""
             }
            },
            "type": "scatter3d"
           }
          ],
          "scattercarpet": [
           {
            "marker": {
             "colorbar": {
              "outlinewidth": 0,
              "ticks": ""
             }
            },
            "type": "scattercarpet"
           }
          ],
          "scattergeo": [
           {
            "marker": {
             "colorbar": {
              "outlinewidth": 0,
              "ticks": ""
             }
            },
            "type": "scattergeo"
           }
          ],
          "scattergl": [
           {
            "marker": {
             "colorbar": {
              "outlinewidth": 0,
              "ticks": ""
             }
            },
            "type": "scattergl"
           }
          ],
          "scattermap": [
           {
            "marker": {
             "colorbar": {
              "outlinewidth": 0,
              "ticks": ""
             }
            },
            "type": "scattermap"
           }
          ],
          "scattermapbox": [
           {
            "marker": {
             "colorbar": {
              "outlinewidth": 0,
              "ticks": ""
             }
            },
            "type": "scattermapbox"
           }
          ],
          "scatterpolar": [
           {
            "marker": {
             "colorbar": {
              "outlinewidth": 0,
              "ticks": ""
             }
            },
            "type": "scatterpolar"
           }
          ],
          "scatterpolargl": [
           {
            "marker": {
             "colorbar": {
              "outlinewidth": 0,
              "ticks": ""
             }
            },
            "type": "scatterpolargl"
           }
          ],
          "scatterternary": [
           {
            "marker": {
             "colorbar": {
              "outlinewidth": 0,
              "ticks": ""
             }
            },
            "type": "scatterternary"
           }
          ],
          "surface": [
           {
            "colorbar": {
             "outlinewidth": 0,
             "ticks": ""
            },
            "colorscale": [
             [
              0,
              "#0d0887"
             ],
             [
              0.1111111111111111,
              "#46039f"
             ],
             [
              0.2222222222222222,
              "#7201a8"
             ],
             [
              0.3333333333333333,
              "#9c179e"
             ],
             [
              0.4444444444444444,
              "#bd3786"
             ],
             [
              0.5555555555555556,
              "#d8576b"
             ],
             [
              0.6666666666666666,
              "#ed7953"
             ],
             [
              0.7777777777777778,
              "#fb9f3a"
             ],
             [
              0.8888888888888888,
              "#fdca26"
             ],
             [
              1,
              "#f0f921"
             ]
            ],
            "type": "surface"
           }
          ],
          "table": [
           {
            "cells": {
             "fill": {
              "color": "#EBF0F8"
             },
             "line": {
              "color": "white"
             }
            },
            "header": {
             "fill": {
              "color": "#C8D4E3"
             },
             "line": {
              "color": "white"
             }
            },
            "type": "table"
           }
          ]
         },
         "layout": {
          "annotationdefaults": {
           "arrowcolor": "#2a3f5f",
           "arrowhead": 0,
           "arrowwidth": 1
          },
          "autotypenumbers": "strict",
          "coloraxis": {
           "colorbar": {
            "outlinewidth": 0,
            "ticks": ""
           }
          },
          "colorscale": {
           "diverging": [
            [
             0,
             "#8e0152"
            ],
            [
             0.1,
             "#c51b7d"
            ],
            [
             0.2,
             "#de77ae"
            ],
            [
             0.3,
             "#f1b6da"
            ],
            [
             0.4,
             "#fde0ef"
            ],
            [
             0.5,
             "#f7f7f7"
            ],
            [
             0.6,
             "#e6f5d0"
            ],
            [
             0.7,
             "#b8e186"
            ],
            [
             0.8,
             "#7fbc41"
            ],
            [
             0.9,
             "#4d9221"
            ],
            [
             1,
             "#276419"
            ]
           ],
           "sequential": [
            [
             0,
             "#0d0887"
            ],
            [
             0.1111111111111111,
             "#46039f"
            ],
            [
             0.2222222222222222,
             "#7201a8"
            ],
            [
             0.3333333333333333,
             "#9c179e"
            ],
            [
             0.4444444444444444,
             "#bd3786"
            ],
            [
             0.5555555555555556,
             "#d8576b"
            ],
            [
             0.6666666666666666,
             "#ed7953"
            ],
            [
             0.7777777777777778,
             "#fb9f3a"
            ],
            [
             0.8888888888888888,
             "#fdca26"
            ],
            [
             1,
             "#f0f921"
            ]
           ],
           "sequentialminus": [
            [
             0,
             "#0d0887"
            ],
            [
             0.1111111111111111,
             "#46039f"
            ],
            [
             0.2222222222222222,
             "#7201a8"
            ],
            [
             0.3333333333333333,
             "#9c179e"
            ],
            [
             0.4444444444444444,
             "#bd3786"
            ],
            [
             0.5555555555555556,
             "#d8576b"
            ],
            [
             0.6666666666666666,
             "#ed7953"
            ],
            [
             0.7777777777777778,
             "#fb9f3a"
            ],
            [
             0.8888888888888888,
             "#fdca26"
            ],
            [
             1,
             "#f0f921"
            ]
           ]
          },
          "colorway": [
           "#636efa",
           "#EF553B",
           "#00cc96",
           "#ab63fa",
           "#FFA15A",
           "#19d3f3",
           "#FF6692",
           "#B6E880",
           "#FF97FF",
           "#FECB52"
          ],
          "font": {
           "color": "#2a3f5f"
          },
          "geo": {
           "bgcolor": "white",
           "lakecolor": "white",
           "landcolor": "#E5ECF6",
           "showlakes": true,
           "showland": true,
           "subunitcolor": "white"
          },
          "hoverlabel": {
           "align": "left"
          },
          "hovermode": "closest",
          "mapbox": {
           "style": "light"
          },
          "paper_bgcolor": "white",
          "plot_bgcolor": "#E5ECF6",
          "polar": {
           "angularaxis": {
            "gridcolor": "white",
            "linecolor": "white",
            "ticks": ""
           },
           "bgcolor": "#E5ECF6",
           "radialaxis": {
            "gridcolor": "white",
            "linecolor": "white",
            "ticks": ""
           }
          },
          "scene": {
           "xaxis": {
            "backgroundcolor": "#E5ECF6",
            "gridcolor": "white",
            "gridwidth": 2,
            "linecolor": "white",
            "showbackground": true,
            "ticks": "",
            "zerolinecolor": "white"
           },
           "yaxis": {
            "backgroundcolor": "#E5ECF6",
            "gridcolor": "white",
            "gridwidth": 2,
            "linecolor": "white",
            "showbackground": true,
            "ticks": "",
            "zerolinecolor": "white"
           },
           "zaxis": {
            "backgroundcolor": "#E5ECF6",
            "gridcolor": "white",
            "gridwidth": 2,
            "linecolor": "white",
            "showbackground": true,
            "ticks": "",
            "zerolinecolor": "white"
           }
          },
          "shapedefaults": {
           "line": {
            "color": "#2a3f5f"
           }
          },
          "ternary": {
           "aaxis": {
            "gridcolor": "white",
            "linecolor": "white",
            "ticks": ""
           },
           "baxis": {
            "gridcolor": "white",
            "linecolor": "white",
            "ticks": ""
           },
           "bgcolor": "#E5ECF6",
           "caxis": {
            "gridcolor": "white",
            "linecolor": "white",
            "ticks": ""
           }
          },
          "title": {
           "x": 0.05
          },
          "xaxis": {
           "automargin": true,
           "gridcolor": "white",
           "linecolor": "white",
           "ticks": "",
           "title": {
            "standoff": 15
           },
           "zerolinecolor": "white",
           "zerolinewidth": 2
          },
          "yaxis": {
           "automargin": true,
           "gridcolor": "white",
           "linecolor": "white",
           "ticks": "",
           "title": {
            "standoff": 15
           },
           "zerolinecolor": "white",
           "zerolinewidth": 2
          }
         }
        },
        "title": {
         "text": "AMD RX 7900 XTX Roofline Analysis"
        },
        "xaxis": {
         "anchor": "y",
         "domain": [
          0,
          1
         ],
         "title": {
          "text": "gemm_arithmetic_intensity"
         },
         "type": "log"
        },
        "yaxis": {
         "anchor": "x",
         "domain": [
          0,
          1
         ],
         "title": {
          "text": "Performance (TFLOPs)"
         },
         "type": "log"
        }
       }
      },
      "image/png": "[encoded data removed]"
     },
     "metadata": {},
     "output_type": "display_data"
    }
   ],
   "source": [
    "df = load_gemm_data(\"results/**/FLOAT16/**/\")\n",
    "df = calculate_roofline_data(df, peak_compute, peak_bandwidth)\n",
    "fig = generate_roofline_plot(df)\n",
    "fig.show()"
   ]
  },
  {
   "cell_type": "code",
   "execution_count": 49,
   "id": "f2a272c3-4f74-4629-8154-5f8f0e2006a3",
   "metadata": {},
   "outputs": [
    {
     "data": {
      "application/vnd.plotly.v1+json": {
       "config": {
        "plotlyServerURL": "https://plot.ly"
       },
       "data": [
        {
         "customdata": [
          [
           0.4132674678703854,
           0.17079,
           "1",
           8192,
           8192
          ],
          [
           0.10463316873726036,
           0.0109481,
           "1",
           512,
           512
          ],
          [
           0.25335508678532587,
           0.0641888,
           "1",
           4096,
           4096
          ],
          [
           0.19557223729353815,
           0.0382485,
           "1",
           2048,
           2048
          ],
          [
           0.10006347985154224,
           0.0100127,
           "1",
           128,
           128
          ],
          [
           0.7953942418700302,
           0.632652,
           "1",
           16384,
           16384
          ],
          [
           0.08862116000143533,
           0.00785371,
           "1",
           64,
           64
          ],
          [
           0.1121253762535493,
           0.0125721,
           "1",
           256,
           256
          ],
          [
           0.1295075287386799,
           0.0167722,
           "1",
           1024,
           1024
          ]
         ],
         "hovertemplate": "M=%{customdata[2]}<br>gemm_arithmetic_intensity=%{x}<br>Performance (TFLOPs)=%{y}<br>Execution Time (ms)=%{customdata[1]}<br>N=%{customdata[3]}<br>K=%{customdata[4]}<extra></extra>",
         "legendgroup": "1",
         "marker": {
          "color": "#3366CC",
          "size": {
           "bdata": "IELAZPly2j+Aqs1FPcm6P3UqAUH4NtA/xTSX1YIIyT8MgHydwp25P5RFCKDec+k/VJPwV+Cvtj9ViQ+oP7S8P0VbQuSzk8A/",
           "dtype": "f8"
          },
          "sizemode": "area",
          "sizeref": 0.0033622908856908856,
          "symbol": "circle"
         },
         "mode": "markers",
         "name": "1",
         "orientation": "v",
         "showlegend": true,
         "type": "scatter",
         "x": {
          "bdata": "IAD+HwD+7z8g4B/gH+DvPwAC8H8A/O8/+B+A/wH47z8g+IEf+IHvPwLA/wcA/+8/CB988MEH7z/wB/wBf8DvPwD/AfwH8O8/",
          "dtype": "f8"
         },
         "xaxis": "x",
         "y": {
          "bdata": "yF2EKcol6T+AgLVq14SoP5Osw9FVuuA/LhoyHqUSzD8DE03aM89qPzEnaJPDJ+s/YGVl4vMWUT/sVFRYBFqFPyYd5WA2AcA/",
          "dtype": "f8"
         },
         "yaxis": "y"
        },
        {
         "customdata": [
          [
           0.42447025808647654,
           0.180175,
           "2",
           8192,
           8192
          ],
          [
           0.10514799094609463,
           0.0110561,
           "2",
           512,
           512
          ],
          [
           0.2537102678253287,
           0.0643689,
           "2",
           4096,
           4096
          ],
          [
           0.19549040897189815,
           0.0382165,
           "2",
           2048,
           2048
          ],
          [
           0.09776057487556014,
           0.00955713,
           "2",
           128,
           128
          ],
          [
           0.7993072000176152,
           0.638892,
           "2",
           16384,
           16384
          ],
          [
           0.08944562594112694,
           0.00800052,
           "2",
           64,
           64
          ],
          [
           0.11531782169291961,
           0.0132982,
           "2",
           256,
           256
          ],
          [
           0.1295233569669965,
           0.0167763,
           "2",
           1024,
           1024
          ]
         ],
         "hovertemplate": "M=%{customdata[2]}<br>gemm_arithmetic_intensity=%{x}<br>Performance (TFLOPs)=%{y}<br>Execution Time (ms)=%{customdata[1]}<br>N=%{customdata[3]}<br>K=%{customdata[4]}<extra></extra>",
         "legendgroup": "2",
         "marker": {
          "color": "#DC3912",
          "size": {
           "bdata": "SMomTYUq2z9BhFqO+uq6PywHvv3JPNA/06SbaNQFyT+ivu1H1ga5Pz0OcbHsk+k/wfgvlujltj8hKtEAeIW9P6nlHqs4lMA/",
           "dtype": "f8"
          },
          "sizemode": "area",
          "sizeref": 0.0033622908856908856,
          "symbol": "circle"
         },
         "mode": "markers",
         "name": "2",
         "orientation": "v",
         "showlegend": true,
         "type": "scatter",
         "x": {
          "bdata": "AALwfwD8/z/wB/wBf8D/P/gfgP8B+P8/AP8B/Afw/z8IH3zwwQf/PyAA/h8A/v8/Hh4eHh4e/j8g+IEf+IH/PyDgH+Af4P8/",
          "dtype": "f8"
         },
         "xaxis": "x",
         "y": {
          "bdata": "n+V5cHfW9z8Djk6nhke4P8qmXOFdrvA/YvNxbagY3D9ug6DEYxZ8P93Sakjc4/o/b46l1bHGYD9HF0Cdly+UP32yYrg6ANA/",
          "dtype": "f8"
         },
         "yaxis": "y"
        },
        {
         "customdata": [
          [
           0.41992142122068504,
           0.176334,
           "4",
           8192,
           8192
          ],
          [
           0.10588767633676735,
           0.0112122,
           "4",
           512,
           512
          ],
          [
           0.2543873031422756,
           0.0647129,
           "4",
           4096,
           4096
          ],
          [
           0.19604208731800424,
           0.0384325,
           "4",
           2048,
           2048
          ],
          [
           0.09784339528041737,
           0.00957333,
           "4",
           128,
           128
          ],
          [
           0.818782022274549,
           0.670404,
           "4",
           16384,
           16384
          ],
          [
           0.08879369346975043,
           0.00788432,
           "4",
           64,
           64
          ],
          [
           0.08897246765151566,
           0.0079161,
           "4",
           256,
           256
          ],
          [
           0.12932207854809635,
           0.0167242,
           "4",
           1024,
           1024
          ]
         ],
         "hovertemplate": "M=%{customdata[2]}<br>gemm_arithmetic_intensity=%{x}<br>Performance (TFLOPs)=%{y}<br>Execution Time (ms)=%{customdata[1]}<br>N=%{customdata[3]}<br>K=%{customdata[4]}<extra></extra>",
         "legendgroup": "4",
         "marker": {
          "color": "#FF9900",
          "size": {
           "bdata": "eRfCGP7f2j8SdepqdBu7P6fg4K7hR9A/0c/VOOgXyT/95tvGQwy5PxAaB1t2M+o/ISuL+S67tj/3w85O5sa2P4blATmgjcA/",
           "dtype": "f8"
          },
          "sizemode": "area",
          "sizeref": 0.0033622908856908856,
          "symbol": "circle"
         },
         "mode": "markers",
         "name": "4",
         "orientation": "v",
         "showlegend": true,
         "type": "scatter",
         "x": {
          "bdata": "+B+A/wH4D0Ag+IEf+IEPQAD/AfwH8A9AIOAf4B/gD0AeHh4eHh4OQAAC8H8A/A9AHMdxHMdxDEAIH3zwwQcPQPAH/AF/wA9A",
          "dtype": "f8"
         },
         "xaxis": "x",
         "y": {
          "bdata": "7PoFu2FbCEBDPX0E/vDHP4EmwoanlwBA6Zyf4jjw6z80QuSZPAqMPzgQkgVMoAlAhTJDmfwFcT/GlP4UffSwP8xAZfz7DOA/",
          "dtype": "f8"
         },
         "yaxis": "y"
        },
        {
         "customdata": [
          [
           0.41438387999534926,
           0.171714,
           "8",
           8192,
           8192
          ],
          [
           0.10579272186686568,
           0.0111921,
           "8",
           512,
           512
          ],
          [
           0.2543871065915095,
           0.0647128,
           "8",
           4096,
           4096
          ],
          [
           0.1958277304163024,
           0.0383485,
           "8",
           2048,
           2048
          ],
          [
           0.09980350695241125,
           0.00996074,
           "8",
           128,
           128
          ],
          [
           0.8014711473284613,
           0.642356,
           "8",
           16384,
           16384
          ],
          [
           0.08762710767793264,
           0.00767851,
           "8",
           64,
           64
          ],
          [
           0.11269516404886236,
           0.0127002,
           "8",
           256,
           256
          ],
          [
           0.1291518486123989,
           0.0166802,
           "8",
           1024,
           1024
          ]
         ],
         "hovertemplate": "M=%{customdata[2]}<br>gemm_arithmetic_intensity=%{x}<br>Performance (TFLOPs)=%{y}<br>Execution Time (ms)=%{customdata[1]}<br>N=%{customdata[3]}<br>K=%{customdata[4]}<extra></extra>",
         "legendgroup": "8",
         "marker": {
          "color": "#109618",
          "size": {
           "bdata": "jXQk90OF2j/tsJJYOxW7PxNq1dvgR9A/q9rkEOIQyT/A/2L+uIy5P6zTztGmpek/PES46bputj8X2QEcl9m8P5MMATsMiMA/",
           "dtype": "f8"
          },
          "sizemode": "area",
          "sizeref": 0.0033622908856908856,
          "symbol": "circle"
         },
         "mode": "markers",
         "name": "8",
         "orientation": "v",
         "showlegend": true,
         "type": "scatter",
         "x": {
          "bdata": "AP8B/AfwH0AIH3zwwQcfQCDgH+Af4B9A8Af8AX/AH0Acx3Ecx3EcQPgfgP8B+B9AmpmZmZmZGUAeHh4eHh4eQCD4gR/4gR9A",
          "dtype": "f8"
         },
         "xaxis": "x",
         "y": {
          "bdata": "MxZNZycDGUCmtP6WAPzXP4EmwoanlxBAq7LviuD/+z8gSDnzBvOaP1jnGJC9vhpAdJ1f98p6gT+XNVYH5SK1P4CaWrbWF/A/",
          "dtype": "f8"
         },
         "yaxis": "y"
        },
        {
         "customdata": [
          [
           0.4182272109750871,
           0.174914,
           "16",
           8192,
           8192
          ],
          [
           0.10643354734293131,
           0.0113281,
           "16",
           512,
           512
          ],
          [
           0.2551093883023516,
           0.0650808,
           "16",
           4096,
           4096
          ],
          [
           0.19700888304845546,
           0.0388125,
           "16",
           2048,
           2048
          ],
          [
           0.10467712261998799,
           0.0109573,
           "16",
           128,
           128
          ],
          [
           0.807193904833281,
           0.651562,
           "16",
           16384,
           16384
          ],
          [
           0.09089620454122382,
           0.00826212,
           "16",
           64,
           64
          ],
          [
           0.11280159573339377,
           0.0127242,
           "16",
           256,
           256
          ],
          [
           0.1309969465292989,
           0.0171602,
           "16",
           1024,
           1024
          ]
         ],
         "hovertemplate": "M=%{customdata[2]}<br>gemm_arithmetic_intensity=%{x}<br>Performance (TFLOPs)=%{y}<br>Execution Time (ms)=%{customdata[1]}<br>N=%{customdata[3]}<br>K=%{customdata[4]}<extra></extra>",
         "legendgroup": "16",
         "marker": {
          "color": "#990099",
          "size": {
           "bdata": "0NtbEDzE2j8YAAmdOj+7P4dQ6lO2U9A/LXjbSpY3yT+az0qyHsy6P2hD2U+I1Ok/AMjVQflEtz/YjZy8kOC8P7sOnAiCxMA/",
           "dtype": "f8"
          },
          "sizemode": "area",
          "sizeref": 0.0033622908856908856,
          "symbol": "circle"
         },
         "mode": "markers",
         "name": "16",
         "orientation": "v",
         "showlegend": true,
         "type": "scatter",
         "x": {
          "bdata": "IOAf4B/gL0AeHh4eHh4uQPAH/AF/wC9AIPiBH/iBL0CamZmZmZkpQAD/AfwH8C9AVVVVVVVVJUAcx3Ecx3EsQAgffPDBBy9A",
          "dtype": "f8"
         },
         "xaxis": "x",
         "y": {
          "bdata": "INJvXweOKEBAaahRSLLnPx3J5T+kfyBAtcNfkzWqC0BH+lnRi3+oP1kXt9EAXipAwXS1cLQ+kD+9w+3QsBjFP0WBPpEnSf8/",
          "dtype": "f8"
         },
         "yaxis": "y"
        },
        {
         "customdata": [
          [
           0.44441309611666485,
           0.197503,
           "32",
           8192,
           8192
          ],
          [
           0.1073689899365734,
           0.0115281,
           "32",
           512,
           512
          ],
          [
           0.2633645762056849,
           0.0693609,
           "32",
           4096,
           4096
          ],
          [
           0.19688702344237927,
           0.0387645,
           "32",
           2048,
           2048
          ],
          [
           0.10051417810438486,
           0.0101031,
           "32",
           128,
           128
          ],
          [
           0.8427911959673048,
           0.710297,
           "32",
           16384,
           16384
          ],
          [
           0.08956070566939499,
           0.00802112,
           "32",
           64,
           64
          ],
          [
           0.11241085356850557,
           0.0126362,
           "32",
           256,
           256
          ],
          [
           0.1322580810385513,
           0.0174922,
           "32",
           1024,
           1024
          ]
         ],
         "hovertemplate": "M=%{customdata[2]}<br>gemm_arithmetic_intensity=%{x}<br>Performance (TFLOPs)=%{y}<br>Execution Time (ms)=%{customdata[1]}<br>N=%{customdata[3]}<br>K=%{customdata[4]}<extra></extra>",
         "legendgroup": "32",
         "marker": {
          "color": "#0099C6",
          "size": {
           "bdata": "MQ1voENx3D+o02G8iHy7P7ycbhj32tA/C41YD5gzyT91Hr4TTLu5P2EpAT4l+Oo/31LbTXPttj8RzMor9ca8PySdWDLV7cA/",
           "dtype": "f8"
          },
          "sizemode": "area",
          "sizeref": 0.0033622908856908856,
          "symbol": "circle"
         },
         "mode": "markers",
         "name": "32",
         "orientation": "v",
         "showlegend": true,
         "type": "scatter",
         "x": {
          "bdata": "8Af8AX/AP0Acx3Ecx3E8QCD4gR/4gT9ACB988MEHP0BVVVVVVVU1QCDgH+Af4D9AAAAAAAAAMECamZmZmZk5QB4eHh4eHj5A",
          "dtype": "f8"
         },
         "xaxis": "x",
         "y": {
          "bdata": "ArwFEhS/NUDwMy4cCEn3P7x0kxgE9i5Awvo/h/myG0Db/L/qyJG6P1afq63YLzhAS/la4ae7oD+oGyjwTj7VP/7UeOkmsQ5A",
          "dtype": "f8"
         },
         "yaxis": "y"
        },
        {
         "customdata": [
          [
           0.4826209692916378,
           0.232923,
           "64",
           8192,
           8192
          ],
          [
           0.10881268308428022,
           0.0118402,
           "64",
           512,
           512
          ],
          [
           0.2571476229717086,
           0.0661249,
           "64",
           4096,
           4096
          ],
          [
           0.1951730001818899,
           0.0380925,
           "64",
           2048,
           2048
          ],
          [
           0.0988055160403507,
           0.00976253,
           "64",
           128,
           128
          ],
          [
           0.8647855225430177,
           0.747854,
           "64",
           16384,
           16384
          ],
          [
           0.08912973690076731,
           0.00794411,
           "64",
           64,
           64
          ],
          [
           0.11324398438769274,
           0.0128242,
           "64",
           256,
           256
          ],
          [
           0.13555921215468908,
           0.0183763,
           "64",
           1024,
           1024
          ]
         ],
         "hovertemplate": "M=%{customdata[2]}<br>gemm_arithmetic_intensity=%{x}<br>Performance (TFLOPs)=%{y}<br>Execution Time (ms)=%{customdata[1]}<br>N=%{customdata[3]}<br>K=%{customdata[4]}<extra></extra>",
         "legendgroup": "64",
         "marker": {
          "color": "#DD4477",
          "size": {
           "bdata": "fiveD0Pj3j/EqzzjJdu7P48Wuk0bddA/KfVrym37yD8Qxg58UUu5P4wMLLBSrOs/YAIX2TTRtj+182nJjv28P/4dcBcBWsE/",
           "dtype": "f8"
          },
          "sizemode": "area",
          "sizeref": 0.0033622908856908856,
          "symbol": "circle"
         },
         "mode": "markers",
         "name": "64",
         "orientation": "v",
         "showlegend": true,
         "type": "scatter",
         "x": {
          "bdata": "IPiBH/iBT0CamZmZmZlJQAgffPDBB09AHh4eHh4eTkAAAAAAAABAQPAH/AF/wE9AVVVVVVVVNUBVVVVVVVVFQBzHcRzHcUxA",
          "dtype": "f8"
         },
         "xaxis": "x",
         "y": {
          "bdata": "KjqSy39wQkAknBa86KsGQHctIR/0PEBAVTAqqRMwLEAkKlQ3F3/LPzeJQWDl+EZA1n4hmi/lsD8O95Fbk+7kP/OOU3QkNx1A",
          "dtype": "f8"
         },
         "yaxis": "y"
        },
        {
         "customdata": [
          [
           0.536,
           0.287296,
           "128",
           8192,
           8192
          ],
          [
           0.11185794562747878,
           0.0125122,
           "128",
           512,
           512
          ],
          [
           0.30677874763418667,
           0.0941132,
           "128",
           4096,
           4096
          ],
          [
           0.20133703087112415,
           0.0405366,
           "128",
           2048,
           2048
          ],
          [
           0.10071792293330914,
           0.0101441,
           "128",
           128,
           128
          ],
          [
           0.975584952733487,
           0.951766,
           "128",
           16384,
           16384
          ],
          [
           0.0889725238486579,
           0.00791611,
           "128",
           64,
           64
          ],
          [
           0.11429873140153393,
           0.0130642,
           "128",
           256,
           256
          ],
          [
           0.13810213611671618,
           0.0190722,
           "128",
           1024,
           1024
          ]
         ],
         "hovertemplate": "M=%{customdata[2]}<br>gemm_arithmetic_intensity=%{x}<br>Performance (TFLOPs)=%{y}<br>Execution Time (ms)=%{customdata[1]}<br>N=%{customdata[3]}<br>K=%{customdata[4]}<extra></extra>",
         "legendgroup": "128",
         "marker": {
          "color": "#66AA00",
          "size": {
           "bdata": "9P3UeOkm4T9qjETquKK8PzqWDFRDotM/JlmIbWnFyT/Wnh5Zpsi5P5a4Tu/9N+8/RS0sQOfGtj9KCFiBrkK9P0SEEK9UrcE/",
           "dtype": "f8"
          },
          "sizemode": "area",
          "sizeref": 0.0033622908856908856,
          "symbol": "circle"
         },
         "mode": "markers",
         "name": "128",
         "orientation": "v",
         "showlegend": true,
         "type": "scatter",
         "x": {
          "bdata": "CB988MEHX0BVVVVVVVVVQB4eHh4eHl5AHMdxHMdxXEBVVVVVVVVFQCD4gR/4gV9AmpmZmZmZOUAAAAAAAABQQJqZmZmZmVlA",
          "dtype": "f8"
         },
         "xaxis": "x",
         "y": {
          "bdata": "9UpZhjjmTUD5Tsx6MXQVQIzbaABv0UZAPujZrPp8OkDpCrYRT3baP2Kh1jTvDFJAGmt/Z3v0wD95I/PIH4z0P7wFEhQ/JixA",
          "dtype": "f8"
         },
         "yaxis": "y"
        },
        {
         "customdata": [
          [
           0.6578214043340335,
           0.432729,
           "256",
           8192,
           8192
          ],
          [
           0.11675701263735724,
           0.0136322,
           "256",
           512,
           512
          ],
          [
           0.3811062843879644,
           0.145242,
           "256",
           4096,
           4096
          ],
          [
           0.22372460749770018,
           0.0500527,
           "256",
           2048,
           2048
          ],
          [
           0.10076854668000328,
           0.0101543,
           "256",
           128,
           128
          ],
          [
           1.3449163542763543,
           1.8088,
           "256",
           16384,
           16384
          ],
          [
           0.08999394424070989,
           0.00809891,
           "256",
           64,
           64
          ],
          [
           0.11995040641865287,
           0.0143881,
           "256",
           256,
           256
          ],
          [
           0.14687511702122996,
           0.0215723,
           "256",
           1024,
           1024
          ]
         ],
         "hovertemplate": "M=%{customdata[2]}<br>gemm_arithmetic_intensity=%{x}<br>Performance (TFLOPs)=%{y}<br>Execution Time (ms)=%{customdata[1]}<br>N=%{customdata[3]}<br>K=%{customdata[4]}<extra></extra>",
         "legendgroup": "256",
         "marker": {
          "color": "#B82E2E",
          "size": {
           "bdata": "oyZHed8M5T/mKdueyeO9P7vE75wLZNg/6KtBCAKjzD+TwHSs98u5P1OP1wLHhPU/5BVa19cJtz8KxLXgEbW+P8rmGcjNzMI/",
           "dtype": "f8"
          },
          "sizemode": "area",
          "sizeref": 0.0033622908856908856,
          "symbol": "circle"
         },
         "mode": "markers",
         "name": "256",
         "orientation": "v",
         "showlegend": true,
         "type": "scatter",
         "x": {
          "bdata": "Hh4eHh4ebkAAAAAAAABgQBzHcRzHcWxAmpmZmZmZaUCamZmZmZlJQAgffPDBB29AHMdxHMdxPEBVVVVVVVVVQFVVVVVVVWVA",
          "dtype": "f8"
         },
         "xaxis": "x",
         "y": {
          "bdata": "RPrt68DZU0D+YOC597AjQEMc6+I2kk1AT0ATYcNzRUAYtftVgG/qPx4Wak3z/lJA2cwhqYWS0D9HA3gLJKgCQBdIUPwY4zhA",
          "dtype": "f8"
         },
         "yaxis": "y"
        },
        {
         "line": {
          "color": "tomato",
          "width": 1
         },
         "mode": "lines",
         "name": "Theoretical Roofline",
         "opacity": 0.45,
         "type": "scatter",
         "x": [
          0.9997559189650964,
          0.9961089494163424,
          0.9995119570522206,
          0.9990243902439024,
          0.9846153846153847,
          0.9998779445868424,
          0.9696969696969697,
          0.9922480620155039,
          0.9980506822612085,
          1.9990239141044412,
          1.9844961240310077,
          1.9980487804878049,
          1.996101364522417,
          1.9393939393939394,
          1.9995118379301928,
          1.8823529411764706,
          1.9692307692307693,
          1.9922178988326849,
          3.9960975609756098,
          3.9384615384615387,
          3.992202729044834,
          3.9844357976653697,
          3.764705882352941,
          3.9980478282088825,
          3.5555555555555554,
          3.878787878787879,
          3.9689922480620154,
          7.984405458089668,
          7.757575757575758,
          7.968871595330739,
          7.937984496124031,
          7.111111111111111,
          7.9921951219512195,
          6.4,
          7.529411764705882,
          7.876923076923077,
          15.937743190661479,
          15.058823529411764,
          15.875968992248062,
          15.753846153846155,
          12.8,
          15.968810916179336,
          10.666666666666666,
          14.222222222222221,
          15.515151515151516,
          31.751937984496124,
          28.444444444444443,
          31.50769230769231,
          31.03030303030303,
          21.333333333333332,
          31.875486381322958,
          16,
          25.6,
          30.11764705882353,
          63.01538461538462,
          51.2,
          62.06060606060606,
          60.23529411764706,
          32,
          63.50387596899225,
          21.333333333333332,
          42.666666666666664,
          56.888888888888886,
          124.12121212121212,
          85.33333333333333,
          120.47058823529412,
          113.77777777777777,
          42.666666666666664,
          126.03076923076924,
          25.6,
          64,
          102.4,
          240.94117647058823,
          128,
          227.55555555555554,
          204.8,
          51.2,
          248.24242424242425,
          28.444444444444443,
          85.33333333333333,
          170.66666666666666
         ],
         "y": [
          0.6144,
          0.6144,
          0.6144,
          0.6144,
          0.6144,
          0.6144,
          0.6144,
          0.6144,
          0.6144,
          0.6144,
          0.6144,
          0.6144,
          0.6144,
          0.6144,
          0.6144,
          0.6144,
          0.6144,
          0.6144,
          0.6144,
          0.6144,
          0.6144,
          0.6144,
          0.6144,
          0.6144,
          0.6144,
          0.6144,
          0.6144,
          0.6144,
          0.6144,
          0.6144,
          0.6144,
          0.6144,
          0.6144,
          0.6144,
          0.6144,
          0.6144,
          0.6144,
          0.6144,
          0.6144,
          0.6144,
          0.6144,
          0.6144,
          0.6144,
          0.6144,
          0.6144,
          0.6144,
          0.6144,
          0.6144,
          0.6144,
          0.6144,
          0.6144,
          0.6144,
          0.6144,
          0.6144,
          0.6144,
          0.6144,
          0.6144,
          0.6144,
          0.6144,
          0.6144,
          0.6144,
          0.6144,
          0.6144,
          0.6144,
          0.6144,
          0.6144,
          0.6144,
          0.6144,
          0.6144,
          0.6144,
          0.6144,
          0.6144,
          0.6144,
          0.6144,
          0.6144,
          0.6144,
          0.6144,
          0.6144,
          0.6144,
          0.6144,
          0.6144
         ]
        }
       ],
       "layout": {
        "height": 600,
        "legend": {
         "itemsizing": "constant",
         "title": {
          "text": "M"
         },
         "tracegroupgap": 0
        },
        "template": {
         "data": {
          "bar": [
           {
            "error_x": {
             "color": "#2a3f5f"
            },
            "error_y": {
             "color": "#2a3f5f"
            },
            "marker": {
             "line": {
              "color": "#E5ECF6",
              "width": 0.5
             },
             "pattern": {
              "fillmode": "overlay",
              "size": 10,
              "solidity": 0.2
             }
            },
            "type": "bar"
           }
          ],
          "barpolar": [
           {
            "marker": {
             "line": {
              "color": "#E5ECF6",
              "width": 0.5
             },
             "pattern": {
              "fillmode": "overlay",
              "size": 10,
              "solidity": 0.2
             }
            },
            "type": "barpolar"
           }
          ],
          "carpet": [
           {
            "aaxis": {
             "endlinecolor": "#2a3f5f",
             "gridcolor": "white",
             "linecolor": "white",
             "minorgridcolor": "white",
             "startlinecolor": "#2a3f5f"
            },
            "baxis": {
             "endlinecolor": "#2a3f5f",
             "gridcolor": "white",
             "linecolor": "white",
             "minorgridcolor": "white",
             "startlinecolor": "#2a3f5f"
            },
            "type": "carpet"
           }
          ],
          "choropleth": [
           {
            "colorbar": {
             "outlinewidth": 0,
             "ticks": ""
            },
            "type": "choropleth"
           }
          ],
          "contour": [
           {
            "colorbar": {
             "outlinewidth": 0,
             "ticks": ""
            },
            "colorscale": [
             [
              0,
              "#0d0887"
             ],
             [
              0.1111111111111111,
              "#46039f"
             ],
             [
              0.2222222222222222,
              "#7201a8"
             ],
             [
              0.3333333333333333,
              "#9c179e"
             ],
             [
              0.4444444444444444,
              "#bd3786"
             ],
             [
              0.5555555555555556,
              "#d8576b"
             ],
             [
              0.6666666666666666,
              "#ed7953"
             ],
             [
              0.7777777777777778,
              "#fb9f3a"
             ],
             [
              0.8888888888888888,
              "#fdca26"
             ],
             [
              1,
              "#f0f921"
             ]
            ],
            "type": "contour"
           }
          ],
          "contourcarpet": [
           {
            "colorbar": {
             "outlinewidth": 0,
             "ticks": ""
            },
            "type": "contourcarpet"
           }
          ],
          "heatmap": [
           {
            "colorbar": {
             "outlinewidth": 0,
             "ticks": ""
            },
            "colorscale": [
             [
              0,
              "#0d0887"
             ],
             [
              0.1111111111111111,
              "#46039f"
             ],
             [
              0.2222222222222222,
              "#7201a8"
             ],
             [
              0.3333333333333333,
              "#9c179e"
             ],
             [
              0.4444444444444444,
              "#bd3786"
             ],
             [
              0.5555555555555556,
              "#d8576b"
             ],
             [
              0.6666666666666666,
              "#ed7953"
             ],
             [
              0.7777777777777778,
              "#fb9f3a"
             ],
             [
              0.8888888888888888,
              "#fdca26"
             ],
             [
              1,
              "#f0f921"
             ]
            ],
            "type": "heatmap"
           }
          ],
          "histogram": [
           {
            "marker": {
             "pattern": {
              "fillmode": "overlay",
              "size": 10,
              "solidity": 0.2
             }
            },
            "type": "histogram"
           }
          ],
          "histogram2d": [
           {
            "colorbar": {
             "outlinewidth": 0,
             "ticks": ""
            },
            "colorscale": [
             [
              0,
              "#0d0887"
             ],
             [
              0.1111111111111111,
              "#46039f"
             ],
             [
              0.2222222222222222,
              "#7201a8"
             ],
             [
              0.3333333333333333,
              "#9c179e"
             ],
             [
              0.4444444444444444,
              "#bd3786"
             ],
             [
              0.5555555555555556,
              "#d8576b"
             ],
             [
              0.6666666666666666,
              "#ed7953"
             ],
             [
              0.7777777777777778,
              "#fb9f3a"
             ],
             [
              0.8888888888888888,
              "#fdca26"
             ],
             [
              1,
              "#f0f921"
             ]
            ],
            "type": "histogram2d"
           }
          ],
          "histogram2dcontour": [
           {
            "colorbar": {
             "outlinewidth": 0,
             "ticks": ""
            },
            "colorscale": [
             [
              0,
              "#0d0887"
             ],
             [
              0.1111111111111111,
              "#46039f"
             ],
             [
              0.2222222222222222,
              "#7201a8"
             ],
             [
              0.3333333333333333,
              "#9c179e"
             ],
             [
              0.4444444444444444,
              "#bd3786"
             ],
             [
              0.5555555555555556,
              "#d8576b"
             ],
             [
              0.6666666666666666,
              "#ed7953"
             ],
             [
              0.7777777777777778,
              "#fb9f3a"
             ],
             [
              0.8888888888888888,
              "#fdca26"
             ],
             [
              1,
              "#f0f921"
             ]
            ],
            "type": "histogram2dcontour"
           }
          ],
          "mesh3d": [
           {
            "colorbar": {
             "outlinewidth": 0,
             "ticks": ""
            },
            "type": "mesh3d"
           }
          ],
          "parcoords": [
           {
            "line": {
             "colorbar": {
              "outlinewidth": 0,
              "ticks": ""
             }
            },
            "type": "parcoords"
           }
          ],
          "pie": [
           {
            "automargin": true,
            "type": "pie"
           }
          ],
          "scatter": [
           {
            "fillpattern": {
             "fillmode": "overlay",
             "size": 10,
             "solidity": 0.2
            },
            "type": "scatter"
           }
          ],
          "scatter3d": [
           {
            "line": {
             "colorbar": {
              "outlinewidth": 0,
              "ticks": ""
             }
            },
            "marker": {
             "colorbar": {
              "outlinewidth": 0,
              "ticks": ""
             }
            },
            "type": "scatter3d"
           }
          ],
          "scattercarpet": [
           {
            "marker": {
             "colorbar": {
              "outlinewidth": 0,
              "ticks": ""
             }
            },
            "type": "scattercarpet"
           }
          ],
          "scattergeo": [
           {
            "marker": {
             "colorbar": {
              "outlinewidth": 0,
              "ticks": ""
             }
            },
            "type": "scattergeo"
           }
          ],
          "scattergl": [
           {
            "marker": {
             "colorbar": {
              "outlinewidth": 0,
              "ticks": ""
             }
            },
            "type": "scattergl"
           }
          ],
          "scattermap": [
           {
            "marker": {
             "colorbar": {
              "outlinewidth": 0,
              "ticks": ""
             }
            },
            "type": "scattermap"
           }
          ],
          "scattermapbox": [
           {
            "marker": {
             "colorbar": {
              "outlinewidth": 0,
              "ticks": ""
             }
            },
            "type": "scattermapbox"
           }
          ],
          "scatterpolar": [
           {
            "marker": {
             "colorbar": {
              "outlinewidth": 0,
              "ticks": ""
             }
            },
            "type": "scatterpolar"
           }
          ],
          "scatterpolargl": [
           {
            "marker": {
             "colorbar": {
              "outlinewidth": 0,
              "ticks": ""
             }
            },
            "type": "scatterpolargl"
           }
          ],
          "scatterternary": [
           {
            "marker": {
             "colorbar": {
              "outlinewidth": 0,
              "ticks": ""
             }
            },
            "type": "scatterternary"
           }
          ],
          "surface": [
           {
            "colorbar": {
             "outlinewidth": 0,
             "ticks": ""
            },
            "colorscale": [
             [
              0,
              "#0d0887"
             ],
             [
              0.1111111111111111,
              "#46039f"
             ],
             [
              0.2222222222222222,
              "#7201a8"
             ],
             [
              0.3333333333333333,
              "#9c179e"
             ],
             [
              0.4444444444444444,
              "#bd3786"
             ],
             [
              0.5555555555555556,
              "#d8576b"
             ],
             [
              0.6666666666666666,
              "#ed7953"
             ],
             [
              0.7777777777777778,
              "#fb9f3a"
             ],
             [
              0.8888888888888888,
              "#fdca26"
             ],
             [
              1,
              "#f0f921"
             ]
            ],
            "type": "surface"
           }
          ],
          "table": [
           {
            "cells": {
             "fill": {
              "color": "#EBF0F8"
             },
             "line": {
              "color": "white"
             }
            },
            "header": {
             "fill": {
              "color": "#C8D4E3"
             },
             "line": {
              "color": "white"
             }
            },
            "type": "table"
           }
          ]
         },
         "layout": {
          "annotationdefaults": {
           "arrowcolor": "#2a3f5f",
           "arrowhead": 0,
           "arrowwidth": 1
          },
          "autotypenumbers": "strict",
          "coloraxis": {
           "colorbar": {
            "outlinewidth": 0,
            "ticks": ""
           }
          },
          "colorscale": {
           "diverging": [
            [
             0,
             "#8e0152"
            ],
            [
             0.1,
             "#c51b7d"
            ],
            [
             0.2,
             "#de77ae"
            ],
            [
             0.3,
             "#f1b6da"
            ],
            [
             0.4,
             "#fde0ef"
            ],
            [
             0.5,
             "#f7f7f7"
            ],
            [
             0.6,
             "#e6f5d0"
            ],
            [
             0.7,
             "#b8e186"
            ],
            [
             0.8,
             "#7fbc41"
            ],
            [
             0.9,
             "#4d9221"
            ],
            [
             1,
             "#276419"
            ]
           ],
           "sequential": [
            [
             0,
             "#0d0887"
            ],
            [
             0.1111111111111111,
             "#46039f"
            ],
            [
             0.2222222222222222,
             "#7201a8"
            ],
            [
             0.3333333333333333,
             "#9c179e"
            ],
            [
             0.4444444444444444,
             "#bd3786"
            ],
            [
             0.5555555555555556,
             "#d8576b"
            ],
            [
             0.6666666666666666,
             "#ed7953"
            ],
            [
             0.7777777777777778,
             "#fb9f3a"
            ],
            [
             0.8888888888888888,
             "#fdca26"
            ],
            [
             1,
             "#f0f921"
            ]
           ],
           "sequentialminus": [
            [
             0,
             "#0d0887"
            ],
            [
             0.1111111111111111,
             "#46039f"
            ],
            [
             0.2222222222222222,
             "#7201a8"
            ],
            [
             0.3333333333333333,
             "#9c179e"
            ],
            [
             0.4444444444444444,
             "#bd3786"
            ],
            [
             0.5555555555555556,
             "#d8576b"
            ],
            [
             0.6666666666666666,
             "#ed7953"
            ],
            [
             0.7777777777777778,
             "#fb9f3a"
            ],
            [
             0.8888888888888888,
             "#fdca26"
            ],
            [
             1,
             "#f0f921"
            ]
           ]
          },
          "colorway": [
           "#636efa",
           "#EF553B",
           "#00cc96",
           "#ab63fa",
           "#FFA15A",
           "#19d3f3",
           "#FF6692",
           "#B6E880",
           "#FF97FF",
           "#FECB52"
          ],
          "font": {
           "color": "#2a3f5f"
          },
          "geo": {
           "bgcolor": "white",
           "lakecolor": "white",
           "landcolor": "#E5ECF6",
           "showlakes": true,
           "showland": true,
           "subunitcolor": "white"
          },
          "hoverlabel": {
           "align": "left"
          },
          "hovermode": "closest",
          "mapbox": {
           "style": "light"
          },
          "paper_bgcolor": "white",
          "plot_bgcolor": "#E5ECF6",
          "polar": {
           "angularaxis": {
            "gridcolor": "white",
            "linecolor": "white",
            "ticks": ""
           },
           "bgcolor": "#E5ECF6",
           "radialaxis": {
            "gridcolor": "white",
            "linecolor": "white",
            "ticks": ""
           }
          },
          "scene": {
           "xaxis": {
            "backgroundcolor": "#E5ECF6",
            "gridcolor": "white",
            "gridwidth": 2,
            "linecolor": "white",
            "showbackground": true,
            "ticks": "",
            "zerolinecolor": "white"
           },
           "yaxis": {
            "backgroundcolor": "#E5ECF6",
            "gridcolor": "white",
            "gridwidth": 2,
            "linecolor": "white",
            "showbackground": true,
            "ticks": "",
            "zerolinecolor": "white"
           },
           "zaxis": {
            "backgroundcolor": "#E5ECF6",
            "gridcolor": "white",
            "gridwidth": 2,
            "linecolor": "white",
            "showbackground": true,
            "ticks": "",
            "zerolinecolor": "white"
           }
          },
          "shapedefaults": {
           "line": {
            "color": "#2a3f5f"
           }
          },
          "ternary": {
           "aaxis": {
            "gridcolor": "white",
            "linecolor": "white",
            "ticks": ""
           },
           "baxis": {
            "gridcolor": "white",
            "linecolor": "white",
            "ticks": ""
           },
           "bgcolor": "#E5ECF6",
           "caxis": {
            "gridcolor": "white",
            "linecolor": "white",
            "ticks": ""
           }
          },
          "title": {
           "x": 0.05
          },
          "xaxis": {
           "automargin": true,
           "gridcolor": "white",
           "linecolor": "white",
           "ticks": "",
           "title": {
            "standoff": 15
           },
           "zerolinecolor": "white",
           "zerolinewidth": 2
          },
          "yaxis": {
           "automargin": true,
           "gridcolor": "white",
           "linecolor": "white",
           "ticks": "",
           "title": {
            "standoff": 15
           },
           "zerolinecolor": "white",
           "zerolinewidth": 2
          }
         }
        },
        "title": {
         "text": "AMD RX 7900 XTX Roofline Analysis"
        },
        "xaxis": {
         "anchor": "y",
         "domain": [
          0,
          1
         ],
         "title": {
          "text": "gemm_arithmetic_intensity"
         },
         "type": "log"
        },
        "yaxis": {
         "anchor": "x",
         "domain": [
          0,
          1
         ],
         "title": {
          "text": "Performance (TFLOPs)"
         },
         "type": "log"
        }
       }
      },
      "image/png": "[encoded data removed]"
     },
     "metadata": {},
     "output_type": "display_data"
    }
   ],
   "source": [
    "df = load_gemm_data(\"results/**/BFLOAT16/**/\")\n",
    "df = calculate_roofline_data(df, peak_compute, peak_bandwidth)\n",
    "fig = generate_roofline_plot(df)\n",
    "fig.show()"
   ]
  },
  {
   "cell_type": "markdown",
   "id": "0444ae85-b53b-435c-8eac-96d064d32108",
   "metadata": {},
   "source": [
    "# Float 32\n",
    "\n",
    "`M=1,2,4` failed so we only see 6 scans"
   ]
  },
  {
   "cell_type": "code",
   "execution_count": 50,
   "id": "5753e780-7b91-4414-9ff5-c1d7a62f03c7",
   "metadata": {},
   "outputs": [
    {
     "data": {
      "application/vnd.plotly.v1+json": {
       "config": {
        "plotlyServerURL": "https://plot.ly"
       },
       "data": [
        {
         "customdata": [
          [
           0.5644891495857117,
           0.318648,
           "8",
           8192,
           8192
          ],
          [
           0.1908271469157363,
           0.036415,
           "8",
           512,
           512
          ],
          [
           0.4553317471909904,
           0.207327,
           "8",
           4096,
           4096
          ],
          [
           0.33395957839235574,
           0.111529,
           "8",
           2048,
           2048
          ],
          [
           0.11804321242663637,
           0.0139342,
           "8",
           128,
           128
          ],
          [
           1.2234132580612325,
           1.49674,
           "8",
           16384,
           16384
          ],
          [
           0.1035263251545229,
           0.0107177,
           "8",
           64,
           64
          ],
          [
           0.1495329395150112,
           0.0223601,
           "8",
           256,
           256
          ],
          [
           0.22513640309821067,
           0.0506864,
           "8",
           1024,
           1024
          ]
         ],
         "hovertemplate": "M=%{customdata[2]}<br>gemm_arithmetic_intensity=%{x}<br>Performance (TFLOPs)=%{y}<br>Execution Time (ms)=%{customdata[1]}<br>N=%{customdata[3]}<br>K=%{customdata[4]}<extra></extra>",
         "legendgroup": "8",
         "marker": {
          "color": "#3366CC",
          "size": {
           "bdata": "B1yNjEsQ4j/nlZghBm3IP5UDwcQnJN0/NWTY/pdf1T9+HuN4FDi+P1PazccZk/M/IlHQhLOAuj/bI3I25SPDP9sSOQhF0cw/",
           "dtype": "f8"
          },
          "sizemode": "area",
          "sizeref": 0.009017240431528928,
          "symbol": "circle"
         },
         "mode": "markers",
         "name": "8",
         "orientation": "v",
         "showlegend": true,
         "type": "scatter",
         "x": {
          "bdata": "AP8B/AfwH0AIH3zwwQcfQCDgH+Af4B9A8Af8AX/AH0Acx3Ecx3EcQPgfgP8B+B9AmpmZmZmZGUAeHh4eHh4eQCD4gR/4gR9A",
          "dtype": "f8"
         },
         "xaxis": "x",
         "y": {
          "bdata": "2uGvyRr1CkAS3h6EgHy9P57vp8ZLt/Q/jGfQ0D9B4z9JZvUOt0OTP7+CNGPR9AZA64LJpr8LeT9tHLEWnwKoP8l2vp8aL9U/",
          "dtype": "f8"
         },
         "yaxis": "y"
        },
        {
         "customdata": [
          [
           0.7876598250513986,
           0.620408,
           "16",
           8192,
           8192
          ],
          [
           0.18393966402056952,
           0.0338338,
           "16",
           512,
           512
          ],
          [
           0.3601694045862308,
           0.129722,
           "16",
           4096,
           4096
          ],
          [
           0.26039354830717293,
           0.0678048,
           "16",
           2048,
           2048
          ],
          [
           0.11586716532305431,
           0.0134252,
           "16",
           128,
           128
          ],
          [
           1.1981694370997784,
           1.43561,
           "16",
           16384,
           16384
          ],
          [
           0.10547179717820304,
           0.0111243,
           "16",
           64,
           64
          ],
          [
           0.15484282353405984,
           0.0239763,
           "16",
           256,
           256
          ],
          [
           0.21158568004475162,
           0.0447685,
           "16",
           1024,
           1024
          ]
         ],
         "hovertemplate": "M=%{customdata[2]}<br>gemm_arithmetic_intensity=%{x}<br>Performance (TFLOPs)=%{y}<br>Execution Time (ms)=%{customdata[1]}<br>N=%{customdata[3]}<br>K=%{customdata[4]}<extra></extra>",
         "legendgroup": "16",
         "marker": {
          "color": "#DC3912",
          "size": {
           "bdata": "ugCfYII06T/Z6bO8VYvHPwrubfkDDdc/pWWEs0mq0D9xJL51eKm9P3+QNrezK/M/vN2HHzMAuz/broy/49HDP2MMDFQ9Fcs/",
           "dtype": "f8"
          },
          "sizemode": "area",
          "sizeref": 0.009017240431528928,
          "symbol": "circle"
         },
         "mode": "markers",
         "name": "16",
         "orientation": "v",
         "showlegend": true,
         "type": "scatter",
         "x": {
          "bdata": "IOAf4B/gL0AeHh4eHh4uQPAH/AF/wC9AIPiBH/iBL0CamZmZmZkpQAD/AfwH8C9AVVVVVVVVJUAcx3Ecx3EsQAgffPDBBy9A",
          "dtype": "f8"
         },
         "xaxis": "x",
         "y": {
          "bdata": "/mDgufewC0CaIsDpXbzPP3Wr56T3jRBAJJwWvOir/z8hxaXPs/6jP6zFpwAY7xdAbypSYWwhiD+l0vR+SGS2P3nMQGX8++c/",
          "dtype": "f8"
         },
         "yaxis": "y"
        },
        {
         "customdata": [
          [
           0.7442869070459321,
           0.553963,
           "32",
           8192,
           8192
          ],
          [
           0.19332977008210608,
           0.0373764,
           "32",
           512,
           512
          ],
          [
           0.5160067829011553,
           0.266263,
           "32",
           4096,
           4096
          ],
          [
           0.26480351206130176,
           0.0701209,
           "32",
           2048,
           2048
          ],
          [
           0.11575836902790225,
           0.0134,
           "32",
           128,
           128
          ],
          [
           1.7161264522173183,
           2.94509,
           "32",
           16384,
           16384
          ],
          [
           0.10242899979986136,
           0.0104917,
           "32",
           64,
           64
          ],
          [
           0.15006032120450763,
           0.0225181,
           "32",
           256,
           256
          ],
          [
           0.22475008342601344,
           0.0505126,
           "32",
           1024,
           1024
          ]
         ],
         "hovertemplate": "M=%{customdata[2]}<br>gemm_arithmetic_intensity=%{x}<br>Performance (TFLOPs)=%{y}<br>Execution Time (ms)=%{customdata[1]}<br>N=%{customdata[3]}<br>K=%{customdata[4]}<extra></extra>",
         "legendgroup": "32",
         "marker": {
          "color": "#FF9900",
          "size": {
           "bdata": "/k2TxjLR5z+lROynB7/IP2djIqggg+A/tdQKbory0D9PkDYpV6K9P6YuwQJBdfs/xGlNdMk4uj8sFAA2LTXDP5BDC1mcxMw/",
           "dtype": "f8"
          },
          "sizemode": "area",
          "sizeref": 0.009017240431528928,
          "symbol": "circle"
         },
         "mode": "markers",
         "name": "32",
         "orientation": "v",
         "showlegend": true,
         "type": "scatter",
         "x": {
          "bdata": "8Af8AX/AP0Acx3Ecx3E8QCD4gR/4gT9ACB988MEHP0BVVVVVVVU1QCDgH+Af4D9AAAAAAAAAMECamZmZmZk5QB4eHh4eHj5A",
          "dtype": "f8"
         },
         "xaxis": "x",
         "y": {
          "bdata": "F58CYDwDH0A43EduTbrcP1N5O8JpIRBAOZz51RygDkCYDdcPVgi0PxPyQc9mVRdAbyR1p+CVmT/RCDauf9fHP1JhbCHIQfU/",
          "dtype": "f8"
         },
         "yaxis": "y"
        },
        {
         "customdata": [
          [
           1.1953158578384209,
           1.42878,
           "64",
           8192,
           8192
          ],
          [
           0.1366608941870351,
           0.0186762,
           "64",
           512,
           512
          ],
          [
           0.512299716962639,
           0.262451,
           "64",
           4096,
           4096
          ],
          [
           0.3041465107476987,
           0.0925051,
           "64",
           2048,
           2048
          ],
          [
           0.11790165393241946,
           0.0139008,
           "64",
           128,
           128
          ],
          [
           1.9671298889498883,
           3.8696,
           "64",
           16384,
           16384
          ],
          [
           0.10207791142063986,
           0.0104199,
           "64",
           64,
           64
          ],
          [
           0.12193481865324605,
           0.0148681,
           "64",
           256,
           256
          ],
          [
           0.1834350021124649,
           0.0336484,
           "64",
           1024,
           1024
          ]
         ],
         "hovertemplate": "M=%{customdata[2]}<br>gemm_arithmetic_intensity=%{x}<br>Performance (TFLOPs)=%{y}<br>Execution Time (ms)=%{customdata[1]}<br>N=%{customdata[3]}<br>K=%{customdata[4]}<extra></extra>",
         "legendgroup": "64",
         "marker": {
          "color": "#109618",
          "size": {
           "bdata": "NeZchQMg8z+QdJarGn7BP89YQ2DCZOA/8qU27SJ30z+Xt8iDzS6+P9JhwDBdef8/AxUyK8chuj9/AFzKHje/P5nigVPMesc/",
           "dtype": "f8"
          },
          "sizemode": "area",
          "sizeref": 0.009017240431528928,
          "symbol": "circle"
         },
         "mode": "markers",
         "name": "64",
         "orientation": "v",
         "showlegend": true,
         "type": "scatter",
         "x": {
          "bdata": "IPiBH/iBT0CamZmZmZlJQAgffPDBB09AHh4eHh4eTkAAAAAAAABAQPAH/AF/wE9AVVVVVVVVNUBVVVVVVVVFQBzHcRzHcUxA",
          "dtype": "f8"
         },
         "xaxis": "x",
         "y": {
          "bdata": "Bg39E1wMGECQ96qVCb/8Pz7t8NdkXSBALH3ogvo2F0DqBgq8k0/DP/yMCwdCwiFAZAfwcQHDqT8xz0pa8Q3iP/Bt+rMf6Q9A",
          "dtype": "f8"
         },
         "yaxis": "y"
        },
        {
         "customdata": [
          [
           1.4332585251795993,
           2.05423,
           "128",
           8192,
           8192
          ],
          [
           0.13712840697681863,
           0.0188042,
           "128",
           512,
           512
          ],
          [
           0.7828690822864318,
           0.612884,
           "128",
           4096,
           4096
          ],
          [
           0.3583545730139355,
           0.128418,
           "128",
           2048,
           2048
          ],
          [
           0.09649922279479768,
           0.0093121,
           "128",
           128,
           128
          ],
          [
           2.6228286257397757,
           6.87923,
           "128",
           16384,
           16384
          ],
          [
           0.10268057265130537,
           0.0105433,
           "128",
           64,
           64
          ],
          [
           0.10671504111417472,
           0.0113881,
           "128",
           256,
           256
          ],
          [
           0.2133178379789182,
           0.0455045,
           "128",
           1024,
           1024
          ]
         ],
         "hovertemplate": "M=%{customdata[2]}<br>gemm_arithmetic_intensity=%{x}<br>Performance (TFLOPs)=%{y}<br>Execution Time (ms)=%{customdata[1]}<br>N=%{customdata[3]}<br>K=%{customdata[4]}<extra></extra>",
         "legendgroup": "128",
         "marker": {
          "color": "#990099",
          "size": {
           "bdata": "zsDFfaDu9j+xtKhzbI3BP0EIL3ZDDek/pOHdBEjv1j8VOv5NLLS4PwqFFJON+wRAAM94JUZJuj8HoZNLrVG7P7/t4rj/Tcs/",
           "dtype": "f8"
          },
          "sizemode": "area",
          "sizeref": 0.009017240431528928,
          "symbol": "circle"
         },
         "mode": "markers",
         "name": "128",
         "orientation": "v",
         "showlegend": true,
         "type": "scatter",
         "x": {
          "bdata": "CB988MEHX0BVVVVVVVVVQB4eHh4eHl5AHMdxHMdxXEBVVVVVVVVFQCD4gR/4gV9AmpmZmZmZOUAAAAAAAABQQJqZmZmZmVlA",
          "dtype": "f8"
         },
         "xaxis": "x",
         "y": {
          "bdata": "0sYRa/G5IEBbfAqA8YwMQJyiI7n8BxxAmyDqPgC5IEBaRuo9ldPcP0MEHEKV+iNAldV0PdF1uT+KAn0iT5L3P5tVn6utmBdA",
          "dtype": "f8"
         },
         "yaxis": "y"
        },
        {
         "customdata": [
          [
           1.8881525362109917,
           3.56512,
           "256",
           8192,
           8192
          ],
          [
           0.15763343553954534,
           0.0248483,
           "256",
           512,
           512
          ],
          [
           0.9556165549005522,
           0.913203,
           "256",
           4096,
           4096
          ],
          [
           0.5546746794293029,
           0.307664,
           "256",
           2048,
           2048
          ],
          [
           0.10264550647739043,
           0.0105361,
           "256",
           128,
           128
          ],
          [
           3.606896172611571,
           13.0097,
           "256",
           16384,
           16384
          ],
          [
           0.10249634139812015,
           0.0105055,
           "256",
           64,
           64
          ],
          [
           0.10969138525882513,
           0.0120322,
           "256",
           256,
           256
          ],
          [
           0.2552583005506383,
           0.0651568,
           "256",
           1024,
           1024
          ]
         ],
         "hovertemplate": "M=%{customdata[2]}<br>gemm_arithmetic_intensity=%{x}<br>Performance (TFLOPs)=%{y}<br>Execution Time (ms)=%{customdata[1]}<br>N=%{customdata[3]}<br>K=%{customdata[4]}<extra></extra>",
         "legendgroup": "256",
         "marker": {
          "color": "#0099C6",
          "size": {
           "bdata": "rysOb981/j8cATMZVS3EP8gMWitplO4/NC4CHeW/4T/22GbV+Ua6P2J5a2Hs2gxAUbtDQjM9uj9m71YQvBS8PyNxOekmVtA/",
           "dtype": "f8"
          },
          "sizemode": "area",
          "sizeref": 0.009017240431528928,
          "symbol": "circle"
         },
         "mode": "markers",
         "name": "256",
         "orientation": "v",
         "showlegend": true,
         "type": "scatter",
         "x": {
          "bdata": "Hh4eHh4ebkAAAAAAAABgQBzHcRzHcWxAmpmZmZmZaUCamZmZmZlJQAgffPDBB29AHMdxHMdxPEBVVVVVVVVVQFVVVVVVVWVA",
          "dtype": "f8"
         },
         "xaxis": "x",
         "y": {
          "bdata": "2GSNeohGI0AJ/reSHZsVQDl/EwoR0CJAlj50QX3rG0AWbvlISnrpP4y5awn5ICVA/5O/e0eNyT/lm21uTE8GQLQCQ1a3eiBA",
          "dtype": "f8"
         },
         "yaxis": "y"
        },
        {
         "line": {
          "color": "tomato",
          "width": 1
         },
         "mode": "lines",
         "name": "Theoretical Roofline",
         "opacity": 0.45,
         "type": "scatter",
         "x": [
          7.984405458089668,
          7.757575757575758,
          7.968871595330739,
          7.937984496124031,
          7.111111111111111,
          7.9921951219512195,
          6.4,
          7.529411764705882,
          7.876923076923077,
          15.937743190661479,
          15.058823529411764,
          15.875968992248062,
          15.753846153846155,
          12.8,
          15.968810916179336,
          10.666666666666666,
          14.222222222222221,
          15.515151515151516,
          31.751937984496124,
          28.444444444444443,
          31.50769230769231,
          31.03030303030303,
          21.333333333333332,
          31.875486381322958,
          16,
          25.6,
          30.11764705882353,
          63.01538461538462,
          51.2,
          62.06060606060606,
          60.23529411764706,
          32,
          63.50387596899225,
          21.333333333333332,
          42.666666666666664,
          56.888888888888886,
          124.12121212121212,
          85.33333333333333,
          120.47058823529412,
          113.77777777777777,
          42.666666666666664,
          126.03076923076924,
          25.6,
          64,
          102.4,
          240.94117647058823,
          128,
          227.55555555555554,
          204.8,
          51.2,
          248.24242424242425,
          28.444444444444443,
          85.33333333333333,
          170.66666666666666
         ],
         "y": [
          0.6144,
          0.6144,
          0.6144,
          0.6144,
          0.6144,
          0.6144,
          0.6144,
          0.6144,
          0.6144,
          0.6144,
          0.6144,
          0.6144,
          0.6144,
          0.6144,
          0.6144,
          0.6144,
          0.6144,
          0.6144,
          0.6144,
          0.6144,
          0.6144,
          0.6144,
          0.6144,
          0.6144,
          0.6144,
          0.6144,
          0.6144,
          0.6144,
          0.6144,
          0.6144,
          0.6144,
          0.6144,
          0.6144,
          0.6144,
          0.6144,
          0.6144,
          0.6144,
          0.6144,
          0.6144,
          0.6144,
          0.6144,
          0.6144,
          0.6144,
          0.6144,
          0.6144,
          0.6144,
          0.6144,
          0.6144,
          0.6144,
          0.6144,
          0.6144,
          0.6144,
          0.6144,
          0.6144
         ]
        }
       ],
       "layout": {
        "height": 600,
        "legend": {
         "itemsizing": "constant",
         "title": {
          "text": "M"
         },
         "tracegroupgap": 0
        },
        "template": {
         "data": {
          "bar": [
           {
            "error_x": {
             "color": "#2a3f5f"
            },
            "error_y": {
             "color": "#2a3f5f"
            },
            "marker": {
             "line": {
              "color": "#E5ECF6",
              "width": 0.5
             },
             "pattern": {
              "fillmode": "overlay",
              "size": 10,
              "solidity": 0.2
             }
            },
            "type": "bar"
           }
          ],
          "barpolar": [
           {
            "marker": {
             "line": {
              "color": "#E5ECF6",
              "width": 0.5
             },
             "pattern": {
              "fillmode": "overlay",
              "size": 10,
              "solidity": 0.2
             }
            },
            "type": "barpolar"
           }
          ],
          "carpet": [
           {
            "aaxis": {
             "endlinecolor": "#2a3f5f",
             "gridcolor": "white",
             "linecolor": "white",
             "minorgridcolor": "white",
             "startlinecolor": "#2a3f5f"
            },
            "baxis": {
             "endlinecolor": "#2a3f5f",
             "gridcolor": "white",
             "linecolor": "white",
             "minorgridcolor": "white",
             "startlinecolor": "#2a3f5f"
            },
            "type": "carpet"
           }
          ],
          "choropleth": [
           {
            "colorbar": {
             "outlinewidth": 0,
             "ticks": ""
            },
            "type": "choropleth"
           }
          ],
          "contour": [
           {
            "colorbar": {
             "outlinewidth": 0,
             "ticks": ""
            },
            "colorscale": [
             [
              0,
              "#0d0887"
             ],
             [
              0.1111111111111111,
              "#46039f"
             ],
             [
              0.2222222222222222,
              "#7201a8"
             ],
             [
              0.3333333333333333,
              "#9c179e"
             ],
             [
              0.4444444444444444,
              "#bd3786"
             ],
             [
              0.5555555555555556,
              "#d8576b"
             ],
             [
              0.6666666666666666,
              "#ed7953"
             ],
             [
              0.7777777777777778,
              "#fb9f3a"
             ],
             [
              0.8888888888888888,
              "#fdca26"
             ],
             [
              1,
              "#f0f921"
             ]
            ],
            "type": "contour"
           }
          ],
          "contourcarpet": [
           {
            "colorbar": {
             "outlinewidth": 0,
             "ticks": ""
            },
            "type": "contourcarpet"
           }
          ],
          "heatmap": [
           {
            "colorbar": {
             "outlinewidth": 0,
             "ticks": ""
            },
            "colorscale": [
             [
              0,
              "#0d0887"
             ],
             [
              0.1111111111111111,
              "#46039f"
             ],
             [
              0.2222222222222222,
              "#7201a8"
             ],
             [
              0.3333333333333333,
              "#9c179e"
             ],
             [
              0.4444444444444444,
              "#bd3786"
             ],
             [
              0.5555555555555556,
              "#d8576b"
             ],
             [
              0.6666666666666666,
              "#ed7953"
             ],
             [
              0.7777777777777778,
              "#fb9f3a"
             ],
             [
              0.8888888888888888,
              "#fdca26"
             ],
             [
              1,
              "#f0f921"
             ]
            ],
            "type": "heatmap"
           }
          ],
          "histogram": [
           {
            "marker": {
             "pattern": {
              "fillmode": "overlay",
              "size": 10,
              "solidity": 0.2
             }
            },
            "type": "histogram"
           }
          ],
          "histogram2d": [
           {
            "colorbar": {
             "outlinewidth": 0,
             "ticks": ""
            },
            "colorscale": [
             [
              0,
              "#0d0887"
             ],
             [
              0.1111111111111111,
              "#46039f"
             ],
             [
              0.2222222222222222,
              "#7201a8"
             ],
             [
              0.3333333333333333,
              "#9c179e"
             ],
             [
              0.4444444444444444,
              "#bd3786"
             ],
             [
              0.5555555555555556,
              "#d8576b"
             ],
             [
              0.6666666666666666,
              "#ed7953"
             ],
             [
              0.7777777777777778,
              "#fb9f3a"
             ],
             [
              0.8888888888888888,
              "#fdca26"
             ],
             [
              1,
              "#f0f921"
             ]
            ],
            "type": "histogram2d"
           }
          ],
          "histogram2dcontour": [
           {
            "colorbar": {
             "outlinewidth": 0,
             "ticks": ""
            },
            "colorscale": [
             [
              0,
              "#0d0887"
             ],
             [
              0.1111111111111111,
              "#46039f"
             ],
             [
              0.2222222222222222,
              "#7201a8"
             ],
             [
              0.3333333333333333,
              "#9c179e"
             ],
             [
              0.4444444444444444,
              "#bd3786"
             ],
             [
              0.5555555555555556,
              "#d8576b"
             ],
             [
              0.6666666666666666,
              "#ed7953"
             ],
             [
              0.7777777777777778,
              "#fb9f3a"
             ],
             [
              0.8888888888888888,
              "#fdca26"
             ],
             [
              1,
              "#f0f921"
             ]
            ],
            "type": "histogram2dcontour"
           }
          ],
          "mesh3d": [
           {
            "colorbar": {
             "outlinewidth": 0,
             "ticks": ""
            },
            "type": "mesh3d"
           }
          ],
          "parcoords": [
           {
            "line": {
             "colorbar": {
              "outlinewidth": 0,
              "ticks": ""
             }
            },
            "type": "parcoords"
           }
          ],
          "pie": [
           {
            "automargin": true,
            "type": "pie"
           }
          ],
          "scatter": [
           {
            "fillpattern": {
             "fillmode": "overlay",
             "size": 10,
             "solidity": 0.2
            },
            "type": "scatter"
           }
          ],
          "scatter3d": [
           {
            "line": {
             "colorbar": {
              "outlinewidth": 0,
              "ticks": ""
             }
            },
            "marker": {
             "colorbar": {
              "outlinewidth": 0,
              "ticks": ""
             }
            },
            "type": "scatter3d"
           }
          ],
          "scattercarpet": [
           {
            "marker": {
             "colorbar": {
              "outlinewidth": 0,
              "ticks": ""
             }
            },
            "type": "scattercarpet"
           }
          ],
          "scattergeo": [
           {
            "marker": {
             "colorbar": {
              "outlinewidth": 0,
              "ticks": ""
             }
            },
            "type": "scattergeo"
           }
          ],
          "scattergl": [
           {
            "marker": {
             "colorbar": {
              "outlinewidth": 0,
              "ticks": ""
             }
            },
            "type": "scattergl"
           }
          ],
          "scattermap": [
           {
            "marker": {
             "colorbar": {
              "outlinewidth": 0,
              "ticks": ""
             }
            },
            "type": "scattermap"
           }
          ],
          "scattermapbox": [
           {
            "marker": {
             "colorbar": {
              "outlinewidth": 0,
              "ticks": ""
             }
            },
            "type": "scattermapbox"
           }
          ],
          "scatterpolar": [
           {
            "marker": {
             "colorbar": {
              "outlinewidth": 0,
              "ticks": ""
             }
            },
            "type": "scatterpolar"
           }
          ],
          "scatterpolargl": [
           {
            "marker": {
             "colorbar": {
              "outlinewidth": 0,
              "ticks": ""
             }
            },
            "type": "scatterpolargl"
           }
          ],
          "scatterternary": [
           {
            "marker": {
             "colorbar": {
              "outlinewidth": 0,
              "ticks": ""
             }
            },
            "type": "scatterternary"
           }
          ],
          "surface": [
           {
            "colorbar": {
             "outlinewidth": 0,
             "ticks": ""
            },
            "colorscale": [
             [
              0,
              "#0d0887"
             ],
             [
              0.1111111111111111,
              "#46039f"
             ],
             [
              0.2222222222222222,
              "#7201a8"
             ],
             [
              0.3333333333333333,
              "#9c179e"
             ],
             [
              0.4444444444444444,
              "#bd3786"
             ],
             [
              0.5555555555555556,
              "#d8576b"
             ],
             [
              0.6666666666666666,
              "#ed7953"
             ],
             [
              0.7777777777777778,
              "#fb9f3a"
             ],
             [
              0.8888888888888888,
              "#fdca26"
             ],
             [
              1,
              "#f0f921"
             ]
            ],
            "type": "surface"
           }
          ],
          "table": [
           {
            "cells": {
             "fill": {
              "color": "#EBF0F8"
             },
             "line": {
              "color": "white"
             }
            },
            "header": {
             "fill": {
              "color": "#C8D4E3"
             },
             "line": {
              "color": "white"
             }
            },
            "type": "table"
           }
          ]
         },
         "layout": {
          "annotationdefaults": {
           "arrowcolor": "#2a3f5f",
           "arrowhead": 0,
           "arrowwidth": 1
          },
          "autotypenumbers": "strict",
          "coloraxis": {
           "colorbar": {
            "outlinewidth": 0,
            "ticks": ""
           }
          },
          "colorscale": {
           "diverging": [
            [
             0,
             "#8e0152"
            ],
            [
             0.1,
             "#c51b7d"
            ],
            [
             0.2,
             "#de77ae"
            ],
            [
             0.3,
             "#f1b6da"
            ],
            [
             0.4,
             "#fde0ef"
            ],
            [
             0.5,
             "#f7f7f7"
            ],
            [
             0.6,
             "#e6f5d0"
            ],
            [
             0.7,
             "#b8e186"
            ],
            [
             0.8,
             "#7fbc41"
            ],
            [
             0.9,
             "#4d9221"
            ],
            [
             1,
             "#276419"
            ]
           ],
           "sequential": [
            [
             0,
             "#0d0887"
            ],
            [
             0.1111111111111111,
             "#46039f"
            ],
            [
             0.2222222222222222,
             "#7201a8"
            ],
            [
             0.3333333333333333,
             "#9c179e"
            ],
            [
             0.4444444444444444,
             "#bd3786"
            ],
            [
             0.5555555555555556,
             "#d8576b"
            ],
            [
             0.6666666666666666,
             "#ed7953"
            ],
            [
             0.7777777777777778,
             "#fb9f3a"
            ],
            [
             0.8888888888888888,
             "#fdca26"
            ],
            [
             1,
             "#f0f921"
            ]
           ],
           "sequentialminus": [
            [
             0,
             "#0d0887"
            ],
            [
             0.1111111111111111,
             "#46039f"
            ],
            [
             0.2222222222222222,
             "#7201a8"
            ],
            [
             0.3333333333333333,
             "#9c179e"
            ],
            [
             0.4444444444444444,
             "#bd3786"
            ],
            [
             0.5555555555555556,
             "#d8576b"
            ],
            [
             0.6666666666666666,
             "#ed7953"
            ],
            [
             0.7777777777777778,
             "#fb9f3a"
            ],
            [
             0.8888888888888888,
             "#fdca26"
            ],
            [
             1,
             "#f0f921"
            ]
           ]
          },
          "colorway": [
           "#636efa",
           "#EF553B",
           "#00cc96",
           "#ab63fa",
           "#FFA15A",
           "#19d3f3",
           "#FF6692",
           "#B6E880",
           "#FF97FF",
           "#FECB52"
          ],
          "font": {
           "color": "#2a3f5f"
          },
          "geo": {
           "bgcolor": "white",
           "lakecolor": "white",
           "landcolor": "#E5ECF6",
           "showlakes": true,
           "showland": true,
           "subunitcolor": "white"
          },
          "hoverlabel": {
           "align": "left"
          },
          "hovermode": "closest",
          "mapbox": {
           "style": "light"
          },
          "paper_bgcolor": "white",
          "plot_bgcolor": "#E5ECF6",
          "polar": {
           "angularaxis": {
            "gridcolor": "white",
            "linecolor": "white",
            "ticks": ""
           },
           "bgcolor": "#E5ECF6",
           "radialaxis": {
            "gridcolor": "white",
            "linecolor": "white",
            "ticks": ""
           }
          },
          "scene": {
           "xaxis": {
            "backgroundcolor": "#E5ECF6",
            "gridcolor": "white",
            "gridwidth": 2,
            "linecolor": "white",
            "showbackground": true,
            "ticks": "",
            "zerolinecolor": "white"
           },
           "yaxis": {
            "backgroundcolor": "#E5ECF6",
            "gridcolor": "white",
            "gridwidth": 2,
            "linecolor": "white",
            "showbackground": true,
            "ticks": "",
            "zerolinecolor": "white"
           },
           "zaxis": {
            "backgroundcolor": "#E5ECF6",
            "gridcolor": "white",
            "gridwidth": 2,
            "linecolor": "white",
            "showbackground": true,
            "ticks": "",
            "zerolinecolor": "white"
           }
          },
          "shapedefaults": {
           "line": {
            "color": "#2a3f5f"
           }
          },
          "ternary": {
           "aaxis": {
            "gridcolor": "white",
            "linecolor": "white",
            "ticks": ""
           },
           "baxis": {
            "gridcolor": "white",
            "linecolor": "white",
            "ticks": ""
           },
           "bgcolor": "#E5ECF6",
           "caxis": {
            "gridcolor": "white",
            "linecolor": "white",
            "ticks": ""
           }
          },
          "title": {
           "x": 0.05
          },
          "xaxis": {
           "automargin": true,
           "gridcolor": "white",
           "linecolor": "white",
           "ticks": "",
           "title": {
            "standoff": 15
           },
           "zerolinecolor": "white",
           "zerolinewidth": 2
          },
          "yaxis": {
           "automargin": true,
           "gridcolor": "white",
           "linecolor": "white",
           "ticks": "",
           "title": {
            "standoff": 15
           },
           "zerolinecolor": "white",
           "zerolinewidth": 2
          }
         }
        },
        "title": {
         "text": "AMD RX 7900 XTX Roofline Analysis"
        },
        "xaxis": {
         "anchor": "y",
         "domain": [
          0,
          1
         ],
         "title": {
          "text": "gemm_arithmetic_intensity"
         },
         "type": "log"
        },
        "yaxis": {
         "anchor": "x",
         "domain": [
          0,
          1
         ],
         "title": {
          "text": "Performance (TFLOPs)"
         },
         "type": "log"
        }
       }
      },
      "image/png": "[encoded data removed]"
     },
     "metadata": {},
     "output_type": "display_data"
    }
   ],
   "source": [
    "df = load_gemm_data(\"results/**/FLOAT32/**/\")\n",
    "df = calculate_roofline_data(df, peak_compute, peak_bandwidth)\n",
    "fig = generate_roofline_plot(df)\n",
    "fig.show()"
   ]
  },
  {
   "cell_type": "code",
   "execution_count": null,
   "id": "ca2e8364-2729-4621-96c1-07281543eb14",
   "metadata": {},
   "outputs": [],
   "source": []
  }
 ],
 "metadata": {
  "kernelspec": {
   "display_name": "Python (uv Env)",
   "language": "python",
   "name": "ck_roofline"
  },
  "language_info": {
   "codemirror_mode": {
    "name": "ipython",
    "version": 3
   },
   "file_extension": ".py",
   "mimetype": "text/x-python",
   "name": "python",
   "nbconvert_exporter": "python",
   "pygments_lexer": "ipython3",
   "version": "3.13.2"
  }
 },
 "nbformat": 4,
 "nbformat_minor": 5
}
