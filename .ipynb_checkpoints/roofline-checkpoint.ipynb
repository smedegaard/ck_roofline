{
 "cells": [
  {
   "cell_type": "code",
   "execution_count": 1,
   "id": "dc83d9e5-b010-422f-9287-d737c2f888da",
   "metadata": {
    "jupyter": {
     "source_hidden": true
    }
   },
   "outputs": [],
   "source": [
    "import polars as pl\n",
    "import plotly.express as px\n",
    "import plotly.graph_objects as go\n",
    "import re\n",
    "import glob\n",
    "import numpy as np"
   ]
  },
  {
   "cell_type": "code",
   "execution_count": 2,
   "id": "86418108-6a9e-4bb6-b1be-cf5ed44b9de2",
   "metadata": {
    "jupyter": {
     "source_hidden": true
    }
   },
   "outputs": [],
   "source": [
    "def load_gemm_data(path: str):\n",
    "    files = glob.glob(path + \"/*.jsonl\")\n",
    "    pattern = re.compile(r\"M(\\d+)_N(\\d+)_K(\\d+)\")\n",
    "    \n",
    "    dfs = []\n",
    "    for file in files:\n",
    "        match = pattern.search(file)\n",
    "        if match:\n",
    "            M, N, K = match.groups()\n",
    "            df = pl.read_ndjson(file).filter(pl.col(\"is_best\") == \"true\")\n",
    "            dfs.append(df)\n",
    "    \n",
    "    if dfs:\n",
    "        combined_df = pl.concat(dfs)\n",
    "    else:\n",
    "        raise RuntimeError(\"No data loaded\")\n",
    "    return combined_df"
   ]
  },
  {
   "cell_type": "code",
   "execution_count": 3,
   "id": "f735c592-9284-4380-b2e3-f2c107d155a7",
   "metadata": {
    "jupyter": {
     "source_hidden": true
    }
   },
   "outputs": [],
   "source": [
    "def calculate_metrics(df):\n",
    "    df = df.with_columns([\n",
    "        (pl.col(\"tflops\") / pl.col(\"gb_per_sec\")).alias(\"operational_intensity\"),\n",
    "        (pl.col(\"M\").cast(pl.Utf8) + \"_\" + pl.col(\"N\").cast(pl.Utf8) + \"_\" + pl.col(\"K\").cast(pl.Utf8)).alias(\"group\")\n",
    "    ])\n",
    "    return df"
   ]
  },
  {
   "cell_type": "code",
   "execution_count": 4,
   "id": "fad4edbb-cd4e-4955-8a60-d40bb265b462",
   "metadata": {
    "jupyter": {
     "source_hidden": true
    }
   },
   "outputs": [],
   "source": [
    "def define_roofline(peak_compute, peak_bandwidth):\n",
    "    oi = np.logspace(-2, 3, 500)\n",
    "    roofline_perf = np.minimum(peak_compute, peak_bandwidth * oi)\n",
    "    \n",
    "    roofline_df = pl.DataFrame({\n",
    "        \"operational_intensity\": oi,\n",
    "        \"performance\": roofline_perf\n",
    "    })\n",
    "\n",
    "    return roofline_df\n"
   ]
  },
  {
   "cell_type": "code",
   "execution_count": 37,
   "id": "a83c1dbb-5c7b-48d0-9a9e-bb0cbfc5786d",
   "metadata": {
    "jupyter": {
     "source_hidden": true
    }
   },
   "outputs": [],
   "source": [
    "def generate_roofline_plot(combined_df, roofline_df, peak_compute, peak_bandwidth):\n",
    "    oi = pl.Series(np.logspace(-3.2, 0, 500))\n",
    "    roofline_perf = pl.Series(np.minimum(peak_compute, peak_bandwidth * oi))\n",
    "    roofline_df = pl.DataFrame({\"operational_intensity\": oi, \"performance\": roofline_perf})\n",
    "    \n",
    "    # Apply square root scaling to 'time_ms'\n",
    "    combined_df = combined_df.with_columns(\n",
    "        (pl.col(\"time_ms\").sqrt().alias(\"time_scaled\"))\n",
    "    )\n",
    "\n",
    "    # force categorical coloring of \"M\"\n",
    "    combined_df = combined_df.sort(\"M\")\n",
    "    combined_df = combined_df.cast({\"M\": pl.String})\n",
    "    \n",
    "  \n",
    "    # Create main scatter plot \n",
    "    fig = px.scatter(\n",
    "        combined_df, \n",
    "        x=\"operational_intensity\",\n",
    "        y=\"tflops\",\n",
    "        log_x=True,\n",
    "        log_y=True,\n",
    "        color=\"M\",\n",
    "        color_discrete_sequence=px.colors.qualitative.G10,\n",
    "        size=\"time_scaled\",\n",
    "        hover_data={\n",
    "            \"time_scaled\": False,\n",
    "            \"time_ms\": True,\n",
    "            \"M\": True,\n",
    "            \"N\": True,\n",
    "            \"K\": True\n",
    "        },\n",
    "        labels={\n",
    "            \"operational_intensity\": \"Operational Intensity (TFLOPs/GB/s)\",\n",
    "            \"tflops\": \"Performance (TFLOPs)\",\n",
    "            \"time_ms\": \"Execution Time (ms)\",\n",
    "        },\n",
    "        title=\"AMD RX 7900 XTX Roofline Analysis\",\n",
    "        height=600\n",
    "    )\n",
    "    \n",
    "    # Add roofline\n",
    "    fig.add_trace(go.Scatter(\n",
    "        x=roofline_df[\"operational_intensity\"].to_list(),\n",
    "        y=roofline_df[\"performance\"].to_list(),\n",
    "        mode='lines',\n",
    "        line=dict(color='tomato', width=1),\n",
    "        opacity=0.45,\n",
    "        name='Theoretical Roofline'\n",
    "    ))\n",
    "    \n",
    "    return fig\n"
   ]
  },
  {
   "cell_type": "markdown",
   "id": "16c66911-7a67-4355-999e-2067fc47e68f",
   "metadata": {},
   "source": [
    "# Define Roofline for RX 7900 XTX GPU\n",
    "\n",
    "Spec from https://en.wikipedia.org/wiki/List_of_AMD_graphics_processing_units\n",
    "\n",
    "Processing power for RX 7900 XTX in TFLPOS\n",
    "\n",
    "|Half|Single|Double|\n",
    "|---|---|---|\n",
    "|61.44|61.44|0.960|\n",
    "\n",
    "Memory bandwidth in GB/s\n",
    "\n",
    "960"
   ]
  },
  {
   "cell_type": "code",
   "execution_count": 38,
   "id": "53849821-4bae-42c0-b13f-8c1004b103b9",
   "metadata": {},
   "outputs": [],
   "source": [
    "roofline = define_roofline(61.44, 960)"
   ]
  },
  {
   "cell_type": "markdown",
   "id": "c05a6e25-fb96-4466-b4fd-f100e33e7509",
   "metadata": {
    "jupyter": {
     "source_hidden": true
    }
   },
   "source": [
    "# Simple GEMM sweep\n",
    "\n",
    "This sweep is defined as \n",
    "\n",
    "> - Datatype `bf16`\n",
    "> - For `M,N,K` use `N=K` for powers of 2 from 64 to 16384\n",
    "> - `M=1,2,4,...,256`\n",
    "> - Select the best results"
   ]
  },
  {
   "cell_type": "code",
   "execution_count": 39,
   "id": "1f89f979-4d2f-4fab-9d65-81e30b81932d",
   "metadata": {},
   "outputs": [],
   "source": [
    "bf16_df = load_gemm_data(\"gemm_scan_results_bf16\")\n",
    "bf16_df = calculate_metrics(bf16_df)\n",
    "fig = generate_roofline_plot(bf16_df, roofline, 61.44, 960)"
   ]
  },
  {
   "cell_type": "code",
   "execution_count": 40,
   "id": "f9530e2b-6d3f-4cc3-b5e5-035c1227e63b",
   "metadata": {},
   "outputs": [
    {
     "data": {
      "application/vnd.plotly.v1+json": {
       "config": {
        "plotlyServerURL": "https://plot.ly"
       },
       "data": [
        {
         "customdata": [
          [
           0.41875171641439274,
           0.175353,
           "1",
           8192,
           8192
          ],
          [
           0.1278909691886022,
           0.0163561,
           "1",
           1024,
           1024
          ],
          [
           0.10446099750624632,
           0.0109121,
           "1",
           128,
           128
          ],
          [
           0.18988470185878586,
           0.0360562,
           "1",
           2048,
           2048
          ],
          [
           0.10796341973094406,
           0.0116561,
           "1",
           512,
           512
          ],
          [
           0.253006916901495,
           0.0640125,
           "1",
           4096,
           4096
          ],
          [
           0.11097792573300332,
           0.0123161,
           "1",
           256,
           256
          ],
          [
           0.791569327349159,
           0.626582,
           "1",
           16384,
           16384
          ],
          [
           0.08813081186509064,
           0.00776704,
           "1",
           64,
           64
          ]
         ],
         "hovertemplate": "M=%{customdata[2]}<br>Operational Intensity (TFLOPs/GB/s)=%{x}<br>Performance (TFLOPs)=%{y}<br>Execution Time (ms)=%{customdata[1]}<br>N=%{customdata[3]}<br>K=%{customdata[4]}<extra></extra>",
         "legendgroup": "1",
         "marker": {
          "color": "#3366CC",
          "size": {
           "bdata": "GzLJ/9PM2j+ENA81u17AP5Qy/7f0vbo/zkE/VCROyD9CouicfaO7P8w8cOxDMdA/BeaZoQxpvD9FZ68yiVTpP5gBu6q9j7Y/",
           "dtype": "f8"
          },
          "sizemode": "area",
          "sizeref": 0.0034417473759705258,
          "symbol": "circle"
         },
         "mode": "markers",
         "name": "1",
         "orientation": "v",
         "showlegend": true,
         "type": "scatter",
         "x": {
          "bdata": "iLA5j0dhUD9a2VX4G1pQP8B4quHGIVA/MVaYMjdeUD+7Z/Li+1FQP1rgoLBBYFA/7QIqlMRBUD9vSwlCymFQP37Boslnxk8/",
          "dtype": "f8"
         },
         "xaxis": "x",
         "y": {
          "bdata": "K91dZ0N+6D9yF2GKcmnAP0ZGxQePmWg/e0ykNJvHzT+WwPdIlAenP36s4LchxuA/hD6iU6HLhT96pSxDHGvrP76fOz3GR1E/",
          "dtype": "f8"
         },
         "yaxis": "y"
        },
        {
         "customdata": [
          [
           0.12980023112460162,
           0.0168481,
           "2",
           1024,
           1024
          ],
          [
           0.09872512344889725,
           0.00974665,
           "2",
           128,
           128
          ],
          [
           0.08770769635556505,
           0.00769264,
           "2",
           64,
           64
          ],
          [
           0.2534568996890793,
           0.0642404,
           "2",
           4096,
           4096
          ],
          [
           0.11336666176614711,
           0.012852,
           "2",
           256,
           256
          ],
          [
           0.4153901780254319,
           0.172549,
           "2",
           8192,
           8192
          ],
          [
           0.7956758133813042,
           0.6331,
           "2",
           16384,
           16384
          ],
          [
           0.1956123717968779,
           0.0382642,
           "2",
           2048,
           2048
          ],
          [
           0.10682743093419404,
           0.0114121,
           "2",
           512,
           512
          ]
         ],
         "hovertemplate": "M=%{customdata[2]}<br>Operational Intensity (TFLOPs/GB/s)=%{x}<br>Performance (TFLOPs)=%{y}<br>Execution Time (ms)=%{customdata[1]}<br>N=%{customdata[3]}<br>K=%{customdata[4]}<extra></extra>",
         "legendgroup": "2",
         "marker": {
          "color": "#DC3912",
          "size": {
           "bdata": "gcHYQUudwD/+roG4DEa5P/ZjdPcCdLY/qwzHSaM40D8TB774mAW9P+y5bK/Aldo/3BuWHy126T8ywceB0wnJP3uVLeIKWbs/",
           "dtype": "f8"
          },
          "sizemode": "area",
          "sizeref": 0.0034417473759705258,
          "symbol": "circle"
         },
         "mode": "markers",
         "name": "2",
         "orientation": "v",
         "showlegend": true,
         "type": "scatter",
         "x": {
          "bdata": "rkyKx/1RYD+IcEVqZsZfP1i+7/ws114/CFG+YzReYD8/OU/1xiFgP8iGdCZAYGA/1Qj4DElhYD/oK7ozH1pgP1VktKPKQWA/",
          "dtype": "f8"
         },
         "xaxis": "x",
         "y": {
          "bdata": "MsozL4fdzz/ZWZmVkop7PwL1RcaTcmE/LUMc6+K28D+wo7s1+uKUP/kx5q4l5Pg/+wW7Ydsi+z8G8uzyrQ/cP92dEJWhhbc/",
          "dtype": "f8"
         },
         "yaxis": "y"
        },
        {
         "customdata": [
          [
           0.1955819521326035,
           0.0382523,
           "4",
           2048,
           2048
          ],
          [
           0.10070799372443083,
           0.0101421,
           "4",
           128,
           128
          ],
          [
           0.10921538353180837,
           0.011928,
           "4",
           256,
           256
          ],
          [
           0.08799681812429357,
           0.00774344,
           "4",
           64,
           64
          ],
          [
           0.12946080487931472,
           0.0167601,
           "4",
           1024,
           1024
          ],
          [
           0.800501093066087,
           0.640802,
           "4",
           16384,
           16384
          ],
          [
           0.41824514342667507,
           0.174929,
           "4",
           8192,
           8192
          ],
          [
           0.25393778765674085,
           0.0644844,
           "4",
           4096,
           4096
          ],
          [
           0.10660206376989144,
           0.011364,
           "4",
           512,
           512
          ]
         ],
         "hovertemplate": "M=%{customdata[2]}<br>Operational Intensity (TFLOPs/GB/s)=%{x}<br>Performance (TFLOPs)=%{y}<br>Execution Time (ms)=%{customdata[1]}<br>N=%{customdata[3]}<br>K=%{customdata[4]}<extra></extra>",
         "legendgroup": "4",
         "marker": {
          "color": "#FF9900",
          "size": {
           "bdata": "mnYMVNQIyT8PAX7D/8e5PyA9fRSK9bs/XfP+n/WGtj/yBYnxK5LAP/Ax5He0nek/Fp4uR4fE2j8pE01HhEDQPw/qk9lFSrs/",
           "dtype": "f8"
          },
          "sizemode": "area",
          "sizeref": 0.0034417473759705258,
          "symbol": "circle"
         },
         "mode": "markers",
         "name": "4",
         "orientation": "v",
         "showlegend": true,
         "type": "scatter",
         "x": {
          "bdata": "dFEkrf1RcD9XFgLRKdduP0Fhxzxnxm8/2TMF2YcgbT9J4B/ezEFwP6P6b59AYHA/vv9h+DVecD8vE/JkIVpwP6goTPDEIXA/",
          "dtype": "f8"
         },
         "xaxis": "x",
         "y": {
          "bdata": "Rz6veOoR7D+szsU6sHeKP7fVB+0wgaY/AATmAEVVcT9lOQmlLwTgP1dgyOpWzwpA6BN5knSNCEC7Jw8LtaYAQExV2uIan8c/",
          "dtype": "f8"
         },
         "yaxis": "y"
        },
        {
         "customdata": [
          [
           0.12955346386723898,
           0.0167841,
           "8",
           1024,
           1024
          ],
          [
           0.7991001188837354,
           0.638561,
           "8",
           16384,
           16384
          ],
          [
           0.1164641575764836,
           0.0135639,
           "8",
           256,
           256
          ],
          [
           0.08879436919084452,
           0.00788444,
           "8",
           64,
           64
          ],
          [
           0.0985822499236044,
           0.00971846,
           "8",
           128,
           128
          ],
          [
           0.41434405993087436,
           0.171681,
           "8",
           8192,
           8192
          ],
          [
           0.25524184609894984,
           0.0651484,
           "8",
           4096,
           4096
          ],
          [
           0.10894080961696585,
           0.0118681,
           "8",
           512,
           512
          ],
          [
           0.19694745492135712,
           0.0387883,
           "8",
           2048,
           2048
          ]
         ],
         "hovertemplate": "M=%{customdata[2]}<br>Operational Intensity (TFLOPs/GB/s)=%{x}<br>Performance (TFLOPs)=%{y}<br>Execution Time (ms)=%{customdata[1]}<br>N=%{customdata[3]}<br>K=%{customdata[4]}<extra></extra>",
         "legendgroup": "8",
         "marker": {
          "color": "#109618",
          "size": {
           "bdata": "9FcyOTWVwD88u5ppOpLpP+R68lOY0L0/Wl6+Tzq7tj+eUmOzrzy5P2F6rPKchNo/sDNk5eFV0D95L4F+i+O7P/x19f6SNck/",
           "dtype": "f8"
          },
          "sizemode": "area",
          "sizeref": 0.0034417473759705258,
          "symbol": "circle"
         },
         "mode": "markers",
         "name": "8",
         "orientation": "v",
         "showlegend": true,
         "type": "scatter",
         "x": {
          "bdata": "O8dbVschgD/aLrRfNV6AP1lDIxUj134/CX2UKOQ2ej+0Dc2ihSB9PxT0eE8gWoA/UN45JvxRgD908E8Ha8Z/P9V20WnJQYA/",
          "dtype": "f8"
         },
         "xaxis": "x",
         "y": {
          "bdata": "lBPtKqT87z+dRloqb+caQFSqRNlbyrM/vRp/JusFgT+SN2UTBZ+bP2pq2VpfBBlAl631RUJ7EEA8FAX6RJ7WP3RBfcucrvs/",
          "dtype": "f8"
         },
         "yaxis": "y"
        },
        {
         "customdata": [
          [
           0.11523931620762073,
           0.0132801,
           "16",
           256,
           256
          ],
          [
           0.25531235771109867,
           0.0651844,
           "16",
           4096,
           4096
          ],
          [
           0.13055305434956319,
           0.0170441,
           "16",
           1024,
           1024
          ],
          [
           0.4171534489849029,
           0.174017,
           "16",
           8192,
           8192
          ],
          [
           0.8018110750045798,
           0.642901,
           "16",
           16384,
           16384
          ],
          [
           0.19747480851997298,
           0.0389963,
           "16",
           2048,
           2048
          ],
          [
           0.10080426578275346,
           0.0101615,
           "16",
           128,
           128
          ],
          [
           0.10879338215167317,
           0.011836,
           "16",
           512,
           512
          ],
          [
           0.09510862211177282,
           0.00904565,
           "16",
           64,
           64
          ]
         ],
         "hovertemplate": "M=%{customdata[2]}<br>Operational Intensity (TFLOPs/GB/s)=%{x}<br>Performance (TFLOPs)=%{y}<br>Execution Time (ms)=%{customdata[1]}<br>N=%{customdata[3]}<br>K=%{customdata[4]}<extra></extra>",
         "legendgroup": "16",
         "marker": {
          "color": "#990099",
          "size": {
           "bdata": "+DtT5lKAvT+LkKikCVfQPyeCaWX2tcA/2HAzYaSy2j+F4xazb6jpP1NGMMLaRsk/T4/V8E7OuT+011wS4tm7P9alieUJWbg/",
           "dtype": "f8"
          },
          "sizemode": "area",
          "sizeref": 0.0034417473759705258,
          "symbol": "circle"
         },
         "mode": "markers",
         "name": "16",
         "orientation": "v",
         "showlegend": true,
         "type": "scatter",
         "x": {
          "bdata": "4027EZEgjT/inyssy0GQPwvUXnZhxo8/Hg27jPlRkD8NNXzEIFqQPx1EjAPIIZA/r3dIY+A2ij8tJ6juK9eOP1KxyAJv2IU/",
          "dtype": "f8"
         },
         "xaxis": "x",
         "y": {
          "bdata": "VcA9z582xD/USEvl7XggQOSghJm2f/8/AwmKH2OuKEBiodY077gqQLddaK7TiAtA/Xs6aMBqqj+G4o43+a3mP50Y7Uz8rI0/",
          "dtype": "f8"
         },
         "yaxis": "y"
        },
        {
         "customdata": [
          [
           0.25901447835980135,
           0.0670885,
           "32",
           4096,
           4096
          ],
          [
           0.09301419246545121,
           0.00865164,
           "32",
           64,
           64
          ],
          [
           0.4549659327905772,
           0.206994,
           "32",
           8192,
           8192
          ],
          [
           0.0987122079582865,
           0.0097441,
           "32",
           128,
           128
          ],
          [
           0.11278253410878832,
           0.0127199,
           "32",
           256,
           256
          ],
          [
           0.1971910241364956,
           0.0388843,
           "32",
           2048,
           2048
          ],
          [
           0.10740623818009827,
           0.0115361,
           "32",
           512,
           512
          ],
          [
           0.8429952550281644,
           0.710641,
           "32",
           16384,
           16384
          ],
          [
           0.13521908149370043,
           0.0182842,
           "32",
           1024,
           1024
          ]
         ],
         "hovertemplate": "M=%{customdata[2]}<br>Operational Intensity (TFLOPs/GB/s)=%{x}<br>Performance (TFLOPs)=%{y}<br>Execution Time (ms)=%{customdata[1]}<br>N=%{customdata[3]}<br>K=%{customdata[4]}<extra></extra>",
         "legendgroup": "32",
         "marker": {
          "color": "#0099C6",
          "size": {
           "bdata": "87tvdrGT0D9b9bMyx8+3P2ZMiG4pHt0/IJTlCDRFuT/1p47vUN+8P0GR3TOOPck/VbJeqPl+uz/D7mAv0fnqP9DBZ97bTsE/",
           "dtype": "f8"
          },
          "sizemode": "area",
          "sizeref": 0.0034417473759705258,
          "symbol": "circle"
         },
         "mode": "markers",
         "name": "32",
         "orientation": "v",
         "showlegend": true,
         "type": "scatter",
         "x": {
          "bdata": "AvI91sghoD+cckLzT2KQPzIuIHvMQaA/y/B5r2PYlT8DOfMK4TaaP+TTxLNpxp8/R601BYggnT/Vseta/VGgP7yjpKIq154/",
          "dtype": "f8"
         },
         "xaxis": "x",
         "y": {
          "bdata": "GsBbIEEBMEDTzEne7wafP4/k8h/SvzRAZ5qw/WSMuz92b0VighrVP8yXF2AfnRtAFLNeDOVE9z9bQj7o2Sw4QHfWbrvQXA1A",
          "dtype": "f8"
         },
         "yaxis": "y"
        },
        {
         "customdata": [
          [
           0.8669780850748189,
           0.751651,
           "64",
           16384,
           16384
          ],
          [
           0.10925245992653895,
           0.0119361,
           "64",
           256,
           256
          ],
          [
           0.10140364884953598,
           0.0102827,
           "64",
           128,
           128
          ],
          [
           0.2568121881842838,
           0.0659525,
           "64",
           4096,
           4096
          ],
          [
           0.09032856690992058,
           0.00815925,
           "64",
           64,
           64
          ],
          [
           0.13541122553171137,
           0.0183362,
           "64",
           1024,
           1024
          ],
          [
           0.19591911596370581,
           0.0383843,
           "64",
           2048,
           2048
          ],
          [
           0.1076294569344285,
           0.0115841,
           "64",
           512,
           512
          ],
          [
           0.47780958550451874,
           0.228302,
           "64",
           8192,
           8192
          ]
         ],
         "hovertemplate": "M=%{customdata[2]}<br>Operational Intensity (TFLOPs/GB/s)=%{x}<br>Performance (TFLOPs)=%{y}<br>Execution Time (ms)=%{customdata[1]}<br>N=%{customdata[3]}<br>K=%{customdata[4]}<extra></extra>",
         "legendgroup": "64",
         "marker": {
          "color": "#DD4477",
          "size": {
           "bdata": "edc300i+6z9uXGQe+Pe7P676gOuW9bk/+c1dY5xv0D/UzMXgxR+3P+zBlbAnVcE/NNjcqeATyT/Rnp6lmo27PydD3adulN4/",
           "dtype": "f8"
          },
          "sizemode": "area",
          "sizeref": 0.0034417473759705258,
          "symbol": "circle"
         },
         "mode": "markers",
         "name": "64",
         "orientation": "v",
         "showlegend": true,
         "type": "scatter",
         "x": {
          "bdata": "39OG88lBsD/CVkq3aNilP7It1rdLYqA/VcODB2nGrz+neBnOaNiVPzqsvBCGIK0/rxGtBSHXrj/WseqX4DaqP7FU50LFIbA/",
          "dtype": "f8"
         },
         "xaxis": "x",
         "y": {
          "bdata": "bHh6pSzbRkCCctu+R33mPyV1ApoIG8o/j+TyH9JHQED01grkI3OwP0ht4uR+Rx1AKe0NvjD5K0B5Xb9gNywHQCsYldQJ0EJA",
          "dtype": "f8"
         },
         "yaxis": "y"
        },
        {
         "customdata": [
          [
           0.10428854203602618,
           0.0108761,
           "128",
           128,
           128
          ],
          [
           0.09488940931421166,
           0.009004,
           "128",
           256,
           256
          ],
          [
           0.30699299666279034,
           0.0942447,
           "128",
           4096,
           4096
          ],
          [
           0.094,
           0.008836,
           "128",
           64,
           64
          ],
          [
           0.5387865996848845,
           0.290291,
           "128",
           8192,
           8192
          ],
          [
           0.11185749863107078,
           0.0125121,
           "128",
           512,
           512
          ],
          [
           0.20151501184775292,
           0.0406083,
           "128",
           2048,
           2048
          ],
          [
           0.948095459328859,
           0.898885,
           "128",
           16384,
           16384
          ],
          [
           0.14002892558325225,
           0.0196081,
           "128",
           1024,
           1024
          ]
         ],
         "hovertemplate": "M=%{customdata[2]}<br>Operational Intensity (TFLOPs/GB/s)=%{x}<br>Performance (TFLOPs)=%{y}<br>Execution Time (ms)=%{customdata[1]}<br>N=%{customdata[3]}<br>K=%{customdata[4]}<extra></extra>",
         "legendgroup": "128",
         "marker": {
          "color": "#66AA00",
          "size": {
           "bdata": "vWpkZaeyuj+ixb0drEq4P1oiMfTFpdM/qvHSTWIQuD+NbSVlvT3hP+LMbmqxorw/6QLFcD7LyT+ptulJzFbuPw7i78N37ME/",
           "dtype": "f8"
          },
          "sizemode": "area",
          "sizeref": 0.0034417473759705258,
          "symbol": "circle"
         },
         "mode": "markers",
         "name": "128",
         "orientation": "v",
         "showlegend": true,
         "type": "scatter",
         "x": {
          "bdata": "d5Wc9mfYpT9HPPiDTmKwP+S6Ivgq174/05JvHuU2mj+bIMffZ8a/P3B9eudo2LU/ixn8UIsgvT89xBagxyHAP/oL3EnbNro/",
          "dtype": "f8"
         },
         "xaxis": "x",
         "y": {
          "bdata": "DoP5K2Su2D/H9IQlHtD9P+F6FK5HyUZAQs77/zhhvj8QejarPpdNQIfEPZY+dBVAVHQkl/9wOkC4QILixxxTQOF6FK5HYStA",
          "dtype": "f8"
         },
         "yaxis": "y"
        },
        {
         "customdata": [
          [
           0.6828089044527759,
           0.466228,
           "256",
           8192,
           8192
          ],
          [
           0.11104998874380853,
           0.0123321,
           "256",
           256,
           256
          ],
          [
           1.3766989503882103,
           1.8953,
           "256",
           16384,
           16384
          ],
          [
           0.11704699910719625,
           0.0137,
           "256",
           512,
           512
          ],
          [
           0.10089449935452378,
           0.0101797,
           "256",
           128,
           128
          ],
          [
           0.14646535426509574,
           0.0214521,
           "256",
           1024,
           1024
          ],
          [
           0.22324067729694785,
           0.0498364,
           "256",
           2048,
           2048
          ],
          [
           0.37579914848227103,
           0.141225,
           "256",
           4096,
           4096
          ],
          [
           0.09400053191338865,
           0.0088361,
           "256",
           64,
           64
          ]
         ],
         "hovertemplate": "M=%{customdata[2]}<br>Operational Intensity (TFLOPs/GB/s)=%{x}<br>Performance (TFLOPs)=%{y}<br>Execution Time (ms)=%{customdata[1]}<br>N=%{customdata[3]}<br>K=%{customdata[4]}<extra></extra>",
         "legendgroup": "256",
         "marker": {
          "color": "#B82E2E",
          "size": {
           "bdata": "NFpBD5LZ5T8eNuClxW28P6GthXr1BvY/PaZCycr2vT/h7xLPONS5P+dmSHFgv8I/vEoQiCaTzD/mJCbfFw3YP1nmXzprELg/",
           "dtype": "f8"
          },
          "sizemode": "area",
          "sizeref": 0.0034417473759705258,
          "symbol": "circle"
         },
         "mode": "markers",
         "name": "256",
         "orientation": "v",
         "showlegend": true,
         "type": "scatter",
         "x": {
          "bdata": "Dw3T7izXzj8i4klhZdi1P02bxXVnxs8/G9eeWU5iwD8nLJ6W5zaqP5zhP1Vk2MU/szgEW+E2yj8CLRSKiyDNP6L6zyyKIJ0/",
          "dtype": "f8"
         },
         "xaxis": "x",
         "y": {
          "bdata": "DeAtkKBsUkC/fR04Z8QFQLfRAN4CIVJAgA7z5QWYI0CLUkKwql7qPxBYObTIBjlApN++DpyLRUCoxks3iWlOQDFdiNUfYc4/",
          "dtype": "f8"
         },
         "yaxis": "y"
        },
        {
         "line": {
          "color": "tomato",
          "width": 1
         },
         "mode": "lines",
         "name": "Theoretical Roofline",
         "opacity": 0.45,
         "type": "scatter",
         "x": [
          0.000630957344480193,
          0.0006403432349044165,
          0.0006498687463978393,
          0.0006595359559123637,
          0.000669346971295866,
          0.0006793039317517976,
          0.0006894090083056164,
          0.0006996644042781601,
          0.0007100723557660607,
          0.0007206351321293053,
          0.0007313550364860471,
          0.0007422344062147839,
          0.0007532756134639995,
          0.0007644810656693899,
          0.0007758532060787836,
          0.0007873945142848672,
          0.000799107506765842,
          0.0008109947374341176,
          0.0008230587981931686,
          0.0008353023195026779,
          0.0008477279709520809,
          0.0008603384618426507,
          0.0008731365417782328,
          0.0008861250012647729,
          0.0008993066723187614,
          0.0009126844290847301,
          0.0009262611884619294,
          0.0009400399107403378,
          0.0009540236002461228,
          0.0009682153059967076,
          0.0009826181223655834,
          0.0009972351897570052,
          0.0010120696952907351,
          0.0010271248734969607,
          0.0010424040070215557,
          0.001057910427341834,
          0.0010736475154929422,
          0.001089618702805071,
          0.0011058274716516216,
          0.0011222773562085072,
          0.0011389719432247471,
          0.0011559148728045273,
          0.0011731098392008875,
          0.0011905605916212258,
          0.001208270935044776,
          0.0012262447310522496,
          0.001244485898667819,
          0.0012629984152136265,
          0.0012817863171769978,
          0.0013008537010905706,
          0.0013202047244255004,
          0.001339843606497962,
          0.0013597746293891328,
          0.001380002138878859,
          0.0014005305453932196,
          0.0014213643249661768,
          0.001442508020215534,
          0.0014639662413334156,
          0.001485743667091472,
          0.0015078450458610511,
          0.0015302751966485332,
          0.001553039010146073,
          0.0015761414497979728,
          0.0015995875528829093,
          0.001623382431612278,
          0.0016475312742448575,
          0.0016720393462180635,
          0.0016969119912960313,
          0.001722154632734777,
          0.0017477727744646808,
          0.0017737720022905825,
          0.0018001579851097073,
          0.001826936476147719,
          0.001854113314213161,
          0.0018816944249705557,
          0.0019096858222324353,
          0.001938093609270612,
          0.0019669239801469317,
          0.0019961832210638364,
          0.002025877711735017,
          0.002056013926776442,
          0.0020865984371181024,
          0.0021176379114367363,
          0.002149139117609875,
          0.00218110892419152,
          0.0022135543019097597,
          0.0022464823251866894,
          0.0022799001736809135,
          0.0023138151338530093,
          0.0023482346005542763,
          0.002383166078639107,
          0.002418617184601366,
          0.002454595648235091,
          0.0024911093143199043,
          0.0025281661443315004,
          0.0025657742181775635,
          0.0026039417359595336,
          0.002642677019760554,
          0.00268198851546003,
          0.002721884794575177,
          0.002762374556129961,
          0.002803466628551846,
          0.002845169971596743,
          0.002887493678302619,
          0.0029304469769721414,
          0.0029740392331848286,
          0.003018279951839135,
          0.003063178779224893,
          0.0031087455051266215,
          0.0031549900649580852,
          0.003201922541928626,
          0.0032495531692417197,
          0.0032978923323262192,
          0.0033469505711008255,
          0.003396738582272206,
          0.003447267221667321,
          0.003498547506600441,
          0.0035505906182753586,
          0.00360340790422337,
          0.0036570108807774896,
          0.0037114112355834837,
          0.0037666208301482627,
          0.003822651702426157,
          0.0038795160694437116,
          0.0039372263299634795,
          0.0039957950671874656,
          0.004055235051500786,
          0.004115559243256111,
          0.004176780795599602,
          0.004238913057338779,
          0.0043019695758531465,
          0.004365964100048068,
          0.004430910583352584,
          0.0044968231867618435,
          0.0045637162819247585,
          0.004631604454277644,
          0.004700502506224419,
          0.004770425460364142,
          0.004841388562766562,
          0.0049134072862963615,
          0.00498649733398691,
          0.005060674642464144,
          0.005135955385421413,
          0.0052123559771460135,
          0.005289893076098151,
          0.0053685835885432034,
          0.005448444672237955,
          0.005529493740171698,
          0.005611748464362984,
          0.005695226779712825,
          0.005779946887915268,
          0.005865927261426091,
          0.005953186647490561,
          0.006041744072231109,
          0.006131618844795769,
          0.0062228305615684345,
          0.006315399110441589,
          0.006409344675152745,
          0.0065046877396853055,
          0.006601449092734883,
          0.006699649832242161,
          0.006799311369993016,
          0.006900455436287239,
          0.007003104084676595,
          0.007107279696773412,
          0.007213004987130694,
          0.007320303008194797,
          0.007429197155331848,
          0.0075397111719288715,
          0.0076518691545708175,
          0.007765695558294623,
          0.007881215201921364,
          0.007998453273467872,
          0.008117435335638632,
          0.008238187331399601,
          0.00836073558963479,
          0.00848510683088702,
          0.008611328173184178,
          0.008739427137951951,
          0.008869431656014705,
          0.009001370073685523,
          0.009135271158946832,
          0.009271164107723088,
          0.00940907855024657,
          0.009549044557518078,
          0.009691092647863608,
          0.009835253793588562,
          0.009981559427731086,
          0.010130041450915617,
          0.010280732238308648,
          0.010433664646677783,
          0.010588872021555857,
          0.010746388204511658,
          0.010906247540528761,
          0.011068484885494119,
          0.01123313561379812,
          0.011400235626047623,
          0.011569821356893762,
          0.011741929782976206,
          0.011916598430985588,
          0.012093865385845823,
          0.012273769299018238,
          0.012456349396929118,
          0.012641645489522726,
          0.012829697978941476,
          0.013020547868335236,
          0.013214236770801744,
          0.013410806918459939,
          0.013610301171658278,
          0.013812763028320095,
          0.014018236633427876,
          0.014226766788648725,
          0.01443839896210294,
          0.014653179298277906,
          0.01487115462808953,
          0.015092372479093273,
          0.015316881085847089,
          0.015544729400428583,
          0.01577596710310851,
          0.01601064461318317,
          0.016248813099967847,
          0.016490524493953804,
          0.0167358314981313,
          0.016984787599480973,
          0.01723744708063619,
          0.017493865031718906,
          0.017754097362351565,
          0.018018200813847654,
          0.018286232971583705,
          0.018558252277555178,
          0.0188343180431193,
          0.019114490461927317,
          0.01939883062304917,
          0.01968740052429346,
          0.019980263085725498,
          0.0202774821633864,
          0.020579122563216427,
          0.020885250055185225,
          0.021195931387632462,
          0.021511234301821662,
          0.021831227546710553,
          0.02215598089394122,
          0.022485565153053135,
          0.02282005218692254,
          0.023159514927431533,
          0.023504027391370152,
          0.023853664696575138,
          0.024208503078308654,
          0.02456861990588069,
          0.024934093699518777,
          0.025305004147488624,
          0.025681432123469343,
          0.026063459704187348,
          0.02645117018731232,
          0.026844648109619625,
          0.027243979265422734,
          0.027649250725279878,
          0.028060550854979063,
          0.028477969334805415,
          0.028901597179095087,
          0.02933152675608022,
          0.029767851808028958,
          0.03021066747168505,
          0.030660070299011674,
          0.0311161582782436,
          0.03157903085525274,
          0.032048788955231375,
          0.03252553500469797,
          0.0330093729538304,
          0.033500408299131326,
          0.033998748106430714,
          0.034504501034230674,
          0.035017777357397334,
          0.035538688991205415,
          0.03606734951574028,
          0.036603874200662995,
          0.03714838003034395,
          0.037700985729370216,
          0.038261811788432264,
          0.03883098049059605,
          0.03940861593796556,
          0.0399948440787423,
          0.040589792734687095,
          0.04119359162899044,
          0.041806372414557556,
          0.04242826870271408,
          0.043059416092338744,
          0.04369995219942964,
          0.04435001668710996,
          0.04500975129608044,
          0.045679299875524604,
          0.04635880841447367,
          0.04704842507363831,
          0.04774830021771365,
          0.048458586448164934,
          0.04917943863650096,
          0.049911013958042406,
          0.05065347192619239,
          0.05140697442721711,
          0.052171685755543463,
          0.052947772649582184,
          0.05373540432808354,
          0.05453475252703389,
          0.05534599153710131,
          0.05616929824163807,
          0.057004852155248295,
          0.057852835462929776,
          0.058713433059797496,
          0.059586832591398534,
          0.06047322449462646,
          0.061372802039244216,
          0.062285761370025075,
          0.06321230154952014,
          0.06415262460146202,
          0.06510693555481455,
          0.06607544248847724,
          0.06705835657665525,
          0.06805589213490368,
          0.06906826666685753,
          0.07009570091165618,
          0.07113841889207363,
          0.07219664796336471,
          0.07327061886283753,
          0.07436056576016416,
          0.07546672630843887,
          0.07658934169599635,
          0.07772865669900064,
          0.07888491973481646,
          0.08005838291617402,
          0.08124930210614047,
          0.08245793697390816,
          0.08368455105141323,
          0.08492941179079656,
          0.08619279062271884,
          0.08747496301554415,
          0.08877620853540302,
          0.09009681090714934,
          0.09143705807622417,
          0.09279724227143918,
          0.09417766006869518,
          0.09557861245564737,
          0.09700040489733308,
          0.09844334740277572,
          0.09990775459257947,
          0.10139394576752918,
          0.10290224497821149,
          0.10443298109567087,
          0.105986487883117,
          0.10756310406869898,
          0.10916317341936148,
          0.11078704481580069,
          0.11243507232853421,
          0.114107615295103,
          0.11580503839842167,
          0.11752771174629452,
          0.1192760109521136,
          0.12105031721675866,
          0.122851017411714,
          0.1246785041634225,
          0.1265331759388943,
          0.12841543713258854,
          0.1303256981545887,
          0.13226437552008816,
          0.13423189194020785,
          0.13622867641416467,
          0.13825516432281043,
          0.14031179752356343,
          0.142399024446751,
          0.14451730019338585,
          0.1466670866343967,
          0.14884885251133523,
          0.15106307353858037,
          0.15331023250706438,
          0.15559081938954056,
          0.15790533144741742,
          0.1602542733391823,
          0.16263815723043692,
          0.16505750290557142,
          0.16751283788109808,
          0.17000469752067163,
          0.1725336251518207,
          0.1751001721844147,
          0.17770489823089497,
          0.18034837122829236,
          0.18303116756206111,
          0.18575387219175438,
          0.18851707877856966,
          0.1913213898147904,
          0.1941674167551554,
          0.19705578015017983,
          0.1999871097814613,
          0.202962044798998,
          0.20598123386054876,
          0.20904533527306848,
          0.21215501713624502,
          0.2153109574881725,
          0.21851384445319152,
          0.2217643763919286,
          0.2250632620535666,
          0.22841122073038234,
          0.23180898241458092,
          0.23525728795746426,
          0.23875688923096716,
          0.24230854929159534,
          0.2459130425468044,
          0.2495711549238514,
          0.2532836840411596,
          0.257051439382232,
          0.2608752424721512,
          0.26475592705670664,
          0.26869433928418485,
          0.2726913378898642,
          0.27674779438325475,
          0.2808645932381233,
          0.2850426320853435,
          0.28928282190861804,
          0.2935860872431096,
          0.2979533663770271,
          0.30238561155621174,
          0.30688378919176423,
          0.31144888007076393,
          0.31608187957011924,
          0.3207837978736011,
          0.3255556601921043,
          0.3303985069871858,
          0.3353133941979267,
          0.3403013934711724,
          0.34536359239519365,
          0.35050109473682656,
          0.3557150206821386,
          0.36100650708067394,
          0.3663767076933356,
          0.3718267934439506,
          0.3773579526745804,
          0.3829713914046281,
          0.38866833359379865,
          0.39445002140897467,
          0.4003177154950579,
          0.40627269524984233,
          0.4123162591029748,
          0.4184497247990667,
          0.42467442968501457,
          0.43099173100159865,
          0.437403006179416,
          0.44390965313921665,
          0.4505130905967084,
          0.457214758371893,
          0.46401611770300877,
          0.47091865156513857,
          0.4779238649935595,
          0.48503328541190244,
          0.49224846296519337,
          0.4995709708578466,
          0.5070024056966907,
          0.5145443878390924,
          0.5221985617462613,
          0.5299665963418103,
          0.5378501853756472,
          0.545851047793285,
          0.5539709281106401,
          0.5622115967944088,
          0.5705748506481026,
          0.5790625132038222,
          0.5876764351198657,
          0.596418494584246,
          0.6052905977242131,
          0.6142946790218682,
          0.6234327017359601,
          0.6327066583299547,
          0.6421185709064758,
          0.6516704916482057,
          0.6613645032653442,
          0.6712027194497265,
          0.6811872853356915,
          0.6913203779678128,
          0.7016042067755814,
          0.7120410140551527,
          0.722633075458259,
          0.7333827004883925,
          0.7442922330043759,
          0.7553640517314165,
          0.7666005707797673,
          0.7780042401711011,
          0.789577546372717,
          0.8013230128396887,
          0.8132432005650857,
          0.8253407086383725,
          0.8376181748121161,
          0.8500782760771264,
          0.862723729246145,
          0.8755572915462285,
          0.888581761219932,
          0.9017999781354427,
          0.9152148244057868,
          0.9288292250172498,
          0.9426461484671392,
          0.9566686074110443,
          0.9708996593197148,
          0.985342407145716,
          1
         ],
         "y": [
          0.6057190507009853,
          0.6147295055082398,
          0.6238739965419258,
          0.6331545176758692,
          0.6425730924440314,
          0.6521317744817257,
          0.6618326479733917,
          0.6716778281070337,
          0.6816694615354182,
          0.6918097268441331,
          0.7021008350266053,
          0.7125450299661925,
          0.7231445889254395,
          0.7339018230426143,
          0.7448190778356322,
          0.7558987337134725,
          0.7671432064952084,
          0.7785549479367528,
          0.7901364462654418,
          0.8018902267225708,
          0.8138188521139977,
          0.8259249233689446,
          0.8382110801071034,
          0.850680001214182,
          0.8633344054260109,
          0.8761770519213409,
          0.8892107409234522,
          0.9024383143107243,
          0.9158626562362779,
          0.9294866937568393,
          0.94331339747096,
          0.9573457821667251,
          0.9715869074791057,
          0.9860398785570822,
          1.0007078467406934,
          1.0155940102481607,
          1.0307016148732244,
          1.046033954692868,
          1.0615943727855568,
          1.0773862619601668,
          1.0934130654957572,
          1.1096782778923462,
          1.126185445632852,
          1.1429381679563768,
          1.159940097642985,
          1.1771949418101597,
          1.1947064627211064,
          1.2124784786050815,
          1.230514864489918,
          1.2488195530469477,
          1.2673965354484804,
          1.2862498622380434,
          1.3053836442135676,
          1.3248020533237046,
          1.3445093235774908,
          1.3645097519675298,
          1.3848076994069127,
          1.405407591680079,
          1.426313920407813,
          1.447531244026609,
          1.469064188782592,
          1.49091744974023,
          1.513095791806054,
          1.535604050767593,
          1.558447134347787,
          1.5816300232750633,
          1.6051577723693409,
          1.6290355116441901,
          1.6532684474253858,
          1.6778618634860936,
          1.702821122198959,
          1.728151665705319,
          1.7538590171018102,
          1.7799487816446347,
          1.8064266479717335,
          1.8332983893431378,
          1.8605698648997875,
          1.8882470209410545,
          1.916335892221283,
          1.9448426032656163,
          1.973773369705384,
          2.0031344996333784,
          2.032932394979267,
          2.06317355290548,
          2.093864567223859,
          2.1250121298333693,
          2.1566230321792217,
          2.188704166733677,
          2.221262528498889,
          2.254305216532105,
          2.2878394354935425,
          2.3218724972173113,
          2.356411822305687,
          2.3914649417471083,
          2.42703949855824,
          2.463143249450461,
          2.499784066521152,
          2.536969938970132,
          2.5747089748416285,
          2.6130094027921698,
          2.6518795738847625,
          2.691327963409772,
          2.7313631727328733,
          2.771993931170514,
          2.813229097893256,
          2.8550776638574353,
          2.8975487537655695,
          2.9406516280558974,
          2.9843956849215565,
          3.028790462359762,
          3.073845640251481,
          3.119571042472051,
          3.1659766390331705,
          3.2130725482567923,
          3.2608690389813177,
          3.3093765328006284,
          3.3586056063364236,
          3.408566993544344,
          3.459271588054435,
          3.51073044554639,
          3.5629547861601445,
          3.6159559969423323,
          3.669745634329111,
          3.724335426665963,
          3.77973727676494,
          3.835963264499967,
          3.8930256494407547,
          3.9509368735258663,
          4.009709563775618,
          4.069356535045228,
          4.129890792819021,
          4.191325536046145,
          4.25367416001848,
          4.31695025929137,
          4.381167630647768,
          4.446340276106539,
          4.512482405975442,
          4.579608441949576,
          4.6477330202559,
          4.716870994844507,
          4.787037440627433,
          4.858247656765578,
          4.930517170004556,
          5.003861738060173,
          5.078297353054225,
          5.153840245001476,
          5.230506885348436,
          5.30831399056483,
          5.3872785257884654,
          5.467417708524312,
          5.548749012398657,
          5.631290170969047,
          5.715059181590939,
          5.8000743093418645,
          5.8863540910039385,
          5.973917339105697,
          6.062783146023926,
          6.152970888146635,
          6.244500230097893,
          6.337391129025487,
          6.431663838952474,
          6.527338915193296,
          6.624437218835749,
          6.722979921289531,
          6.822988508902475,
          6.924484787645467,
          7.027490887867005,
          7.132029269118575,
          7.238122725051717,
          7.345794388387985,
          7.455067735962838,
          7.565966593844509,
          7.678515142529157,
          7.792737922213087,
          7.908659838143618,
          8.026306166049398,
          8.14570255765154,
          8.26687504625681,
          8.389850052433873,
          8.514654389774117,
          8.641315270738103,
          8.769860312588959,
          8.900317543414165,
          9.032715408236708,
          9.167082775217356,
          9.303448941949064,
          9.441843641845018,
          9.582297050621843,
          9.724839792878992,
          9.869502948776303,
          10.016318060810672,
          10.165317140693622,
          10.316532676331192,
          10.46999763890761,
          10.625745490074355,
          10.783810189246195,
          10.94422620100572,
          11.107028502618011,
          11.272252591657159,
          11.439934493746165,
          11.610110770411989,
          11.782818527057508,
          11.958095421051954,
          12.135979669941817,
          12.316510059783816,
          12.499725953601827,
          12.685667299969674,
          12.874374641721541,
          13.065889124791946,
          13.26025250718729,
          13.45750716809076,
          13.657696117102775,
          13.860863003618823,
          14.06705212634679,
          14.276308442965949,
          14.488677579929542,
          14.704205842413206,
          14.92294022441144,
          15.144928418984168,
          15.370218828655842,
          15.598860575969134,
          15.830903514195652,
          16.066398238206048,
          16.305396095501735,
          16.547949197410745,
          16.79411043045015,
          17.043933467857503,
          17.29747278129375,
          17.554783652720356,
          17.81592218645297,
          18.080945321394527,
          18.349910843450225,
          18.622877398127205,
          18.89990450332172,
          19.18105256229648,
          19.466382876850943,
          19.75595766068777,
          20.049840052977817,
          20.348094132127162,
          20.650784929748795,
          20.95797844484213,
          21.26974165818357,
          21.58614254693101,
          21.90725009944564,
          22.233134330334273,
          22.563866295715346,
          22.899518108712133,
          23.24016295517631,
          23.585875109645464,
          23.936729951538027,
          24.29280398158908,
          24.65417483853057,
          25.020921316019855,
          25.39312337981983,
          25.77086218523484,
          26.154220094805826,
          26.54328069626868,
          26.9381288207799,
          27.3388505614132,
          27.745533291931284,
          28.158265685837012,
          28.5771377357078,
          29.002240772817647,
          29.433667487051206,
          29.871511947113856,
          30.31586962104263,
          30.76683739702212,
          31.224513604510054,
          31.688998035677184,
          32.16039196716607,
          32.63879818217349,
          33.12432099286145,
          33.61706626310144,
          34.1171414315572,
          34.62465553511067,
          35.13971923263647,
          35.662444829130195,
          36.19294630019541,
          36.731339316894974,
          37.27774127097221,
          37.83227130044694,
          38.395050315592606,
          38.96620102529961,
          39.54584796383082,
          40.134117517975255,
          40.731137954605515,
          41.33703944864519,
          41.95195411145245,
          42.57601601962556,
          43.20936124423722,
          43.852127880503616,
          44.50445607789472,
          45.16648807069278,
          45.838368209005104,
          46.52024299023834,
          47.21226109104092,
          47.91457339972071,
          48.627333049144696,
          49.35069545012843,
          50.08481832532173,
          50.8298617435989,
          51.5859881549602,
          52.35336242595253,
          53.13215187561726,
          53.92252631197255,
          54.72465806903836,
          55.53872204441259,
          56.3648957374056,
          57.20335928774259,
          58.0542955148414,
          58.91788995767445,
          59.79433091522407,
          60.68380948753933,
          61.44,
          61.44,
          61.44,
          61.44,
          61.44,
          61.44,
          61.44,
          61.44,
          61.44,
          61.44,
          61.44,
          61.44,
          61.44,
          61.44,
          61.44,
          61.44,
          61.44,
          61.44,
          61.44,
          61.44,
          61.44,
          61.44,
          61.44,
          61.44,
          61.44,
          61.44,
          61.44,
          61.44,
          61.44,
          61.44,
          61.44,
          61.44,
          61.44,
          61.44,
          61.44,
          61.44,
          61.44,
          61.44,
          61.44,
          61.44,
          61.44,
          61.44,
          61.44,
          61.44,
          61.44,
          61.44,
          61.44,
          61.44,
          61.44,
          61.44,
          61.44,
          61.44,
          61.44,
          61.44,
          61.44,
          61.44,
          61.44,
          61.44,
          61.44,
          61.44,
          61.44,
          61.44,
          61.44,
          61.44,
          61.44,
          61.44,
          61.44,
          61.44,
          61.44,
          61.44,
          61.44,
          61.44,
          61.44,
          61.44,
          61.44,
          61.44,
          61.44,
          61.44,
          61.44,
          61.44,
          61.44,
          61.44,
          61.44,
          61.44,
          61.44,
          61.44,
          61.44,
          61.44,
          61.44,
          61.44,
          61.44,
          61.44,
          61.44,
          61.44,
          61.44,
          61.44,
          61.44,
          61.44,
          61.44,
          61.44,
          61.44,
          61.44,
          61.44,
          61.44,
          61.44,
          61.44,
          61.44,
          61.44,
          61.44,
          61.44,
          61.44,
          61.44,
          61.44,
          61.44,
          61.44,
          61.44,
          61.44,
          61.44,
          61.44,
          61.44,
          61.44,
          61.44,
          61.44,
          61.44,
          61.44,
          61.44,
          61.44,
          61.44,
          61.44,
          61.44,
          61.44,
          61.44,
          61.44,
          61.44,
          61.44,
          61.44,
          61.44,
          61.44,
          61.44,
          61.44,
          61.44,
          61.44,
          61.44,
          61.44,
          61.44,
          61.44,
          61.44,
          61.44,
          61.44,
          61.44,
          61.44,
          61.44,
          61.44,
          61.44,
          61.44,
          61.44,
          61.44,
          61.44,
          61.44,
          61.44,
          61.44,
          61.44,
          61.44,
          61.44,
          61.44,
          61.44,
          61.44,
          61.44,
          61.44,
          61.44,
          61.44,
          61.44,
          61.44,
          61.44,
          61.44,
          61.44,
          61.44,
          61.44,
          61.44,
          61.44,
          61.44,
          61.44,
          61.44,
          61.44,
          61.44,
          61.44,
          61.44
         ]
        }
       ],
       "layout": {
        "height": 600,
        "legend": {
         "itemsizing": "constant",
         "title": {
          "text": "M"
         },
         "tracegroupgap": 0
        },
        "template": {
         "data": {
          "bar": [
           {
            "error_x": {
             "color": "#2a3f5f"
            },
            "error_y": {
             "color": "#2a3f5f"
            },
            "marker": {
             "line": {
              "color": "#E5ECF6",
              "width": 0.5
             },
             "pattern": {
              "fillmode": "overlay",
              "size": 10,
              "solidity": 0.2
             }
            },
            "type": "bar"
           }
          ],
          "barpolar": [
           {
            "marker": {
             "line": {
              "color": "#E5ECF6",
              "width": 0.5
             },
             "pattern": {
              "fillmode": "overlay",
              "size": 10,
              "solidity": 0.2
             }
            },
            "type": "barpolar"
           }
          ],
          "carpet": [
           {
            "aaxis": {
             "endlinecolor": "#2a3f5f",
             "gridcolor": "white",
             "linecolor": "white",
             "minorgridcolor": "white",
             "startlinecolor": "#2a3f5f"
            },
            "baxis": {
             "endlinecolor": "#2a3f5f",
             "gridcolor": "white",
             "linecolor": "white",
             "minorgridcolor": "white",
             "startlinecolor": "#2a3f5f"
            },
            "type": "carpet"
           }
          ],
          "choropleth": [
           {
            "colorbar": {
             "outlinewidth": 0,
             "ticks": ""
            },
            "type": "choropleth"
           }
          ],
          "contour": [
           {
            "colorbar": {
             "outlinewidth": 0,
             "ticks": ""
            },
            "colorscale": [
             [
              0,
              "#0d0887"
             ],
             [
              0.1111111111111111,
              "#46039f"
             ],
             [
              0.2222222222222222,
              "#7201a8"
             ],
             [
              0.3333333333333333,
              "#9c179e"
             ],
             [
              0.4444444444444444,
              "#bd3786"
             ],
             [
              0.5555555555555556,
              "#d8576b"
             ],
             [
              0.6666666666666666,
              "#ed7953"
             ],
             [
              0.7777777777777778,
              "#fb9f3a"
             ],
             [
              0.8888888888888888,
              "#fdca26"
             ],
             [
              1,
              "#f0f921"
             ]
            ],
            "type": "contour"
           }
          ],
          "contourcarpet": [
           {
            "colorbar": {
             "outlinewidth": 0,
             "ticks": ""
            },
            "type": "contourcarpet"
           }
          ],
          "heatmap": [
           {
            "colorbar": {
             "outlinewidth": 0,
             "ticks": ""
            },
            "colorscale": [
             [
              0,
              "#0d0887"
             ],
             [
              0.1111111111111111,
              "#46039f"
             ],
             [
              0.2222222222222222,
              "#7201a8"
             ],
             [
              0.3333333333333333,
              "#9c179e"
             ],
             [
              0.4444444444444444,
              "#bd3786"
             ],
             [
              0.5555555555555556,
              "#d8576b"
             ],
             [
              0.6666666666666666,
              "#ed7953"
             ],
             [
              0.7777777777777778,
              "#fb9f3a"
             ],
             [
              0.8888888888888888,
              "#fdca26"
             ],
             [
              1,
              "#f0f921"
             ]
            ],
            "type": "heatmap"
           }
          ],
          "histogram": [
           {
            "marker": {
             "pattern": {
              "fillmode": "overlay",
              "size": 10,
              "solidity": 0.2
             }
            },
            "type": "histogram"
           }
          ],
          "histogram2d": [
           {
            "colorbar": {
             "outlinewidth": 0,
             "ticks": ""
            },
            "colorscale": [
             [
              0,
              "#0d0887"
             ],
             [
              0.1111111111111111,
              "#46039f"
             ],
             [
              0.2222222222222222,
              "#7201a8"
             ],
             [
              0.3333333333333333,
              "#9c179e"
             ],
             [
              0.4444444444444444,
              "#bd3786"
             ],
             [
              0.5555555555555556,
              "#d8576b"
             ],
             [
              0.6666666666666666,
              "#ed7953"
             ],
             [
              0.7777777777777778,
              "#fb9f3a"
             ],
             [
              0.8888888888888888,
              "#fdca26"
             ],
             [
              1,
              "#f0f921"
             ]
            ],
            "type": "histogram2d"
           }
          ],
          "histogram2dcontour": [
           {
            "colorbar": {
             "outlinewidth": 0,
             "ticks": ""
            },
            "colorscale": [
             [
              0,
              "#0d0887"
             ],
             [
              0.1111111111111111,
              "#46039f"
             ],
             [
              0.2222222222222222,
              "#7201a8"
             ],
             [
              0.3333333333333333,
              "#9c179e"
             ],
             [
              0.4444444444444444,
              "#bd3786"
             ],
             [
              0.5555555555555556,
              "#d8576b"
             ],
             [
              0.6666666666666666,
              "#ed7953"
             ],
             [
              0.7777777777777778,
              "#fb9f3a"
             ],
             [
              0.8888888888888888,
              "#fdca26"
             ],
             [
              1,
              "#f0f921"
             ]
            ],
            "type": "histogram2dcontour"
           }
          ],
          "mesh3d": [
           {
            "colorbar": {
             "outlinewidth": 0,
             "ticks": ""
            },
            "type": "mesh3d"
           }
          ],
          "parcoords": [
           {
            "line": {
             "colorbar": {
              "outlinewidth": 0,
              "ticks": ""
             }
            },
            "type": "parcoords"
           }
          ],
          "pie": [
           {
            "automargin": true,
            "type": "pie"
           }
          ],
          "scatter": [
           {
            "fillpattern": {
             "fillmode": "overlay",
             "size": 10,
             "solidity": 0.2
            },
            "type": "scatter"
           }
          ],
          "scatter3d": [
           {
            "line": {
             "colorbar": {
              "outlinewidth": 0,
              "ticks": ""
             }
            },
            "marker": {
             "colorbar": {
              "outlinewidth": 0,
              "ticks": ""
             }
            },
            "type": "scatter3d"
           }
          ],
          "scattercarpet": [
           {
            "marker": {
             "colorbar": {
              "outlinewidth": 0,
              "ticks": ""
             }
            },
            "type": "scattercarpet"
           }
          ],
          "scattergeo": [
           {
            "marker": {
             "colorbar": {
              "outlinewidth": 0,
              "ticks": ""
             }
            },
            "type": "scattergeo"
           }
          ],
          "scattergl": [
           {
            "marker": {
             "colorbar": {
              "outlinewidth": 0,
              "ticks": ""
             }
            },
            "type": "scattergl"
           }
          ],
          "scattermap": [
           {
            "marker": {
             "colorbar": {
              "outlinewidth": 0,
              "ticks": ""
             }
            },
            "type": "scattermap"
           }
          ],
          "scattermapbox": [
           {
            "marker": {
             "colorbar": {
              "outlinewidth": 0,
              "ticks": ""
             }
            },
            "type": "scattermapbox"
           }
          ],
          "scatterpolar": [
           {
            "marker": {
             "colorbar": {
              "outlinewidth": 0,
              "ticks": ""
             }
            },
            "type": "scatterpolar"
           }
          ],
          "scatterpolargl": [
           {
            "marker": {
             "colorbar": {
              "outlinewidth": 0,
              "ticks": ""
             }
            },
            "type": "scatterpolargl"
           }
          ],
          "scatterternary": [
           {
            "marker": {
             "colorbar": {
              "outlinewidth": 0,
              "ticks": ""
             }
            },
            "type": "scatterternary"
           }
          ],
          "surface": [
           {
            "colorbar": {
             "outlinewidth": 0,
             "ticks": ""
            },
            "colorscale": [
             [
              0,
              "#0d0887"
             ],
             [
              0.1111111111111111,
              "#46039f"
             ],
             [
              0.2222222222222222,
              "#7201a8"
             ],
             [
              0.3333333333333333,
              "#9c179e"
             ],
             [
              0.4444444444444444,
              "#bd3786"
             ],
             [
              0.5555555555555556,
              "#d8576b"
             ],
             [
              0.6666666666666666,
              "#ed7953"
             ],
             [
              0.7777777777777778,
              "#fb9f3a"
             ],
             [
              0.8888888888888888,
              "#fdca26"
             ],
             [
              1,
              "#f0f921"
             ]
            ],
            "type": "surface"
           }
          ],
          "table": [
           {
            "cells": {
             "fill": {
              "color": "#EBF0F8"
             },
             "line": {
              "color": "white"
             }
            },
            "header": {
             "fill": {
              "color": "#C8D4E3"
             },
             "line": {
              "color": "white"
             }
            },
            "type": "table"
           }
          ]
         },
         "layout": {
          "annotationdefaults": {
           "arrowcolor": "#2a3f5f",
           "arrowhead": 0,
           "arrowwidth": 1
          },
          "autotypenumbers": "strict",
          "coloraxis": {
           "colorbar": {
            "outlinewidth": 0,
            "ticks": ""
           }
          },
          "colorscale": {
           "diverging": [
            [
             0,
             "#8e0152"
            ],
            [
             0.1,
             "#c51b7d"
            ],
            [
             0.2,
             "#de77ae"
            ],
            [
             0.3,
             "#f1b6da"
            ],
            [
             0.4,
             "#fde0ef"
            ],
            [
             0.5,
             "#f7f7f7"
            ],
            [
             0.6,
             "#e6f5d0"
            ],
            [
             0.7,
             "#b8e186"
            ],
            [
             0.8,
             "#7fbc41"
            ],
            [
             0.9,
             "#4d9221"
            ],
            [
             1,
             "#276419"
            ]
           ],
           "sequential": [
            [
             0,
             "#0d0887"
            ],
            [
             0.1111111111111111,
             "#46039f"
            ],
            [
             0.2222222222222222,
             "#7201a8"
            ],
            [
             0.3333333333333333,
             "#9c179e"
            ],
            [
             0.4444444444444444,
             "#bd3786"
            ],
            [
             0.5555555555555556,
             "#d8576b"
            ],
            [
             0.6666666666666666,
             "#ed7953"
            ],
            [
             0.7777777777777778,
             "#fb9f3a"
            ],
            [
             0.8888888888888888,
             "#fdca26"
            ],
            [
             1,
             "#f0f921"
            ]
           ],
           "sequentialminus": [
            [
             0,
             "#0d0887"
            ],
            [
             0.1111111111111111,
             "#46039f"
            ],
            [
             0.2222222222222222,
             "#7201a8"
            ],
            [
             0.3333333333333333,
             "#9c179e"
            ],
            [
             0.4444444444444444,
             "#bd3786"
            ],
            [
             0.5555555555555556,
             "#d8576b"
            ],
            [
             0.6666666666666666,
             "#ed7953"
            ],
            [
             0.7777777777777778,
             "#fb9f3a"
            ],
            [
             0.8888888888888888,
             "#fdca26"
            ],
            [
             1,
             "#f0f921"
            ]
           ]
          },
          "colorway": [
           "#636efa",
           "#EF553B",
           "#00cc96",
           "#ab63fa",
           "#FFA15A",
           "#19d3f3",
           "#FF6692",
           "#B6E880",
           "#FF97FF",
           "#FECB52"
          ],
          "font": {
           "color": "#2a3f5f"
          },
          "geo": {
           "bgcolor": "white",
           "lakecolor": "white",
           "landcolor": "#E5ECF6",
           "showlakes": true,
           "showland": true,
           "subunitcolor": "white"
          },
          "hoverlabel": {
           "align": "left"
          },
          "hovermode": "closest",
          "mapbox": {
           "style": "light"
          },
          "paper_bgcolor": "white",
          "plot_bgcolor": "#E5ECF6",
          "polar": {
           "angularaxis": {
            "gridcolor": "white",
            "linecolor": "white",
            "ticks": ""
           },
           "bgcolor": "#E5ECF6",
           "radialaxis": {
            "gridcolor": "white",
            "linecolor": "white",
            "ticks": ""
           }
          },
          "scene": {
           "xaxis": {
            "backgroundcolor": "#E5ECF6",
            "gridcolor": "white",
            "gridwidth": 2,
            "linecolor": "white",
            "showbackground": true,
            "ticks": "",
            "zerolinecolor": "white"
           },
           "yaxis": {
            "backgroundcolor": "#E5ECF6",
            "gridcolor": "white",
            "gridwidth": 2,
            "linecolor": "white",
            "showbackground": true,
            "ticks": "",
            "zerolinecolor": "white"
           },
           "zaxis": {
            "backgroundcolor": "#E5ECF6",
            "gridcolor": "white",
            "gridwidth": 2,
            "linecolor": "white",
            "showbackground": true,
            "ticks": "",
            "zerolinecolor": "white"
           }
          },
          "shapedefaults": {
           "line": {
            "color": "#2a3f5f"
           }
          },
          "ternary": {
           "aaxis": {
            "gridcolor": "white",
            "linecolor": "white",
            "ticks": ""
           },
           "baxis": {
            "gridcolor": "white",
            "linecolor": "white",
            "ticks": ""
           },
           "bgcolor": "#E5ECF6",
           "caxis": {
            "gridcolor": "white",
            "linecolor": "white",
            "ticks": ""
           }
          },
          "title": {
           "x": 0.05
          },
          "xaxis": {
           "automargin": true,
           "gridcolor": "white",
           "linecolor": "white",
           "ticks": "",
           "title": {
            "standoff": 15
           },
           "zerolinecolor": "white",
           "zerolinewidth": 2
          },
          "yaxis": {
           "automargin": true,
           "gridcolor": "white",
           "linecolor": "white",
           "ticks": "",
           "title": {
            "standoff": 15
           },
           "zerolinecolor": "white",
           "zerolinewidth": 2
          }
         }
        },
        "title": {
         "text": "AMD RX 7900 XTX Roofline Analysis"
        },
        "xaxis": {
         "anchor": "y",
         "domain": [
          0,
          1
         ],
         "title": {
          "text": "Operational Intensity (TFLOPs/GB/s)"
         },
         "type": "log"
        },
        "yaxis": {
         "anchor": "x",
         "domain": [
          0,
          1
         ],
         "title": {
          "text": "Performance (TFLOPs)"
         },
         "type": "log"
        }
       }
      },
      "image/png": "[encoded data removed]"
     },
     "metadata": {},
     "output_type": "display_data"
    }
   ],
   "source": [
    "fig.show()"
   ]
  },
  {
   "cell_type": "markdown",
   "id": "ff6f5c72-0b54-4b31-93c1-30f624c7ad13",
   "metadata": {},
   "source": [
    "# Simple GEMM sweep fp32\n",
    "\n",
    "This sweep is defined as \n",
    "\n",
    "> - Datatype `fp32`\n",
    "> - For `M,N,K` use `N=K` for powers of 2 from 64 to 16384\n",
    "> - `M=1,2,4,...,256`\n",
    "> - Select the best results\n",
    "\n",
    "\n",
    "Some of the profile jobs did not produce any data. Hence only 6 series in the plot"
   ]
  },
  {
   "cell_type": "code",
   "execution_count": 41,
   "id": "51640255-71cb-434c-a23e-8b267195e0bb",
   "metadata": {},
   "outputs": [],
   "source": [
    "fp32_df = load_gemm_data(\"gemm_scan_results_fp32\")\n",
    "fp32_df = calculate_metrics(fp32_df)\n",
    "fig = generate_roofline_plot(fp32_df, roofline, 61.44, 960)"
   ]
  },
  {
   "cell_type": "code",
   "execution_count": 42,
   "id": "8d3b094f-d4ed-4e84-b449-81bee2c2337f",
   "metadata": {},
   "outputs": [
    {
     "data": {
      "application/vnd.plotly.v1+json": {
       "config": {
        "plotlyServerURL": "https://plot.ly"
       },
       "data": [
        {
         "customdata": [
          [
           0.3344144135649658,
           0.111833,
           "8",
           2048,
           2048
          ],
          [
           0.1477738136477502,
           0.0218371,
           "8",
           256,
           256
          ],
          [
           0.11483509916397512,
           0.0131871,
           "8",
           128,
           128
          ],
          [
           1.1943240766224217,
           1.42641,
           "8",
           16384,
           16384
          ],
          [
           0.19283775563929384,
           0.0371864,
           "8",
           512,
           512
          ],
          [
           0.4620898181089906,
           0.213527,
           "8",
           4096,
           4096
          ],
          [
           0.2162880024411895,
           0.0467805,
           "8",
           1024,
           1024
          ],
          [
           0.10206517525581388,
           0.0104173,
           "8",
           64,
           64
          ],
          [
           0.5809483625934408,
           0.337501,
           "8",
           8192,
           8192
          ]
         ],
         "hovertemplate": "M=%{customdata[2]}<br>Operational Intensity (TFLOPs/GB/s)=%{x}<br>Performance (TFLOPs)=%{y}<br>Execution Time (ms)=%{customdata[1]}<br>N=%{customdata[3]}<br>K=%{customdata[4]}<extra></extra>",
         "legendgroup": "8",
         "marker": {
          "color": "#3366CC",
          "size": {
           "bdata": "nKRktgtn1T+nQGmYQOrCP8WZV0PVZb0//rIekPMb8z+00PNW6K7IP9nuJSzhkt0/EESARFOvyz88w8h98SC6P1AdQAUhl+I/",
           "dtype": "f8"
          },
          "sizemode": "area",
          "sizeref": 0.009107860615973436,
          "symbol": "circle"
         },
         "mode": "markers",
         "name": "8",
         "orientation": "v",
         "showlegend": true,
         "type": "scatter",
         "x": {
          "bdata": "8vtPsMhBcD97rBKHLtduPwq93QSFIG0/Wi+jAzVecD/CWMhZY8ZvP6roTxT5UXA/rxxOmcchcD8kyjKk3zZqPwaguq4gWnA/",
          "dtype": "f8"
         },
         "xaxis": "x",
         "y": {
          "bdata": "OIYA4Ngz4z8+vzlt15WoP3hIjPkUW5Q/LZW3I5wWCECae0j43t+8P5OpglFJHfQ/4qyImujz1j9vlVCPp8R5P6Tfvg6ccwlA",
          "dtype": "f8"
         },
         "yaxis": "y"
        },
        {
         "customdata": [
          [
           0.11606722190179276,
           0.0134716,
           "16",
           128,
           128
          ],
          [
           1.177769077536,
           1.38714,
           "16",
           16384,
           16384
          ],
          [
           0.1976919320559137,
           0.0390821,
           "16",
           512,
           512
          ],
          [
           0.260608518663531,
           0.0679168,
           "16",
           2048,
           2048
          ],
          [
           0.21278275306048655,
           0.0452765,
           "16",
           1024,
           1024
          ],
          [
           0.10186019831121476,
           0.0103755,
           "16",
           64,
           64
          ],
          [
           0.3642444234302016,
           0.132674,
           "16",
           4096,
           4096
          ],
          [
           0.14893320650546674,
           0.0221811,
           "16",
           256,
           256
          ],
          [
           0.6410639593675502,
           0.410963,
           "16",
           8192,
           8192
          ]
         ],
         "hovertemplate": "M=%{customdata[2]}<br>Operational Intensity (TFLOPs/GB/s)=%{x}<br>Performance (TFLOPs)=%{y}<br>Execution Time (ms)=%{customdata[1]}<br>N=%{customdata[3]}<br>K=%{customdata[4]}<extra></extra>",
         "legendgroup": "16",
         "marker": {
          "color": "#DC3912",
          "size": {
           "bdata": "qa002pS2vT+GHWRjJNjyP3N9bh/4Tck//QEuWs+t0D/cGMYadzzLP/q/goyCE7o/lISY18dP1z/JXJ1JPhDDP8QXhJCYg+Q/",
           "dtype": "f8"
          },
          "sizemode": "area",
          "sizeref": 0.009107860615973436,
          "symbol": "circle"
         },
         "mode": "markers",
         "name": "16",
         "orientation": "v",
         "showlegend": true,
         "type": "scatter",
         "x": {
          "bdata": "CH3g+eA2ej9Av0flIFqAPzPJZqIp134/KVn+3cYhgD8rpteuZsZ/P6Xi7MNn2HU/Qe79HMlBgD/xeNtQhiB9P+dhYnL7UYA/",
          "dtype": "f8"
         },
         "xaxis": "x",
         "y": {
          "bdata": "9uVxvRLtoz/a/pWVJsUYQPW7sDVbecs/WHOAYI6e/z9lGeJYF7fnPwDz2rY534k/5IOezaovEEBlVu9wOzS4P9dMvtnm5hRA",
          "dtype": "f8"
         },
         "yaxis": "y"
        },
        {
         "customdata": [
          [
           0.22611634173584183,
           0.0511286,
           "32",
           1024,
           1024
          ],
          [
           0.2640774507601889,
           0.0697369,
           "32",
           2048,
           2048
          ],
          [
           1.7240417628352278,
           2.97232,
           "32",
           16384,
           16384
          ],
          [
           0.1481630858209966,
           0.0219523,
           "32",
           256,
           256
          ],
          [
           0.5223207826613833,
           0.272819,
           "32",
           4096,
           4096
          ],
          [
           0.10284308435670335,
           0.0105767,
           "32",
           64,
           64
          ],
          [
           0.20012271235419532,
           0.0400491,
           "32",
           512,
           512
          ],
          [
           0.11614732024459282,
           0.0134902,
           "32",
           128,
           128
          ],
          [
           0.7541558194431706,
           0.568751,
           "32",
           8192,
           8192
          ]
         ],
         "hovertemplate": "M=%{customdata[2]}<br>Operational Intensity (TFLOPs/GB/s)=%{x}<br>Performance (TFLOPs)=%{y}<br>Execution Time (ms)=%{customdata[1]}<br>N=%{customdata[3]}<br>K=%{customdata[4]}<extra></extra>",
         "legendgroup": "32",
         "marker": {
          "color": "#FF9900",
          "size": {
           "bdata": "aF1sWmHxzD9lEagbpebQP0EMxdCslfs/+a0JDAL3wj8PqPES2rbgPxuL7qPsU7o/OMFf/J6dyT/e8/et1Lu9P4QWk2ILIug/",
           "dtype": "f8"
          },
          "sizemode": "area",
          "sizeref": 0.009107860615973436,
          "symbol": "circle"
         },
         "mode": "markers",
         "name": "32",
         "orientation": "v",
         "showlegend": true,
         "type": "scatter",
         "x": {
          "bdata": "t4y7nynXjj8ivkUCZ8aPPzEuydP7UZA/mkRhCOk2ij/brVlOySGQP+OCkI5PYoA/9FZ9dIogjT80C4iAaNiFP/rsNljKQZA/",
          "dtype": "f8"
         },
         "xaxis": "x",
         "y": {
          "bdata": "OdbFbTQA9T9eaK7TSMsOQJEPejarHhdAv4I0Y9F0yD+xFp8CYHwPQHC2uTE9YZk/eEKvP4nP2j+VZvM4DOazP7+CNGPRNB5A",
          "dtype": "f8"
         },
         "yaxis": "y"
        },
        {
         "customdata": [
          [
           0.1152414855857039,
           0.0132806,
           "64",
           128,
           128
          ],
          [
           1.9669722926365791,
           3.86898,
           "64",
           16384,
           16384
          ],
          [
           0.18404455982179968,
           0.0338724,
           "64",
           1024,
           1024
          ],
          [
           1.1859215825677514,
           1.40641,
           "64",
           8192,
           8192
          ],
          [
           0.12319172050101419,
           0.0151762,
           "64",
           256,
           256
          ],
          [
           0.1022961387345583,
           0.0104645,
           "64",
           64,
           64
          ],
          [
           0.5109784731277826,
           0.261099,
           "64",
           4096,
           4096
          ],
          [
           0.30488866820529753,
           0.0929571,
           "64",
           2048,
           2048
          ],
          [
           0.1375943312785814,
           0.0189322,
           "64",
           512,
           512
          ]
         ],
         "hovertemplate": "M=%{customdata[2]}<br>Operational Intensity (TFLOPs/GB/s)=%{x}<br>Performance (TFLOPs)=%{y}<br>Execution Time (ms)=%{customdata[1]}<br>N=%{customdata[3]}<br>K=%{customdata[4]}<extra></extra>",
         "legendgroup": "64",
         "marker": {
          "color": "#109618",
          "size": {
           "bdata": "aKm7S3eAvT8sMlDwt3j/PwB+uKrFjsc/IvzL6Ij58j+dmLAafom/P9U7X2oUMLo/JWfhhu9Z4D9DN7fCS4PTP35ueuiwnME/",
           "dtype": "f8"
          },
          "sizemode": "area",
          "sizeref": 0.009107860615973436,
          "symbol": "circle"
         },
         "mode": "markers",
         "name": "64",
         "orientation": "v",
         "showlegend": true,
         "type": "scatter",
         "x": {
          "bdata": "DOl7FlFikD+F74R1yUGgP1Bbe7+IIJ0/2Rcf6MchoD+JKQE4a9iVP4RhjG5m2IU/o/GmoWjGnz/DGY5qJdeePxMtVfHlNpo/",
          "dtype": "f8"
         },
         "xaxis": "x",
         "y": {
          "bdata": "jq7S3XU2xD9QU8vW+sIhQBdIUPwYsw9AA8+9h0tuGEC2vd2SHLDhP90J9l/npqk/F0hQ/BhzIEDSHcTOFBoXQLMMcayLW/w/",
          "dtype": "f8"
         },
         "yaxis": "y"
        },
        {
         "customdata": [
          [
           0.7881389471406676,
           0.621163,
           "128",
           4096,
           4096
          ],
          [
           2.6508055379450224,
           7.02677,
           "128",
           16384,
           16384
          ],
          [
           0.21230308523429423,
           0.0450726,
           "128",
           1024,
           1024
          ],
          [
           1.4076647328110483,
           1.98152,
           "128",
           8192,
           8192
          ],
          [
           0.1018778680577877,
           0.0103791,
           "128",
           64,
           64
          ],
          [
           0.13708464538379198,
           0.0187922,
           "128",
           512,
           512
          ],
          [
           0.10649037515193568,
           0.0113402,
           "128",
           256,
           256
          ],
          [
           0.09867167780067389,
           0.0097361,
           "128",
           128,
           128
          ],
          [
           0.36007915796391216,
           0.129657,
           "128",
           2048,
           2048
          ]
         ],
         "hovertemplate": "M=%{customdata[2]}<br>Operational Intensity (TFLOPs/GB/s)=%{x}<br>Performance (TFLOPs)=%{y}<br>Execution Time (ms)=%{customdata[1]}<br>N=%{customdata[3]}<br>K=%{customdata[4]}<extra></extra>",
         "legendgroup": "128",
         "marker": {
          "color": "#990099",
          "size": {
           "bdata": "i4lVK2846T+JPKyI2TQFQLHp9Vu/LMs/Gn9ydMuF9j8UkX7/qhS6P7GDWlr9i8E/HsidBvRCuz8JAjINjEK5PzNH23OJC9c/",
           "dtype": "f8"
          },
          "sizemode": "area",
          "sizeref": 0.009107860615973436,
          "symbol": "circle"
         },
         "mode": "markers",
         "name": "128",
         "orientation": "v",
         "showlegend": true,
         "type": "scatter",
         "x": {
          "bdata": "Hwf8ZyPXrj9TJrBvxiGwP9OPo4jeNqo/h8qGGmrGrz+ZUv8p2zaKP/gzWQRn2KU/5+3Qb1BioD8va6T8Z9iVP+LvUsqJIK0/",
          "dtype": "f8"
         },
         "xaxis": "x",
         "y": {
          "bdata": "Yygn2lWoG0A6WP/nMI8jQDSdnQyO0hdALLe0GhJXIUByUwPN59y5P/32deCckQxAQBNhw9Or9z95kQn4NZLbP6smiLoPkCBA",
          "dtype": "f8"
         },
         "yaxis": "y"
        },
        {
         "customdata": [
          [
           0.10201813564263955,
           0.0104077,
           "256",
           64,
           64
          ],
          [
           3.643144246389374,
           13.2725,
           "256",
           16384,
           16384
          ],
          [
           0.15797563103213103,
           0.0249563,
           "256",
           512,
           512
          ],
          [
           0.10837019885558945,
           0.0117441,
           "256",
           256,
           256
          ],
          [
           0.5623522028053238,
           0.31624,
           "256",
           2048,
           2048
          ],
          [
           0.08756768810468847,
           0.0076681,
           "256",
           128,
           128
          ],
          [
           1.9383549726507783,
           3.75722,
           "256",
           8192,
           8192
          ],
          [
           0.9858640879959063,
           0.971928,
           "256",
           4096,
           4096
          ],
          [
           0.25308654646187734,
           0.0640528,
           "256",
           1024,
           1024
          ]
         ],
         "hovertemplate": "M=%{customdata[2]}<br>Operational Intensity (TFLOPs/GB/s)=%{x}<br>Performance (TFLOPs)=%{y}<br>Execution Time (ms)=%{customdata[1]}<br>N=%{customdata[3]}<br>K=%{customdata[4]}<extra></extra>",
         "legendgroup": "256",
         "marker": {
          "color": "#0099C6",
          "size": {
           "bdata": "gxwvTNwduj/M0obPKCUNQCKKbKSLOMQ/Mx7yOya+uz/UPPwLyv7hPy2RmATWarY/YS/5gIAD/z/7yAfYMozvP1IgB+qRMtA/",
           "dtype": "f8"
          },
          "sizemode": "area",
          "sizeref": 0.009107860615973436,
          "symbol": "circle"
         },
         "mode": "markers",
         "name": "256",
         "orientation": "v",
         "showlegend": true,
         "type": "scatter",
         "x": {
          "bdata": "c0q3JIYgjT9ktomBa8a/P6MYuWxNYrA/M0tobmfYpT8HKRbP4za6P32ykGbfNpo/+Q70tyrXvj+OoRkCiiC9PwSukL1m2LU/",
          "dtype": "f8"
         },
         "xaxis": "x",
         "y": {
          "bdata": "mG4Sg8DKyT8SFD/G3LUkQIkpkUQvgxVAJV0z+WbbBkC2Z5YEqCkbQFQdcjPcgPE/fH4YITxKIkDMejGUE60hQKVrJt9swyBA",
          "dtype": "f8"
         },
         "yaxis": "y"
        },
        {
         "line": {
          "color": "tomato",
          "width": 1
         },
         "mode": "lines",
         "name": "Theoretical Roofline",
         "opacity": 0.45,
         "type": "scatter",
         "x": [
          0.000630957344480193,
          0.0006403432349044165,
          0.0006498687463978393,
          0.0006595359559123637,
          0.000669346971295866,
          0.0006793039317517976,
          0.0006894090083056164,
          0.0006996644042781601,
          0.0007100723557660607,
          0.0007206351321293053,
          0.0007313550364860471,
          0.0007422344062147839,
          0.0007532756134639995,
          0.0007644810656693899,
          0.0007758532060787836,
          0.0007873945142848672,
          0.000799107506765842,
          0.0008109947374341176,
          0.0008230587981931686,
          0.0008353023195026779,
          0.0008477279709520809,
          0.0008603384618426507,
          0.0008731365417782328,
          0.0008861250012647729,
          0.0008993066723187614,
          0.0009126844290847301,
          0.0009262611884619294,
          0.0009400399107403378,
          0.0009540236002461228,
          0.0009682153059967076,
          0.0009826181223655834,
          0.0009972351897570052,
          0.0010120696952907351,
          0.0010271248734969607,
          0.0010424040070215557,
          0.001057910427341834,
          0.0010736475154929422,
          0.001089618702805071,
          0.0011058274716516216,
          0.0011222773562085072,
          0.0011389719432247471,
          0.0011559148728045273,
          0.0011731098392008875,
          0.0011905605916212258,
          0.001208270935044776,
          0.0012262447310522496,
          0.001244485898667819,
          0.0012629984152136265,
          0.0012817863171769978,
          0.0013008537010905706,
          0.0013202047244255004,
          0.001339843606497962,
          0.0013597746293891328,
          0.001380002138878859,
          0.0014005305453932196,
          0.0014213643249661768,
          0.001442508020215534,
          0.0014639662413334156,
          0.001485743667091472,
          0.0015078450458610511,
          0.0015302751966485332,
          0.001553039010146073,
          0.0015761414497979728,
          0.0015995875528829093,
          0.001623382431612278,
          0.0016475312742448575,
          0.0016720393462180635,
          0.0016969119912960313,
          0.001722154632734777,
          0.0017477727744646808,
          0.0017737720022905825,
          0.0018001579851097073,
          0.001826936476147719,
          0.001854113314213161,
          0.0018816944249705557,
          0.0019096858222324353,
          0.001938093609270612,
          0.0019669239801469317,
          0.0019961832210638364,
          0.002025877711735017,
          0.002056013926776442,
          0.0020865984371181024,
          0.0021176379114367363,
          0.002149139117609875,
          0.00218110892419152,
          0.0022135543019097597,
          0.0022464823251866894,
          0.0022799001736809135,
          0.0023138151338530093,
          0.0023482346005542763,
          0.002383166078639107,
          0.002418617184601366,
          0.002454595648235091,
          0.0024911093143199043,
          0.0025281661443315004,
          0.0025657742181775635,
          0.0026039417359595336,
          0.002642677019760554,
          0.00268198851546003,
          0.002721884794575177,
          0.002762374556129961,
          0.002803466628551846,
          0.002845169971596743,
          0.002887493678302619,
          0.0029304469769721414,
          0.0029740392331848286,
          0.003018279951839135,
          0.003063178779224893,
          0.0031087455051266215,
          0.0031549900649580852,
          0.003201922541928626,
          0.0032495531692417197,
          0.0032978923323262192,
          0.0033469505711008255,
          0.003396738582272206,
          0.003447267221667321,
          0.003498547506600441,
          0.0035505906182753586,
          0.00360340790422337,
          0.0036570108807774896,
          0.0037114112355834837,
          0.0037666208301482627,
          0.003822651702426157,
          0.0038795160694437116,
          0.0039372263299634795,
          0.0039957950671874656,
          0.004055235051500786,
          0.004115559243256111,
          0.004176780795599602,
          0.004238913057338779,
          0.0043019695758531465,
          0.004365964100048068,
          0.004430910583352584,
          0.0044968231867618435,
          0.0045637162819247585,
          0.004631604454277644,
          0.004700502506224419,
          0.004770425460364142,
          0.004841388562766562,
          0.0049134072862963615,
          0.00498649733398691,
          0.005060674642464144,
          0.005135955385421413,
          0.0052123559771460135,
          0.005289893076098151,
          0.0053685835885432034,
          0.005448444672237955,
          0.005529493740171698,
          0.005611748464362984,
          0.005695226779712825,
          0.005779946887915268,
          0.005865927261426091,
          0.005953186647490561,
          0.006041744072231109,
          0.006131618844795769,
          0.0062228305615684345,
          0.006315399110441589,
          0.006409344675152745,
          0.0065046877396853055,
          0.006601449092734883,
          0.006699649832242161,
          0.006799311369993016,
          0.006900455436287239,
          0.007003104084676595,
          0.007107279696773412,
          0.007213004987130694,
          0.007320303008194797,
          0.007429197155331848,
          0.0075397111719288715,
          0.0076518691545708175,
          0.007765695558294623,
          0.007881215201921364,
          0.007998453273467872,
          0.008117435335638632,
          0.008238187331399601,
          0.00836073558963479,
          0.00848510683088702,
          0.008611328173184178,
          0.008739427137951951,
          0.008869431656014705,
          0.009001370073685523,
          0.009135271158946832,
          0.009271164107723088,
          0.00940907855024657,
          0.009549044557518078,
          0.009691092647863608,
          0.009835253793588562,
          0.009981559427731086,
          0.010130041450915617,
          0.010280732238308648,
          0.010433664646677783,
          0.010588872021555857,
          0.010746388204511658,
          0.010906247540528761,
          0.011068484885494119,
          0.01123313561379812,
          0.011400235626047623,
          0.011569821356893762,
          0.011741929782976206,
          0.011916598430985588,
          0.012093865385845823,
          0.012273769299018238,
          0.012456349396929118,
          0.012641645489522726,
          0.012829697978941476,
          0.013020547868335236,
          0.013214236770801744,
          0.013410806918459939,
          0.013610301171658278,
          0.013812763028320095,
          0.014018236633427876,
          0.014226766788648725,
          0.01443839896210294,
          0.014653179298277906,
          0.01487115462808953,
          0.015092372479093273,
          0.015316881085847089,
          0.015544729400428583,
          0.01577596710310851,
          0.01601064461318317,
          0.016248813099967847,
          0.016490524493953804,
          0.0167358314981313,
          0.016984787599480973,
          0.01723744708063619,
          0.017493865031718906,
          0.017754097362351565,
          0.018018200813847654,
          0.018286232971583705,
          0.018558252277555178,
          0.0188343180431193,
          0.019114490461927317,
          0.01939883062304917,
          0.01968740052429346,
          0.019980263085725498,
          0.0202774821633864,
          0.020579122563216427,
          0.020885250055185225,
          0.021195931387632462,
          0.021511234301821662,
          0.021831227546710553,
          0.02215598089394122,
          0.022485565153053135,
          0.02282005218692254,
          0.023159514927431533,
          0.023504027391370152,
          0.023853664696575138,
          0.024208503078308654,
          0.02456861990588069,
          0.024934093699518777,
          0.025305004147488624,
          0.025681432123469343,
          0.026063459704187348,
          0.02645117018731232,
          0.026844648109619625,
          0.027243979265422734,
          0.027649250725279878,
          0.028060550854979063,
          0.028477969334805415,
          0.028901597179095087,
          0.02933152675608022,
          0.029767851808028958,
          0.03021066747168505,
          0.030660070299011674,
          0.0311161582782436,
          0.03157903085525274,
          0.032048788955231375,
          0.03252553500469797,
          0.0330093729538304,
          0.033500408299131326,
          0.033998748106430714,
          0.034504501034230674,
          0.035017777357397334,
          0.035538688991205415,
          0.03606734951574028,
          0.036603874200662995,
          0.03714838003034395,
          0.037700985729370216,
          0.038261811788432264,
          0.03883098049059605,
          0.03940861593796556,
          0.0399948440787423,
          0.040589792734687095,
          0.04119359162899044,
          0.041806372414557556,
          0.04242826870271408,
          0.043059416092338744,
          0.04369995219942964,
          0.04435001668710996,
          0.04500975129608044,
          0.045679299875524604,
          0.04635880841447367,
          0.04704842507363831,
          0.04774830021771365,
          0.048458586448164934,
          0.04917943863650096,
          0.049911013958042406,
          0.05065347192619239,
          0.05140697442721711,
          0.052171685755543463,
          0.052947772649582184,
          0.05373540432808354,
          0.05453475252703389,
          0.05534599153710131,
          0.05616929824163807,
          0.057004852155248295,
          0.057852835462929776,
          0.058713433059797496,
          0.059586832591398534,
          0.06047322449462646,
          0.061372802039244216,
          0.062285761370025075,
          0.06321230154952014,
          0.06415262460146202,
          0.06510693555481455,
          0.06607544248847724,
          0.06705835657665525,
          0.06805589213490368,
          0.06906826666685753,
          0.07009570091165618,
          0.07113841889207363,
          0.07219664796336471,
          0.07327061886283753,
          0.07436056576016416,
          0.07546672630843887,
          0.07658934169599635,
          0.07772865669900064,
          0.07888491973481646,
          0.08005838291617402,
          0.08124930210614047,
          0.08245793697390816,
          0.08368455105141323,
          0.08492941179079656,
          0.08619279062271884,
          0.08747496301554415,
          0.08877620853540302,
          0.09009681090714934,
          0.09143705807622417,
          0.09279724227143918,
          0.09417766006869518,
          0.09557861245564737,
          0.09700040489733308,
          0.09844334740277572,
          0.09990775459257947,
          0.10139394576752918,
          0.10290224497821149,
          0.10443298109567087,
          0.105986487883117,
          0.10756310406869898,
          0.10916317341936148,
          0.11078704481580069,
          0.11243507232853421,
          0.114107615295103,
          0.11580503839842167,
          0.11752771174629452,
          0.1192760109521136,
          0.12105031721675866,
          0.122851017411714,
          0.1246785041634225,
          0.1265331759388943,
          0.12841543713258854,
          0.1303256981545887,
          0.13226437552008816,
          0.13423189194020785,
          0.13622867641416467,
          0.13825516432281043,
          0.14031179752356343,
          0.142399024446751,
          0.14451730019338585,
          0.1466670866343967,
          0.14884885251133523,
          0.15106307353858037,
          0.15331023250706438,
          0.15559081938954056,
          0.15790533144741742,
          0.1602542733391823,
          0.16263815723043692,
          0.16505750290557142,
          0.16751283788109808,
          0.17000469752067163,
          0.1725336251518207,
          0.1751001721844147,
          0.17770489823089497,
          0.18034837122829236,
          0.18303116756206111,
          0.18575387219175438,
          0.18851707877856966,
          0.1913213898147904,
          0.1941674167551554,
          0.19705578015017983,
          0.1999871097814613,
          0.202962044798998,
          0.20598123386054876,
          0.20904533527306848,
          0.21215501713624502,
          0.2153109574881725,
          0.21851384445319152,
          0.2217643763919286,
          0.2250632620535666,
          0.22841122073038234,
          0.23180898241458092,
          0.23525728795746426,
          0.23875688923096716,
          0.24230854929159534,
          0.2459130425468044,
          0.2495711549238514,
          0.2532836840411596,
          0.257051439382232,
          0.2608752424721512,
          0.26475592705670664,
          0.26869433928418485,
          0.2726913378898642,
          0.27674779438325475,
          0.2808645932381233,
          0.2850426320853435,
          0.28928282190861804,
          0.2935860872431096,
          0.2979533663770271,
          0.30238561155621174,
          0.30688378919176423,
          0.31144888007076393,
          0.31608187957011924,
          0.3207837978736011,
          0.3255556601921043,
          0.3303985069871858,
          0.3353133941979267,
          0.3403013934711724,
          0.34536359239519365,
          0.35050109473682656,
          0.3557150206821386,
          0.36100650708067394,
          0.3663767076933356,
          0.3718267934439506,
          0.3773579526745804,
          0.3829713914046281,
          0.38866833359379865,
          0.39445002140897467,
          0.4003177154950579,
          0.40627269524984233,
          0.4123162591029748,
          0.4184497247990667,
          0.42467442968501457,
          0.43099173100159865,
          0.437403006179416,
          0.44390965313921665,
          0.4505130905967084,
          0.457214758371893,
          0.46401611770300877,
          0.47091865156513857,
          0.4779238649935595,
          0.48503328541190244,
          0.49224846296519337,
          0.4995709708578466,
          0.5070024056966907,
          0.5145443878390924,
          0.5221985617462613,
          0.5299665963418103,
          0.5378501853756472,
          0.545851047793285,
          0.5539709281106401,
          0.5622115967944088,
          0.5705748506481026,
          0.5790625132038222,
          0.5876764351198657,
          0.596418494584246,
          0.6052905977242131,
          0.6142946790218682,
          0.6234327017359601,
          0.6327066583299547,
          0.6421185709064758,
          0.6516704916482057,
          0.6613645032653442,
          0.6712027194497265,
          0.6811872853356915,
          0.6913203779678128,
          0.7016042067755814,
          0.7120410140551527,
          0.722633075458259,
          0.7333827004883925,
          0.7442922330043759,
          0.7553640517314165,
          0.7666005707797673,
          0.7780042401711011,
          0.789577546372717,
          0.8013230128396887,
          0.8132432005650857,
          0.8253407086383725,
          0.8376181748121161,
          0.8500782760771264,
          0.862723729246145,
          0.8755572915462285,
          0.888581761219932,
          0.9017999781354427,
          0.9152148244057868,
          0.9288292250172498,
          0.9426461484671392,
          0.9566686074110443,
          0.9708996593197148,
          0.985342407145716,
          1
         ],
         "y": [
          0.6057190507009853,
          0.6147295055082398,
          0.6238739965419258,
          0.6331545176758692,
          0.6425730924440314,
          0.6521317744817257,
          0.6618326479733917,
          0.6716778281070337,
          0.6816694615354182,
          0.6918097268441331,
          0.7021008350266053,
          0.7125450299661925,
          0.7231445889254395,
          0.7339018230426143,
          0.7448190778356322,
          0.7558987337134725,
          0.7671432064952084,
          0.7785549479367528,
          0.7901364462654418,
          0.8018902267225708,
          0.8138188521139977,
          0.8259249233689446,
          0.8382110801071034,
          0.850680001214182,
          0.8633344054260109,
          0.8761770519213409,
          0.8892107409234522,
          0.9024383143107243,
          0.9158626562362779,
          0.9294866937568393,
          0.94331339747096,
          0.9573457821667251,
          0.9715869074791057,
          0.9860398785570822,
          1.0007078467406934,
          1.0155940102481607,
          1.0307016148732244,
          1.046033954692868,
          1.0615943727855568,
          1.0773862619601668,
          1.0934130654957572,
          1.1096782778923462,
          1.126185445632852,
          1.1429381679563768,
          1.159940097642985,
          1.1771949418101597,
          1.1947064627211064,
          1.2124784786050815,
          1.230514864489918,
          1.2488195530469477,
          1.2673965354484804,
          1.2862498622380434,
          1.3053836442135676,
          1.3248020533237046,
          1.3445093235774908,
          1.3645097519675298,
          1.3848076994069127,
          1.405407591680079,
          1.426313920407813,
          1.447531244026609,
          1.469064188782592,
          1.49091744974023,
          1.513095791806054,
          1.535604050767593,
          1.558447134347787,
          1.5816300232750633,
          1.6051577723693409,
          1.6290355116441901,
          1.6532684474253858,
          1.6778618634860936,
          1.702821122198959,
          1.728151665705319,
          1.7538590171018102,
          1.7799487816446347,
          1.8064266479717335,
          1.8332983893431378,
          1.8605698648997875,
          1.8882470209410545,
          1.916335892221283,
          1.9448426032656163,
          1.973773369705384,
          2.0031344996333784,
          2.032932394979267,
          2.06317355290548,
          2.093864567223859,
          2.1250121298333693,
          2.1566230321792217,
          2.188704166733677,
          2.221262528498889,
          2.254305216532105,
          2.2878394354935425,
          2.3218724972173113,
          2.356411822305687,
          2.3914649417471083,
          2.42703949855824,
          2.463143249450461,
          2.499784066521152,
          2.536969938970132,
          2.5747089748416285,
          2.6130094027921698,
          2.6518795738847625,
          2.691327963409772,
          2.7313631727328733,
          2.771993931170514,
          2.813229097893256,
          2.8550776638574353,
          2.8975487537655695,
          2.9406516280558974,
          2.9843956849215565,
          3.028790462359762,
          3.073845640251481,
          3.119571042472051,
          3.1659766390331705,
          3.2130725482567923,
          3.2608690389813177,
          3.3093765328006284,
          3.3586056063364236,
          3.408566993544344,
          3.459271588054435,
          3.51073044554639,
          3.5629547861601445,
          3.6159559969423323,
          3.669745634329111,
          3.724335426665963,
          3.77973727676494,
          3.835963264499967,
          3.8930256494407547,
          3.9509368735258663,
          4.009709563775618,
          4.069356535045228,
          4.129890792819021,
          4.191325536046145,
          4.25367416001848,
          4.31695025929137,
          4.381167630647768,
          4.446340276106539,
          4.512482405975442,
          4.579608441949576,
          4.6477330202559,
          4.716870994844507,
          4.787037440627433,
          4.858247656765578,
          4.930517170004556,
          5.003861738060173,
          5.078297353054225,
          5.153840245001476,
          5.230506885348436,
          5.30831399056483,
          5.3872785257884654,
          5.467417708524312,
          5.548749012398657,
          5.631290170969047,
          5.715059181590939,
          5.8000743093418645,
          5.8863540910039385,
          5.973917339105697,
          6.062783146023926,
          6.152970888146635,
          6.244500230097893,
          6.337391129025487,
          6.431663838952474,
          6.527338915193296,
          6.624437218835749,
          6.722979921289531,
          6.822988508902475,
          6.924484787645467,
          7.027490887867005,
          7.132029269118575,
          7.238122725051717,
          7.345794388387985,
          7.455067735962838,
          7.565966593844509,
          7.678515142529157,
          7.792737922213087,
          7.908659838143618,
          8.026306166049398,
          8.14570255765154,
          8.26687504625681,
          8.389850052433873,
          8.514654389774117,
          8.641315270738103,
          8.769860312588959,
          8.900317543414165,
          9.032715408236708,
          9.167082775217356,
          9.303448941949064,
          9.441843641845018,
          9.582297050621843,
          9.724839792878992,
          9.869502948776303,
          10.016318060810672,
          10.165317140693622,
          10.316532676331192,
          10.46999763890761,
          10.625745490074355,
          10.783810189246195,
          10.94422620100572,
          11.107028502618011,
          11.272252591657159,
          11.439934493746165,
          11.610110770411989,
          11.782818527057508,
          11.958095421051954,
          12.135979669941817,
          12.316510059783816,
          12.499725953601827,
          12.685667299969674,
          12.874374641721541,
          13.065889124791946,
          13.26025250718729,
          13.45750716809076,
          13.657696117102775,
          13.860863003618823,
          14.06705212634679,
          14.276308442965949,
          14.488677579929542,
          14.704205842413206,
          14.92294022441144,
          15.144928418984168,
          15.370218828655842,
          15.598860575969134,
          15.830903514195652,
          16.066398238206048,
          16.305396095501735,
          16.547949197410745,
          16.79411043045015,
          17.043933467857503,
          17.29747278129375,
          17.554783652720356,
          17.81592218645297,
          18.080945321394527,
          18.349910843450225,
          18.622877398127205,
          18.89990450332172,
          19.18105256229648,
          19.466382876850943,
          19.75595766068777,
          20.049840052977817,
          20.348094132127162,
          20.650784929748795,
          20.95797844484213,
          21.26974165818357,
          21.58614254693101,
          21.90725009944564,
          22.233134330334273,
          22.563866295715346,
          22.899518108712133,
          23.24016295517631,
          23.585875109645464,
          23.936729951538027,
          24.29280398158908,
          24.65417483853057,
          25.020921316019855,
          25.39312337981983,
          25.77086218523484,
          26.154220094805826,
          26.54328069626868,
          26.9381288207799,
          27.3388505614132,
          27.745533291931284,
          28.158265685837012,
          28.5771377357078,
          29.002240772817647,
          29.433667487051206,
          29.871511947113856,
          30.31586962104263,
          30.76683739702212,
          31.224513604510054,
          31.688998035677184,
          32.16039196716607,
          32.63879818217349,
          33.12432099286145,
          33.61706626310144,
          34.1171414315572,
          34.62465553511067,
          35.13971923263647,
          35.662444829130195,
          36.19294630019541,
          36.731339316894974,
          37.27774127097221,
          37.83227130044694,
          38.395050315592606,
          38.96620102529961,
          39.54584796383082,
          40.134117517975255,
          40.731137954605515,
          41.33703944864519,
          41.95195411145245,
          42.57601601962556,
          43.20936124423722,
          43.852127880503616,
          44.50445607789472,
          45.16648807069278,
          45.838368209005104,
          46.52024299023834,
          47.21226109104092,
          47.91457339972071,
          48.627333049144696,
          49.35069545012843,
          50.08481832532173,
          50.8298617435989,
          51.5859881549602,
          52.35336242595253,
          53.13215187561726,
          53.92252631197255,
          54.72465806903836,
          55.53872204441259,
          56.3648957374056,
          57.20335928774259,
          58.0542955148414,
          58.91788995767445,
          59.79433091522407,
          60.68380948753933,
          61.44,
          61.44,
          61.44,
          61.44,
          61.44,
          61.44,
          61.44,
          61.44,
          61.44,
          61.44,
          61.44,
          61.44,
          61.44,
          61.44,
          61.44,
          61.44,
          61.44,
          61.44,
          61.44,
          61.44,
          61.44,
          61.44,
          61.44,
          61.44,
          61.44,
          61.44,
          61.44,
          61.44,
          61.44,
          61.44,
          61.44,
          61.44,
          61.44,
          61.44,
          61.44,
          61.44,
          61.44,
          61.44,
          61.44,
          61.44,
          61.44,
          61.44,
          61.44,
          61.44,
          61.44,
          61.44,
          61.44,
          61.44,
          61.44,
          61.44,
          61.44,
          61.44,
          61.44,
          61.44,
          61.44,
          61.44,
          61.44,
          61.44,
          61.44,
          61.44,
          61.44,
          61.44,
          61.44,
          61.44,
          61.44,
          61.44,
          61.44,
          61.44,
          61.44,
          61.44,
          61.44,
          61.44,
          61.44,
          61.44,
          61.44,
          61.44,
          61.44,
          61.44,
          61.44,
          61.44,
          61.44,
          61.44,
          61.44,
          61.44,
          61.44,
          61.44,
          61.44,
          61.44,
          61.44,
          61.44,
          61.44,
          61.44,
          61.44,
          61.44,
          61.44,
          61.44,
          61.44,
          61.44,
          61.44,
          61.44,
          61.44,
          61.44,
          61.44,
          61.44,
          61.44,
          61.44,
          61.44,
          61.44,
          61.44,
          61.44,
          61.44,
          61.44,
          61.44,
          61.44,
          61.44,
          61.44,
          61.44,
          61.44,
          61.44,
          61.44,
          61.44,
          61.44,
          61.44,
          61.44,
          61.44,
          61.44,
          61.44,
          61.44,
          61.44,
          61.44,
          61.44,
          61.44,
          61.44,
          61.44,
          61.44,
          61.44,
          61.44,
          61.44,
          61.44,
          61.44,
          61.44,
          61.44,
          61.44,
          61.44,
          61.44,
          61.44,
          61.44,
          61.44,
          61.44,
          61.44,
          61.44,
          61.44,
          61.44,
          61.44,
          61.44,
          61.44,
          61.44,
          61.44,
          61.44,
          61.44,
          61.44,
          61.44,
          61.44,
          61.44,
          61.44,
          61.44,
          61.44,
          61.44,
          61.44,
          61.44,
          61.44,
          61.44,
          61.44,
          61.44,
          61.44,
          61.44,
          61.44,
          61.44,
          61.44,
          61.44,
          61.44,
          61.44,
          61.44,
          61.44,
          61.44,
          61.44,
          61.44
         ]
        }
       ],
       "layout": {
        "height": 600,
        "legend": {
         "itemsizing": "constant",
         "title": {
          "text": "M"
         },
         "tracegroupgap": 0
        },
        "template": {
         "data": {
          "bar": [
           {
            "error_x": {
             "color": "#2a3f5f"
            },
            "error_y": {
             "color": "#2a3f5f"
            },
            "marker": {
             "line": {
              "color": "#E5ECF6",
              "width": 0.5
             },
             "pattern": {
              "fillmode": "overlay",
              "size": 10,
              "solidity": 0.2
             }
            },
            "type": "bar"
           }
          ],
          "barpolar": [
           {
            "marker": {
             "line": {
              "color": "#E5ECF6",
              "width": 0.5
             },
             "pattern": {
              "fillmode": "overlay",
              "size": 10,
              "solidity": 0.2
             }
            },
            "type": "barpolar"
           }
          ],
          "carpet": [
           {
            "aaxis": {
             "endlinecolor": "#2a3f5f",
             "gridcolor": "white",
             "linecolor": "white",
             "minorgridcolor": "white",
             "startlinecolor": "#2a3f5f"
            },
            "baxis": {
             "endlinecolor": "#2a3f5f",
             "gridcolor": "white",
             "linecolor": "white",
             "minorgridcolor": "white",
             "startlinecolor": "#2a3f5f"
            },
            "type": "carpet"
           }
          ],
          "choropleth": [
           {
            "colorbar": {
             "outlinewidth": 0,
             "ticks": ""
            },
            "type": "choropleth"
           }
          ],
          "contour": [
           {
            "colorbar": {
             "outlinewidth": 0,
             "ticks": ""
            },
            "colorscale": [
             [
              0,
              "#0d0887"
             ],
             [
              0.1111111111111111,
              "#46039f"
             ],
             [
              0.2222222222222222,
              "#7201a8"
             ],
             [
              0.3333333333333333,
              "#9c179e"
             ],
             [
              0.4444444444444444,
              "#bd3786"
             ],
             [
              0.5555555555555556,
              "#d8576b"
             ],
             [
              0.6666666666666666,
              "#ed7953"
             ],
             [
              0.7777777777777778,
              "#fb9f3a"
             ],
             [
              0.8888888888888888,
              "#fdca26"
             ],
             [
              1,
              "#f0f921"
             ]
            ],
            "type": "contour"
           }
          ],
          "contourcarpet": [
           {
            "colorbar": {
             "outlinewidth": 0,
             "ticks": ""
            },
            "type": "contourcarpet"
           }
          ],
          "heatmap": [
           {
            "colorbar": {
             "outlinewidth": 0,
             "ticks": ""
            },
            "colorscale": [
             [
              0,
              "#0d0887"
             ],
             [
              0.1111111111111111,
              "#46039f"
             ],
             [
              0.2222222222222222,
              "#7201a8"
             ],
             [
              0.3333333333333333,
              "#9c179e"
             ],
             [
              0.4444444444444444,
              "#bd3786"
             ],
             [
              0.5555555555555556,
              "#d8576b"
             ],
             [
              0.6666666666666666,
              "#ed7953"
             ],
             [
              0.7777777777777778,
              "#fb9f3a"
             ],
             [
              0.8888888888888888,
              "#fdca26"
             ],
             [
              1,
              "#f0f921"
             ]
            ],
            "type": "heatmap"
           }
          ],
          "histogram": [
           {
            "marker": {
             "pattern": {
              "fillmode": "overlay",
              "size": 10,
              "solidity": 0.2
             }
            },
            "type": "histogram"
           }
          ],
          "histogram2d": [
           {
            "colorbar": {
             "outlinewidth": 0,
             "ticks": ""
            },
            "colorscale": [
             [
              0,
              "#0d0887"
             ],
             [
              0.1111111111111111,
              "#46039f"
             ],
             [
              0.2222222222222222,
              "#7201a8"
             ],
             [
              0.3333333333333333,
              "#9c179e"
             ],
             [
              0.4444444444444444,
              "#bd3786"
             ],
             [
              0.5555555555555556,
              "#d8576b"
             ],
             [
              0.6666666666666666,
              "#ed7953"
             ],
             [
              0.7777777777777778,
              "#fb9f3a"
             ],
             [
              0.8888888888888888,
              "#fdca26"
             ],
             [
              1,
              "#f0f921"
             ]
            ],
            "type": "histogram2d"
           }
          ],
          "histogram2dcontour": [
           {
            "colorbar": {
             "outlinewidth": 0,
             "ticks": ""
            },
            "colorscale": [
             [
              0,
              "#0d0887"
             ],
             [
              0.1111111111111111,
              "#46039f"
             ],
             [
              0.2222222222222222,
              "#7201a8"
             ],
             [
              0.3333333333333333,
              "#9c179e"
             ],
             [
              0.4444444444444444,
              "#bd3786"
             ],
             [
              0.5555555555555556,
              "#d8576b"
             ],
             [
              0.6666666666666666,
              "#ed7953"
             ],
             [
              0.7777777777777778,
              "#fb9f3a"
             ],
             [
              0.8888888888888888,
              "#fdca26"
             ],
             [
              1,
              "#f0f921"
             ]
            ],
            "type": "histogram2dcontour"
           }
          ],
          "mesh3d": [
           {
            "colorbar": {
             "outlinewidth": 0,
             "ticks": ""
            },
            "type": "mesh3d"
           }
          ],
          "parcoords": [
           {
            "line": {
             "colorbar": {
              "outlinewidth": 0,
              "ticks": ""
             }
            },
            "type": "parcoords"
           }
          ],
          "pie": [
           {
            "automargin": true,
            "type": "pie"
           }
          ],
          "scatter": [
           {
            "fillpattern": {
             "fillmode": "overlay",
             "size": 10,
             "solidity": 0.2
            },
            "type": "scatter"
           }
          ],
          "scatter3d": [
           {
            "line": {
             "colorbar": {
              "outlinewidth": 0,
              "ticks": ""
             }
            },
            "marker": {
             "colorbar": {
              "outlinewidth": 0,
              "ticks": ""
             }
            },
            "type": "scatter3d"
           }
          ],
          "scattercarpet": [
           {
            "marker": {
             "colorbar": {
              "outlinewidth": 0,
              "ticks": ""
             }
            },
            "type": "scattercarpet"
           }
          ],
          "scattergeo": [
           {
            "marker": {
             "colorbar": {
              "outlinewidth": 0,
              "ticks": ""
             }
            },
            "type": "scattergeo"
           }
          ],
          "scattergl": [
           {
            "marker": {
             "colorbar": {
              "outlinewidth": 0,
              "ticks": ""
             }
            },
            "type": "scattergl"
           }
          ],
          "scattermap": [
           {
            "marker": {
             "colorbar": {
              "outlinewidth": 0,
              "ticks": ""
             }
            },
            "type": "scattermap"
           }
          ],
          "scattermapbox": [
           {
            "marker": {
             "colorbar": {
              "outlinewidth": 0,
              "ticks": ""
             }
            },
            "type": "scattermapbox"
           }
          ],
          "scatterpolar": [
           {
            "marker": {
             "colorbar": {
              "outlinewidth": 0,
              "ticks": ""
             }
            },
            "type": "scatterpolar"
           }
          ],
          "scatterpolargl": [
           {
            "marker": {
             "colorbar": {
              "outlinewidth": 0,
              "ticks": ""
             }
            },
            "type": "scatterpolargl"
           }
          ],
          "scatterternary": [
           {
            "marker": {
             "colorbar": {
              "outlinewidth": 0,
              "ticks": ""
             }
            },
            "type": "scatterternary"
           }
          ],
          "surface": [
           {
            "colorbar": {
             "outlinewidth": 0,
             "ticks": ""
            },
            "colorscale": [
             [
              0,
              "#0d0887"
             ],
             [
              0.1111111111111111,
              "#46039f"
             ],
             [
              0.2222222222222222,
              "#7201a8"
             ],
             [
              0.3333333333333333,
              "#9c179e"
             ],
             [
              0.4444444444444444,
              "#bd3786"
             ],
             [
              0.5555555555555556,
              "#d8576b"
             ],
             [
              0.6666666666666666,
              "#ed7953"
             ],
             [
              0.7777777777777778,
              "#fb9f3a"
             ],
             [
              0.8888888888888888,
              "#fdca26"
             ],
             [
              1,
              "#f0f921"
             ]
            ],
            "type": "surface"
           }
          ],
          "table": [
           {
            "cells": {
             "fill": {
              "color": "#EBF0F8"
             },
             "line": {
              "color": "white"
             }
            },
            "header": {
             "fill": {
              "color": "#C8D4E3"
             },
             "line": {
              "color": "white"
             }
            },
            "type": "table"
           }
          ]
         },
         "layout": {
          "annotationdefaults": {
           "arrowcolor": "#2a3f5f",
           "arrowhead": 0,
           "arrowwidth": 1
          },
          "autotypenumbers": "strict",
          "coloraxis": {
           "colorbar": {
            "outlinewidth": 0,
            "ticks": ""
           }
          },
          "colorscale": {
           "diverging": [
            [
             0,
             "#8e0152"
            ],
            [
             0.1,
             "#c51b7d"
            ],
            [
             0.2,
             "#de77ae"
            ],
            [
             0.3,
             "#f1b6da"
            ],
            [
             0.4,
             "#fde0ef"
            ],
            [
             0.5,
             "#f7f7f7"
            ],
            [
             0.6,
             "#e6f5d0"
            ],
            [
             0.7,
             "#b8e186"
            ],
            [
             0.8,
             "#7fbc41"
            ],
            [
             0.9,
             "#4d9221"
            ],
            [
             1,
             "#276419"
            ]
           ],
           "sequential": [
            [
             0,
             "#0d0887"
            ],
            [
             0.1111111111111111,
             "#46039f"
            ],
            [
             0.2222222222222222,
             "#7201a8"
            ],
            [
             0.3333333333333333,
             "#9c179e"
            ],
            [
             0.4444444444444444,
             "#bd3786"
            ],
            [
             0.5555555555555556,
             "#d8576b"
            ],
            [
             0.6666666666666666,
             "#ed7953"
            ],
            [
             0.7777777777777778,
             "#fb9f3a"
            ],
            [
             0.8888888888888888,
             "#fdca26"
            ],
            [
             1,
             "#f0f921"
            ]
           ],
           "sequentialminus": [
            [
             0,
             "#0d0887"
            ],
            [
             0.1111111111111111,
             "#46039f"
            ],
            [
             0.2222222222222222,
             "#7201a8"
            ],
            [
             0.3333333333333333,
             "#9c179e"
            ],
            [
             0.4444444444444444,
             "#bd3786"
            ],
            [
             0.5555555555555556,
             "#d8576b"
            ],
            [
             0.6666666666666666,
             "#ed7953"
            ],
            [
             0.7777777777777778,
             "#fb9f3a"
            ],
            [
             0.8888888888888888,
             "#fdca26"
            ],
            [
             1,
             "#f0f921"
            ]
           ]
          },
          "colorway": [
           "#636efa",
           "#EF553B",
           "#00cc96",
           "#ab63fa",
           "#FFA15A",
           "#19d3f3",
           "#FF6692",
           "#B6E880",
           "#FF97FF",
           "#FECB52"
          ],
          "font": {
           "color": "#2a3f5f"
          },
          "geo": {
           "bgcolor": "white",
           "lakecolor": "white",
           "landcolor": "#E5ECF6",
           "showlakes": true,
           "showland": true,
           "subunitcolor": "white"
          },
          "hoverlabel": {
           "align": "left"
          },
          "hovermode": "closest",
          "mapbox": {
           "style": "light"
          },
          "paper_bgcolor": "white",
          "plot_bgcolor": "#E5ECF6",
          "polar": {
           "angularaxis": {
            "gridcolor": "white",
            "linecolor": "white",
            "ticks": ""
           },
           "bgcolor": "#E5ECF6",
           "radialaxis": {
            "gridcolor": "white",
            "linecolor": "white",
            "ticks": ""
           }
          },
          "scene": {
           "xaxis": {
            "backgroundcolor": "#E5ECF6",
            "gridcolor": "white",
            "gridwidth": 2,
            "linecolor": "white",
            "showbackground": true,
            "ticks": "",
            "zerolinecolor": "white"
           },
           "yaxis": {
            "backgroundcolor": "#E5ECF6",
            "gridcolor": "white",
            "gridwidth": 2,
            "linecolor": "white",
            "showbackground": true,
            "ticks": "",
            "zerolinecolor": "white"
           },
           "zaxis": {
            "backgroundcolor": "#E5ECF6",
            "gridcolor": "white",
            "gridwidth": 2,
            "linecolor": "white",
            "showbackground": true,
            "ticks": "",
            "zerolinecolor": "white"
           }
          },
          "shapedefaults": {
           "line": {
            "color": "#2a3f5f"
           }
          },
          "ternary": {
           "aaxis": {
            "gridcolor": "white",
            "linecolor": "white",
            "ticks": ""
           },
           "baxis": {
            "gridcolor": "white",
            "linecolor": "white",
            "ticks": ""
           },
           "bgcolor": "#E5ECF6",
           "caxis": {
            "gridcolor": "white",
            "linecolor": "white",
            "ticks": ""
           }
          },
          "title": {
           "x": 0.05
          },
          "xaxis": {
           "automargin": true,
           "gridcolor": "white",
           "linecolor": "white",
           "ticks": "",
           "title": {
            "standoff": 15
           },
           "zerolinecolor": "white",
           "zerolinewidth": 2
          },
          "yaxis": {
           "automargin": true,
           "gridcolor": "white",
           "linecolor": "white",
           "ticks": "",
           "title": {
            "standoff": 15
           },
           "zerolinecolor": "white",
           "zerolinewidth": 2
          }
         }
        },
        "title": {
         "text": "AMD RX 7900 XTX Roofline Analysis"
        },
        "xaxis": {
         "anchor": "y",
         "domain": [
          0,
          1
         ],
         "title": {
          "text": "Operational Intensity (TFLOPs/GB/s)"
         },
         "type": "log"
        },
        "yaxis": {
         "anchor": "x",
         "domain": [
          0,
          1
         ],
         "title": {
          "text": "Performance (TFLOPs)"
         },
         "type": "log"
        }
       }
      },
      "image/png": "[encoded data removed]"
     },
     "metadata": {},
     "output_type": "display_data"
    }
   ],
   "source": [
    "fig.show()"
   ]
  },
  {
   "cell_type": "markdown",
   "id": "c6a70596-9ffc-4cc8-bd53-d4aa1f84183f",
   "metadata": {},
   "source": [
    "# Simple GEMM sweep fp16\n",
    "\n",
    "This sweep is defined as \n",
    "\n",
    "> - Datatype `fp16`\n",
    "> - For `M,N,K` use `N=K` for powers of 2 from 64 to 16384\n",
    "> - `M=1,2,4,...,256`\n",
    "> - Select the best results\n"
   ]
  },
  {
   "cell_type": "code",
   "execution_count": 43,
   "id": "475a0d69-1107-4336-b833-a91ca9882f04",
   "metadata": {},
   "outputs": [],
   "source": [
    "fp16_df = load_gemm_data(\"gemm_scan_results_fp16\")\n",
    "fp16_df = calculate_metrics(fp16_df)\n",
    "fig = generate_roofline_plot(fp16_df, roofline, 61.44, 960)"
   ]
  },
  {
   "cell_type": "code",
   "execution_count": 44,
   "id": "a40ba575-f435-409a-886a-3a55b1c524c5",
   "metadata": {},
   "outputs": [
    {
     "data": {
      "application/vnd.plotly.v1+json": {
       "config": {
        "plotlyServerURL": "https://plot.ly"
       },
       "data": [
        {
         "customdata": [
          [
           0.7912951408924486,
           0.626148,
           "1",
           16384,
           16384
          ],
          [
           0.08077128202523469,
           0.006524,
           "1",
           512,
           512
          ],
          [
           0.09374486652611971,
           0.0087881,
           "1",
           1024,
           1024
          ],
          [
           0.14065631873470882,
           0.0197842,
           "1",
           2048,
           2048
          ],
          [
           0.39886589224951285,
           0.159094,
           "1",
           8192,
           8192
          ],
          [
           0.07555196886911683,
           0.0057081,
           "1",
           256,
           256
          ],
          [
           0.19054789424184146,
           0.0363085,
           "1",
           4096,
           4096
          ],
          [
           0.08579102517163435,
           0.0073601,
           "1",
           128,
           128
          ],
          [
           0.07691599313536815,
           0.00591607,
           "1",
           64,
           64
          ]
         ],
         "hovertemplate": "M=%{customdata[2]}<br>Operational Intensity (TFLOPs/GB/s)=%{x}<br>Performance (TFLOPs)=%{y}<br>Execution Time (ms)=%{customdata[1]}<br>N=%{customdata[3]}<br>K=%{customdata[4]}<extra></extra>",
         "legendgroup": "1",
         "marker": {
          "color": "#3366CC",
          "size": {
           "bdata": "p7zzL0pS6T/DHsE+ba20PxrH5d+p/7c/Y314uAYBwj+q5azOBIfZP972cLNfV7M/b5ELl99jyD8VCWePZva1P7pGDjvEsLM/",
           "dtype": "f8"
          },
          "sizemode": "area",
          "sizeref": 0.0034877284871388716,
          "symbol": "circle"
         },
         "mode": "markers",
         "name": "1",
         "orientation": "v",
         "showlegend": true,
         "type": "scatter",
         "x": {
          "bdata": "d9pTWcphUD+lcRYU/FFQP92QiqccWlA/noD5cDZeUD9e5XyzR2FQPyqOAP7JQVA/cCREE0JgUD+bugZexSFQP3fgjolcxk8/",
          "dtype": "f8"
         },
         "xaxis": "x",
         "y": {
          "bdata": "KA6g3/dv6z9z9s5oq5K0P7MpV3iXi84/bcoV3uUi2z8NNnUeFf/qP8E5I0p7g5c/6j2V056S7T91NJItYDxyP7TPvk3ar1Y/",
          "dtype": "f8"
         },
         "yaxis": "y"
        },
        {
         "customdata": [
          [
           0.09295213822177519,
           0.0086401,
           "2",
           1024,
           1024
          ],
          [
           0.08082140805504442,
           0.0065321,
           "2",
           512,
           512
          ],
          [
           0.1910091620839168,
           0.0364845,
           "2",
           4096,
           4096
          ],
          [
           0.3961893486705568,
           0.156966,
           "2",
           8192,
           8192
          ],
          [
           0.8186134618976162,
           0.670128,
           "2",
           16384,
           16384
          ],
          [
           0.07706276662565392,
           0.00593867,
           "2",
           64,
           64
          ],
          [
           0.07378414463826223,
           0.0054441,
           "2",
           256,
           256
          ],
          [
           0.14569934797383274,
           0.0212283,
           "2",
           2048,
           2048
          ],
          [
           0.0857677095415285,
           0.0073561,
           "2",
           128,
           128
          ]
         ],
         "hovertemplate": "M=%{customdata[2]}<br>Operational Intensity (TFLOPs/GB/s)=%{x}<br>Performance (TFLOPs)=%{y}<br>Execution Time (ms)=%{customdata[1]}<br>N=%{customdata[3]}<br>K=%{customdata[4]}<extra></extra>",
         "legendgroup": "2",
         "marker": {
          "color": "#DC3912",
          "size": {
           "bdata": "2XvBGbbLtz8OwGk4trC0PzOCMfz8csg/vBHkkSpb2T+gTN3bFDLqP6h+Za5iurM/iUYviITjsj8rTky3RqbCPwugiGPf9LU/",
           "dtype": "f8"
          },
          "sizemode": "area",
          "sizeref": 0.0034877284871388716,
          "symbol": "circle"
         },
         "mode": "markers",
         "name": "2",
         "orientation": "v",
         "showlegend": true,
         "type": "scatter",
         "x": {
          "bdata": "aWC7cPxRYD9KPjRVzEFgP4Obk202XmA/LtehL0FgYD9r9Z3bRWFgP5NiR6Yo114/Ssyj+8MhYD9MekySIVpgP186Iwhoxl8/",
          "dtype": "f8"
         },
         "xaxis": "x",
         "y": {
          "bdata": "R1Z+GYwR3z+9/48TJozEP+epDrkZbv0/BhIUP8Zc+z9QU8vW+qL5P0i3kA3FmWY/rAN7p12nqD/52ch1U0rpP9VcTSLrPoI/",
          "dtype": "f8"
         },
         "yaxis": "y"
        },
        {
         "customdata": [
          [
           0.19179259631174506,
           0.0367844,
           "4",
           4096,
           4096
          ],
          [
           0.09448862365385581,
           0.0089281,
           "4",
           1024,
           1024
          ],
          [
           0.08284986421232082,
           0.0068641,
           "4",
           128,
           128
          ],
          [
           0.0742165749681296,
           0.0055081,
           "4",
           256,
           256
          ],
          [
           0.08148680874841031,
           0.0066401,
           "4",
           512,
           512
          ],
          [
           0.8060421825190044,
           0.649704,
           "4",
           16384,
           16384
          ],
          [
           0.3972782400283207,
           0.15783,
           "4",
           8192,
           8192
          ],
          [
           0.08651069298069458,
           0.0074841,
           "4",
           64,
           64
          ],
          [
           0.14741879120383533,
           0.0217323,
           "4",
           2048,
           2048
          ]
         ],
         "hovertemplate": "M=%{customdata[2]}<br>Operational Intensity (TFLOPs/GB/s)=%{x}<br>Performance (TFLOPs)=%{y}<br>Execution Time (ms)=%{customdata[1]}<br>N=%{customdata[3]}<br>K=%{customdata[4]}<extra></extra>",
         "legendgroup": "4",
         "marker": {
          "color": "#FF9900",
          "size": {
           "bdata": "WA5j6KiMyD8B928MaDC4PwQcRRGmNbU/7ypPgtv/sj95PKHKUdy0P+Oyo/kYy+k/fmEVtgFt2T+4OxuVkCW2P06mhHOe3sI/",
           "dtype": "f8"
          },
          "sizemode": "area",
          "sizeref": 0.0034877284871388716,
          "symbol": "circle"
         },
         "mode": "markers",
         "name": "4",
         "orientation": "v",
         "showlegend": true,
         "type": "scatter",
         "x": {
          "bdata": "satg6CBacD8MteV3yEFwPxEs97Qo124/OZ5cvWTGbz8SX+nvxCFwP81tEdI/YHA/V7QF2zZecD9mmprOiyBtP7SFA638UXA/",
          "dtype": "f8"
         },
         "xaxis": "x",
         "y": {
          "bdata": "4gFlU64wDUA9gEV+/RDuP/V7B+S3jZM/H7KSoAleuD/MBwQ6kzbUP4yEtpxLcQpAStI1k282C0CckfdgCO9xP9ydtdsutPg/",
          "dtype": "f8"
         },
         "yaxis": "y"
        },
        {
         "customdata": [
          [
           0.07756075038316738,
           0.00601567,
           "8",
           64,
           64
          ],
          [
           0.19964067721784556,
           0.0398564,
           "8",
           4096,
           4096
          ],
          [
           0.07329392880723477,
           0.005372,
           "8",
           256,
           256
          ],
          [
           0.08020037406396556,
           0.0064321,
           "8",
           512,
           512
          ],
          [
           0.8151490661222645,
           0.664468,
           "8",
           16384,
           16384
          ],
          [
           0.40477401102343513,
           0.163842,
           "8",
           8192,
           8192
          ],
          [
           0.14718763535025625,
           0.0216642,
           "8",
           2048,
           2048
          ],
          [
           0.09478449240250221,
           0.0089841,
           "8",
           1024,
           1024
          ],
          [
           0.08470702450210373,
           0.00717528,
           "8",
           128,
           128
          ]
         ],
         "hovertemplate": "M=%{customdata[2]}<br>Operational Intensity (TFLOPs/GB/s)=%{x}<br>Performance (TFLOPs)=%{y}<br>Execution Time (ms)=%{customdata[1]}<br>N=%{customdata[3]}<br>K=%{customdata[4]}<extra></extra>",
         "legendgroup": "8",
         "marker": {
          "color": "#109618",
          "size": {
           "bdata": "C1NZdgXbsz9WDM1h043JP+PwOBNkw7I/m1C7/wKItD+shYt+sxXqPw5z50DR59k/9DoaYAvXwj+pZQnny0O4P51e+gtcr7U/",
           "dtype": "f8"
          },
          "sizemode": "area",
          "sizeref": 0.0034877284871388716,
          "symbol": "circle"
         },
         "mode": "markers",
         "name": "8",
         "orientation": "v",
         "showlegend": true,
         "type": "scatter",
         "x": {
          "bdata": "K3klqOE2ej9gljZL/FGAP8neEcQm134/S2rWFmfGfz8KJBv9NF6AP6wsCbwgWoA/754husdBgD+uRzCXwiGAP9CGKNiIIH0/",
          "dtype": "f8"
         },
         "xaxis": "x",
         "y": {
          "bdata": "1Im6xbJPhj84FakwtvAaQIo9tI8V/Mg/X5oiwOnd5D+XxcTm49oZQEm6ZvLNNhpAR8mrcwzICEDFG5lH/uD9Pz1QXa+ftKI/",
          "dtype": "f8"
         },
         "yaxis": "y"
        },
        {
         "customdata": [
          [
           0.0777783388868649,
           0.00604947,
           "16",
           64,
           64
          ],
          [
           0.08114185110040317,
           0.006584,
           "16",
           512,
           512
          ],
          [
           0.1466431041679083,
           0.0215042,
           "16",
           2048,
           2048
          ],
          [
           0.8040994963311443,
           0.646576,
           "16",
           16384,
           16384
          ],
          [
           0.08224414872804023,
           0.0067641,
           "16",
           128,
           128
          ],
          [
           0.22305290852172271,
           0.0497526,
           "16",
           4096,
           4096
          ],
          [
           0.0735669762869183,
           0.0054121,
           "16",
           256,
           256
          ],
          [
           0.09695411285757814,
           0.0094001,
           "16",
           1024,
           1024
          ],
          [
           0.4130399496416781,
           0.170602,
           "16",
           8192,
           8192
          ]
         ],
         "hovertemplate": "M=%{customdata[2]}<br>Operational Intensity (TFLOPs/GB/s)=%{x}<br>Performance (TFLOPs)=%{y}<br>Execution Time (ms)=%{customdata[1]}<br>N=%{customdata[3]}<br>K=%{customdata[4]}<extra></extra>",
         "legendgroup": "16",
         "marker": {
          "color": "#990099",
          "size": {
           "bdata": "zzXb/Ufpsz+AKdBctsW0PyXkSoQzxcI/Yh3v3S676T/aBBPZ8w21P/5xsGn/jMw/tsk3DUnVsj8fne8X/NG4P3jC6Rw/b9o/",
           "dtype": "f8"
          },
          "sizemode": "area",
          "sizeref": 0.0034877284871388716,
          "symbol": "circle"
         },
         "mode": "markers",
         "name": "16",
         "orientation": "v",
         "showlegend": true,
         "type": "scatter",
         "x": {
          "bdata": "+QbH92nYhT+RunwDKteOPzD6beHGIZA/YQwFUyNakD8sQxzr4jaKP2KGO5fIQZA/34CXdoogjT8RxWCjZMaPP3X7sx3/UZA/",
          "dtype": "f8"
         },
         "xaxis": "x",
         "y": {
          "bdata": "FSOmn8svlj/7kSIyrGL0P0jcY+lD9xhA/Bhz1xKSKkChkRm5uNezP4Za07zjlCVAjnObcK/M2D88pYP1f44MQOm3rwPnLClA",
          "dtype": "f8"
         },
         "yaxis": "y"
        },
        {
         "customdata": [
          [
           0.2730657429997399,
           0.0745649,
           "32",
           4096,
           4096
          ],
          [
           0.8376568509837427,
           0.701669,
           "32",
           16384,
           16384
          ],
          [
           0.07602631123499286,
           0.00578,
           "32",
           256,
           256
          ],
          [
           0.07512722542460888,
           0.0056441,
           "32",
           64,
           64
          ],
          [
           0.44662064439521826,
           0.19947,
           "32",
           8192,
           8192
          ],
          [
           0.07079548008171144,
           0.005012,
           "32",
           128,
           128
          ],
          [
           0.08328325161759716,
           0.0069361,
           "32",
           512,
           512
          ],
          [
           0.10862826519833593,
           0.0118001,
           "32",
           1024,
           1024
          ],
          [
           0.16237087177200227,
           0.0263643,
           "32",
           2048,
           2048
          ]
         ],
         "hovertemplate": "M=%{customdata[2]}<br>Operational Intensity (TFLOPs/GB/s)=%{x}<br>Performance (TFLOPs)=%{y}<br>Execution Time (ms)=%{customdata[1]}<br>N=%{customdata[3]}<br>K=%{customdata[4]}<extra></extra>",
         "legendgroup": "32",
         "marker": {
          "color": "#0099C6",
          "size": {
           "bdata": "ceD1vOh50T9N24e9Fc7qP7PKY9h1drM//ec8sIk7sz+PVlnBbpXcP3DTpw+nH7I/3YoAGg1StT+StHLeD8+7P6C4CpiRyMQ/",
           "dtype": "f8"
          },
          "sizemode": "area",
          "sizeref": 0.0034877284871388716,
          "symbol": "circle"
         },
         "mode": "markers",
         "name": "32",
         "orientation": "v",
         "showlegend": true,
         "type": "scatter",
         "x": {
          "bdata": "cYsNs8choD9Klq0X/FGgP9WVit3jNpo/aYvFIlBikD9JbRLyx0GgP5NVkaxn2JU/rIf9qo4gnT+yxjwoJ9eeP+YEhQNrxp8/",
          "dtype": "f8"
         },
         "xaxis": "x",
         "y": {
          "bdata": "W0I+6NnMLEDrc7UV+3s4QKeVQiCXOOc/O2QUFbvHpz9HA3gLJIg1QD3zcth9x8o/YKsEi8NZA0ABGM+gob8WQFvTvOMUXSRA",
          "dtype": "f8"
         },
         "yaxis": "y"
        },
        {
         "customdata": [
          [
           0.12464429389266081,
           0.0155362,
           "64",
           1024,
           1024
          ],
          [
           0.19514199957979317,
           0.0380804,
           "64",
           2048,
           2048
          ],
          [
           0.08669544394026713,
           0.0075161,
           "64",
           512,
           512
          ],
          [
           0.07427045172879992,
           0.0055161,
           "64",
           64,
           64
          ],
          [
           0.2585049322546864,
           0.0668248,
           "64",
           4096,
           4096
          ],
          [
           0.06705296414029734,
           0.0044961,
           "64",
           128,
           128
          ],
          [
           0.07175026132356592,
           0.0051481,
           "64",
           256,
           256
          ],
          [
           0.8841391293229817,
           0.781702,
           "64",
           16384,
           16384
          ],
          [
           0.5006146222395027,
           0.250615,
           "64",
           8192,
           8192
          ]
         ],
         "hovertemplate": "M=%{customdata[2]}<br>Operational Intensity (TFLOPs/GB/s)=%{x}<br>Performance (TFLOPs)=%{y}<br>Execution Time (ms)=%{customdata[1]}<br>N=%{customdata[3]}<br>K=%{customdata[4]}<extra></extra>",
         "legendgroup": "64",
         "marker": {
          "color": "#DD4477",
          "size": {
           "bdata": "3ejmPbDovz+QuCK9afrIP6yGbzCsMbY/3P07aWMDsz9k3nhFWIvQP6UaFRBiKrE/MzrdoTlesj++y7Ek3krsP7xgzfQIBeA/",
           "dtype": "f8"
          },
          "sizemode": "area",
          "sizeref": 0.0034877284871388716,
          "symbol": "circle"
         },
         "mode": "markers",
         "name": "64",
         "orientation": "v",
         "showlegend": true,
         "type": "scatter",
         "x": {
          "bdata": "MMwnt4kgrT9+itkgLdeuP4P3n7/hNqo/TYOz3mjYlT8axIf/ZcavP3gUOOdMYqA/s8GzV2rYpT8mfs9vyUGwP3piA//GIbA/",
          "dtype": "f8"
         },
         "xaxis": "x",
         "y": {
          "bdata": "ZVOu8C5HIUBR2ht8YTIsQAjm6PF72xFADRAWX/5UuD/FILByaBFAQD4l58Qe2t0/GD4ipkQS+j8K16NwPfpFQMGopE5AI0FA",
          "dtype": "f8"
         },
         "yaxis": "y"
        },
        {
         "customdata": [
          [
           0.9627486691759174,
           0.926885,
           "128",
           16384,
           16384
          ],
          [
           0.5536280339722691,
           0.306504,
           "128",
           8192,
           8192
          ],
          [
           0.07547251155222012,
           0.0056961,
           "128",
           256,
           256
          ],
          [
           0.3084561557174698,
           0.0951452,
           "128",
           4096,
           4096
          ],
          [
           0.1899378845833553,
           0.0360764,
           "128",
           2048,
           2048
          ],
          [
           0.13784121299524318,
           0.0190002,
           "128",
           1024,
           1024
          ],
          [
           0.07351190379795643,
           0.005404,
           "128",
           64,
           64
          ],
          [
           0.0669925368977769,
           0.004488,
           "128",
           128,
           128
          ],
          [
           0.09654066500703214,
           0.0093201,
           "128",
           512,
           512
          ]
         ],
         "hovertemplate": "M=%{customdata[2]}<br>Operational Intensity (TFLOPs/GB/s)=%{x}<br>Performance (TFLOPs)=%{y}<br>Execution Time (ms)=%{customdata[1]}<br>N=%{customdata[3]}<br>K=%{customdata[4]}<extra></extra>",
         "legendgroup": "128",
         "marker": {
          "color": "#66AA00",
          "size": {
           "bdata": "TRkMTNbO7j/X6IEjUrfhP+Af3aAqUrM/U5xD47690z+aSUd14k/IP1OC7ebHpME/xc2tFq3Rsj+EUQ1DbCaxP5118Jbjtrg/",
           "dtype": "f8"
          },
          "sizemode": "area",
          "sizeref": 0.0034877284871388716,
          "symbol": "circle"
         },
         "mode": "markers",
         "name": "128",
         "orientation": "v",
         "showlegend": true,
         "type": "scatter",
         "x": {
          "bdata": "VRDWeschwD8wtecCa8a/PzMN70JOYrA/HX9zTSrXvj+FHXZiiSC9PxYPL87fNro/ckM+/eI2mj/pAo0Ia9ilPzDj5QVn2LU/",
          "dtype": "f8"
         },
         "xaxis": "x",
         "y": {
          "bdata": "PujZrPqIUkCtad5xigZMQDm536EokAdA/Bhz1xKSRkAX2c73U8M9QKjGSzeJQSxAx2KbVDTWyD/VyoRf6uftP7A9syRAzRxA",
          "dtype": "f8"
         },
         "yaxis": "y"
        },
        {
         "customdata": [
          [
           1.3950913948555486,
           1.94628,
           "256",
           16384,
           16384
          ],
          [
           0.06666408328327932,
           0.0044441,
           "256",
           128,
           128
          ],
          [
           0.08106848956283816,
           0.0065721,
           "256",
           256,
           256
          ],
          [
           0.3816097483031585,
           0.145626,
           "256",
           4096,
           4096
          ],
          [
           0.2178545386261209,
           0.0474606,
           "256",
           2048,
           2048
          ],
          [
           0.6726737693711566,
           0.45249,
           "256",
           8192,
           8192
          ],
          [
           0.14412563963431352,
           0.0207722,
           "256",
           1024,
           1024
          ],
          [
           0.10981894189983803,
           0.0120602,
           "256",
           512,
           512
          ],
          [
           0.07397296803562772,
           0.005472,
           "256",
           64,
           64
          ]
         ],
         "hovertemplate": "M=%{customdata[2]}<br>Operational Intensity (TFLOPs/GB/s)=%{x}<br>Performance (TFLOPs)=%{y}<br>Execution Time (ms)=%{customdata[1]}<br>N=%{customdata[3]}<br>K=%{customdata[4]}<extra></extra>",
         "legendgroup": "256",
         "marker": {
          "color": "#B82E2E",
          "size": {
           "bdata": "ol69WktS9j9H/oS55RCxP+6TaI/nwLQ/tv8yS0ts2D8LmVdTqOLLP/BvCiSLhuU/ZkpffrVywj/L7fAbGB28P2pGgHbk77I/",
           "dtype": "f8"
          },
          "sizemode": "area",
          "sizeref": 0.0034877284871388716,
          "symbol": "circle"
         },
         "mode": "markers",
         "name": "256",
         "orientation": "v",
         "showlegend": true,
         "type": "scatter",
         "x": {
          "bdata": "40ui8GjGzz8AxeAc3jaqP19G7Ixo2LU/R3dwnI4gzT8eDBgx4zbKP9nMRpsp184/DSgvW2jYxT/oFJ02T2LAP5fn1tCFIJ0/",
          "dtype": "f8"
         },
         "xaxis": "x",
         "y": {
          "bdata": "liGOdXGnUUDBVgkWhzP+P3kj88gfbBRAIGPuWkJ+TUAPnDOitJ9GQEATYcPT+1JAY3/ZPXnYOUA1XrpJDEImQOgxyjMvh9g/",
          "dtype": "f8"
         },
         "yaxis": "y"
        },
        {
         "line": {
          "color": "tomato",
          "width": 1
         },
         "mode": "lines",
         "name": "Theoretical Roofline",
         "opacity": 0.45,
         "type": "scatter",
         "x": [
          0.000630957344480193,
          0.0006403432349044165,
          0.0006498687463978393,
          0.0006595359559123637,
          0.000669346971295866,
          0.0006793039317517976,
          0.0006894090083056164,
          0.0006996644042781601,
          0.0007100723557660607,
          0.0007206351321293053,
          0.0007313550364860471,
          0.0007422344062147839,
          0.0007532756134639995,
          0.0007644810656693899,
          0.0007758532060787836,
          0.0007873945142848672,
          0.000799107506765842,
          0.0008109947374341176,
          0.0008230587981931686,
          0.0008353023195026779,
          0.0008477279709520809,
          0.0008603384618426507,
          0.0008731365417782328,
          0.0008861250012647729,
          0.0008993066723187614,
          0.0009126844290847301,
          0.0009262611884619294,
          0.0009400399107403378,
          0.0009540236002461228,
          0.0009682153059967076,
          0.0009826181223655834,
          0.0009972351897570052,
          0.0010120696952907351,
          0.0010271248734969607,
          0.0010424040070215557,
          0.001057910427341834,
          0.0010736475154929422,
          0.001089618702805071,
          0.0011058274716516216,
          0.0011222773562085072,
          0.0011389719432247471,
          0.0011559148728045273,
          0.0011731098392008875,
          0.0011905605916212258,
          0.001208270935044776,
          0.0012262447310522496,
          0.001244485898667819,
          0.0012629984152136265,
          0.0012817863171769978,
          0.0013008537010905706,
          0.0013202047244255004,
          0.001339843606497962,
          0.0013597746293891328,
          0.001380002138878859,
          0.0014005305453932196,
          0.0014213643249661768,
          0.001442508020215534,
          0.0014639662413334156,
          0.001485743667091472,
          0.0015078450458610511,
          0.0015302751966485332,
          0.001553039010146073,
          0.0015761414497979728,
          0.0015995875528829093,
          0.001623382431612278,
          0.0016475312742448575,
          0.0016720393462180635,
          0.0016969119912960313,
          0.001722154632734777,
          0.0017477727744646808,
          0.0017737720022905825,
          0.0018001579851097073,
          0.001826936476147719,
          0.001854113314213161,
          0.0018816944249705557,
          0.0019096858222324353,
          0.001938093609270612,
          0.0019669239801469317,
          0.0019961832210638364,
          0.002025877711735017,
          0.002056013926776442,
          0.0020865984371181024,
          0.0021176379114367363,
          0.002149139117609875,
          0.00218110892419152,
          0.0022135543019097597,
          0.0022464823251866894,
          0.0022799001736809135,
          0.0023138151338530093,
          0.0023482346005542763,
          0.002383166078639107,
          0.002418617184601366,
          0.002454595648235091,
          0.0024911093143199043,
          0.0025281661443315004,
          0.0025657742181775635,
          0.0026039417359595336,
          0.002642677019760554,
          0.00268198851546003,
          0.002721884794575177,
          0.002762374556129961,
          0.002803466628551846,
          0.002845169971596743,
          0.002887493678302619,
          0.0029304469769721414,
          0.0029740392331848286,
          0.003018279951839135,
          0.003063178779224893,
          0.0031087455051266215,
          0.0031549900649580852,
          0.003201922541928626,
          0.0032495531692417197,
          0.0032978923323262192,
          0.0033469505711008255,
          0.003396738582272206,
          0.003447267221667321,
          0.003498547506600441,
          0.0035505906182753586,
          0.00360340790422337,
          0.0036570108807774896,
          0.0037114112355834837,
          0.0037666208301482627,
          0.003822651702426157,
          0.0038795160694437116,
          0.0039372263299634795,
          0.0039957950671874656,
          0.004055235051500786,
          0.004115559243256111,
          0.004176780795599602,
          0.004238913057338779,
          0.0043019695758531465,
          0.004365964100048068,
          0.004430910583352584,
          0.0044968231867618435,
          0.0045637162819247585,
          0.004631604454277644,
          0.004700502506224419,
          0.004770425460364142,
          0.004841388562766562,
          0.0049134072862963615,
          0.00498649733398691,
          0.005060674642464144,
          0.005135955385421413,
          0.0052123559771460135,
          0.005289893076098151,
          0.0053685835885432034,
          0.005448444672237955,
          0.005529493740171698,
          0.005611748464362984,
          0.005695226779712825,
          0.005779946887915268,
          0.005865927261426091,
          0.005953186647490561,
          0.006041744072231109,
          0.006131618844795769,
          0.0062228305615684345,
          0.006315399110441589,
          0.006409344675152745,
          0.0065046877396853055,
          0.006601449092734883,
          0.006699649832242161,
          0.006799311369993016,
          0.006900455436287239,
          0.007003104084676595,
          0.007107279696773412,
          0.007213004987130694,
          0.007320303008194797,
          0.007429197155331848,
          0.0075397111719288715,
          0.0076518691545708175,
          0.007765695558294623,
          0.007881215201921364,
          0.007998453273467872,
          0.008117435335638632,
          0.008238187331399601,
          0.00836073558963479,
          0.00848510683088702,
          0.008611328173184178,
          0.008739427137951951,
          0.008869431656014705,
          0.009001370073685523,
          0.009135271158946832,
          0.009271164107723088,
          0.00940907855024657,
          0.009549044557518078,
          0.009691092647863608,
          0.009835253793588562,
          0.009981559427731086,
          0.010130041450915617,
          0.010280732238308648,
          0.010433664646677783,
          0.010588872021555857,
          0.010746388204511658,
          0.010906247540528761,
          0.011068484885494119,
          0.01123313561379812,
          0.011400235626047623,
          0.011569821356893762,
          0.011741929782976206,
          0.011916598430985588,
          0.012093865385845823,
          0.012273769299018238,
          0.012456349396929118,
          0.012641645489522726,
          0.012829697978941476,
          0.013020547868335236,
          0.013214236770801744,
          0.013410806918459939,
          0.013610301171658278,
          0.013812763028320095,
          0.014018236633427876,
          0.014226766788648725,
          0.01443839896210294,
          0.014653179298277906,
          0.01487115462808953,
          0.015092372479093273,
          0.015316881085847089,
          0.015544729400428583,
          0.01577596710310851,
          0.01601064461318317,
          0.016248813099967847,
          0.016490524493953804,
          0.0167358314981313,
          0.016984787599480973,
          0.01723744708063619,
          0.017493865031718906,
          0.017754097362351565,
          0.018018200813847654,
          0.018286232971583705,
          0.018558252277555178,
          0.0188343180431193,
          0.019114490461927317,
          0.01939883062304917,
          0.01968740052429346,
          0.019980263085725498,
          0.0202774821633864,
          0.020579122563216427,
          0.020885250055185225,
          0.021195931387632462,
          0.021511234301821662,
          0.021831227546710553,
          0.02215598089394122,
          0.022485565153053135,
          0.02282005218692254,
          0.023159514927431533,
          0.023504027391370152,
          0.023853664696575138,
          0.024208503078308654,
          0.02456861990588069,
          0.024934093699518777,
          0.025305004147488624,
          0.025681432123469343,
          0.026063459704187348,
          0.02645117018731232,
          0.026844648109619625,
          0.027243979265422734,
          0.027649250725279878,
          0.028060550854979063,
          0.028477969334805415,
          0.028901597179095087,
          0.02933152675608022,
          0.029767851808028958,
          0.03021066747168505,
          0.030660070299011674,
          0.0311161582782436,
          0.03157903085525274,
          0.032048788955231375,
          0.03252553500469797,
          0.0330093729538304,
          0.033500408299131326,
          0.033998748106430714,
          0.034504501034230674,
          0.035017777357397334,
          0.035538688991205415,
          0.03606734951574028,
          0.036603874200662995,
          0.03714838003034395,
          0.037700985729370216,
          0.038261811788432264,
          0.03883098049059605,
          0.03940861593796556,
          0.0399948440787423,
          0.040589792734687095,
          0.04119359162899044,
          0.041806372414557556,
          0.04242826870271408,
          0.043059416092338744,
          0.04369995219942964,
          0.04435001668710996,
          0.04500975129608044,
          0.045679299875524604,
          0.04635880841447367,
          0.04704842507363831,
          0.04774830021771365,
          0.048458586448164934,
          0.04917943863650096,
          0.049911013958042406,
          0.05065347192619239,
          0.05140697442721711,
          0.052171685755543463,
          0.052947772649582184,
          0.05373540432808354,
          0.05453475252703389,
          0.05534599153710131,
          0.05616929824163807,
          0.057004852155248295,
          0.057852835462929776,
          0.058713433059797496,
          0.059586832591398534,
          0.06047322449462646,
          0.061372802039244216,
          0.062285761370025075,
          0.06321230154952014,
          0.06415262460146202,
          0.06510693555481455,
          0.06607544248847724,
          0.06705835657665525,
          0.06805589213490368,
          0.06906826666685753,
          0.07009570091165618,
          0.07113841889207363,
          0.07219664796336471,
          0.07327061886283753,
          0.07436056576016416,
          0.07546672630843887,
          0.07658934169599635,
          0.07772865669900064,
          0.07888491973481646,
          0.08005838291617402,
          0.08124930210614047,
          0.08245793697390816,
          0.08368455105141323,
          0.08492941179079656,
          0.08619279062271884,
          0.08747496301554415,
          0.08877620853540302,
          0.09009681090714934,
          0.09143705807622417,
          0.09279724227143918,
          0.09417766006869518,
          0.09557861245564737,
          0.09700040489733308,
          0.09844334740277572,
          0.09990775459257947,
          0.10139394576752918,
          0.10290224497821149,
          0.10443298109567087,
          0.105986487883117,
          0.10756310406869898,
          0.10916317341936148,
          0.11078704481580069,
          0.11243507232853421,
          0.114107615295103,
          0.11580503839842167,
          0.11752771174629452,
          0.1192760109521136,
          0.12105031721675866,
          0.122851017411714,
          0.1246785041634225,
          0.1265331759388943,
          0.12841543713258854,
          0.1303256981545887,
          0.13226437552008816,
          0.13423189194020785,
          0.13622867641416467,
          0.13825516432281043,
          0.14031179752356343,
          0.142399024446751,
          0.14451730019338585,
          0.1466670866343967,
          0.14884885251133523,
          0.15106307353858037,
          0.15331023250706438,
          0.15559081938954056,
          0.15790533144741742,
          0.1602542733391823,
          0.16263815723043692,
          0.16505750290557142,
          0.16751283788109808,
          0.17000469752067163,
          0.1725336251518207,
          0.1751001721844147,
          0.17770489823089497,
          0.18034837122829236,
          0.18303116756206111,
          0.18575387219175438,
          0.18851707877856966,
          0.1913213898147904,
          0.1941674167551554,
          0.19705578015017983,
          0.1999871097814613,
          0.202962044798998,
          0.20598123386054876,
          0.20904533527306848,
          0.21215501713624502,
          0.2153109574881725,
          0.21851384445319152,
          0.2217643763919286,
          0.2250632620535666,
          0.22841122073038234,
          0.23180898241458092,
          0.23525728795746426,
          0.23875688923096716,
          0.24230854929159534,
          0.2459130425468044,
          0.2495711549238514,
          0.2532836840411596,
          0.257051439382232,
          0.2608752424721512,
          0.26475592705670664,
          0.26869433928418485,
          0.2726913378898642,
          0.27674779438325475,
          0.2808645932381233,
          0.2850426320853435,
          0.28928282190861804,
          0.2935860872431096,
          0.2979533663770271,
          0.30238561155621174,
          0.30688378919176423,
          0.31144888007076393,
          0.31608187957011924,
          0.3207837978736011,
          0.3255556601921043,
          0.3303985069871858,
          0.3353133941979267,
          0.3403013934711724,
          0.34536359239519365,
          0.35050109473682656,
          0.3557150206821386,
          0.36100650708067394,
          0.3663767076933356,
          0.3718267934439506,
          0.3773579526745804,
          0.3829713914046281,
          0.38866833359379865,
          0.39445002140897467,
          0.4003177154950579,
          0.40627269524984233,
          0.4123162591029748,
          0.4184497247990667,
          0.42467442968501457,
          0.43099173100159865,
          0.437403006179416,
          0.44390965313921665,
          0.4505130905967084,
          0.457214758371893,
          0.46401611770300877,
          0.47091865156513857,
          0.4779238649935595,
          0.48503328541190244,
          0.49224846296519337,
          0.4995709708578466,
          0.5070024056966907,
          0.5145443878390924,
          0.5221985617462613,
          0.5299665963418103,
          0.5378501853756472,
          0.545851047793285,
          0.5539709281106401,
          0.5622115967944088,
          0.5705748506481026,
          0.5790625132038222,
          0.5876764351198657,
          0.596418494584246,
          0.6052905977242131,
          0.6142946790218682,
          0.6234327017359601,
          0.6327066583299547,
          0.6421185709064758,
          0.6516704916482057,
          0.6613645032653442,
          0.6712027194497265,
          0.6811872853356915,
          0.6913203779678128,
          0.7016042067755814,
          0.7120410140551527,
          0.722633075458259,
          0.7333827004883925,
          0.7442922330043759,
          0.7553640517314165,
          0.7666005707797673,
          0.7780042401711011,
          0.789577546372717,
          0.8013230128396887,
          0.8132432005650857,
          0.8253407086383725,
          0.8376181748121161,
          0.8500782760771264,
          0.862723729246145,
          0.8755572915462285,
          0.888581761219932,
          0.9017999781354427,
          0.9152148244057868,
          0.9288292250172498,
          0.9426461484671392,
          0.9566686074110443,
          0.9708996593197148,
          0.985342407145716,
          1
         ],
         "y": [
          0.6057190507009853,
          0.6147295055082398,
          0.6238739965419258,
          0.6331545176758692,
          0.6425730924440314,
          0.6521317744817257,
          0.6618326479733917,
          0.6716778281070337,
          0.6816694615354182,
          0.6918097268441331,
          0.7021008350266053,
          0.7125450299661925,
          0.7231445889254395,
          0.7339018230426143,
          0.7448190778356322,
          0.7558987337134725,
          0.7671432064952084,
          0.7785549479367528,
          0.7901364462654418,
          0.8018902267225708,
          0.8138188521139977,
          0.8259249233689446,
          0.8382110801071034,
          0.850680001214182,
          0.8633344054260109,
          0.8761770519213409,
          0.8892107409234522,
          0.9024383143107243,
          0.9158626562362779,
          0.9294866937568393,
          0.94331339747096,
          0.9573457821667251,
          0.9715869074791057,
          0.9860398785570822,
          1.0007078467406934,
          1.0155940102481607,
          1.0307016148732244,
          1.046033954692868,
          1.0615943727855568,
          1.0773862619601668,
          1.0934130654957572,
          1.1096782778923462,
          1.126185445632852,
          1.1429381679563768,
          1.159940097642985,
          1.1771949418101597,
          1.1947064627211064,
          1.2124784786050815,
          1.230514864489918,
          1.2488195530469477,
          1.2673965354484804,
          1.2862498622380434,
          1.3053836442135676,
          1.3248020533237046,
          1.3445093235774908,
          1.3645097519675298,
          1.3848076994069127,
          1.405407591680079,
          1.426313920407813,
          1.447531244026609,
          1.469064188782592,
          1.49091744974023,
          1.513095791806054,
          1.535604050767593,
          1.558447134347787,
          1.5816300232750633,
          1.6051577723693409,
          1.6290355116441901,
          1.6532684474253858,
          1.6778618634860936,
          1.702821122198959,
          1.728151665705319,
          1.7538590171018102,
          1.7799487816446347,
          1.8064266479717335,
          1.8332983893431378,
          1.8605698648997875,
          1.8882470209410545,
          1.916335892221283,
          1.9448426032656163,
          1.973773369705384,
          2.0031344996333784,
          2.032932394979267,
          2.06317355290548,
          2.093864567223859,
          2.1250121298333693,
          2.1566230321792217,
          2.188704166733677,
          2.221262528498889,
          2.254305216532105,
          2.2878394354935425,
          2.3218724972173113,
          2.356411822305687,
          2.3914649417471083,
          2.42703949855824,
          2.463143249450461,
          2.499784066521152,
          2.536969938970132,
          2.5747089748416285,
          2.6130094027921698,
          2.6518795738847625,
          2.691327963409772,
          2.7313631727328733,
          2.771993931170514,
          2.813229097893256,
          2.8550776638574353,
          2.8975487537655695,
          2.9406516280558974,
          2.9843956849215565,
          3.028790462359762,
          3.073845640251481,
          3.119571042472051,
          3.1659766390331705,
          3.2130725482567923,
          3.2608690389813177,
          3.3093765328006284,
          3.3586056063364236,
          3.408566993544344,
          3.459271588054435,
          3.51073044554639,
          3.5629547861601445,
          3.6159559969423323,
          3.669745634329111,
          3.724335426665963,
          3.77973727676494,
          3.835963264499967,
          3.8930256494407547,
          3.9509368735258663,
          4.009709563775618,
          4.069356535045228,
          4.129890792819021,
          4.191325536046145,
          4.25367416001848,
          4.31695025929137,
          4.381167630647768,
          4.446340276106539,
          4.512482405975442,
          4.579608441949576,
          4.6477330202559,
          4.716870994844507,
          4.787037440627433,
          4.858247656765578,
          4.930517170004556,
          5.003861738060173,
          5.078297353054225,
          5.153840245001476,
          5.230506885348436,
          5.30831399056483,
          5.3872785257884654,
          5.467417708524312,
          5.548749012398657,
          5.631290170969047,
          5.715059181590939,
          5.8000743093418645,
          5.8863540910039385,
          5.973917339105697,
          6.062783146023926,
          6.152970888146635,
          6.244500230097893,
          6.337391129025487,
          6.431663838952474,
          6.527338915193296,
          6.624437218835749,
          6.722979921289531,
          6.822988508902475,
          6.924484787645467,
          7.027490887867005,
          7.132029269118575,
          7.238122725051717,
          7.345794388387985,
          7.455067735962838,
          7.565966593844509,
          7.678515142529157,
          7.792737922213087,
          7.908659838143618,
          8.026306166049398,
          8.14570255765154,
          8.26687504625681,
          8.389850052433873,
          8.514654389774117,
          8.641315270738103,
          8.769860312588959,
          8.900317543414165,
          9.032715408236708,
          9.167082775217356,
          9.303448941949064,
          9.441843641845018,
          9.582297050621843,
          9.724839792878992,
          9.869502948776303,
          10.016318060810672,
          10.165317140693622,
          10.316532676331192,
          10.46999763890761,
          10.625745490074355,
          10.783810189246195,
          10.94422620100572,
          11.107028502618011,
          11.272252591657159,
          11.439934493746165,
          11.610110770411989,
          11.782818527057508,
          11.958095421051954,
          12.135979669941817,
          12.316510059783816,
          12.499725953601827,
          12.685667299969674,
          12.874374641721541,
          13.065889124791946,
          13.26025250718729,
          13.45750716809076,
          13.657696117102775,
          13.860863003618823,
          14.06705212634679,
          14.276308442965949,
          14.488677579929542,
          14.704205842413206,
          14.92294022441144,
          15.144928418984168,
          15.370218828655842,
          15.598860575969134,
          15.830903514195652,
          16.066398238206048,
          16.305396095501735,
          16.547949197410745,
          16.79411043045015,
          17.043933467857503,
          17.29747278129375,
          17.554783652720356,
          17.81592218645297,
          18.080945321394527,
          18.349910843450225,
          18.622877398127205,
          18.89990450332172,
          19.18105256229648,
          19.466382876850943,
          19.75595766068777,
          20.049840052977817,
          20.348094132127162,
          20.650784929748795,
          20.95797844484213,
          21.26974165818357,
          21.58614254693101,
          21.90725009944564,
          22.233134330334273,
          22.563866295715346,
          22.899518108712133,
          23.24016295517631,
          23.585875109645464,
          23.936729951538027,
          24.29280398158908,
          24.65417483853057,
          25.020921316019855,
          25.39312337981983,
          25.77086218523484,
          26.154220094805826,
          26.54328069626868,
          26.9381288207799,
          27.3388505614132,
          27.745533291931284,
          28.158265685837012,
          28.5771377357078,
          29.002240772817647,
          29.433667487051206,
          29.871511947113856,
          30.31586962104263,
          30.76683739702212,
          31.224513604510054,
          31.688998035677184,
          32.16039196716607,
          32.63879818217349,
          33.12432099286145,
          33.61706626310144,
          34.1171414315572,
          34.62465553511067,
          35.13971923263647,
          35.662444829130195,
          36.19294630019541,
          36.731339316894974,
          37.27774127097221,
          37.83227130044694,
          38.395050315592606,
          38.96620102529961,
          39.54584796383082,
          40.134117517975255,
          40.731137954605515,
          41.33703944864519,
          41.95195411145245,
          42.57601601962556,
          43.20936124423722,
          43.852127880503616,
          44.50445607789472,
          45.16648807069278,
          45.838368209005104,
          46.52024299023834,
          47.21226109104092,
          47.91457339972071,
          48.627333049144696,
          49.35069545012843,
          50.08481832532173,
          50.8298617435989,
          51.5859881549602,
          52.35336242595253,
          53.13215187561726,
          53.92252631197255,
          54.72465806903836,
          55.53872204441259,
          56.3648957374056,
          57.20335928774259,
          58.0542955148414,
          58.91788995767445,
          59.79433091522407,
          60.68380948753933,
          61.44,
          61.44,
          61.44,
          61.44,
          61.44,
          61.44,
          61.44,
          61.44,
          61.44,
          61.44,
          61.44,
          61.44,
          61.44,
          61.44,
          61.44,
          61.44,
          61.44,
          61.44,
          61.44,
          61.44,
          61.44,
          61.44,
          61.44,
          61.44,
          61.44,
          61.44,
          61.44,
          61.44,
          61.44,
          61.44,
          61.44,
          61.44,
          61.44,
          61.44,
          61.44,
          61.44,
          61.44,
          61.44,
          61.44,
          61.44,
          61.44,
          61.44,
          61.44,
          61.44,
          61.44,
          61.44,
          61.44,
          61.44,
          61.44,
          61.44,
          61.44,
          61.44,
          61.44,
          61.44,
          61.44,
          61.44,
          61.44,
          61.44,
          61.44,
          61.44,
          61.44,
          61.44,
          61.44,
          61.44,
          61.44,
          61.44,
          61.44,
          61.44,
          61.44,
          61.44,
          61.44,
          61.44,
          61.44,
          61.44,
          61.44,
          61.44,
          61.44,
          61.44,
          61.44,
          61.44,
          61.44,
          61.44,
          61.44,
          61.44,
          61.44,
          61.44,
          61.44,
          61.44,
          61.44,
          61.44,
          61.44,
          61.44,
          61.44,
          61.44,
          61.44,
          61.44,
          61.44,
          61.44,
          61.44,
          61.44,
          61.44,
          61.44,
          61.44,
          61.44,
          61.44,
          61.44,
          61.44,
          61.44,
          61.44,
          61.44,
          61.44,
          61.44,
          61.44,
          61.44,
          61.44,
          61.44,
          61.44,
          61.44,
          61.44,
          61.44,
          61.44,
          61.44,
          61.44,
          61.44,
          61.44,
          61.44,
          61.44,
          61.44,
          61.44,
          61.44,
          61.44,
          61.44,
          61.44,
          61.44,
          61.44,
          61.44,
          61.44,
          61.44,
          61.44,
          61.44,
          61.44,
          61.44,
          61.44,
          61.44,
          61.44,
          61.44,
          61.44,
          61.44,
          61.44,
          61.44,
          61.44,
          61.44,
          61.44,
          61.44,
          61.44,
          61.44,
          61.44,
          61.44,
          61.44,
          61.44,
          61.44,
          61.44,
          61.44,
          61.44,
          61.44,
          61.44,
          61.44,
          61.44,
          61.44,
          61.44,
          61.44,
          61.44,
          61.44,
          61.44,
          61.44,
          61.44,
          61.44,
          61.44,
          61.44,
          61.44,
          61.44,
          61.44,
          61.44,
          61.44,
          61.44,
          61.44,
          61.44
         ]
        }
       ],
       "layout": {
        "height": 600,
        "legend": {
         "itemsizing": "constant",
         "title": {
          "text": "M"
         },
         "tracegroupgap": 0
        },
        "template": {
         "data": {
          "bar": [
           {
            "error_x": {
             "color": "#2a3f5f"
            },
            "error_y": {
             "color": "#2a3f5f"
            },
            "marker": {
             "line": {
              "color": "#E5ECF6",
              "width": 0.5
             },
             "pattern": {
              "fillmode": "overlay",
              "size": 10,
              "solidity": 0.2
             }
            },
            "type": "bar"
           }
          ],
          "barpolar": [
           {
            "marker": {
             "line": {
              "color": "#E5ECF6",
              "width": 0.5
             },
             "pattern": {
              "fillmode": "overlay",
              "size": 10,
              "solidity": 0.2
             }
            },
            "type": "barpolar"
           }
          ],
          "carpet": [
           {
            "aaxis": {
             "endlinecolor": "#2a3f5f",
             "gridcolor": "white",
             "linecolor": "white",
             "minorgridcolor": "white",
             "startlinecolor": "#2a3f5f"
            },
            "baxis": {
             "endlinecolor": "#2a3f5f",
             "gridcolor": "white",
             "linecolor": "white",
             "minorgridcolor": "white",
             "startlinecolor": "#2a3f5f"
            },
            "type": "carpet"
           }
          ],
          "choropleth": [
           {
            "colorbar": {
             "outlinewidth": 0,
             "ticks": ""
            },
            "type": "choropleth"
           }
          ],
          "contour": [
           {
            "colorbar": {
             "outlinewidth": 0,
             "ticks": ""
            },
            "colorscale": [
             [
              0,
              "#0d0887"
             ],
             [
              0.1111111111111111,
              "#46039f"
             ],
             [
              0.2222222222222222,
              "#7201a8"
             ],
             [
              0.3333333333333333,
              "#9c179e"
             ],
             [
              0.4444444444444444,
              "#bd3786"
             ],
             [
              0.5555555555555556,
              "#d8576b"
             ],
             [
              0.6666666666666666,
              "#ed7953"
             ],
             [
              0.7777777777777778,
              "#fb9f3a"
             ],
             [
              0.8888888888888888,
              "#fdca26"
             ],
             [
              1,
              "#f0f921"
             ]
            ],
            "type": "contour"
           }
          ],
          "contourcarpet": [
           {
            "colorbar": {
             "outlinewidth": 0,
             "ticks": ""
            },
            "type": "contourcarpet"
           }
          ],
          "heatmap": [
           {
            "colorbar": {
             "outlinewidth": 0,
             "ticks": ""
            },
            "colorscale": [
             [
              0,
              "#0d0887"
             ],
             [
              0.1111111111111111,
              "#46039f"
             ],
             [
              0.2222222222222222,
              "#7201a8"
             ],
             [
              0.3333333333333333,
              "#9c179e"
             ],
             [
              0.4444444444444444,
              "#bd3786"
             ],
             [
              0.5555555555555556,
              "#d8576b"
             ],
             [
              0.6666666666666666,
              "#ed7953"
             ],
             [
              0.7777777777777778,
              "#fb9f3a"
             ],
             [
              0.8888888888888888,
              "#fdca26"
             ],
             [
              1,
              "#f0f921"
             ]
            ],
            "type": "heatmap"
           }
          ],
          "histogram": [
           {
            "marker": {
             "pattern": {
              "fillmode": "overlay",
              "size": 10,
              "solidity": 0.2
             }
            },
            "type": "histogram"
           }
          ],
          "histogram2d": [
           {
            "colorbar": {
             "outlinewidth": 0,
             "ticks": ""
            },
            "colorscale": [
             [
              0,
              "#0d0887"
             ],
             [
              0.1111111111111111,
              "#46039f"
             ],
             [
              0.2222222222222222,
              "#7201a8"
             ],
             [
              0.3333333333333333,
              "#9c179e"
             ],
             [
              0.4444444444444444,
              "#bd3786"
             ],
             [
              0.5555555555555556,
              "#d8576b"
             ],
             [
              0.6666666666666666,
              "#ed7953"
             ],
             [
              0.7777777777777778,
              "#fb9f3a"
             ],
             [
              0.8888888888888888,
              "#fdca26"
             ],
             [
              1,
              "#f0f921"
             ]
            ],
            "type": "histogram2d"
           }
          ],
          "histogram2dcontour": [
           {
            "colorbar": {
             "outlinewidth": 0,
             "ticks": ""
            },
            "colorscale": [
             [
              0,
              "#0d0887"
             ],
             [
              0.1111111111111111,
              "#46039f"
             ],
             [
              0.2222222222222222,
              "#7201a8"
             ],
             [
              0.3333333333333333,
              "#9c179e"
             ],
             [
              0.4444444444444444,
              "#bd3786"
             ],
             [
              0.5555555555555556,
              "#d8576b"
             ],
             [
              0.6666666666666666,
              "#ed7953"
             ],
             [
              0.7777777777777778,
              "#fb9f3a"
             ],
             [
              0.8888888888888888,
              "#fdca26"
             ],
             [
              1,
              "#f0f921"
             ]
            ],
            "type": "histogram2dcontour"
           }
          ],
          "mesh3d": [
           {
            "colorbar": {
             "outlinewidth": 0,
             "ticks": ""
            },
            "type": "mesh3d"
           }
          ],
          "parcoords": [
           {
            "line": {
             "colorbar": {
              "outlinewidth": 0,
              "ticks": ""
             }
            },
            "type": "parcoords"
           }
          ],
          "pie": [
           {
            "automargin": true,
            "type": "pie"
           }
          ],
          "scatter": [
           {
            "fillpattern": {
             "fillmode": "overlay",
             "size": 10,
             "solidity": 0.2
            },
            "type": "scatter"
           }
          ],
          "scatter3d": [
           {
            "line": {
             "colorbar": {
              "outlinewidth": 0,
              "ticks": ""
             }
            },
            "marker": {
             "colorbar": {
              "outlinewidth": 0,
              "ticks": ""
             }
            },
            "type": "scatter3d"
           }
          ],
          "scattercarpet": [
           {
            "marker": {
             "colorbar": {
              "outlinewidth": 0,
              "ticks": ""
             }
            },
            "type": "scattercarpet"
           }
          ],
          "scattergeo": [
           {
            "marker": {
             "colorbar": {
              "outlinewidth": 0,
              "ticks": ""
             }
            },
            "type": "scattergeo"
           }
          ],
          "scattergl": [
           {
            "marker": {
             "colorbar": {
              "outlinewidth": 0,
              "ticks": ""
             }
            },
            "type": "scattergl"
           }
          ],
          "scattermap": [
           {
            "marker": {
             "colorbar": {
              "outlinewidth": 0,
              "ticks": ""
             }
            },
            "type": "scattermap"
           }
          ],
          "scattermapbox": [
           {
            "marker": {
             "colorbar": {
              "outlinewidth": 0,
              "ticks": ""
             }
            },
            "type": "scattermapbox"
           }
          ],
          "scatterpolar": [
           {
            "marker": {
             "colorbar": {
              "outlinewidth": 0,
              "ticks": ""
             }
            },
            "type": "scatterpolar"
           }
          ],
          "scatterpolargl": [
           {
            "marker": {
             "colorbar": {
              "outlinewidth": 0,
              "ticks": ""
             }
            },
            "type": "scatterpolargl"
           }
          ],
          "scatterternary": [
           {
            "marker": {
             "colorbar": {
              "outlinewidth": 0,
              "ticks": ""
             }
            },
            "type": "scatterternary"
           }
          ],
          "surface": [
           {
            "colorbar": {
             "outlinewidth": 0,
             "ticks": ""
            },
            "colorscale": [
             [
              0,
              "#0d0887"
             ],
             [
              0.1111111111111111,
              "#46039f"
             ],
             [
              0.2222222222222222,
              "#7201a8"
             ],
             [
              0.3333333333333333,
              "#9c179e"
             ],
             [
              0.4444444444444444,
              "#bd3786"
             ],
             [
              0.5555555555555556,
              "#d8576b"
             ],
             [
              0.6666666666666666,
              "#ed7953"
             ],
             [
              0.7777777777777778,
              "#fb9f3a"
             ],
             [
              0.8888888888888888,
              "#fdca26"
             ],
             [
              1,
              "#f0f921"
             ]
            ],
            "type": "surface"
           }
          ],
          "table": [
           {
            "cells": {
             "fill": {
              "color": "#EBF0F8"
             },
             "line": {
              "color": "white"
             }
            },
            "header": {
             "fill": {
              "color": "#C8D4E3"
             },
             "line": {
              "color": "white"
             }
            },
            "type": "table"
           }
          ]
         },
         "layout": {
          "annotationdefaults": {
           "arrowcolor": "#2a3f5f",
           "arrowhead": 0,
           "arrowwidth": 1
          },
          "autotypenumbers": "strict",
          "coloraxis": {
           "colorbar": {
            "outlinewidth": 0,
            "ticks": ""
           }
          },
          "colorscale": {
           "diverging": [
            [
             0,
             "#8e0152"
            ],
            [
             0.1,
             "#c51b7d"
            ],
            [
             0.2,
             "#de77ae"
            ],
            [
             0.3,
             "#f1b6da"
            ],
            [
             0.4,
             "#fde0ef"
            ],
            [
             0.5,
             "#f7f7f7"
            ],
            [
             0.6,
             "#e6f5d0"
            ],
            [
             0.7,
             "#b8e186"
            ],
            [
             0.8,
             "#7fbc41"
            ],
            [
             0.9,
             "#4d9221"
            ],
            [
             1,
             "#276419"
            ]
           ],
           "sequential": [
            [
             0,
             "#0d0887"
            ],
            [
             0.1111111111111111,
             "#46039f"
            ],
            [
             0.2222222222222222,
             "#7201a8"
            ],
            [
             0.3333333333333333,
             "#9c179e"
            ],
            [
             0.4444444444444444,
             "#bd3786"
            ],
            [
             0.5555555555555556,
             "#d8576b"
            ],
            [
             0.6666666666666666,
             "#ed7953"
            ],
            [
             0.7777777777777778,
             "#fb9f3a"
            ],
            [
             0.8888888888888888,
             "#fdca26"
            ],
            [
             1,
             "#f0f921"
            ]
           ],
           "sequentialminus": [
            [
             0,
             "#0d0887"
            ],
            [
             0.1111111111111111,
             "#46039f"
            ],
            [
             0.2222222222222222,
             "#7201a8"
            ],
            [
             0.3333333333333333,
             "#9c179e"
            ],
            [
             0.4444444444444444,
             "#bd3786"
            ],
            [
             0.5555555555555556,
             "#d8576b"
            ],
            [
             0.6666666666666666,
             "#ed7953"
            ],
            [
             0.7777777777777778,
             "#fb9f3a"
            ],
            [
             0.8888888888888888,
             "#fdca26"
            ],
            [
             1,
             "#f0f921"
            ]
           ]
          },
          "colorway": [
           "#636efa",
           "#EF553B",
           "#00cc96",
           "#ab63fa",
           "#FFA15A",
           "#19d3f3",
           "#FF6692",
           "#B6E880",
           "#FF97FF",
           "#FECB52"
          ],
          "font": {
           "color": "#2a3f5f"
          },
          "geo": {
           "bgcolor": "white",
           "lakecolor": "white",
           "landcolor": "#E5ECF6",
           "showlakes": true,
           "showland": true,
           "subunitcolor": "white"
          },
          "hoverlabel": {
           "align": "left"
          },
          "hovermode": "closest",
          "mapbox": {
           "style": "light"
          },
          "paper_bgcolor": "white",
          "plot_bgcolor": "#E5ECF6",
          "polar": {
           "angularaxis": {
            "gridcolor": "white",
            "linecolor": "white",
            "ticks": ""
           },
           "bgcolor": "#E5ECF6",
           "radialaxis": {
            "gridcolor": "white",
            "linecolor": "white",
            "ticks": ""
           }
          },
          "scene": {
           "xaxis": {
            "backgroundcolor": "#E5ECF6",
            "gridcolor": "white",
            "gridwidth": 2,
            "linecolor": "white",
            "showbackground": true,
            "ticks": "",
            "zerolinecolor": "white"
           },
           "yaxis": {
            "backgroundcolor": "#E5ECF6",
            "gridcolor": "white",
            "gridwidth": 2,
            "linecolor": "white",
            "showbackground": true,
            "ticks": "",
            "zerolinecolor": "white"
           },
           "zaxis": {
            "backgroundcolor": "#E5ECF6",
            "gridcolor": "white",
            "gridwidth": 2,
            "linecolor": "white",
            "showbackground": true,
            "ticks": "",
            "zerolinecolor": "white"
           }
          },
          "shapedefaults": {
           "line": {
            "color": "#2a3f5f"
           }
          },
          "ternary": {
           "aaxis": {
            "gridcolor": "white",
            "linecolor": "white",
            "ticks": ""
           },
           "baxis": {
            "gridcolor": "white",
            "linecolor": "white",
            "ticks": ""
           },
           "bgcolor": "#E5ECF6",
           "caxis": {
            "gridcolor": "white",
            "linecolor": "white",
            "ticks": ""
           }
          },
          "title": {
           "x": 0.05
          },
          "xaxis": {
           "automargin": true,
           "gridcolor": "white",
           "linecolor": "white",
           "ticks": "",
           "title": {
            "standoff": 15
           },
           "zerolinecolor": "white",
           "zerolinewidth": 2
          },
          "yaxis": {
           "automargin": true,
           "gridcolor": "white",
           "linecolor": "white",
           "ticks": "",
           "title": {
            "standoff": 15
           },
           "zerolinecolor": "white",
           "zerolinewidth": 2
          }
         }
        },
        "title": {
         "text": "AMD RX 7900 XTX Roofline Analysis"
        },
        "xaxis": {
         "anchor": "y",
         "domain": [
          0,
          1
         ],
         "title": {
          "text": "Operational Intensity (TFLOPs/GB/s)"
         },
         "type": "log"
        },
        "yaxis": {
         "anchor": "x",
         "domain": [
          0,
          1
         ],
         "title": {
          "text": "Performance (TFLOPs)"
         },
         "type": "log"
        }
       }
      },
      "image/png": "[encoded data removed]"
     },
     "metadata": {},
     "output_type": "display_data"
    }
   ],
   "source": [
    "fig.show()"
   ]
  },
  {
   "cell_type": "markdown",
   "id": "7644bd21-480a-4ede-a1d9-65d42e130f9f",
   "metadata": {},
   "source": [
    "# Simple GEMM sweep int8\n",
    "\n",
    "This sweep is defined as \n",
    "\n",
    "> - Datatype `int8`\n",
    "> - For `M,N,K` use `N=K` for powers of 2 from 64 to 16384\n",
    "> - `M=1,2,4,...,256`\n",
    "> - Select the best results\n"
   ]
  },
  {
   "cell_type": "code",
   "execution_count": 45,
   "id": "cc9e241f-f72e-4ce6-9ccc-50dea79207db",
   "metadata": {},
   "outputs": [],
   "source": [
    "int8_df = load_gemm_data(\"gemm_scan_results_int8\")\n",
    "int8_df = calculate_metrics(int8_df)\n",
    "fig = generate_roofline_plot(int8_df, roofline, 61.44, 960)"
   ]
  },
  {
   "cell_type": "code",
   "execution_count": 46,
   "id": "b63563a3-5664-470b-8dda-dd97493ae857",
   "metadata": {},
   "outputs": [
    {
     "data": {
      "application/vnd.plotly.v1+json": {
       "config": {
        "plotlyServerURL": "https://plot.ly"
       },
       "data": [
        {
         "customdata": [
          [
           0.33796597461874767,
           0.114221,
           "1",
           8192,
           8192
          ],
          [
           0.09701597806547126,
           0.0094121,
           "1",
           512,
           512
          ],
          [
           0.07039957386234663,
           0.0049561,
           "1",
           128,
           128
          ],
          [
           0.11887893000864366,
           0.0141322,
           "1",
           1024,
           1024
          ],
          [
           0.1517903158966342,
           0.0230403,
           "1",
           2048,
           2048
          ],
          [
           0.593340543027358,
           0.352053,
           "1",
           16384,
           16384
          ],
          [
           0.08342721378543096,
           0.0069601,
           "1",
           256,
           256
          ],
          [
           0.08333126664103936,
           0.0069441,
           "1",
           64,
           64
          ],
          [
           0.2108473381382843,
           0.0444566,
           "1",
           4096,
           4096
          ]
         ],
         "hovertemplate": "M=%{customdata[2]}<br>Operational Intensity (TFLOPs/GB/s)=%{x}<br>Performance (TFLOPs)=%{y}<br>Execution Time (ms)=%{customdata[1]}<br>N=%{customdata[3]}<br>K=%{customdata[4]}<extra></extra>",
         "legendgroup": "1",
         "marker": {
          "color": "#3366CC",
          "size": {
           "bdata": "in0JCjyh1T8JDPsECta4PyAgZNu0BbI/rhKSfNluvj8dElB13W3DPzIwdk6l/OI/GQnOYnxbtT8FIPWoMlW1P7FU4KoL/co/",
           "dtype": "f8"
          },
          "sizemode": "area",
          "sizeref": 0.0035231998949818333,
          "symbol": "circle"
         },
         "mode": "markers",
         "name": "1",
         "orientation": "v",
         "showlegend": true,
         "type": "scatter",
         "x": {
          "bdata": "oCBhYEphYD9E6dmw+1FgP6NNaUDGIWA/2ps4Hx5aYD8of+LyNF5gP5sJdA/IYWA/UBCqW8lBYD86ITIgb8ZfP/BX2Y5CYGA/",
          "dtype": "f8"
         },
         "xaxis": "x",
         "y": {
          "bdata": "6StIMxbN8j9l94moLoWsPySQXEjRFHs/5ujxe5v+wj+fzD/6Jk3XPxEZVvFGZvg/nHV8aqtIkz/+1Jn3D1RTP40ngjgPJ+g/",
          "dtype": "f8"
         },
         "yaxis": "y"
        },
        {
         "customdata": [
          [
           0.5924930379337803,
           0.351048,
           "2",
           16384,
           16384
          ],
          [
           0.08662840180910647,
           0.00750448,
           "2",
           64,
           64
          ],
          [
           0.07102112361825881,
           0.005044,
           "2",
           128,
           128
          ],
          [
           0.11783123524770502,
           0.0138842,
           "2",
           1024,
           1024
          ],
          [
           0.15231644691234103,
           0.0232003,
           "2",
           2048,
           2048
          ],
          [
           0.09666488504105304,
           0.0093441,
           "2",
           512,
           512
          ],
          [
           0.08388146398340934,
           0.0070361,
           "2",
           256,
           256
          ],
          [
           0.21022036057432686,
           0.0441926,
           "2",
           4096,
           4096
          ],
          [
           0.3326815293941039,
           0.110677,
           "2",
           8192,
           8192
          ]
         ],
         "hovertemplate": "M=%{customdata[2]}<br>Operational Intensity (TFLOPs/GB/s)=%{x}<br>Performance (TFLOPs)=%{y}<br>Execution Time (ms)=%{customdata[1]}<br>N=%{customdata[3]}<br>K=%{customdata[4]}<extra></extra>",
         "legendgroup": "2",
         "marker": {
          "color": "#DC3912",
          "size": {
           "bdata": "lBCh9bP14j+Yw6xoRy22PwX+Q7twLrI/mQ/WFTAqvj+I0hD3Gn/DP6VE7KcHv7g/4KGMcEF5tT8uXs8ygOjKP7THLninStU/",
           "dtype": "f8"
          },
          "sizemode": "area",
          "sizeref": 0.0035231998949818333,
          "symbol": "circle"
         },
         "mode": "markers",
         "name": "2",
         "orientation": "v",
         "showlegend": true,
         "type": "scatter",
         "x": {
          "bdata": "0QdvAUhhcD+RVNS2KtduPzxziN1vxm8/tLpsAfxRcD98W65iHlpwP+hk01TJQXA/jml8LcYhcD+pfvwfNF5wP3jNA8xCYHA/",
          "dtype": "f8"
         },
         "xaxis": "x",
         "y": {
          "bdata": "8gwa+id4CEAtgGOukOJhPw8/pIQFnIo/4IYYr3lV0z+BdocUAyTnP2XEBaBRurw/0hkYeVkToz/rc7UV+0v4PxBdUN8yZwNA",
          "dtype": "f8"
         },
         "yaxis": "y"
        },
        {
         "customdata": [
          [
           0.3322784976491858,
           0.110409,
           "4",
           8192,
           8192
          ],
          [
           0.09674760978959634,
           0.0093601,
           "4",
           512,
           512
          ],
          [
           0.08361877779542105,
           0.0069921,
           "4",
           256,
           256
          ],
          [
           0.15403992988832474,
           0.0237283,
           "4",
           2048,
           2048
          ],
          [
           0.11954998954412334,
           0.0142922,
           "4",
           1024,
           1024
          ],
          [
           0.5926896321009842,
           0.351281,
           "4",
           16384,
           16384
          ],
          [
           0.08668033225593912,
           0.00751348,
           "4",
           64,
           64
          ],
          [
           0.2103247489003612,
           0.0442365,
           "4",
           4096,
           4096
          ],
          [
           0.07110625851498587,
           0.0050561,
           "4",
           128,
           128
          ]
         ],
         "hovertemplate": "M=%{customdata[2]}<br>Operational Intensity (TFLOPs/GB/s)=%{x}<br>Performance (TFLOPs)=%{y}<br>Execution Time (ms)=%{customdata[1]}<br>N=%{customdata[3]}<br>K=%{customdata[4]}<extra></extra>",
         "legendgroup": "4",
         "marker": {
          "color": "#FF9900",
          "size": {
           "bdata": "Fk4kCA1E1T9EMgOMc8S4P6l79ksKaLU/pQGTlpS3wz9JQ1T/05q+P/qpUT9Q9+I/Y+Q+qK4wtj/fgQjf6+vKP4jf3A4FNLI/",
           "dtype": "f8"
          },
          "sizemode": "area",
          "sizeref": 0.0035231998949818333,
          "symbol": "circle"
         },
         "mode": "markers",
         "name": "4",
         "orientation": "v",
         "showlegend": true,
         "type": "scatter",
         "x": {
          "bdata": "6QDPEzVegD+scO/GxiGAP9VyZ1hpxn8/ab07P/1RgD+kPYfzyUGAP0ANZkRBYIA/MNWqQYogfT8GPL3sHVqAP5wqtQ0m134/",
          "dtype": "f8"
         },
         "xaxis": "x",
         "y": {
          "bdata": "waikTkBzE0DzO01mvK3MP3NdQk8UMrM/HCWvzjGg9j+zCpsBLsjiPxWMSuoEdBhAB32GwxTdcT8S91j60EUIQMOayqKwi5o/",
          "dtype": "f8"
         },
         "yaxis": "y"
        },
        {
         "customdata": [
          [
           0.5919028636524747,
           0.350349,
           "8",
           16384,
           16384
          ],
          [
           0.07509993342207436,
           0.00564,
           "8",
           128,
           128
          ],
          [
           0.09705719962990897,
           0.0094201,
           "8",
           512,
           512
          ],
          [
           0.08654178181664623,
           0.00748948,
           "8",
           64,
           64
          ],
          [
           0.08390530376561424,
           0.0070401,
           "8",
           256,
           256
          ],
          [
           0.11919815434812739,
           0.0142082,
           "8",
           1024,
           1024
          ],
          [
           0.3321038994049904,
           0.110293,
           "8",
           8192,
           8192
          ],
          [
           0.2110935811435298,
           0.0445605,
           "8",
           4096,
           4096
          ],
          [
           0.15257883208361506,
           0.0232803,
           "8",
           2048,
           2048
          ]
         ],
         "hovertemplate": "M=%{customdata[2]}<br>Operational Intensity (TFLOPs/GB/s)=%{x}<br>Performance (TFLOPs)=%{y}<br>Execution Time (ms)=%{customdata[1]}<br>N=%{customdata[3]}<br>K=%{customdata[4]}<extra></extra>",
         "legendgroup": "8",
         "marker": {
          "color": "#109618",
          "size": {
           "bdata": "3Xk5Rt7w4j8yxvrNvzmzPx52QJq92Lg/LNujKpontj/JXqJn0Xq1P1Y0qy7Fg74/bmK0tjBB1T8DGLRNHQXLP1I17gK0h8M/",
           "dtype": "f8"
          },
          "sizemode": "area",
          "sizeref": 0.0035231998949818333,
          "symbol": "circle"
         },
         "mode": "markers",
         "name": "8",
         "orientation": "v",
         "showlegend": true,
         "type": "scatter",
         "x": {
          "bdata": "iYNHdDNekD89K9UnhiCNP6yRjQplxo8/QCphXuI2ij+ZTf0xJNeOP+kMs73EIZA/plF26h9akD8hBRQc/FGQP9cRPDzLQZA/",
          "dtype": "f8"
         },
         "xaxis": "x",
         "y": {
          "bdata": "hslUwaiEKECHGuDdJcynP+XQItv5ftw/iHU2JrzrgT+e6/twkBDDP9uizAaZ5PI/DYl7LH14I0BGQlvOpRgYQOSDns2qDwdA",
          "dtype": "f8"
         },
         "yaxis": "y"
        },
        {
         "customdata": [
          [
           0.21201061294189968,
           0.0449485,
           "16",
           4096,
           4096
          ],
          [
           0.11830553664135927,
           0.0139962,
           "16",
           1024,
           1024
          ],
          [
           0.09865140647755612,
           0.0097321,
           "16",
           512,
           512
          ],
          [
           0.3323266465392145,
           0.110441,
           "16",
           8192,
           8192
          ],
          [
           0.07014271166700073,
           0.00492,
           "16",
           64,
           64
          ],
          [
           0.5950504180319512,
           0.354085,
           "16",
           16384,
           16384
          ],
          [
           0.15231644691234103,
           0.0232003,
           "16",
           2048,
           2048
          ],
          [
           0.07517978451685,
           0.005652,
           "16",
           128,
           128
          ],
          [
           0.08660311772678857,
           0.0075001,
           "16",
           256,
           256
          ]
         ],
         "hovertemplate": "M=%{customdata[2]}<br>Operational Intensity (TFLOPs/GB/s)=%{x}<br>Performance (TFLOPs)=%{y}<br>Execution Time (ms)=%{customdata[1]}<br>N=%{customdata[3]}<br>K=%{customdata[4]}<extra></extra>",
         "legendgroup": "16",
         "marker": {
          "color": "#990099",
          "size": {
           "bdata": "j8R+7Ckjyz9DdM+KRUm+P5GHhvQ3Qbk/9Gqe+9ZE1T9Km6ls3/SxPzNjnSynCuM/iNIQ9xp/wz9++NF7+z6zPwNCXjafK7Y/",
           "dtype": "f8"
          },
          "sizemode": "area",
          "sizeref": 0.0035231998949818333,
          "symbol": "circle"
         },
         "mode": "markers",
         "name": "16",
         "orientation": "v",
         "showlegend": true,
         "type": "scatter",
         "x": {
          "bdata": "aXcO4cdBoD+mBEe5bMafP3K4mRQp154/ParTOP5RoD/dW139atiVP4re8QQeWqA//wm5v8ghoD/0nfwQ4TaaP8mT/0uNIJ0/",
          "dtype": "f8"
         },
         "xaxis": "x",
         "y": {
          "bdata": "pU5AE2HjJ0B2cRsN4C0DQOwYV1wcles/Ns07TtFxM0BLXvgcs0ebP99PjZduQjhAhzO/mgMkF0CE8dO4N7+3P+D1mbM+5dE/",
          "dtype": "f8"
         },
         "yaxis": "y"
        },
        {
         "customdata": [
          [
           0.6243476595615619,
           0.38981,
           "32",
           16384,
           16384
          ],
          [
           0.07022819946431774,
           0.004932,
           "32",
           128,
           128
          ],
          [
           0.08442807589895675,
           0.0071281,
           "32",
           256,
           256
          ],
          [
           0.1198006677777716,
           0.0143522,
           "32",
           1024,
           1024
          ],
          [
           0.07022891142542365,
           0.0049321,
           "32",
           64,
           64
          ],
          [
           0.35988053573373485,
           0.129514,
           "32",
           8192,
           8192
          ],
          [
           0.09738634401187879,
           0.0094841,
           "32",
           512,
           512
          ],
          [
           0.1538320512767089,
           0.0236643,
           "32",
           2048,
           2048
          ],
          [
           0.2137208459650111,
           0.0456766,
           "32",
           4096,
           4096
          ]
         ],
         "hovertemplate": "M=%{customdata[2]}<br>Operational Intensity (TFLOPs/GB/s)=%{x}<br>Performance (TFLOPs)=%{y}<br>Execution Time (ms)=%{customdata[1]}<br>N=%{customdata[3]}<br>K=%{customdata[4]}<extra></extra>",
         "legendgroup": "32",
         "marker": {
          "color": "#0099C6",
          "size": {
           "bdata": "Z9Vk8af64z8kyvSrefqxP1mo2RAUnbU/TP0krkGrvj/YTc6dhfqxP9tf3F5ICNc/hKebuk/uuD8KsKfGxLDDP5lT8mU0W8s/",
           "dtype": "f8"
          },
          "sizemode": "area",
          "sizeref": 0.0035231998949818333,
          "symbol": "circle"
         },
         "mode": "markers",
         "name": "32",
         "orientation": "v",
         "showlegend": true,
         "type": "scatter",
         "x": {
          "bdata": "JlXJDf1RsD/UDZumadilPzqr/MHoNqo/HpfUnCjXrj+WAVhmS2KgP7bF7GLKQbA/7yNcYYcgrT+wzeNzaMavP7XW0zfGIbA/",
          "dtype": "f8"
         },
         "xaxis": "x",
         "y": {
          "bdata": "4XoUrkcJRkA4SfPHtDbLP1kWTPxR1OI/wLLSpBS0EkDJioYxjjarPwYSFD/GlEBABHP0+L1N/D8dWmQ7368mQFK4HoXrgTdA",
          "dtype": "f8"
         },
         "yaxis": "y"
        },
        {
         "customdata": [
          [
           0.08182970120927975,
           0.0066961,
           "64",
           256,
           256
          ],
          [
           0.06729041536504289,
           0.004528,
           "64",
           64,
           64
          ],
          [
           0.11934906786397621,
           0.0142442,
           "64",
           1024,
           1024
          ],
          [
           0.0708801805866774,
           0.005024,
           "64",
           128,
           128
          ],
          [
           0.4096120115426304,
           0.167782,
           "64",
           8192,
           8192
          ],
          [
           0.23443698513673136,
           0.0549607,
           "64",
           4096,
           4096
          ],
          [
           0.766829837708471,
           0.588028,
           "64",
           16384,
           16384
          ],
          [
           0.15642346371308877,
           0.0244683,
           "64",
           2048,
           2048
          ],
          [
           0.09765295694447762,
           0.0095361,
           "64",
           512,
           512
          ]
         ],
         "hovertemplate": "M=%{customdata[2]}<br>Operational Intensity (TFLOPs/GB/s)=%{x}<br>Performance (TFLOPs)=%{y}<br>Execution Time (ms)=%{customdata[1]}<br>N=%{customdata[3]}<br>K=%{customdata[4]}<extra></extra>",
         "legendgroup": "64",
         "marker": {
          "color": "#DD4477",
          "size": {
           "bdata": "9QmJksrytD/RvVPV8TmxPzWrSBepjb4/HeqNGTQlsj+29WdMFTfaP+9KEfgHAs4/gMFRut6J6D/nxHwerwXEP4gpb8DI/7g/",
           "dtype": "f8"
          },
          "sizemode": "area",
          "sizeref": 0.0035231998949818333,
          "symbol": "circle"
         },
         "mode": "markers",
         "name": "64",
         "orientation": "v",
         "showlegend": true,
         "type": "scatter",
         "x": {
          "bdata": "1aLV72XYtT+60L1saNilP6d8hEOKIL0/g8iv9E5isD9Mktg6xyHAP6TldeNnxr8/MacqM8pBwD8akfCMJNe+P90kMIHeNro/",
          "dtype": "f8"
         },
         "xaxis": "x",
         "y": {
          "bdata": "l8rbEU4L9D9w7URJSKS9P2NFDaZh2CJAwOldvB+32j/wp8ZLN5lJQDarPldbiUNAZapgVFI3TUAbL90kBvE1QKBU+3Q8JgxA",
          "dtype": "f8"
         },
         "yaxis": "y"
        },
        {
         "customdata": [
          [
           0.06428141255448576,
           0.0041321,
           "128",
           64,
           64
          ],
          [
           0.9807899877139856,
           0.961949,
           "128",
           16384,
           16384
          ],
          [
           0.1232566428230138,
           0.0151922,
           "128",
           1024,
           1024
          ],
          [
           0.277187481679819,
           0.0768329,
           "128",
           4096,
           4096
          ],
          [
           0.09705771478867613,
           0.0094202,
           "128",
           512,
           512
          ],
          [
           0.540051849362633,
           0.291656,
           "128",
           8192,
           8192
          ],
          [
           0.17097455951105708,
           0.0292323,
           "128",
           2048,
           2048
          ],
          [
           0.06945574130336526,
           0.0048241,
           "128",
           128,
           128
          ],
          [
           0.07987552816726785,
           0.0063801,
           "128",
           256,
           256
          ]
         ],
         "hovertemplate": "M=%{customdata[2]}<br>Operational Intensity (TFLOPs/GB/s)=%{x}<br>Performance (TFLOPs)=%{y}<br>Execution Time (ms)=%{customdata[1]}<br>N=%{customdata[3]}<br>K=%{customdata[4]}<extra></extra>",
         "legendgroup": "128",
         "marker": {
          "color": "#66AA00",
          "size": {
           "bdata": "84WpJL90sD/WOS+voWLvP3SJ8FG/jb8/HDorkHC90T8bhNc+xti4P7oE5dAaSOE/uyTGjn7ixT8W2mr52cexPxGpOv24crQ/",
           "dtype": "f8"
          },
          "sizemode": "area",
          "sizeref": 0.0035231998949818333,
          "symbol": "circle"
         },
         "mode": "markers",
         "name": "128",
         "orientation": "v",
         "showlegend": true,
         "type": "scatter",
         "x": {
          "bdata": "/sP29t42qj+t4S2zxSHQP/X7WH3kNso/ib9SRCvXzj/rX//8ZtjFP9gtsNhkxs8/Il5zh4ggzT/A46rpbdi1P3O0kSZOYsA/",
          "dtype": "f8"
         },
         "xaxis": "x",
         "y": {
          "bdata": "jdR7Kqc90D9kXdxGA9xRQHo2qz5XqzFAl5APejbzS0Ae+YOB534cQBb7y+7Jc01AS8gHPZtdQkDOUrKchNLrP5pC5zV2CQVA",
          "dtype": "f8"
         },
         "yaxis": "y"
        },
        {
         "customdata": [
          [
           0.06991423317179414,
           0.004888,
           "256",
           128,
           128
          ],
          [
           0.08148619514985345,
           0.00664,
           "256",
           256,
           256
          ],
          [
           0.10123289979053252,
           0.0102481,
           "256",
           512,
           512
          ],
          [
           0.06421915602061429,
           0.0041241,
           "256",
           64,
           64
          ],
          [
           1.4092799579927333,
           1.98607,
           "256",
           16384,
           16384
          ],
          [
           0.695532889229546,
           0.483766,
           "256",
           8192,
           8192
          ],
          [
           0.3841275829721162,
           0.147554,
           "256",
           4096,
           4096
          ],
          [
           0.13213705006545287,
           0.0174602,
           "256",
           1024,
           1024
          ],
          [
           0.19144816530852418,
           0.0366524,
           "256",
           2048,
           2048
          ]
         ],
         "hovertemplate": "M=%{customdata[2]}<br>Operational Intensity (TFLOPs/GB/s)=%{x}<br>Performance (TFLOPs)=%{y}<br>Execution Time (ms)=%{customdata[1]}<br>N=%{customdata[3]}<br>K=%{customdata[4]}<extra></extra>",
         "legendgroup": "256",
         "marker": {
          "color": "#B82E2E",
          "size": {
           "bdata": "IW7/MOblsT/4fD5/R9y0P1As4Tlm6rk/ZKDipqpwsD/uyickaYz2P7gQkTDOQeY/P9WW24uV2D8Rfk/q3enAP1WNcJxfgcg/",
           "dtype": "f8"
          },
          "sizemode": "area",
          "sizeref": 0.0035231998949818333,
          "symbol": "circle"
         },
         "mode": "markers",
         "name": "256",
         "orientation": "v",
         "showlegend": true,
         "type": "scatter",
         "x": {
          "bdata": "xcANW+A2uj+Bg3obatjFPxn4UjNLYtA/PUGaM4ggrT/AA9XzZsbfP0FMriAm194/UC3fZIwg3T90NhmEadjVP0S7q3nlNto/",
          "dtype": "f8"
         },
         "xaxis": "x",
         "y": {
          "bdata": "9kArMGR1+z+7Cik/qTYUQG+BBMWPMSpADQBV3LhF4D83iUFg5UxRQBKDwMqhwVFAQYLix5gbTUDImLuWkL8+QN0kBoGVS01A",
          "dtype": "f8"
         },
         "yaxis": "y"
        },
        {
         "line": {
          "color": "tomato",
          "width": 1
         },
         "mode": "lines",
         "name": "Theoretical Roofline",
         "opacity": 0.45,
         "type": "scatter",
         "x": [
          0.000630957344480193,
          0.0006403432349044165,
          0.0006498687463978393,
          0.0006595359559123637,
          0.000669346971295866,
          0.0006793039317517976,
          0.0006894090083056164,
          0.0006996644042781601,
          0.0007100723557660607,
          0.0007206351321293053,
          0.0007313550364860471,
          0.0007422344062147839,
          0.0007532756134639995,
          0.0007644810656693899,
          0.0007758532060787836,
          0.0007873945142848672,
          0.000799107506765842,
          0.0008109947374341176,
          0.0008230587981931686,
          0.0008353023195026779,
          0.0008477279709520809,
          0.0008603384618426507,
          0.0008731365417782328,
          0.0008861250012647729,
          0.0008993066723187614,
          0.0009126844290847301,
          0.0009262611884619294,
          0.0009400399107403378,
          0.0009540236002461228,
          0.0009682153059967076,
          0.0009826181223655834,
          0.0009972351897570052,
          0.0010120696952907351,
          0.0010271248734969607,
          0.0010424040070215557,
          0.001057910427341834,
          0.0010736475154929422,
          0.001089618702805071,
          0.0011058274716516216,
          0.0011222773562085072,
          0.0011389719432247471,
          0.0011559148728045273,
          0.0011731098392008875,
          0.0011905605916212258,
          0.001208270935044776,
          0.0012262447310522496,
          0.001244485898667819,
          0.0012629984152136265,
          0.0012817863171769978,
          0.0013008537010905706,
          0.0013202047244255004,
          0.001339843606497962,
          0.0013597746293891328,
          0.001380002138878859,
          0.0014005305453932196,
          0.0014213643249661768,
          0.001442508020215534,
          0.0014639662413334156,
          0.001485743667091472,
          0.0015078450458610511,
          0.0015302751966485332,
          0.001553039010146073,
          0.0015761414497979728,
          0.0015995875528829093,
          0.001623382431612278,
          0.0016475312742448575,
          0.0016720393462180635,
          0.0016969119912960313,
          0.001722154632734777,
          0.0017477727744646808,
          0.0017737720022905825,
          0.0018001579851097073,
          0.001826936476147719,
          0.001854113314213161,
          0.0018816944249705557,
          0.0019096858222324353,
          0.001938093609270612,
          0.0019669239801469317,
          0.0019961832210638364,
          0.002025877711735017,
          0.002056013926776442,
          0.0020865984371181024,
          0.0021176379114367363,
          0.002149139117609875,
          0.00218110892419152,
          0.0022135543019097597,
          0.0022464823251866894,
          0.0022799001736809135,
          0.0023138151338530093,
          0.0023482346005542763,
          0.002383166078639107,
          0.002418617184601366,
          0.002454595648235091,
          0.0024911093143199043,
          0.0025281661443315004,
          0.0025657742181775635,
          0.0026039417359595336,
          0.002642677019760554,
          0.00268198851546003,
          0.002721884794575177,
          0.002762374556129961,
          0.002803466628551846,
          0.002845169971596743,
          0.002887493678302619,
          0.0029304469769721414,
          0.0029740392331848286,
          0.003018279951839135,
          0.003063178779224893,
          0.0031087455051266215,
          0.0031549900649580852,
          0.003201922541928626,
          0.0032495531692417197,
          0.0032978923323262192,
          0.0033469505711008255,
          0.003396738582272206,
          0.003447267221667321,
          0.003498547506600441,
          0.0035505906182753586,
          0.00360340790422337,
          0.0036570108807774896,
          0.0037114112355834837,
          0.0037666208301482627,
          0.003822651702426157,
          0.0038795160694437116,
          0.0039372263299634795,
          0.0039957950671874656,
          0.004055235051500786,
          0.004115559243256111,
          0.004176780795599602,
          0.004238913057338779,
          0.0043019695758531465,
          0.004365964100048068,
          0.004430910583352584,
          0.0044968231867618435,
          0.0045637162819247585,
          0.004631604454277644,
          0.004700502506224419,
          0.004770425460364142,
          0.004841388562766562,
          0.0049134072862963615,
          0.00498649733398691,
          0.005060674642464144,
          0.005135955385421413,
          0.0052123559771460135,
          0.005289893076098151,
          0.0053685835885432034,
          0.005448444672237955,
          0.005529493740171698,
          0.005611748464362984,
          0.005695226779712825,
          0.005779946887915268,
          0.005865927261426091,
          0.005953186647490561,
          0.006041744072231109,
          0.006131618844795769,
          0.0062228305615684345,
          0.006315399110441589,
          0.006409344675152745,
          0.0065046877396853055,
          0.006601449092734883,
          0.006699649832242161,
          0.006799311369993016,
          0.006900455436287239,
          0.007003104084676595,
          0.007107279696773412,
          0.007213004987130694,
          0.007320303008194797,
          0.007429197155331848,
          0.0075397111719288715,
          0.0076518691545708175,
          0.007765695558294623,
          0.007881215201921364,
          0.007998453273467872,
          0.008117435335638632,
          0.008238187331399601,
          0.00836073558963479,
          0.00848510683088702,
          0.008611328173184178,
          0.008739427137951951,
          0.008869431656014705,
          0.009001370073685523,
          0.009135271158946832,
          0.009271164107723088,
          0.00940907855024657,
          0.009549044557518078,
          0.009691092647863608,
          0.009835253793588562,
          0.009981559427731086,
          0.010130041450915617,
          0.010280732238308648,
          0.010433664646677783,
          0.010588872021555857,
          0.010746388204511658,
          0.010906247540528761,
          0.011068484885494119,
          0.01123313561379812,
          0.011400235626047623,
          0.011569821356893762,
          0.011741929782976206,
          0.011916598430985588,
          0.012093865385845823,
          0.012273769299018238,
          0.012456349396929118,
          0.012641645489522726,
          0.012829697978941476,
          0.013020547868335236,
          0.013214236770801744,
          0.013410806918459939,
          0.013610301171658278,
          0.013812763028320095,
          0.014018236633427876,
          0.014226766788648725,
          0.01443839896210294,
          0.014653179298277906,
          0.01487115462808953,
          0.015092372479093273,
          0.015316881085847089,
          0.015544729400428583,
          0.01577596710310851,
          0.01601064461318317,
          0.016248813099967847,
          0.016490524493953804,
          0.0167358314981313,
          0.016984787599480973,
          0.01723744708063619,
          0.017493865031718906,
          0.017754097362351565,
          0.018018200813847654,
          0.018286232971583705,
          0.018558252277555178,
          0.0188343180431193,
          0.019114490461927317,
          0.01939883062304917,
          0.01968740052429346,
          0.019980263085725498,
          0.0202774821633864,
          0.020579122563216427,
          0.020885250055185225,
          0.021195931387632462,
          0.021511234301821662,
          0.021831227546710553,
          0.02215598089394122,
          0.022485565153053135,
          0.02282005218692254,
          0.023159514927431533,
          0.023504027391370152,
          0.023853664696575138,
          0.024208503078308654,
          0.02456861990588069,
          0.024934093699518777,
          0.025305004147488624,
          0.025681432123469343,
          0.026063459704187348,
          0.02645117018731232,
          0.026844648109619625,
          0.027243979265422734,
          0.027649250725279878,
          0.028060550854979063,
          0.028477969334805415,
          0.028901597179095087,
          0.02933152675608022,
          0.029767851808028958,
          0.03021066747168505,
          0.030660070299011674,
          0.0311161582782436,
          0.03157903085525274,
          0.032048788955231375,
          0.03252553500469797,
          0.0330093729538304,
          0.033500408299131326,
          0.033998748106430714,
          0.034504501034230674,
          0.035017777357397334,
          0.035538688991205415,
          0.03606734951574028,
          0.036603874200662995,
          0.03714838003034395,
          0.037700985729370216,
          0.038261811788432264,
          0.03883098049059605,
          0.03940861593796556,
          0.0399948440787423,
          0.040589792734687095,
          0.04119359162899044,
          0.041806372414557556,
          0.04242826870271408,
          0.043059416092338744,
          0.04369995219942964,
          0.04435001668710996,
          0.04500975129608044,
          0.045679299875524604,
          0.04635880841447367,
          0.04704842507363831,
          0.04774830021771365,
          0.048458586448164934,
          0.04917943863650096,
          0.049911013958042406,
          0.05065347192619239,
          0.05140697442721711,
          0.052171685755543463,
          0.052947772649582184,
          0.05373540432808354,
          0.05453475252703389,
          0.05534599153710131,
          0.05616929824163807,
          0.057004852155248295,
          0.057852835462929776,
          0.058713433059797496,
          0.059586832591398534,
          0.06047322449462646,
          0.061372802039244216,
          0.062285761370025075,
          0.06321230154952014,
          0.06415262460146202,
          0.06510693555481455,
          0.06607544248847724,
          0.06705835657665525,
          0.06805589213490368,
          0.06906826666685753,
          0.07009570091165618,
          0.07113841889207363,
          0.07219664796336471,
          0.07327061886283753,
          0.07436056576016416,
          0.07546672630843887,
          0.07658934169599635,
          0.07772865669900064,
          0.07888491973481646,
          0.08005838291617402,
          0.08124930210614047,
          0.08245793697390816,
          0.08368455105141323,
          0.08492941179079656,
          0.08619279062271884,
          0.08747496301554415,
          0.08877620853540302,
          0.09009681090714934,
          0.09143705807622417,
          0.09279724227143918,
          0.09417766006869518,
          0.09557861245564737,
          0.09700040489733308,
          0.09844334740277572,
          0.09990775459257947,
          0.10139394576752918,
          0.10290224497821149,
          0.10443298109567087,
          0.105986487883117,
          0.10756310406869898,
          0.10916317341936148,
          0.11078704481580069,
          0.11243507232853421,
          0.114107615295103,
          0.11580503839842167,
          0.11752771174629452,
          0.1192760109521136,
          0.12105031721675866,
          0.122851017411714,
          0.1246785041634225,
          0.1265331759388943,
          0.12841543713258854,
          0.1303256981545887,
          0.13226437552008816,
          0.13423189194020785,
          0.13622867641416467,
          0.13825516432281043,
          0.14031179752356343,
          0.142399024446751,
          0.14451730019338585,
          0.1466670866343967,
          0.14884885251133523,
          0.15106307353858037,
          0.15331023250706438,
          0.15559081938954056,
          0.15790533144741742,
          0.1602542733391823,
          0.16263815723043692,
          0.16505750290557142,
          0.16751283788109808,
          0.17000469752067163,
          0.1725336251518207,
          0.1751001721844147,
          0.17770489823089497,
          0.18034837122829236,
          0.18303116756206111,
          0.18575387219175438,
          0.18851707877856966,
          0.1913213898147904,
          0.1941674167551554,
          0.19705578015017983,
          0.1999871097814613,
          0.202962044798998,
          0.20598123386054876,
          0.20904533527306848,
          0.21215501713624502,
          0.2153109574881725,
          0.21851384445319152,
          0.2217643763919286,
          0.2250632620535666,
          0.22841122073038234,
          0.23180898241458092,
          0.23525728795746426,
          0.23875688923096716,
          0.24230854929159534,
          0.2459130425468044,
          0.2495711549238514,
          0.2532836840411596,
          0.257051439382232,
          0.2608752424721512,
          0.26475592705670664,
          0.26869433928418485,
          0.2726913378898642,
          0.27674779438325475,
          0.2808645932381233,
          0.2850426320853435,
          0.28928282190861804,
          0.2935860872431096,
          0.2979533663770271,
          0.30238561155621174,
          0.30688378919176423,
          0.31144888007076393,
          0.31608187957011924,
          0.3207837978736011,
          0.3255556601921043,
          0.3303985069871858,
          0.3353133941979267,
          0.3403013934711724,
          0.34536359239519365,
          0.35050109473682656,
          0.3557150206821386,
          0.36100650708067394,
          0.3663767076933356,
          0.3718267934439506,
          0.3773579526745804,
          0.3829713914046281,
          0.38866833359379865,
          0.39445002140897467,
          0.4003177154950579,
          0.40627269524984233,
          0.4123162591029748,
          0.4184497247990667,
          0.42467442968501457,
          0.43099173100159865,
          0.437403006179416,
          0.44390965313921665,
          0.4505130905967084,
          0.457214758371893,
          0.46401611770300877,
          0.47091865156513857,
          0.4779238649935595,
          0.48503328541190244,
          0.49224846296519337,
          0.4995709708578466,
          0.5070024056966907,
          0.5145443878390924,
          0.5221985617462613,
          0.5299665963418103,
          0.5378501853756472,
          0.545851047793285,
          0.5539709281106401,
          0.5622115967944088,
          0.5705748506481026,
          0.5790625132038222,
          0.5876764351198657,
          0.596418494584246,
          0.6052905977242131,
          0.6142946790218682,
          0.6234327017359601,
          0.6327066583299547,
          0.6421185709064758,
          0.6516704916482057,
          0.6613645032653442,
          0.6712027194497265,
          0.6811872853356915,
          0.6913203779678128,
          0.7016042067755814,
          0.7120410140551527,
          0.722633075458259,
          0.7333827004883925,
          0.7442922330043759,
          0.7553640517314165,
          0.7666005707797673,
          0.7780042401711011,
          0.789577546372717,
          0.8013230128396887,
          0.8132432005650857,
          0.8253407086383725,
          0.8376181748121161,
          0.8500782760771264,
          0.862723729246145,
          0.8755572915462285,
          0.888581761219932,
          0.9017999781354427,
          0.9152148244057868,
          0.9288292250172498,
          0.9426461484671392,
          0.9566686074110443,
          0.9708996593197148,
          0.985342407145716,
          1
         ],
         "y": [
          0.6057190507009853,
          0.6147295055082398,
          0.6238739965419258,
          0.6331545176758692,
          0.6425730924440314,
          0.6521317744817257,
          0.6618326479733917,
          0.6716778281070337,
          0.6816694615354182,
          0.6918097268441331,
          0.7021008350266053,
          0.7125450299661925,
          0.7231445889254395,
          0.7339018230426143,
          0.7448190778356322,
          0.7558987337134725,
          0.7671432064952084,
          0.7785549479367528,
          0.7901364462654418,
          0.8018902267225708,
          0.8138188521139977,
          0.8259249233689446,
          0.8382110801071034,
          0.850680001214182,
          0.8633344054260109,
          0.8761770519213409,
          0.8892107409234522,
          0.9024383143107243,
          0.9158626562362779,
          0.9294866937568393,
          0.94331339747096,
          0.9573457821667251,
          0.9715869074791057,
          0.9860398785570822,
          1.0007078467406934,
          1.0155940102481607,
          1.0307016148732244,
          1.046033954692868,
          1.0615943727855568,
          1.0773862619601668,
          1.0934130654957572,
          1.1096782778923462,
          1.126185445632852,
          1.1429381679563768,
          1.159940097642985,
          1.1771949418101597,
          1.1947064627211064,
          1.2124784786050815,
          1.230514864489918,
          1.2488195530469477,
          1.2673965354484804,
          1.2862498622380434,
          1.3053836442135676,
          1.3248020533237046,
          1.3445093235774908,
          1.3645097519675298,
          1.3848076994069127,
          1.405407591680079,
          1.426313920407813,
          1.447531244026609,
          1.469064188782592,
          1.49091744974023,
          1.513095791806054,
          1.535604050767593,
          1.558447134347787,
          1.5816300232750633,
          1.6051577723693409,
          1.6290355116441901,
          1.6532684474253858,
          1.6778618634860936,
          1.702821122198959,
          1.728151665705319,
          1.7538590171018102,
          1.7799487816446347,
          1.8064266479717335,
          1.8332983893431378,
          1.8605698648997875,
          1.8882470209410545,
          1.916335892221283,
          1.9448426032656163,
          1.973773369705384,
          2.0031344996333784,
          2.032932394979267,
          2.06317355290548,
          2.093864567223859,
          2.1250121298333693,
          2.1566230321792217,
          2.188704166733677,
          2.221262528498889,
          2.254305216532105,
          2.2878394354935425,
          2.3218724972173113,
          2.356411822305687,
          2.3914649417471083,
          2.42703949855824,
          2.463143249450461,
          2.499784066521152,
          2.536969938970132,
          2.5747089748416285,
          2.6130094027921698,
          2.6518795738847625,
          2.691327963409772,
          2.7313631727328733,
          2.771993931170514,
          2.813229097893256,
          2.8550776638574353,
          2.8975487537655695,
          2.9406516280558974,
          2.9843956849215565,
          3.028790462359762,
          3.073845640251481,
          3.119571042472051,
          3.1659766390331705,
          3.2130725482567923,
          3.2608690389813177,
          3.3093765328006284,
          3.3586056063364236,
          3.408566993544344,
          3.459271588054435,
          3.51073044554639,
          3.5629547861601445,
          3.6159559969423323,
          3.669745634329111,
          3.724335426665963,
          3.77973727676494,
          3.835963264499967,
          3.8930256494407547,
          3.9509368735258663,
          4.009709563775618,
          4.069356535045228,
          4.129890792819021,
          4.191325536046145,
          4.25367416001848,
          4.31695025929137,
          4.381167630647768,
          4.446340276106539,
          4.512482405975442,
          4.579608441949576,
          4.6477330202559,
          4.716870994844507,
          4.787037440627433,
          4.858247656765578,
          4.930517170004556,
          5.003861738060173,
          5.078297353054225,
          5.153840245001476,
          5.230506885348436,
          5.30831399056483,
          5.3872785257884654,
          5.467417708524312,
          5.548749012398657,
          5.631290170969047,
          5.715059181590939,
          5.8000743093418645,
          5.8863540910039385,
          5.973917339105697,
          6.062783146023926,
          6.152970888146635,
          6.244500230097893,
          6.337391129025487,
          6.431663838952474,
          6.527338915193296,
          6.624437218835749,
          6.722979921289531,
          6.822988508902475,
          6.924484787645467,
          7.027490887867005,
          7.132029269118575,
          7.238122725051717,
          7.345794388387985,
          7.455067735962838,
          7.565966593844509,
          7.678515142529157,
          7.792737922213087,
          7.908659838143618,
          8.026306166049398,
          8.14570255765154,
          8.26687504625681,
          8.389850052433873,
          8.514654389774117,
          8.641315270738103,
          8.769860312588959,
          8.900317543414165,
          9.032715408236708,
          9.167082775217356,
          9.303448941949064,
          9.441843641845018,
          9.582297050621843,
          9.724839792878992,
          9.869502948776303,
          10.016318060810672,
          10.165317140693622,
          10.316532676331192,
          10.46999763890761,
          10.625745490074355,
          10.783810189246195,
          10.94422620100572,
          11.107028502618011,
          11.272252591657159,
          11.439934493746165,
          11.610110770411989,
          11.782818527057508,
          11.958095421051954,
          12.135979669941817,
          12.316510059783816,
          12.499725953601827,
          12.685667299969674,
          12.874374641721541,
          13.065889124791946,
          13.26025250718729,
          13.45750716809076,
          13.657696117102775,
          13.860863003618823,
          14.06705212634679,
          14.276308442965949,
          14.488677579929542,
          14.704205842413206,
          14.92294022441144,
          15.144928418984168,
          15.370218828655842,
          15.598860575969134,
          15.830903514195652,
          16.066398238206048,
          16.305396095501735,
          16.547949197410745,
          16.79411043045015,
          17.043933467857503,
          17.29747278129375,
          17.554783652720356,
          17.81592218645297,
          18.080945321394527,
          18.349910843450225,
          18.622877398127205,
          18.89990450332172,
          19.18105256229648,
          19.466382876850943,
          19.75595766068777,
          20.049840052977817,
          20.348094132127162,
          20.650784929748795,
          20.95797844484213,
          21.26974165818357,
          21.58614254693101,
          21.90725009944564,
          22.233134330334273,
          22.563866295715346,
          22.899518108712133,
          23.24016295517631,
          23.585875109645464,
          23.936729951538027,
          24.29280398158908,
          24.65417483853057,
          25.020921316019855,
          25.39312337981983,
          25.77086218523484,
          26.154220094805826,
          26.54328069626868,
          26.9381288207799,
          27.3388505614132,
          27.745533291931284,
          28.158265685837012,
          28.5771377357078,
          29.002240772817647,
          29.433667487051206,
          29.871511947113856,
          30.31586962104263,
          30.76683739702212,
          31.224513604510054,
          31.688998035677184,
          32.16039196716607,
          32.63879818217349,
          33.12432099286145,
          33.61706626310144,
          34.1171414315572,
          34.62465553511067,
          35.13971923263647,
          35.662444829130195,
          36.19294630019541,
          36.731339316894974,
          37.27774127097221,
          37.83227130044694,
          38.395050315592606,
          38.96620102529961,
          39.54584796383082,
          40.134117517975255,
          40.731137954605515,
          41.33703944864519,
          41.95195411145245,
          42.57601601962556,
          43.20936124423722,
          43.852127880503616,
          44.50445607789472,
          45.16648807069278,
          45.838368209005104,
          46.52024299023834,
          47.21226109104092,
          47.91457339972071,
          48.627333049144696,
          49.35069545012843,
          50.08481832532173,
          50.8298617435989,
          51.5859881549602,
          52.35336242595253,
          53.13215187561726,
          53.92252631197255,
          54.72465806903836,
          55.53872204441259,
          56.3648957374056,
          57.20335928774259,
          58.0542955148414,
          58.91788995767445,
          59.79433091522407,
          60.68380948753933,
          61.44,
          61.44,
          61.44,
          61.44,
          61.44,
          61.44,
          61.44,
          61.44,
          61.44,
          61.44,
          61.44,
          61.44,
          61.44,
          61.44,
          61.44,
          61.44,
          61.44,
          61.44,
          61.44,
          61.44,
          61.44,
          61.44,
          61.44,
          61.44,
          61.44,
          61.44,
          61.44,
          61.44,
          61.44,
          61.44,
          61.44,
          61.44,
          61.44,
          61.44,
          61.44,
          61.44,
          61.44,
          61.44,
          61.44,
          61.44,
          61.44,
          61.44,
          61.44,
          61.44,
          61.44,
          61.44,
          61.44,
          61.44,
          61.44,
          61.44,
          61.44,
          61.44,
          61.44,
          61.44,
          61.44,
          61.44,
          61.44,
          61.44,
          61.44,
          61.44,
          61.44,
          61.44,
          61.44,
          61.44,
          61.44,
          61.44,
          61.44,
          61.44,
          61.44,
          61.44,
          61.44,
          61.44,
          61.44,
          61.44,
          61.44,
          61.44,
          61.44,
          61.44,
          61.44,
          61.44,
          61.44,
          61.44,
          61.44,
          61.44,
          61.44,
          61.44,
          61.44,
          61.44,
          61.44,
          61.44,
          61.44,
          61.44,
          61.44,
          61.44,
          61.44,
          61.44,
          61.44,
          61.44,
          61.44,
          61.44,
          61.44,
          61.44,
          61.44,
          61.44,
          61.44,
          61.44,
          61.44,
          61.44,
          61.44,
          61.44,
          61.44,
          61.44,
          61.44,
          61.44,
          61.44,
          61.44,
          61.44,
          61.44,
          61.44,
          61.44,
          61.44,
          61.44,
          61.44,
          61.44,
          61.44,
          61.44,
          61.44,
          61.44,
          61.44,
          61.44,
          61.44,
          61.44,
          61.44,
          61.44,
          61.44,
          61.44,
          61.44,
          61.44,
          61.44,
          61.44,
          61.44,
          61.44,
          61.44,
          61.44,
          61.44,
          61.44,
          61.44,
          61.44,
          61.44,
          61.44,
          61.44,
          61.44,
          61.44,
          61.44,
          61.44,
          61.44,
          61.44,
          61.44,
          61.44,
          61.44,
          61.44,
          61.44,
          61.44,
          61.44,
          61.44,
          61.44,
          61.44,
          61.44,
          61.44,
          61.44,
          61.44,
          61.44,
          61.44,
          61.44,
          61.44,
          61.44,
          61.44,
          61.44,
          61.44,
          61.44,
          61.44,
          61.44,
          61.44,
          61.44,
          61.44,
          61.44,
          61.44
         ]
        }
       ],
       "layout": {
        "height": 600,
        "legend": {
         "itemsizing": "constant",
         "title": {
          "text": "M"
         },
         "tracegroupgap": 0
        },
        "template": {
         "data": {
          "bar": [
           {
            "error_x": {
             "color": "#2a3f5f"
            },
            "error_y": {
             "color": "#2a3f5f"
            },
            "marker": {
             "line": {
              "color": "#E5ECF6",
              "width": 0.5
             },
             "pattern": {
              "fillmode": "overlay",
              "size": 10,
              "solidity": 0.2
             }
            },
            "type": "bar"
           }
          ],
          "barpolar": [
           {
            "marker": {
             "line": {
              "color": "#E5ECF6",
              "width": 0.5
             },
             "pattern": {
              "fillmode": "overlay",
              "size": 10,
              "solidity": 0.2
             }
            },
            "type": "barpolar"
           }
          ],
          "carpet": [
           {
            "aaxis": {
             "endlinecolor": "#2a3f5f",
             "gridcolor": "white",
             "linecolor": "white",
             "minorgridcolor": "white",
             "startlinecolor": "#2a3f5f"
            },
            "baxis": {
             "endlinecolor": "#2a3f5f",
             "gridcolor": "white",
             "linecolor": "white",
             "minorgridcolor": "white",
             "startlinecolor": "#2a3f5f"
            },
            "type": "carpet"
           }
          ],
          "choropleth": [
           {
            "colorbar": {
             "outlinewidth": 0,
             "ticks": ""
            },
            "type": "choropleth"
           }
          ],
          "contour": [
           {
            "colorbar": {
             "outlinewidth": 0,
             "ticks": ""
            },
            "colorscale": [
             [
              0,
              "#0d0887"
             ],
             [
              0.1111111111111111,
              "#46039f"
             ],
             [
              0.2222222222222222,
              "#7201a8"
             ],
             [
              0.3333333333333333,
              "#9c179e"
             ],
             [
              0.4444444444444444,
              "#bd3786"
             ],
             [
              0.5555555555555556,
              "#d8576b"
             ],
             [
              0.6666666666666666,
              "#ed7953"
             ],
             [
              0.7777777777777778,
              "#fb9f3a"
             ],
             [
              0.8888888888888888,
              "#fdca26"
             ],
             [
              1,
              "#f0f921"
             ]
            ],
            "type": "contour"
           }
          ],
          "contourcarpet": [
           {
            "colorbar": {
             "outlinewidth": 0,
             "ticks": ""
            },
            "type": "contourcarpet"
           }
          ],
          "heatmap": [
           {
            "colorbar": {
             "outlinewidth": 0,
             "ticks": ""
            },
            "colorscale": [
             [
              0,
              "#0d0887"
             ],
             [
              0.1111111111111111,
              "#46039f"
             ],
             [
              0.2222222222222222,
              "#7201a8"
             ],
             [
              0.3333333333333333,
              "#9c179e"
             ],
             [
              0.4444444444444444,
              "#bd3786"
             ],
             [
              0.5555555555555556,
              "#d8576b"
             ],
             [
              0.6666666666666666,
              "#ed7953"
             ],
             [
              0.7777777777777778,
              "#fb9f3a"
             ],
             [
              0.8888888888888888,
              "#fdca26"
             ],
             [
              1,
              "#f0f921"
             ]
            ],
            "type": "heatmap"
           }
          ],
          "histogram": [
           {
            "marker": {
             "pattern": {
              "fillmode": "overlay",
              "size": 10,
              "solidity": 0.2
             }
            },
            "type": "histogram"
           }
          ],
          "histogram2d": [
           {
            "colorbar": {
             "outlinewidth": 0,
             "ticks": ""
            },
            "colorscale": [
             [
              0,
              "#0d0887"
             ],
             [
              0.1111111111111111,
              "#46039f"
             ],
             [
              0.2222222222222222,
              "#7201a8"
             ],
             [
              0.3333333333333333,
              "#9c179e"
             ],
             [
              0.4444444444444444,
              "#bd3786"
             ],
             [
              0.5555555555555556,
              "#d8576b"
             ],
             [
              0.6666666666666666,
              "#ed7953"
             ],
             [
              0.7777777777777778,
              "#fb9f3a"
             ],
             [
              0.8888888888888888,
              "#fdca26"
             ],
             [
              1,
              "#f0f921"
             ]
            ],
            "type": "histogram2d"
           }
          ],
          "histogram2dcontour": [
           {
            "colorbar": {
             "outlinewidth": 0,
             "ticks": ""
            },
            "colorscale": [
             [
              0,
              "#0d0887"
             ],
             [
              0.1111111111111111,
              "#46039f"
             ],
             [
              0.2222222222222222,
              "#7201a8"
             ],
             [
              0.3333333333333333,
              "#9c179e"
             ],
             [
              0.4444444444444444,
              "#bd3786"
             ],
             [
              0.5555555555555556,
              "#d8576b"
             ],
             [
              0.6666666666666666,
              "#ed7953"
             ],
             [
              0.7777777777777778,
              "#fb9f3a"
             ],
             [
              0.8888888888888888,
              "#fdca26"
             ],
             [
              1,
              "#f0f921"
             ]
            ],
            "type": "histogram2dcontour"
           }
          ],
          "mesh3d": [
           {
            "colorbar": {
             "outlinewidth": 0,
             "ticks": ""
            },
            "type": "mesh3d"
           }
          ],
          "parcoords": [
           {
            "line": {
             "colorbar": {
              "outlinewidth": 0,
              "ticks": ""
             }
            },
            "type": "parcoords"
           }
          ],
          "pie": [
           {
            "automargin": true,
            "type": "pie"
           }
          ],
          "scatter": [
           {
            "fillpattern": {
             "fillmode": "overlay",
             "size": 10,
             "solidity": 0.2
            },
            "type": "scatter"
           }
          ],
          "scatter3d": [
           {
            "line": {
             "colorbar": {
              "outlinewidth": 0,
              "ticks": ""
             }
            },
            "marker": {
             "colorbar": {
              "outlinewidth": 0,
              "ticks": ""
             }
            },
            "type": "scatter3d"
           }
          ],
          "scattercarpet": [
           {
            "marker": {
             "colorbar": {
              "outlinewidth": 0,
              "ticks": ""
             }
            },
            "type": "scattercarpet"
           }
          ],
          "scattergeo": [
           {
            "marker": {
             "colorbar": {
              "outlinewidth": 0,
              "ticks": ""
             }
            },
            "type": "scattergeo"
           }
          ],
          "scattergl": [
           {
            "marker": {
             "colorbar": {
              "outlinewidth": 0,
              "ticks": ""
             }
            },
            "type": "scattergl"
           }
          ],
          "scattermap": [
           {
            "marker": {
             "colorbar": {
              "outlinewidth": 0,
              "ticks": ""
             }
            },
            "type": "scattermap"
           }
          ],
          "scattermapbox": [
           {
            "marker": {
             "colorbar": {
              "outlinewidth": 0,
              "ticks": ""
             }
            },
            "type": "scattermapbox"
           }
          ],
          "scatterpolar": [
           {
            "marker": {
             "colorbar": {
              "outlinewidth": 0,
              "ticks": ""
             }
            },
            "type": "scatterpolar"
           }
          ],
          "scatterpolargl": [
           {
            "marker": {
             "colorbar": {
              "outlinewidth": 0,
              "ticks": ""
             }
            },
            "type": "scatterpolargl"
           }
          ],
          "scatterternary": [
           {
            "marker": {
             "colorbar": {
              "outlinewidth": 0,
              "ticks": ""
             }
            },
            "type": "scatterternary"
           }
          ],
          "surface": [
           {
            "colorbar": {
             "outlinewidth": 0,
             "ticks": ""
            },
            "colorscale": [
             [
              0,
              "#0d0887"
             ],
             [
              0.1111111111111111,
              "#46039f"
             ],
             [
              0.2222222222222222,
              "#7201a8"
             ],
             [
              0.3333333333333333,
              "#9c179e"
             ],
             [
              0.4444444444444444,
              "#bd3786"
             ],
             [
              0.5555555555555556,
              "#d8576b"
             ],
             [
              0.6666666666666666,
              "#ed7953"
             ],
             [
              0.7777777777777778,
              "#fb9f3a"
             ],
             [
              0.8888888888888888,
              "#fdca26"
             ],
             [
              1,
              "#f0f921"
             ]
            ],
            "type": "surface"
           }
          ],
          "table": [
           {
            "cells": {
             "fill": {
              "color": "#EBF0F8"
             },
             "line": {
              "color": "white"
             }
            },
            "header": {
             "fill": {
              "color": "#C8D4E3"
             },
             "line": {
              "color": "white"
             }
            },
            "type": "table"
           }
          ]
         },
         "layout": {
          "annotationdefaults": {
           "arrowcolor": "#2a3f5f",
           "arrowhead": 0,
           "arrowwidth": 1
          },
          "autotypenumbers": "strict",
          "coloraxis": {
           "colorbar": {
            "outlinewidth": 0,
            "ticks": ""
           }
          },
          "colorscale": {
           "diverging": [
            [
             0,
             "#8e0152"
            ],
            [
             0.1,
             "#c51b7d"
            ],
            [
             0.2,
             "#de77ae"
            ],
            [
             0.3,
             "#f1b6da"
            ],
            [
             0.4,
             "#fde0ef"
            ],
            [
             0.5,
             "#f7f7f7"
            ],
            [
             0.6,
             "#e6f5d0"
            ],
            [
             0.7,
             "#b8e186"
            ],
            [
             0.8,
             "#7fbc41"
            ],
            [
             0.9,
             "#4d9221"
            ],
            [
             1,
             "#276419"
            ]
           ],
           "sequential": [
            [
             0,
             "#0d0887"
            ],
            [
             0.1111111111111111,
             "#46039f"
            ],
            [
             0.2222222222222222,
             "#7201a8"
            ],
            [
             0.3333333333333333,
             "#9c179e"
            ],
            [
             0.4444444444444444,
             "#bd3786"
            ],
            [
             0.5555555555555556,
             "#d8576b"
            ],
            [
             0.6666666666666666,
             "#ed7953"
            ],
            [
             0.7777777777777778,
             "#fb9f3a"
            ],
            [
             0.8888888888888888,
             "#fdca26"
            ],
            [
             1,
             "#f0f921"
            ]
           ],
           "sequentialminus": [
            [
             0,
             "#0d0887"
            ],
            [
             0.1111111111111111,
             "#46039f"
            ],
            [
             0.2222222222222222,
             "#7201a8"
            ],
            [
             0.3333333333333333,
             "#9c179e"
            ],
            [
             0.4444444444444444,
             "#bd3786"
            ],
            [
             0.5555555555555556,
             "#d8576b"
            ],
            [
             0.6666666666666666,
             "#ed7953"
            ],
            [
             0.7777777777777778,
             "#fb9f3a"
            ],
            [
             0.8888888888888888,
             "#fdca26"
            ],
            [
             1,
             "#f0f921"
            ]
           ]
          },
          "colorway": [
           "#636efa",
           "#EF553B",
           "#00cc96",
           "#ab63fa",
           "#FFA15A",
           "#19d3f3",
           "#FF6692",
           "#B6E880",
           "#FF97FF",
           "#FECB52"
          ],
          "font": {
           "color": "#2a3f5f"
          },
          "geo": {
           "bgcolor": "white",
           "lakecolor": "white",
           "landcolor": "#E5ECF6",
           "showlakes": true,
           "showland": true,
           "subunitcolor": "white"
          },
          "hoverlabel": {
           "align": "left"
          },
          "hovermode": "closest",
          "mapbox": {
           "style": "light"
          },
          "paper_bgcolor": "white",
          "plot_bgcolor": "#E5ECF6",
          "polar": {
           "angularaxis": {
            "gridcolor": "white",
            "linecolor": "white",
            "ticks": ""
           },
           "bgcolor": "#E5ECF6",
           "radialaxis": {
            "gridcolor": "white",
            "linecolor": "white",
            "ticks": ""
           }
          },
          "scene": {
           "xaxis": {
            "backgroundcolor": "#E5ECF6",
            "gridcolor": "white",
            "gridwidth": 2,
            "linecolor": "white",
            "showbackground": true,
            "ticks": "",
            "zerolinecolor": "white"
           },
           "yaxis": {
            "backgroundcolor": "#E5ECF6",
            "gridcolor": "white",
            "gridwidth": 2,
            "linecolor": "white",
            "showbackground": true,
            "ticks": "",
            "zerolinecolor": "white"
           },
           "zaxis": {
            "backgroundcolor": "#E5ECF6",
            "gridcolor": "white",
            "gridwidth": 2,
            "linecolor": "white",
            "showbackground": true,
            "ticks": "",
            "zerolinecolor": "white"
           }
          },
          "shapedefaults": {
           "line": {
            "color": "#2a3f5f"
           }
          },
          "ternary": {
           "aaxis": {
            "gridcolor": "white",
            "linecolor": "white",
            "ticks": ""
           },
           "baxis": {
            "gridcolor": "white",
            "linecolor": "white",
            "ticks": ""
           },
           "bgcolor": "#E5ECF6",
           "caxis": {
            "gridcolor": "white",
            "linecolor": "white",
            "ticks": ""
           }
          },
          "title": {
           "x": 0.05
          },
          "xaxis": {
           "automargin": true,
           "gridcolor": "white",
           "linecolor": "white",
           "ticks": "",
           "title": {
            "standoff": 15
           },
           "zerolinecolor": "white",
           "zerolinewidth": 2
          },
          "yaxis": {
           "automargin": true,
           "gridcolor": "white",
           "linecolor": "white",
           "ticks": "",
           "title": {
            "standoff": 15
           },
           "zerolinecolor": "white",
           "zerolinewidth": 2
          }
         }
        },
        "title": {
         "text": "AMD RX 7900 XTX Roofline Analysis"
        },
        "xaxis": {
         "anchor": "y",
         "domain": [
          0,
          1
         ],
         "title": {
          "text": "Operational Intensity (TFLOPs/GB/s)"
         },
         "type": "log"
        },
        "yaxis": {
         "anchor": "x",
         "domain": [
          0,
          1
         ],
         "title": {
          "text": "Performance (TFLOPs)"
         },
         "type": "log"
        }
       }
      },
      "image/png": "[encoded data removed]"
     },
     "metadata": {},
     "output_type": "display_data"
    }
   ],
   "source": [
    "fig.show()"
   ]
  }
 ],
 "metadata": {
  "kernelspec": {
   "display_name": "Python (uv Env)",
   "language": "python",
   "name": "ck_roofline"
  },
  "language_info": {
   "codemirror_mode": {
    "name": "ipython",
    "version": 3
   },
   "file_extension": ".py",
   "mimetype": "text/x-python",
   "name": "python",
   "nbconvert_exporter": "python",
   "pygments_lexer": "ipython3",
   "version": "3.13.2"
  }
 },
 "nbformat": 4,
 "nbformat_minor": 5
}
