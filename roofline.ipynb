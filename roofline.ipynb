{
 "cells": [
  {
   "cell_type": "code",
   "execution_count": 90,
   "id": "dc83d9e5-b010-422f-9287-d737c2f888da",
   "metadata": {},
   "outputs": [],
   "source": [
    "import polars as pl\n",
    "import plotly.express as px\n",
    "import plotly.graph_objects as go\n",
    "import re\n",
    "import glob\n",
    "import numpy as np"
   ]
  },
  {
   "cell_type": "code",
   "execution_count": 91,
   "id": "86418108-6a9e-4bb6-b1be-cf5ed44b9de2",
   "metadata": {
    "jupyter": {
     "source_hidden": true
    }
   },
   "outputs": [],
   "source": [
    "def load_gemm_data(path: str):\n",
    "    files = glob.glob(path + \"/*.jsonl\")\n",
    "    pattern = re.compile(r\"M(\\d+)_N(\\d+)_K(\\d+)\")\n",
    "    \n",
    "    dfs = []\n",
    "    for file in files:\n",
    "        match = pattern.search(file)\n",
    "        if match:\n",
    "            M, N, K = match.groups()\n",
    "            df = pl.read_ndjson(file).filter(pl.col(\"is_best\") == \"true\")\n",
    "            dfs.append(df)\n",
    "    \n",
    "    if dfs:\n",
    "        combined_df = pl.concat(dfs)\n",
    "    else:\n",
    "        raise RuntimeError(\"No data loaded\")\n",
    "    return combined_df"
   ]
  },
  {
   "cell_type": "code",
   "execution_count": 92,
   "id": "f735c592-9284-4380-b2e3-f2c107d155a7",
   "metadata": {
    "jupyter": {
     "source_hidden": true
    }
   },
   "outputs": [],
   "source": [
    "def calculate_metrics(df):\n",
    "    df = df.with_columns([\n",
    "        (pl.col(\"tflops\") / pl.col(\"gb_per_sec\")).alias(\"operational_intensity\"),\n",
    "        (pl.col(\"M\").cast(pl.Utf8) + \"_\" + pl.col(\"N\").cast(pl.Utf8) + \"_\" + pl.col(\"K\").cast(pl.Utf8)).alias(\"group\")\n",
    "    ])\n",
    "    return df"
   ]
  },
  {
   "cell_type": "code",
   "execution_count": 93,
   "id": "fad4edbb-cd4e-4955-8a60-d40bb265b462",
   "metadata": {
    "jupyter": {
     "source_hidden": true
    }
   },
   "outputs": [],
   "source": [
    "def define_roofline(peak_compute, peak_bandwidth):\n",
    "    oi = np.logspace(-2, 3, 500)\n",
    "    roofline_perf = np.minimum(peak_compute, peak_bandwidth * oi)\n",
    "    \n",
    "    roofline_df = pl.DataFrame({\n",
    "        \"operational_intensity\": oi,\n",
    "        \"performance\": roofline_perf\n",
    "    })\n",
    "\n",
    "    return roofline_df\n"
   ]
  },
  {
   "cell_type": "code",
   "execution_count": 94,
   "id": "a83c1dbb-5c7b-48d0-9a9e-bb0cbfc5786d",
   "metadata": {
    "jupyter": {
     "source_hidden": true
    }
   },
   "outputs": [],
   "source": [
    "def generate_roofline_plot(combined_df, roofline_df):\n",
    "    oi = pl.Series(np.logspace(-3.2, -0.5, 500))\n",
    "    roofline_perf = pl.Series(np.minimum(peak_compute, peak_bandwidth * oi))\n",
    "    roofline_df = pl.DataFrame({\"operational_intensity\": oi, \"performance\": roofline_perf})\n",
    "    \n",
    "    # Apply square root scaling to 'time_ms'\n",
    "    combined_df = combined_df.with_columns(\n",
    "        (pl.col(\"time_ms\").sqrt().alias(\"time_scaled\"))\n",
    "    )\n",
    "    \n",
    "    # Create main scatter plot \n",
    "    fig = px.scatter(\n",
    "        combined_df, \n",
    "        x=\"operational_intensity\",\n",
    "        y=\"tflops\",\n",
    "        color=\"M\",\n",
    "        size=\"time_scaled\",\n",
    "        hover_data=[\"time_ms\",\"operation\", \"M\", \"N\", \"K\"],\n",
    "        labels={\n",
    "            \"operational_intensity\": \"Operational Intensity (TFLOPs/GB/s)\",\n",
    "            \"tflops\": \"Performance (TFLOPs)\",\n",
    "            \"time_ms\": \"Execution Time (ms)\"\n",
    "        },\n",
    "        title=\"AMD RX 7900 XTX Roofline Analysis\"\n",
    "    )\n",
    "    \n",
    "    # Add roofline\n",
    "    fig.add_trace(go.Scatter(\n",
    "        x=roofline_df[\"operational_intensity\"].to_list(),\n",
    "        y=roofline_df[\"performance\"].to_list(),\n",
    "        mode='lines',\n",
    "        line=dict(color='tomato', width=1),\n",
    "        opacity=0.45,\n",
    "        name='Theoretical Roofline'\n",
    "    ))\n",
    "    \n",
    "    # Configure axes\n",
    "    fig.update_layout(\n",
    "        xaxis_type=\"log\",\n",
    "        yaxis_type=\"log\",\n",
    "        legend=dict(orientation=\"h\", yanchor=\"bottom\", y=1.02)\n",
    "    )\n",
    "    \n",
    "    return fig\n"
   ]
  },
  {
   "cell_type": "markdown",
   "id": "16c66911-7a67-4355-999e-2067fc47e68f",
   "metadata": {},
   "source": [
    "# Define Roofline for RX 7900 XTX GPU\n",
    "\n",
    "Spec from https://en.wikipedia.org/wiki/List_of_AMD_graphics_processing_units\n",
    "\n",
    "Processing power for RX 7900 XTX in TFLPOS\n",
    "\n",
    "|Half|Single|Double|\n",
    "|---|---|---|\n",
    "|61.44|61.44|0.960|\n",
    "\n",
    "Memory bandwidth in GB/s\n",
    "\n",
    "960"
   ]
  },
  {
   "cell_type": "code",
   "execution_count": 103,
   "id": "53849821-4bae-42c0-b13f-8c1004b103b9",
   "metadata": {},
   "outputs": [],
   "source": [
    "roofline = define_roofline(61.44, 960)"
   ]
  },
  {
   "cell_type": "markdown",
   "id": "c05a6e25-fb96-4466-b4fd-f100e33e7509",
   "metadata": {},
   "source": [
    "# Simple GEMM sweep\n",
    "\n",
    "This sweep is defined as \n",
    "\n",
    "> - Datatype `bf16`\n",
    "> - For `M,N,K` use `N=K` for powers of 2 from 64 to 16384\n",
    "> - `M=1,2,4,...,256`\n",
    "> - Select the best results"
   ]
  },
  {
   "cell_type": "code",
   "execution_count": 97,
   "id": "1f89f979-4d2f-4fab-9d65-81e30b81932d",
   "metadata": {},
   "outputs": [],
   "source": [
    "bf16_df = load_gemm_data(\"gemm_scan_results_bf16\")\n",
    "bf16_df = calculate_metrics(bf16_df)\n",
    "fig = generate_roofline_plot(bf16_df, roofline)"
   ]
  },
  {
   "cell_type": "code",
   "execution_count": 98,
   "id": "f9530e2b-6d3f-4cc3-b5e5-035c1227e63b",
   "metadata": {},
   "outputs": [
    {
     "data": {
      "application/vnd.plotly.v1+json": {
       "config": {
        "plotlyServerURL": "https://plot.ly"
       },
       "data": [
        {
         "customdata": [
          [
           0.0670885,
           "DeviceGemmWmma_CShuffle<64, 16, 64, 64, 8, 16, 16, 1, 2> AEnableLds: 1, BEnableLds: 1, NumPrefetch: 1, LoopScheduler: Default, PipelineVersion: v1",
           32,
           4096,
           4096
          ],
          [
           0.466228,
           "DeviceGemmWmma_CShuffle<128, 128, 128, 32, 8, 16, 16, 4, 4> AEnableLds: 1, BEnableLds: 1, NumPrefetch: 1, LoopScheduler: Default, PipelineVersion: v1",
           256,
           8192,
           8192
          ],
          [
           0.751651,
           "DeviceGemmWmma_CShuffle<128, 64, 80, 64, 8, 16, 16, 1, 5> AEnableLds: 0, BEnableLds: 1, NumPrefetch: 1, LoopScheduler: Default, PipelineVersion: v1",
           64,
           16384,
           16384
          ],
          [
           0.0132801,
           "DeviceGemmWmma_CShuffle<32, 16, 16, 64, 8, 16, 16, 1, 1> AEnableLds: 0, BEnableLds: 1, NumPrefetch: 1, LoopScheduler: Default, PipelineVersion: v1",
           16,
           256,
           256
          ],
          [
           0.175353,
           "DeviceGemmWmma_CShuffle<32, 16, 16, 32, 8, 16, 16, 1, 1> AEnableLds: 1, BEnableLds: 1, NumPrefetch: 2, LoopScheduler: Default, PipelineVersion: v1",
           1,
           8192,
           8192
          ],
          [
           0.0119361,
           "DeviceGemmWmma_CShuffle<32, 16, 16, 64, 8, 16, 16, 1, 1> AEnableLds: 0, BEnableLds: 1, NumPrefetch: 1, LoopScheduler: Default, PipelineVersion: v1",
           64,
           256,
           256
          ],
          [
           0.0382523,
           "DeviceGemmWmma_CShuffle<128, 64, 80, 64, 8, 16, 16, 1, 5> AEnableLds: 0, BEnableLds: 1, NumPrefetch: 1, LoopScheduler: Default, PipelineVersion: v1",
           4,
           2048,
           2048
          ],
          [
           0.0651844,
           "DeviceGemmWmma_CShuffle<64, 16, 64, 64, 8, 16, 16, 1, 2> AEnableLds: 1, BEnableLds: 1, NumPrefetch: 1, LoopScheduler: Default, PipelineVersion: v1",
           16,
           4096,
           4096
          ],
          [
           0.0102827,
           "DeviceGemmWmma_CShuffle<32, 16, 16, 64, 8, 16, 16, 1, 1> AEnableLds: 0, BEnableLds: 1, NumPrefetch: 1, LoopScheduler: Default, PipelineVersion: v1",
           64,
           128,
           128
          ],
          [
           0.0167841,
           "DeviceGemmWmma_CShuffle<32, 16, 16, 64, 8, 16, 16, 1, 1> AEnableLds: 0, BEnableLds: 1, NumPrefetch: 1, LoopScheduler: Default, PipelineVersion: v1",
           8,
           1024,
           1024
          ],
          [
           0.0168481,
           "DeviceGemmWmma_CShuffle<32, 16, 16, 64, 8, 16, 16, 1, 1> AEnableLds: 0, BEnableLds: 1, NumPrefetch: 1, LoopScheduler: Default, PipelineVersion: v1",
           2,
           1024,
           1024
          ],
          [
           0.638561,
           "DeviceGemmWmma_CShuffle<64, 16, 64, 64, 8, 16, 16, 1, 2> AEnableLds: 1, BEnableLds: 1, NumPrefetch: 1, LoopScheduler: Default, PipelineVersion: v1",
           8,
           16384,
           16384
          ],
          [
           0.0123321,
           "DeviceGemmWmma_CShuffle<32, 16, 16, 64, 8, 16, 16, 1, 1> AEnableLds: 0, BEnableLds: 1, NumPrefetch: 1, LoopScheduler: Default, PipelineVersion: v1",
           256,
           256,
           256
          ],
          [
           0.0170441,
           "DeviceGemmWmma_CShuffle<32, 16, 16, 64, 8, 16, 16, 1, 1> AEnableLds: 0, BEnableLds: 1, NumPrefetch: 1, LoopScheduler: Default, PipelineVersion: v1",
           16,
           1024,
           1024
          ],
          [
           0.0101421,
           "DeviceGemmWmma_CShuffle<32, 16, 16, 64, 8, 16, 16, 1, 1> AEnableLds: 0, BEnableLds: 1, NumPrefetch: 1, LoopScheduler: Default, PipelineVersion: v1",
           4,
           128,
           128
          ],
          [
           0.0163561,
           "DeviceGemmWmma_CShuffle<32, 16, 16, 64, 8, 16, 16, 1, 1> AEnableLds: 0, BEnableLds: 1, NumPrefetch: 1, LoopScheduler: Default, PipelineVersion: v1",
           1,
           1024,
           1024
          ],
          [
           0.00865164,
           "DeviceGemmWmma_CShuffle<32, 16, 16, 32, 8, 16, 16, 1, 1> AEnableLds: 1, BEnableLds: 1, NumPrefetch: 2, LoopScheduler: Default, PipelineVersion: v1",
           32,
           64,
           64
          ],
          [
           0.0135639,
           "DeviceGemmWmma_CShuffle<32, 16, 16, 64, 8, 16, 16, 1, 1> AEnableLds: 0, BEnableLds: 1, NumPrefetch: 1, LoopScheduler: Default, PipelineVersion: v1",
           8,
           256,
           256
          ],
          [
           0.00788444,
           "DeviceGemmWmma_CShuffle<32, 16, 16, 32, 8, 16, 16, 1, 1> AEnableLds: 1, BEnableLds: 1, NumPrefetch: 2, LoopScheduler: Default, PipelineVersion: v1",
           8,
           64,
           64
          ],
          [
           0.0659525,
           "DeviceGemmWmma_CShuffle<128, 64, 80, 64, 8, 16, 16, 1, 5> AEnableLds: 0, BEnableLds: 1, NumPrefetch: 1, LoopScheduler: Default, PipelineVersion: v1",
           64,
           4096,
           4096
          ],
          [
           0.011928,
           "DeviceGemmWmma_CShuffle<32, 16, 16, 64, 8, 16, 16, 1, 1> AEnableLds: 0, BEnableLds: 1, NumPrefetch: 1, LoopScheduler: Default, PipelineVersion: v1",
           4,
           256,
           256
          ],
          [
           0.0108761,
           "DeviceGemmWmma_CShuffle<32, 16, 16, 64, 8, 16, 16, 1, 1> AEnableLds: 0, BEnableLds: 1, NumPrefetch: 1, LoopScheduler: Default, PipelineVersion: v1",
           128,
           128,
           128
          ],
          [
           0.174017,
           "DeviceGemmWmma_CShuffle<32, 16, 16, 32, 8, 16, 16, 1, 1> AEnableLds: 1, BEnableLds: 1, NumPrefetch: 2, LoopScheduler: Default, PipelineVersion: v1",
           16,
           8192,
           8192
          ],
          [
           0.00971846,
           "DeviceGemmWmma_CShuffle<32, 16, 16, 32, 8, 16, 16, 1, 1> AEnableLds: 1, BEnableLds: 1, NumPrefetch: 2, LoopScheduler: Default, PipelineVersion: v1",
           8,
           128,
           128
          ],
          [
           0.009004,
           "DeviceGemmWmma_CShuffle<32, 16, 16, 64, 8, 16, 16, 1, 1> AEnableLds: 0, BEnableLds: 1, NumPrefetch: 1, LoopScheduler: Default, PipelineVersion: v1",
           128,
           256,
           256
          ],
          [
           0.171681,
           "DeviceGemmWmma_CShuffle<32, 16, 16, 32, 8, 16, 16, 1, 1> AEnableLds: 1, BEnableLds: 1, NumPrefetch: 2, LoopScheduler: Default, PipelineVersion: v1",
           8,
           8192,
           8192
          ],
          [
           0.0109121,
           "DeviceGemmWmma_CShuffle<32, 16, 16, 64, 8, 16, 16, 1, 1> AEnableLds: 0, BEnableLds: 1, NumPrefetch: 1, LoopScheduler: Default, PipelineVersion: v1",
           1,
           128,
           128
          ],
          [
           0.00774344,
           "DeviceGemmWmma_CShuffle<32, 16, 16, 32, 8, 16, 16, 1, 1> AEnableLds: 1, BEnableLds: 1, NumPrefetch: 2, LoopScheduler: Default, PipelineVersion: v1",
           4,
           64,
           64
          ],
          [
           1.8953,
           "DeviceGemmWmma_CShuffle<256, 128, 160, 64, 8, 16, 16, 2, 5> AEnableLds: 1, BEnableLds: 1, NumPrefetch: 1, LoopScheduler: Default, PipelineVersion: v1",
           256,
           16384,
           16384
          ],
          [
           0.0942447,
           "DeviceGemmWmma_CShuffle<128, 64, 80, 64, 8, 16, 16, 1, 5> AEnableLds: 0, BEnableLds: 1, NumPrefetch: 1, LoopScheduler: Default, PipelineVersion: v1",
           128,
           4096,
           4096
          ],
          [
           0.00974665,
           "DeviceGemmWmma_CShuffle<32, 16, 16, 32, 8, 16, 16, 1, 1> AEnableLds: 1, BEnableLds: 1, NumPrefetch: 2, LoopScheduler: Default, PipelineVersion: v1",
           2,
           128,
           128
          ],
          [
           0.206994,
           "DeviceGemmWmma_CShuffle<32, 16, 16, 32, 8, 16, 16, 1, 1> AEnableLds: 1, BEnableLds: 1, NumPrefetch: 2, LoopScheduler: Default, PipelineVersion: v1",
           32,
           8192,
           8192
          ],
          [
           0.0167601,
           "DeviceGemmWmma_CShuffle<32, 16, 16, 64, 8, 16, 16, 1, 1> AEnableLds: 0, BEnableLds: 1, NumPrefetch: 1, LoopScheduler: Default, PipelineVersion: v1",
           4,
           1024,
           1024
          ],
          [
           0.0137,
           "DeviceGemmWmma_CShuffle<128, 64, 80, 64, 8, 16, 16, 1, 5> AEnableLds: 0, BEnableLds: 1, NumPrefetch: 1, LoopScheduler: Default, PipelineVersion: v1",
           256,
           512,
           512
          ],
          [
           0.008836,
           "DeviceGemmWmma_CShuffle<32, 16, 16, 32, 8, 16, 16, 1, 1> AEnableLds: 1, BEnableLds: 1, NumPrefetch: 2, LoopScheduler: Default, PipelineVersion: v1",
           128,
           64,
           64
          ],
          [
           0.640802,
           "DeviceGemmWmma_CShuffle<64, 16, 64, 64, 8, 16, 16, 1, 2> AEnableLds: 1, BEnableLds: 1, NumPrefetch: 1, LoopScheduler: Default, PipelineVersion: v1",
           4,
           16384,
           16384
          ],
          [
           0.00815925,
           "DeviceGemmWmma_CShuffle<32, 16, 16, 64, 8, 16, 16, 1, 1> AEnableLds: 0, BEnableLds: 1, NumPrefetch: 1, LoopScheduler: Default, PipelineVersion: v1",
           64,
           64,
           64
          ],
          [
           0.0360562,
           "DeviceGemmWmma_CShuffle<128, 64, 80, 64, 8, 16, 16, 1, 5> AEnableLds: 0, BEnableLds: 1, NumPrefetch: 1, LoopScheduler: Default, PipelineVersion: v1",
           1,
           2048,
           2048
          ],
          [
           0.00769264,
           "DeviceGemmWmma_CShuffle<32, 16, 16, 32, 8, 16, 16, 1, 1> AEnableLds: 1, BEnableLds: 1, NumPrefetch: 2, LoopScheduler: Default, PipelineVersion: v1",
           2,
           64,
           64
          ],
          [
           0.0116561,
           "DeviceGemmWmma_CShuffle<32, 16, 16, 64, 8, 16, 16, 1, 1> AEnableLds: 0, BEnableLds: 1, NumPrefetch: 1, LoopScheduler: Default, PipelineVersion: v1",
           1,
           512,
           512
          ],
          [
           0.0651484,
           "DeviceGemmWmma_CShuffle<128, 64, 80, 64, 8, 16, 16, 1, 5> AEnableLds: 0, BEnableLds: 1, NumPrefetch: 1, LoopScheduler: Default, PipelineVersion: v1",
           8,
           4096,
           4096
          ],
          [
           0.0097441,
           "DeviceGemmWmma_CShuffle<32, 16, 16, 64, 8, 16, 16, 1, 1> AEnableLds: 0, BEnableLds: 1, NumPrefetch: 1, LoopScheduler: Default, PipelineVersion: v1",
           32,
           128,
           128
          ],
          [
           0.0642404,
           "DeviceGemmWmma_CShuffle<64, 16, 64, 64, 8, 16, 16, 1, 2> AEnableLds: 1, BEnableLds: 1, NumPrefetch: 1, LoopScheduler: Default, PipelineVersion: v1",
           2,
           4096,
           4096
          ],
          [
           0.012852,
           "DeviceGemmWmma_CShuffle<32, 16, 16, 64, 8, 16, 16, 1, 1> AEnableLds: 0, BEnableLds: 1, NumPrefetch: 1, LoopScheduler: Default, PipelineVersion: v1",
           2,
           256,
           256
          ],
          [
           0.0127199,
           "DeviceGemmWmma_CShuffle<32, 16, 16, 64, 8, 16, 16, 1, 1> AEnableLds: 0, BEnableLds: 1, NumPrefetch: 1, LoopScheduler: Default, PipelineVersion: v1",
           32,
           256,
           256
          ],
          [
           0.642901,
           "DeviceGemmWmma_CShuffle<64, 16, 64, 64, 8, 16, 16, 1, 2> AEnableLds: 1, BEnableLds: 1, NumPrefetch: 1, LoopScheduler: Default, PipelineVersion: v1",
           16,
           16384,
           16384
          ],
          [
           0.174929,
           "DeviceGemmWmma_CShuffle<32, 16, 16, 32, 8, 16, 16, 1, 1> AEnableLds: 1, BEnableLds: 1, NumPrefetch: 2, LoopScheduler: Default, PipelineVersion: v1",
           4,
           8192,
           8192
          ],
          [
           0.0183362,
           "DeviceGemmWmma_CShuffle<64, 16, 64, 64, 8, 16, 16, 1, 2> AEnableLds: 1, BEnableLds: 1, NumPrefetch: 1, LoopScheduler: Default, PipelineVersion: v1",
           64,
           1024,
           1024
          ],
          [
           0.0389963,
           "DeviceGemmWmma_CShuffle<128, 64, 80, 64, 8, 16, 16, 1, 5> AEnableLds: 0, BEnableLds: 1, NumPrefetch: 1, LoopScheduler: Default, PipelineVersion: v1",
           16,
           2048,
           2048
          ],
          [
           0.0383843,
           "DeviceGemmWmma_CShuffle<64, 16, 64, 64, 8, 16, 16, 1, 2> AEnableLds: 1, BEnableLds: 1, NumPrefetch: 1, LoopScheduler: Default, PipelineVersion: v1",
           64,
           2048,
           2048
          ],
          [
           0.0388843,
           "DeviceGemmWmma_CShuffle<64, 16, 64, 64, 8, 16, 16, 1, 2> AEnableLds: 1, BEnableLds: 1, NumPrefetch: 1, LoopScheduler: Default, PipelineVersion: v1",
           32,
           2048,
           2048
          ],
          [
           0.0101797,
           "DeviceGemmWmma_CShuffle<32, 16, 16, 32, 8, 16, 16, 1, 1> AEnableLds: 1, BEnableLds: 1, NumPrefetch: 2, LoopScheduler: Default, PipelineVersion: v1",
           256,
           128,
           128
          ],
          [
           0.290291,
           "DeviceGemmWmma_CShuffle<128, 64, 80, 64, 8, 16, 16, 1, 5> AEnableLds: 0, BEnableLds: 1, NumPrefetch: 1, LoopScheduler: Default, PipelineVersion: v1",
           128,
           8192,
           8192
          ],
          [
           0.0101615,
           "DeviceGemmWmma_CShuffle<32, 16, 16, 64, 8, 16, 16, 1, 1> AEnableLds: 0, BEnableLds: 1, NumPrefetch: 1, LoopScheduler: Default, PipelineVersion: v1",
           16,
           128,
           128
          ],
          [
           0.172549,
           "DeviceGemmWmma_CShuffle<32, 16, 16, 32, 8, 16, 16, 1, 1> AEnableLds: 1, BEnableLds: 1, NumPrefetch: 2, LoopScheduler: Default, PipelineVersion: v1",
           2,
           8192,
           8192
          ],
          [
           0.0115841,
           "DeviceGemmWmma_CShuffle<32, 16, 16, 64, 8, 16, 16, 1, 1> AEnableLds: 0, BEnableLds: 1, NumPrefetch: 1, LoopScheduler: Default, PipelineVersion: v1",
           64,
           512,
           512
          ],
          [
           0.6331,
           "DeviceGemmWmma_CShuffle<64, 16, 64, 64, 8, 16, 16, 1, 2> AEnableLds: 1, BEnableLds: 1, NumPrefetch: 1, LoopScheduler: Default, PipelineVersion: v1",
           2,
           16384,
           16384
          ],
          [
           0.011836,
           "DeviceGemmWmma_CShuffle<32, 16, 16, 64, 8, 16, 16, 1, 1> AEnableLds: 0, BEnableLds: 1, NumPrefetch: 1, LoopScheduler: Default, PipelineVersion: v1",
           16,
           512,
           512
          ],
          [
           0.0118681,
           "DeviceGemmWmma_CShuffle<32, 16, 16, 64, 8, 16, 16, 1, 1> AEnableLds: 0, BEnableLds: 1, NumPrefetch: 1, LoopScheduler: Default, PipelineVersion: v1",
           8,
           512,
           512
          ],
          [
           0.0644844,
           "DeviceGemmWmma_CShuffle<64, 16, 64, 64, 8, 16, 16, 1, 2> AEnableLds: 1, BEnableLds: 1, NumPrefetch: 1, LoopScheduler: Default, PipelineVersion: v1",
           4,
           4096,
           4096
          ],
          [
           0.0115361,
           "DeviceGemmWmma_CShuffle<32, 16, 16, 64, 8, 16, 16, 1, 1> AEnableLds: 0, BEnableLds: 1, NumPrefetch: 1, LoopScheduler: Default, PipelineVersion: v1",
           32,
           512,
           512
          ],
          [
           0.0214521,
           "DeviceGemmWmma_CShuffle<128, 64, 80, 64, 8, 16, 16, 1, 5> AEnableLds: 0, BEnableLds: 1, NumPrefetch: 1, LoopScheduler: Default, PipelineVersion: v1",
           256,
           1024,
           1024
          ],
          [
           0.0125121,
           "DeviceGemmWmma_CShuffle<32, 16, 16, 64, 8, 16, 16, 1, 1> AEnableLds: 0, BEnableLds: 1, NumPrefetch: 1, LoopScheduler: Default, PipelineVersion: v1",
           128,
           512,
           512
          ],
          [
           0.0382642,
           "DeviceGemmWmma_CShuffle<128, 64, 80, 64, 8, 16, 16, 1, 5> AEnableLds: 0, BEnableLds: 1, NumPrefetch: 1, LoopScheduler: Default, PipelineVersion: v1",
           2,
           2048,
           2048
          ],
          [
           0.011364,
           "DeviceGemmWmma_CShuffle<32, 16, 16, 64, 8, 16, 16, 1, 1> AEnableLds: 0, BEnableLds: 1, NumPrefetch: 1, LoopScheduler: Default, PipelineVersion: v1",
           4,
           512,
           512
          ],
          [
           0.0640125,
           "DeviceGemmWmma_CShuffle<64, 16, 64, 64, 8, 16, 16, 1, 2> AEnableLds: 1, BEnableLds: 1, NumPrefetch: 1, LoopScheduler: Default, PipelineVersion: v1",
           1,
           4096,
           4096
          ],
          [
           0.228302,
           "DeviceGemmWmma_CShuffle<64, 64, 32, 32, 8, 16, 16, 4, 1> AEnableLds: 1, BEnableLds: 1, NumPrefetch: 2, LoopScheduler: Default, PipelineVersion: v1",
           64,
           8192,
           8192
          ],
          [
           0.0498364,
           "DeviceGemmWmma_CShuffle<128, 64, 80, 64, 8, 16, 16, 1, 5> AEnableLds: 0, BEnableLds: 1, NumPrefetch: 1, LoopScheduler: Default, PipelineVersion: v1",
           256,
           2048,
           2048
          ],
          [
           0.0406083,
           "DeviceGemmWmma_CShuffle<128, 64, 80, 64, 8, 16, 16, 1, 5> AEnableLds: 0, BEnableLds: 1, NumPrefetch: 1, LoopScheduler: Default, PipelineVersion: v1",
           128,
           2048,
           2048
          ],
          [
           0.0123161,
           "DeviceGemmWmma_CShuffle<32, 16, 16, 64, 8, 16, 16, 1, 1> AEnableLds: 0, BEnableLds: 1, NumPrefetch: 1, LoopScheduler: Default, PipelineVersion: v1",
           1,
           256,
           256
          ],
          [
           0.626582,
           "DeviceGemmWmma_CShuffle<64, 16, 64, 64, 8, 16, 16, 1, 2> AEnableLds: 1, BEnableLds: 1, NumPrefetch: 1, LoopScheduler: Default, PipelineVersion: v1",
           1,
           16384,
           16384
          ],
          [
           0.141225,
           "DeviceGemmWmma_CShuffle<128, 64, 80, 64, 8, 16, 16, 1, 5> AEnableLds: 0, BEnableLds: 1, NumPrefetch: 1, LoopScheduler: Default, PipelineVersion: v1",
           256,
           4096,
           4096
          ],
          [
           0.00776704,
           "DeviceGemmWmma_CShuffle<32, 16, 16, 32, 8, 16, 16, 1, 1> AEnableLds: 1, BEnableLds: 1, NumPrefetch: 2, LoopScheduler: Default, PipelineVersion: v1",
           1,
           64,
           64
          ],
          [
           0.0114121,
           "DeviceGemmWmma_CShuffle<32, 16, 16, 64, 8, 16, 16, 1, 1> AEnableLds: 0, BEnableLds: 1, NumPrefetch: 1, LoopScheduler: Default, PipelineVersion: v1",
           2,
           512,
           512
          ],
          [
           0.710641,
           "DeviceGemmWmma_CShuffle<64, 32, 64, 64, 8, 16, 16, 2, 2> AEnableLds: 1, BEnableLds: 1, NumPrefetch: 1, LoopScheduler: Default, PipelineVersion: v1",
           32,
           16384,
           16384
          ],
          [
           0.898885,
           "DeviceGemmWmma_CShuffle<128, 128, 128, 32, 8, 16, 16, 4, 4> AEnableLds: 1, BEnableLds: 1, NumPrefetch: 1, LoopScheduler: Default, PipelineVersion: v1",
           128,
           16384,
           16384
          ],
          [
           0.0196081,
           "DeviceGemmWmma_CShuffle<128, 64, 80, 64, 8, 16, 16, 1, 5> AEnableLds: 0, BEnableLds: 1, NumPrefetch: 1, LoopScheduler: Default, PipelineVersion: v1",
           128,
           1024,
           1024
          ],
          [
           0.0182842,
           "DeviceGemmWmma_CShuffle<32, 16, 16, 64, 8, 16, 16, 1, 1> AEnableLds: 0, BEnableLds: 1, NumPrefetch: 1, LoopScheduler: Default, PipelineVersion: v1",
           32,
           1024,
           1024
          ],
          [
           0.00904565,
           "DeviceGemmWmma_CShuffle<32, 16, 16, 32, 8, 16, 16, 1, 1> AEnableLds: 1, BEnableLds: 1, NumPrefetch: 2, LoopScheduler: Default, PipelineVersion: v1",
           16,
           64,
           64
          ],
          [
           0.0088361,
           "DeviceGemmWmma_CShuffle<32, 16, 16, 64, 8, 16, 16, 1, 1> AEnableLds: 0, BEnableLds: 1, NumPrefetch: 1, LoopScheduler: Default, PipelineVersion: v1",
           256,
           64,
           64
          ],
          [
           0.0387883,
           "DeviceGemmWmma_CShuffle<128, 64, 80, 64, 8, 16, 16, 1, 5> AEnableLds: 0, BEnableLds: 1, NumPrefetch: 1, LoopScheduler: Default, PipelineVersion: v1",
           8,
           2048,
           2048
          ]
         ],
         "hovertemplate": "Operational Intensity (TFLOPs/GB/s)=%{x}<br>Performance (TFLOPs)=%{y}<br>time_scaled=%{marker.size}<br>Execution Time (ms)=%{customdata[0]}<br>operation=%{customdata[1]}<br>M=%{marker.color}<br>N=%{customdata[3]}<br>K=%{customdata[4]}<extra></extra>",
         "legendgroup": "",
         "marker": {
          "color": {
           "bdata": "IAAAAUAAEAABAEAABAAQAEAACAACAAgAAAEQAAQAAQAgAAgACABAAAQAgAAQAAgAgAAIAAEABAAAAYAAAgAgAAQAAAGAAAQAQAABAAIAAQAIACAAAgACACAAEAAEAEAAEABAACAAAAGAABAAAgBAAAIAEAAIAAQAIAAAAYAAAgAEAAEAQAAAAYAAAQABAAABAQACACAAgACAACAAEAAAAQgA",
           "dtype": "i2"
          },
          "coloraxis": "coloraxis",
          "size": {
           "bdata": "87tvdrGT0D80WkEPktnlP3nXN9NIvus/+DtT5lKAvT8bMsn/08zaP25cZB7497s/mnYMVNQIyT+LkKikCVfQP676gOuW9bk/9FcyOTWVwD+BwdhBS53APzy7mmk6kuk/HjbgpcVtvD8ngmll9rXAPw8BfsP/x7k/hDQPNbtewD9b9bMyx8+3P+R68lOY0L0/Wl6+Tzq7tj/5zV1jnG/QPyA9fRSK9bs/vWpkZaeyuj/YcDNhpLLaP55SY7OvPLk/osW9HaxKuD9heqzynITaP5Qy/7f0vbo/XfP+n/WGtj+hrYV69Qb2P1oiMfTFpdM//q6BuAxGuT9mTIhuKR7dP/IFifErksA/PaZCycr2vT+q8dJNYhC4P/Ax5He0nek/1MzF4MUftz/OQT9UJE7IP/ZjdPcCdLY/QqLonH2juz+wM2Tl4VXQPyCU5Qg0Rbk/qwzHSaM40D8TB774mAW9P/Wnju9Q37w/heMWs2+o6T8Wni5Hh8TaP+zBlbAnVcE/U0YwwtpGyT802Nyp4BPJP0GR3TOOPck/4e8SzzjUuT+NbSVlvT3hP0+P1fBOzrk/7Llsr8CV2j/Rnp6lmo27P9wblh8tduk/tNdcEuLZuz95L4F+i+O7PykTTUeEQNA/VbJeqPl+uz/nZkhxYL/CP+LMbmqxorw/MsHHgdMJyT8P6pPZRUq7P8w8cOxDMdA/J0Pdp26U3j+8ShCIJpPMP+kCxXA+y8k/BeaZoQxpvD9FZ68yiVTpP+YkJt8XDdg/mAG7qr2Ptj97lS3iClm7P8PuYC/R+eo/qbbpScxW7j8O4u/Dd+zBP9DBZ97bTsE/1qWJ5QlZuD9Z5l86axC4P/x19f6SNck/",
           "dtype": "f8"
          },
          "sizemode": "area",
          "sizeref": 0.0034417473759705258,
          "symbol": "circle"
         },
         "mode": "markers",
         "name": "",
         "orientation": "v",
         "showlegend": false,
         "type": "scatter",
         "x": {
          "bdata": "AvI91sghoD8PDdPuLNfOP9/ThvPJQbA/4027EZEgjT+IsDmPR2FQP8JWSrdo2KU/dFEkrf1RcD/inyssy0GQP7It1rdLYqA/O8dbVschgD+uTIrH/VFgP9outF81XoA/IuJJYWXYtT8L1F52YcaPP1cWAtEp124/WtlV+BtaUD+cckLzT2KQP1lDIxUj134/CX2UKOQ2ej9Vw4MHacavP0Fhxzxnxm8/d5Wc9mfYpT8eDbuM+VGQP7QNzaKFIH0/Rzz4g05isD8U9HhPIFqAP8B4quHGIVA/2TMF2YcgbT9Nm8V1Z8bPP+S6Ivgq174/iHBFambGXz8yLiB7zEGgP0ngH97MQXA/G9eeWU5iwD/Tkm8e5TaaP6P6b59AYHA/p3gZzmjYlT8xVpgyN15QP1i+7/ws114/u2fy4vtRUD9Q3jkm/FGAP8vwea9j2JU/CFG+YzReYD8/OU/1xiFgPwM58wrhNpo/DTV8xCBakD++/2H4NV5wPzqsvBCGIK0/HUSMA8ghkD+vEa0FIdeuP+TTxLNpxp8/Jyyeluc2qj+bIMffZ8a/P693SGPgNoo/yIZ0JkBgYD/WseqX4DaqP9UI+AxJYWA/LSeo7ivXjj908E8Ha8Z/Py8T8mQhWnA/R601BYggnT+c4T9VZNjFP3B9eudo2LU/6Cu6Mx9aYD+oKEzwxCFwP1rgoLBBYFA/sVTnQsUhsD+zOARb4TbKP4sZ/FCLIL0/7QIqlMRBUD9vSwlCymFQPwItFIqLIM0/fsGiyWfGTz9VZLSjykFgP9Wx61r9UaA/PcQWoMchwD/6C9xJ2za6P7yjpKIq154/UrHIAm/YhT+i+s8siiCdP9V20WnJQYA/",
          "dtype": "f8"
         },
         "xaxis": "x",
         "y": {
          "bdata": "GsBbIEEBMEAN4C2QoGxSQGx4eqUs20ZAVcA9z582xD8r3V1nQ37oP4Jy275HfeY/Rz6veOoR7D/USEvl7XggQCV1ApoIG8o/lBPtKqT87z8yyjMvh93PP51GWipv5xpAv30dOGfEBUDkoISZtn//P6zOxTqwd4o/chdhinJpwD/TzEne7wafP1SqRNlbyrM/vRp/JusFgT+P5PIf0kdAQLfVB+0wgaY/DoP5K2Su2D8DCYofY64oQJI3ZRMFn5s/x/SEJR7Q/T9qatlaXwQZQEZGxQePmWg/AATmAEVVcT+30QDeAiFSQOF6FK5HyUZA2VmZlZKKez+P5PIf0r80QGU5CaUvBOA/gA7z5QWYI0BCzvv/OGG+P1dgyOpWzwpA9NYK5CNzsD97TKQ0m8fNPwL1RcaTcmE/lsD3SJQHpz+XrfVFQnsQQGeasP1kjLs/LUMc6+K28D+wo7s1+uKUP3ZvRWKCGtU/YqHWNO+4KkDoE3mSdI0IQEht4uR+Rx1At11ortOIC0Ap7Q2+MPkrQMyXF2AfnRtAi1JCsKpe6j8QejarPpdNQP17OmjAaqo/+THmriXk+D95Xb9gNywHQPsFu2HbIvs/huKON/mt5j88FAX6RJ7WP7snDwu1pgBAFLNeDOVE9z8QWDm0yAY5QIfEPZY+dBVABvLs8q0P3D9MVdriGp/HP36s4LchxuA/KxiV1AnQQkCk374OnItFQFR0JJf/cDpAhD6iU6HLhT96pSxDHGvrP6jGSzeJaU5Avp87PcZHUT/dnRCVoYW3P1tCPujZLDhAuECC4sccU0DhehSuR2ErQHfWbrvQXA1AnRjtTPysjT8xXYjVH2HOP3RBfcucrvs/",
          "dtype": "f8"
         },
         "yaxis": "y"
        },
        {
         "line": {
          "color": "tomato",
          "width": 1
         },
         "mode": "lines",
         "name": "Theoretical Roofline",
         "opacity": 0.45,
         "type": "scatter",
         "x": [
          0.000630957344480193,
          0.0006388675383359555,
          0.0006468769008080802,
          0.0006549866751549052,
          0.0006631981202212669,
          0.0006715125106339014,
          0.0006799311369993016,
          0.0006884553061040521,
          0.0006970863411176753,
          0.0007058255817980214,
          0.0007146743846992355,
          0.0007236341233823251,
          0.0007327061886283754,
          0.0007418919886544327,
          0.000751192949332096,
          0.0007606105144088511,
          0.0007701461457321728,
          0.0007798013234764442,
          0.000789577546372717,
          0.0007994763319413523,
          0.0008094992167275812,
          0.0008196477565400122,
          0.0008299235266921351,
          0.0008403281222468491,
          0.0008508631582640581,
          0.000861530270051368,
          0.0008723311134179319,
          0.0008832673649314691,
          0.0008943407221785147,
          0.0009055529040279276,
          0.0009169056508977024,
          0.0009284007250251302,
          0.0009400399107403378,
          0.0009518250147432648,
          0.0009637578663841089,
          0.0009758403179472874,
          0.0009880742449389624,
          0.0010004615463781623,
          0.0010130041450915617,
          0.0010257039880119522,
          0.0010385630464804566,
          0.001051583316552531,
          0.0010647668193078067,
          0.0010781156011638086,
          0.0010916317341936148,
          0.0011053173164474951,
          0.0011191744722785807,
          0.001133205352672623,
          0.001147412135581875,
          0.0011617970262631687,
          0.0011763622576202283,
          0.0011911100905502726,
          0.0012060428142949638,
          0.0012211627467957602,
          0.001236472235053715,
          0.0012519736554937931,
          0.0012676694143337543,
          0.0012835619479576574,
          0.0012996537232940546,
          0.0013159472381989153,
          0.0013324450218433616,
          0.0013491496351062593,
          0.0013660636709717311,
          0.0013831897549316588,
          0.0014005305453932196,
          0.0014180887340915444,
          0.0014358670465075415,
          0.001453868242290963,
          0.0014720951156887703,
          0.001490550495978879,
          0.0015092372479093273,
          0.001528158272142963,
          0.0015473165057077,
          0.0015667149224524203,
          0.0015863565335085897,
          0.001606244387757669,
          0.0016263815723043691,
          0.0016467712129558556,
          0.0016674164747069512,
          0.001688320562231424,
          0.0017094867203794406,
          0.0017309182346812405,
          0.0017526184318571408,
          0.0017745906803339276,
          0.0017968383907677192,
          0.001819365016573396,
          0.001842174054460647,
          0.0018652690449767564,
          0.001888653573056185,
          0.0019123312685770438,
          0.001936305806924549,
          0.0019605809095615268,
          0.0019851603446060864,
          0.002010047927416527,
          0.002035247521183576,
          0.002060763037530065,
          0.0020865984371181024,
          0.0021127577302638744,
          0.0021392449775601494,
          0.002166064290506586,
          0.0021932198321479423,
          0.002220715817720286,
          0.0022485565153053137,
          0.0022767462464928566,
          0.0023052893870517083,
          0.0023341903676088547,
          0.0023634536743372186,
          0.0023930838496520387,
          0.0024230854929159534,
          0.002453463261152951,
          0.0024842218697712555,
          0.0025153660932952762,
          0.002546900766106747,
          0.0025788307831951314,
          0.0026111611009174596,
          0.00264389673776768,
          0.002677042775155656,
          0.0027106043581959405,
          0.002744586696506415,
          0.0027789950650169643,
          0.0028138348047882815,
          0.0028491113238409316,
          0.0028848300979948268,
          0.0029209966717191993,
          0.0029576166589932533,
          0.0029946957441775984,
          0.0030322396828966016,
          0.0030702543029318278,
          0.0031087455051266215,
          0.0031477192643021177,
          0.003187181630184649,
          0.003227138728344835,
          0.0032675967611484258,
          0.003308562008719064,
          0.003350040829913133,
          0.0033920396633067965,
          0.003434565028195443,
          0.003477623525605645,
          0.003521221839319801,
          0.003565366736913648,
          0.00361006507080674,
          0.003655323779326131,
          0.0037011498877833806,
          0.0037475505095650587,
          0.0037945328472369384,
          0.003842104193661997,
          0.003890271933132471,
          0.003939043542516084,
          0.0039884265924166416,
          0.004038428748349203,
          0.0040890577719299385,
          0.004140321522080949,
          0.004192227956250167,
          0.004244785131646552,
          0.0042980012064907985,
          0.004351884441281653,
          0.004406443200078215,
          0.004461685951798207,
          0.004517621271532588,
          0.004574257841876624,
          0.004631604454277644,
          0.0046896700103997175,
          0.004748463523505391,
          0.004807994119854798,
          0.0048682710401222835,
          0.004929303640830789,
          0.004991101395804241,
          0.005053673897638107,
          0.005117030859188427,
          0.0051811821150794975,
          0.005246137623230447,
          0.005311907466400985,
          0.005378501853756472,
          0.0054459311224526645,
          0.005514205739240302,
          0.0055833363020898075,
          0.005653333541836388,
          0.005724208323845703,
          0.005795971649700466,
          0.005868634658908172,
          0.0059422086306302226,
          0.0060167049854327765,
          0.0060921352870594424,
          0.006168511244226359,
          0.006245844712439618,
          0.006324147695835562,
          0.006403432349044171,
          0.0064837109790756905,
          0.006564996047231092,
          0.0066473001710363145,
          0.006730636126200849,
          0.006815016848600892,
          0.006900455436287239,
          0.006986965151518543,
          0.007074559422819878,
          0.007163251847067224,
          0.007253056191598043,
          0.007343986396348318,
          0.007436056576016424,
          0.0075292810222540064,
          0.007623674205884523,
          0.007719250779149398,
          0.007816025577982458,
          0.007914013624312877,
          0.008013230128396887,
          0.0081136904911789,
          0.008215410306682047,
          0.008318405364428804,
          0.00842269165189196,
          0.008528285356976192,
          0.008635202870530961,
          0.008743460788894696,
          0.00885307591647101,
          0.008964065268337207,
          0.009076446072885356,
          0.009190235774496715,
          0.009305452036249436,
          0.00942211274266037,
          0.009540236002461237,
          0.009659840151409462,
          0.009780943755134493,
          0.009903565612019544,
          0.010027724756119651,
          0.010153440460116217,
          0.010280732238308653,
          0.010409619849643463,
          0.010540123300781362,
          0.010672262849202826,
          0.010806059006352547,
          0.010941532540823369,
          0.011078704481580074,
          0.011217596121223632,
          0.011358229019296368,
          0.011500625005628533,
          0.01164480618372686,
          0.011790794934205621,
          0.011938613918260623,
          0.01208828608118686,
          0.012239834655940163,
          0.012393283166743577,
          0.01254865543273893,
          0.012705975571684151,
          0.012865268003696969,
          0.01302655745504557,
          0.013189868961986699,
          0.01335522787465198,
          0.013522659860982866,
          0.013692190910714969,
          0.013863847339412367,
          0.014037655792552403,
          0.014213643249661775,
          0.014391837028504464,
          0.014572264789322102,
          0.014754954539127618,
          0.014939934636052577,
          0.015127233793749124,
          0.015316881085847096,
          0.01550890595046695,
          0.015703338194789335,
          0.015900207999681955,
          0.01609954592438437,
          0.01630138291125159,
          0.01650575029055715,
          0.016712679785356316,
          0.016922203516410373,
          0.017134354007172545,
          0.01734916418883649,
          0.017566667405448076,
          0.017786897419081207,
          0.018009888415078567,
          0.01823567500735809,
          0.01846429224378588,
          0.018695775611616592,
          0.018930161043001905,
          0.019167484920568148,
          0.01940778408306384,
          0.01965109583107795,
          0.019897457932829925,
          0.02014690863003233,
          0.020399486643826865,
          0.020655231180794962,
          0.020914181939043573,
          0.021176379114367375,
          0.021441863406488206,
          0.02171067602537266,
          0.021982858697628938,
          0.022258453672983944,
          0.022537503730841426,
          0.02282005218692255,
          0.02310614289998951,
          0.023395820278653567,
          0.023689129288268457,
          0.02398611545791008,
          0.02428682488744382,
          0.02459130425468045,
          0.024899600822621683,
          0.025211762446796602,
          0.025527837582690123,
          0.025847875293264436,
          0.02617192525657493,
          0.026500037773481422,
          0.026832263775456163,
          0.027168654832489772,
          0.027509263161096108,
          0.027854141632417676,
          0.028203343780432617,
          0.028556923810264454,
          0.028914936606596237,
          0.029277437742189938,
          0.02964448348651283,
          0.03001613081447198,
          0.03039243741525813,
          0.030773461701300586,
          0.031159262817334363,
          0.03154990064958087,
          0.03194543583504389,
          0.03234592977092191,
          0.03275144462413857,
          0.03316204334099262,
          0.03357778965692869,
          0.033998748106430735,
          0.034424984033039466,
          0.03485656359949527,
          0.03529355379800839,
          0.035736022460657886,
          0.036184038269920796,
          0.03663767076933357,
          0.03709699037428688,
          0.037562068382955914,
          0.03803297698736778,
          0.03850978928460743,
          0.03899257928816425,
          0.03948142193942092,
          0.039976393119286094,
          0.04047756965997322,
          0.04098502935692674,
          0.04149885098089798,
          0.04201911429017245,
          0.04254590004295028,
          0.043079290009882,
          0.04361936698676149,
          0.0441662148073779,
          0.04471991835652895,
          0.04528056358319707,
          0.04584823751389096,
          0.04642302826615441,
          0.047005025062244236,
          0.04759431824297997,
          0.04819099928176712,
          0.048795160798796006,
          0.049406896575419,
          0.05002630156870764,
          0.05065347192619242,
          0.05128850500078749,
          0.05193149936590215,
          0.052582554830742,
          0.05324177245580205,
          0.05390925456855366,
          0.05458510477932853,
          0.055269427997401706,
          0.05596233044727604,
          0.05666391968517116,
          0.057374304615718755,
          0.05809359550886744,
          0.05882190401699959,
          0.05955934319226244,
          0.06030602750411683,
          0.061062072857105784,
          0.06182759660884577,
          0.06260271758824378,
          0.06338755611394237,
          0.06418223401299651,
          0.064986874639784,
          0.06580160289515334,
          0.06662654524581156,
          0.067461829743955,
          0.06830758604714654,
          0.06916394543844144,
          0.07003104084676602,
          0.07090900686755164,
          0.07179797978362724,
          0.07269809758637426,
          0.07360949999714594,
          0.07453232848895605,
          0.07546672630843894,
          0.07641283849808517,
          0.07737081191875567,
          0.07834079527247872,
          0.07932293912553177,
          0.08031739593181354,
          0.08132432005650865,
          0.08234386780004901,
          0.08337619742237598,
          0.08442146916750583,
          0.08547984528840413,
          0.08655149007217142,
          0.08763656986554479,
          0.08873525310071906,
          0.08984771032149219,
          0.09097411420973744,
          0.09211463961220842,
          0.09326946356767969,
          0.09443876533442759,
          0.09562272641805616,
          0.09682153059967086,
          0.09803536396440646,
          0.09926441493031216,
          0.10050887427759882,
          0.10176893517825328,
          0.10304479322602306,
          0.10433664646677787,
          0.1056446954292514,
          0.10696914315616836,
          0.10831019523576196,
          0.10966805983368685,
          0.11104294772533109,
          0.11243507232853432,
          0.11384464973671567,
          0.11527189875241675,
          0.11671704092126593,
          0.11818030056636727,
          0.11966190482312156,
          0.12116208367448351,
          0.122681069986661,
          0.12421909954526174,
          0.12577641109189375,
          0.1273532463612234,
          0.12894985011849935,
          0.13056647019754633,
          0.132203357539235,
          0.13386076623043514,
          0.13553895354345544,
          0.13723817997597945,
          0.13895870929150134,
          0.1407008085602685,
          0.1424647482007384,
          0.14425080202155355,
          0.14605924726404412,
          0.1478903646452629,
          0.14974443840155965,
          0.15162175633270183,
          0.15352260984654897,
          0.1554472940042859,
          0.15739610756622424,
          0.15936935303817762,
          0.16136733671841813,
          0.16339036874522236,
          0.16543876314501174,
          0.16751283788109825,
          0.16961291490304026,
          0.17173932019661728,
          0.17389238383443126,
          0.176072440027143,
          0.17827982717534907,
          0.180514887922111,
          0.18277796920614217,
          0.18506942231566123,
          0.187389602942922,
          0.18973887123942473,
          0.19211759187182162,
          0.19452613407852234,
          0.19696487172700902,
          0.1994341833718708,
          0.20193445231356422,
          0.20446606665791178,
          0.20702941937634597,
          0.20962490836690836,
          0.21225293651601346,
          0.21491391176098773,
          0.21760824715339078,
          0.22033636092313233,
          0.22309867654339202,
          0.22589562279635306,
          0.22872763383976114,
          0.23159514927431546,
          0.23449861421190693,
          0.23743847934471077,
          0.24041520101514519,
          0.24342924128670843,
          0.2464810680157013,
          0.24957115492385165,
          0.2526999816718477,
          0.2558680339337937,
          0.25907580347259884,
          0.26232378821631236,
          0.2656124923354133,
          0.2689424263210716,
          0.2723141070643894,
          0.2757280579366351,
          0.27918480887048547,
          0.28268489644228306,
          0.2862288639553275,
          0.28981726152420995,
          0.2934506461602052,
          0.2971295818577334,
          0.3008546396819079,
          0.3046263978571773,
          0.308445441857082,
          0.3123123644951343,
          0.31622776601683794
         ],
         "y": [
          0.6057190507009853,
          0.6133128368025172,
          0.6210018247757569,
          0.6287872081487089,
          0.6366701954124162,
          0.6446520102085453,
          0.6527338915193295,
          0.66091709385989,
          0.6692028874729683,
          0.6775925585261006,
          0.686087409311266,
          0.694688758447032,
          0.7033979410832404,
          0.7122163091082554,
          0.7211452313588121,
          0.7301860938324971,
          0.739340299902886,
          0.7486092705373865,
          0.7579944445178083,
          0.7674972786636982,
          0.7771192480584779,
          0.7868618462784117,
          0.7967265856244496,
          0.8067149973569752,
          0.8168286319334958,
          0.8270690592493133,
          0.8374378688812146,
          0.8479366703342104,
          0.858567093291374,
          0.8693307878668105,
          0.8802294248617942,
          0.8912646960241251,
          0.9024383143107243,
          0.9137520141535341,
          0.9252075517287445,
          0.9368067052293959,
          0.9485512751414039,
          0.9604430845230358,
          0.9724839792878992,
          0.9846758284914741,
          0.9970205246212384,
          1.0095199838904296,
          1.0221761465354944,
          1.0349909771172563,
          1.0479664648258702,
          1.0611046237895954,
          1.0744074933874375,
          1.0878771385657182,
          1.1015156501585999,
          1.115325145212642,
          1.1293077673154193,
          1.1434656869282618,
          1.1578011017231653,
          1.1723162369239297,
          1.1870133456515664,
          1.2018947092740413,
          1.2169626377604041,
          1.2322194700393512,
          1.2476675743622925,
          1.2633093486709586,
          1.279147220969627,
          1.2951836497020088,
          1.311421124132862,
          1.3278621647343924,
          1.3445093235774908,
          1.3613651847278825,
          1.3784323646472398,
          1.3957135125993245,
          1.4132113110612194,
          1.4309284761397238,
          1.448867757992954,
          1.4670319412572446,
          1.485423845479392,
          1.5040463255543235,
          1.5229022721682461,
          1.5419946122473622,
          1.5613263094121943,
          1.5809003644376214,
          1.600719815718673,
          1.620787739742167,
          1.641107251564263,
          1.6616815052939908,
          1.6825136945828552,
          1.7036070531205705,
          1.7249648551370105,
          1.7465904159104602,
          1.7684870922822211,
          1.790658283177686,
          1.8131074301339376,
          1.8358380178339622,
          1.8588535746475672,
          1.8821576731790657,
          1.905753930821843,
          1.9296460103198658,
          1.9538376203362329,
          1.9783325160288625,
          2.0031344996333784,
          2.0282474210533192,
          2.0536751784577434,
          2.0794217188863224,
          2.1054910388620245,
          2.1318871850114745,
          2.1586142546931013,
          2.1856763966331423,
          2.21307781156964,
          2.2408227529045006,
          2.26891552736373,
          2.297360495665957,
          2.326162073199315,
          2.3553247307068332,
          2.384852994980405,
          2.414751449563465,
          2.4450247354624772,
          2.475677551867326,
          2.506714656880761,
          2.538140868256973,
          2.56996106414943,
          2.6021801838681027,
          2.6348032286461582,
          2.6678352624162858,
          2.7012814125967504,
          2.735146870887294,
          2.769436894075034,
          2.8041568048504315,
          2.8393119926335233,
          2.8749079144104943,
          2.9109500955807377,
          2.9474441308145547,
          2.9843956849215565,
          3.021810493730033,
          3.059694364977263,
          3.0980531792110417,
          3.1368928907024887,
          3.1762195283703014,
          3.2160391967166078,
          3.2563580767745246,
          3.297182427067625,
          3.3385185845814194,
          3.380372965747009,
          3.422752067437102,
          3.4656624679744703,
          3.5091108281530854,
          3.5531038922720453,
          3.5976484891824563,
          3.642751533347461,
          3.688420025915517,
          3.7346610558071722,
          3.7814818008154405,
          3.828889528719976,
          3.876891598415235,
          3.925495461052741,
          3.9747086611977114,
          4.0245388380001605,
          4.07499372638069,
          4.126081158231167,
          4.177809063630387,
          4.230185472075086,
          4.283218513726279,
          4.336916420671285,
          4.391287528201559,
          4.446340276106539,
          4.502083209983729,
          4.558524982565175,
          4.615674355060606,
          4.673540198517392,
          4.7321314951975575,
          4.791457339972071,
          4.851526941732582,
          4.91234962482089,
          4.973934830476318,
          5.036292118301229,
          5.099431167744946,
          5.163361779606213,
          5.228093877554558,
          5.29363750967069,
          5.360002850006215,
          5.4272002001629325,
          5.495239990891874,
          5.564132783712447,
          5.633889272551845,
          5.704520285405014,
          5.7760367860154656,
          5.848449875577065,
          5.921770794457305,
          5.996010923942033,
          6.07118178800214,
          6.147295055082404,
          6.224362539912663,
          6.302396205341848,
          6.381408164194862,
          6.461410681152815,
          6.542416174656856,
          6.624437218835749,
          6.707486545457801,
          6.791577045907083,
          6.876721773184535,
          6.962933943934122,
          7.050226940494386,
          7.138614312975767,
          7.228109781363846,
          7.318727237649142,
          7.4104807479834225,
          7.5033845548631595,
          7.597453079340362,
          7.692700923261011,
          7.789142871531744,
          7.886793894414765,
          7.985669149851652,
          8.085783985816281,
          8.187153942697144,
          8.289794755709723,
          8.393722357338907,
          8.49895287981217,
          8.605502657603719,
          8.713388229969942,
          8.822626343516847,
          8.933233954799459,
          9.045228232953956,
          9.158626562362787,
          9.273446545353083,
          9.389706004929113,
          9.507422987538762,
          9.626615765874865,
          9.74730284171157,
          9.869502948776306,
          9.993235055657724,
          10.118518368750108,
          10.245372335234713,
          10.373816646098446,
          10.503871239190435,
          10.635556302316871,
          10.768892276374686,
          10.903899858524513,
          11.040600005403391,
          11.179013936377785,
          11.319163136837396,
          11.461069361530198,
          11.604754637939385,
          11.750241269702556,
          11.897551840073834,
          12.046709215429374,
          12.197736548816785,
          12.35065728354909,
          12.505495156843747,
          12.66227420350723,
          12.8210187596659,
          12.981753466543552,
          13.14450327428637,
          13.309293445835872,
          13.476149560850308,
          13.645097519675303,
          13.816163547364285,
          13.989374197749218,
          14.164756357562514,
          14.342337250610473,
          14.52214444199916,
          14.704205842413213,
          14.888549712448272,
          15.075204666997761,
          15.264199679694677,
          15.455564087408996,
          15.649327594801527,
          15.845520278934865,
          16.044172593942065,
          16.245315375753957,
          16.448979846885642,
          16.65519762128303,
          16.86400070923015,
          17.07542152231796,
          17.289492878475425,
          17.506248007063768,
          17.725720554034446,
          17.947944587151927,
          18.17295460128183,
          18.400785523745423,
          18.63147271974129,
          18.865051997834833,
          19.101559615516727,
          19.341032284831037,
          19.58350717807379,
          19.829021933563162,
          20.077614661481828,
          20.32932394979268,
          20.58418887022868,
          20.842248984357752,
          21.10354434972378,
          21.368115526064585,
          21.63600358160777,
          21.907250099445648,
          22.18189718398993,
          22.459987467507425,
          22.74156411673772,
          23.026670839593677,
          23.315351891946065,
          23.607652084493232,
          23.903616789716818,
          24.203291948924736,
          24.50672407938252,
          24.81396028153386,
          25.125048246311934,
          25.440036262542165,
          25.758973224437916,
          26.081908639190182,
          26.408892634652265,
          26.73997596712097,
          27.075210029215313,
          27.414646857853874,
          27.75833914233239,
          28.10634023250234,
          28.458704147052316,
          28.815485581893103,
          29.176739918647804,
          29.542523233248563,
          29.912892304640987,
          30.287904623597633,
          30.667618401642134,
          31.052092580085034,
          31.441386839173028,
          31.835561607352915,
          32.23467807065154,
          32.6387981821735,
          33.047984671717884,
          33.46230105551546,
          33.88181164608805,
          34.30658156223157,
          34.736676739123965,
          35.17216393856023,
          35.613110759315404,
          36.059585647637675,
          36.51165790787307,
          36.96939771322313,
          37.43287611663768,
          37.90216506184408,
          38.37733739451465,
          38.858466873574294,
          39.34562818264967,
          39.83889694166206,
          40.33834971856555,
          40.84406404123227,
          41.35611840948672,
          41.87459230729103,
          42.399566215082785,
          42.93112162226779,
          43.469341039869185,
          44.01430801333532,
          44.56610713550823,
          45.12482405975447,
          45.69054551326077,
          46.26335931049644,
          46.84335436684417,
          47.430620712402245,
          48.02524950595933,
          48.627333049144724,
          49.23696480075599,
          49.85423939126606,
          50.47925263751232,
          51.112101557569964,
          51.75288438581151,
          52.401700588155386,
          53.058650877505634,
          53.723837229385,
          54.39736289776432,
          55.07933243109,
          55.769851688512745,
          56.469027856319606,
          57.17696946457195,
          57.893786403952156,
          58.619589942821555,
          59.35449274449194,
          60.098608884714025,
          60.852053869384676,
          61.44,
          61.44,
          61.44,
          61.44,
          61.44,
          61.44,
          61.44,
          61.44,
          61.44,
          61.44,
          61.44,
          61.44,
          61.44,
          61.44,
          61.44,
          61.44,
          61.44,
          61.44,
          61.44,
          61.44,
          61.44,
          61.44,
          61.44,
          61.44,
          61.44,
          61.44,
          61.44,
          61.44,
          61.44,
          61.44,
          61.44,
          61.44,
          61.44,
          61.44,
          61.44,
          61.44,
          61.44,
          61.44,
          61.44,
          61.44,
          61.44,
          61.44,
          61.44,
          61.44,
          61.44,
          61.44,
          61.44,
          61.44,
          61.44,
          61.44,
          61.44,
          61.44,
          61.44,
          61.44,
          61.44,
          61.44,
          61.44,
          61.44,
          61.44,
          61.44,
          61.44,
          61.44,
          61.44,
          61.44,
          61.44,
          61.44,
          61.44,
          61.44,
          61.44,
          61.44,
          61.44,
          61.44,
          61.44,
          61.44,
          61.44,
          61.44,
          61.44,
          61.44,
          61.44,
          61.44,
          61.44,
          61.44,
          61.44,
          61.44,
          61.44,
          61.44,
          61.44,
          61.44,
          61.44,
          61.44,
          61.44,
          61.44,
          61.44,
          61.44,
          61.44,
          61.44,
          61.44,
          61.44,
          61.44,
          61.44,
          61.44,
          61.44,
          61.44,
          61.44,
          61.44,
          61.44,
          61.44,
          61.44,
          61.44,
          61.44,
          61.44,
          61.44,
          61.44,
          61.44,
          61.44,
          61.44,
          61.44,
          61.44,
          61.44,
          61.44,
          61.44,
          61.44,
          61.44,
          61.44,
          61.44,
          61.44,
          61.44,
          61.44,
          61.44
         ]
        }
       ],
       "layout": {
        "coloraxis": {
         "colorbar": {
          "title": {
           "text": "M"
          }
         },
         "colorscale": [
          [
           0,
           "#0d0887"
          ],
          [
           0.1111111111111111,
           "#46039f"
          ],
          [
           0.2222222222222222,
           "#7201a8"
          ],
          [
           0.3333333333333333,
           "#9c179e"
          ],
          [
           0.4444444444444444,
           "#bd3786"
          ],
          [
           0.5555555555555556,
           "#d8576b"
          ],
          [
           0.6666666666666666,
           "#ed7953"
          ],
          [
           0.7777777777777778,
           "#fb9f3a"
          ],
          [
           0.8888888888888888,
           "#fdca26"
          ],
          [
           1,
           "#f0f921"
          ]
         ]
        },
        "legend": {
         "itemsizing": "constant",
         "orientation": "h",
         "tracegroupgap": 0,
         "y": 1.02,
         "yanchor": "bottom"
        },
        "template": {
         "data": {
          "bar": [
           {
            "error_x": {
             "color": "#2a3f5f"
            },
            "error_y": {
             "color": "#2a3f5f"
            },
            "marker": {
             "line": {
              "color": "#E5ECF6",
              "width": 0.5
             },
             "pattern": {
              "fillmode": "overlay",
              "size": 10,
              "solidity": 0.2
             }
            },
            "type": "bar"
           }
          ],
          "barpolar": [
           {
            "marker": {
             "line": {
              "color": "#E5ECF6",
              "width": 0.5
             },
             "pattern": {
              "fillmode": "overlay",
              "size": 10,
              "solidity": 0.2
             }
            },
            "type": "barpolar"
           }
          ],
          "carpet": [
           {
            "aaxis": {
             "endlinecolor": "#2a3f5f",
             "gridcolor": "white",
             "linecolor": "white",
             "minorgridcolor": "white",
             "startlinecolor": "#2a3f5f"
            },
            "baxis": {
             "endlinecolor": "#2a3f5f",
             "gridcolor": "white",
             "linecolor": "white",
             "minorgridcolor": "white",
             "startlinecolor": "#2a3f5f"
            },
            "type": "carpet"
           }
          ],
          "choropleth": [
           {
            "colorbar": {
             "outlinewidth": 0,
             "ticks": ""
            },
            "type": "choropleth"
           }
          ],
          "contour": [
           {
            "colorbar": {
             "outlinewidth": 0,
             "ticks": ""
            },
            "colorscale": [
             [
              0,
              "#0d0887"
             ],
             [
              0.1111111111111111,
              "#46039f"
             ],
             [
              0.2222222222222222,
              "#7201a8"
             ],
             [
              0.3333333333333333,
              "#9c179e"
             ],
             [
              0.4444444444444444,
              "#bd3786"
             ],
             [
              0.5555555555555556,
              "#d8576b"
             ],
             [
              0.6666666666666666,
              "#ed7953"
             ],
             [
              0.7777777777777778,
              "#fb9f3a"
             ],
             [
              0.8888888888888888,
              "#fdca26"
             ],
             [
              1,
              "#f0f921"
             ]
            ],
            "type": "contour"
           }
          ],
          "contourcarpet": [
           {
            "colorbar": {
             "outlinewidth": 0,
             "ticks": ""
            },
            "type": "contourcarpet"
           }
          ],
          "heatmap": [
           {
            "colorbar": {
             "outlinewidth": 0,
             "ticks": ""
            },
            "colorscale": [
             [
              0,
              "#0d0887"
             ],
             [
              0.1111111111111111,
              "#46039f"
             ],
             [
              0.2222222222222222,
              "#7201a8"
             ],
             [
              0.3333333333333333,
              "#9c179e"
             ],
             [
              0.4444444444444444,
              "#bd3786"
             ],
             [
              0.5555555555555556,
              "#d8576b"
             ],
             [
              0.6666666666666666,
              "#ed7953"
             ],
             [
              0.7777777777777778,
              "#fb9f3a"
             ],
             [
              0.8888888888888888,
              "#fdca26"
             ],
             [
              1,
              "#f0f921"
             ]
            ],
            "type": "heatmap"
           }
          ],
          "histogram": [
           {
            "marker": {
             "pattern": {
              "fillmode": "overlay",
              "size": 10,
              "solidity": 0.2
             }
            },
            "type": "histogram"
           }
          ],
          "histogram2d": [
           {
            "colorbar": {
             "outlinewidth": 0,
             "ticks": ""
            },
            "colorscale": [
             [
              0,
              "#0d0887"
             ],
             [
              0.1111111111111111,
              "#46039f"
             ],
             [
              0.2222222222222222,
              "#7201a8"
             ],
             [
              0.3333333333333333,
              "#9c179e"
             ],
             [
              0.4444444444444444,
              "#bd3786"
             ],
             [
              0.5555555555555556,
              "#d8576b"
             ],
             [
              0.6666666666666666,
              "#ed7953"
             ],
             [
              0.7777777777777778,
              "#fb9f3a"
             ],
             [
              0.8888888888888888,
              "#fdca26"
             ],
             [
              1,
              "#f0f921"
             ]
            ],
            "type": "histogram2d"
           }
          ],
          "histogram2dcontour": [
           {
            "colorbar": {
             "outlinewidth": 0,
             "ticks": ""
            },
            "colorscale": [
             [
              0,
              "#0d0887"
             ],
             [
              0.1111111111111111,
              "#46039f"
             ],
             [
              0.2222222222222222,
              "#7201a8"
             ],
             [
              0.3333333333333333,
              "#9c179e"
             ],
             [
              0.4444444444444444,
              "#bd3786"
             ],
             [
              0.5555555555555556,
              "#d8576b"
             ],
             [
              0.6666666666666666,
              "#ed7953"
             ],
             [
              0.7777777777777778,
              "#fb9f3a"
             ],
             [
              0.8888888888888888,
              "#fdca26"
             ],
             [
              1,
              "#f0f921"
             ]
            ],
            "type": "histogram2dcontour"
           }
          ],
          "mesh3d": [
           {
            "colorbar": {
             "outlinewidth": 0,
             "ticks": ""
            },
            "type": "mesh3d"
           }
          ],
          "parcoords": [
           {
            "line": {
             "colorbar": {
              "outlinewidth": 0,
              "ticks": ""
             }
            },
            "type": "parcoords"
           }
          ],
          "pie": [
           {
            "automargin": true,
            "type": "pie"
           }
          ],
          "scatter": [
           {
            "fillpattern": {
             "fillmode": "overlay",
             "size": 10,
             "solidity": 0.2
            },
            "type": "scatter"
           }
          ],
          "scatter3d": [
           {
            "line": {
             "colorbar": {
              "outlinewidth": 0,
              "ticks": ""
             }
            },
            "marker": {
             "colorbar": {
              "outlinewidth": 0,
              "ticks": ""
             }
            },
            "type": "scatter3d"
           }
          ],
          "scattercarpet": [
           {
            "marker": {
             "colorbar": {
              "outlinewidth": 0,
              "ticks": ""
             }
            },
            "type": "scattercarpet"
           }
          ],
          "scattergeo": [
           {
            "marker": {
             "colorbar": {
              "outlinewidth": 0,
              "ticks": ""
             }
            },
            "type": "scattergeo"
           }
          ],
          "scattergl": [
           {
            "marker": {
             "colorbar": {
              "outlinewidth": 0,
              "ticks": ""
             }
            },
            "type": "scattergl"
           }
          ],
          "scattermap": [
           {
            "marker": {
             "colorbar": {
              "outlinewidth": 0,
              "ticks": ""
             }
            },
            "type": "scattermap"
           }
          ],
          "scattermapbox": [
           {
            "marker": {
             "colorbar": {
              "outlinewidth": 0,
              "ticks": ""
             }
            },
            "type": "scattermapbox"
           }
          ],
          "scatterpolar": [
           {
            "marker": {
             "colorbar": {
              "outlinewidth": 0,
              "ticks": ""
             }
            },
            "type": "scatterpolar"
           }
          ],
          "scatterpolargl": [
           {
            "marker": {
             "colorbar": {
              "outlinewidth": 0,
              "ticks": ""
             }
            },
            "type": "scatterpolargl"
           }
          ],
          "scatterternary": [
           {
            "marker": {
             "colorbar": {
              "outlinewidth": 0,
              "ticks": ""
             }
            },
            "type": "scatterternary"
           }
          ],
          "surface": [
           {
            "colorbar": {
             "outlinewidth": 0,
             "ticks": ""
            },
            "colorscale": [
             [
              0,
              "#0d0887"
             ],
             [
              0.1111111111111111,
              "#46039f"
             ],
             [
              0.2222222222222222,
              "#7201a8"
             ],
             [
              0.3333333333333333,
              "#9c179e"
             ],
             [
              0.4444444444444444,
              "#bd3786"
             ],
             [
              0.5555555555555556,
              "#d8576b"
             ],
             [
              0.6666666666666666,
              "#ed7953"
             ],
             [
              0.7777777777777778,
              "#fb9f3a"
             ],
             [
              0.8888888888888888,
              "#fdca26"
             ],
             [
              1,
              "#f0f921"
             ]
            ],
            "type": "surface"
           }
          ],
          "table": [
           {
            "cells": {
             "fill": {
              "color": "#EBF0F8"
             },
             "line": {
              "color": "white"
             }
            },
            "header": {
             "fill": {
              "color": "#C8D4E3"
             },
             "line": {
              "color": "white"
             }
            },
            "type": "table"
           }
          ]
         },
         "layout": {
          "annotationdefaults": {
           "arrowcolor": "#2a3f5f",
           "arrowhead": 0,
           "arrowwidth": 1
          },
          "autotypenumbers": "strict",
          "coloraxis": {
           "colorbar": {
            "outlinewidth": 0,
            "ticks": ""
           }
          },
          "colorscale": {
           "diverging": [
            [
             0,
             "#8e0152"
            ],
            [
             0.1,
             "#c51b7d"
            ],
            [
             0.2,
             "#de77ae"
            ],
            [
             0.3,
             "#f1b6da"
            ],
            [
             0.4,
             "#fde0ef"
            ],
            [
             0.5,
             "#f7f7f7"
            ],
            [
             0.6,
             "#e6f5d0"
            ],
            [
             0.7,
             "#b8e186"
            ],
            [
             0.8,
             "#7fbc41"
            ],
            [
             0.9,
             "#4d9221"
            ],
            [
             1,
             "#276419"
            ]
           ],
           "sequential": [
            [
             0,
             "#0d0887"
            ],
            [
             0.1111111111111111,
             "#46039f"
            ],
            [
             0.2222222222222222,
             "#7201a8"
            ],
            [
             0.3333333333333333,
             "#9c179e"
            ],
            [
             0.4444444444444444,
             "#bd3786"
            ],
            [
             0.5555555555555556,
             "#d8576b"
            ],
            [
             0.6666666666666666,
             "#ed7953"
            ],
            [
             0.7777777777777778,
             "#fb9f3a"
            ],
            [
             0.8888888888888888,
             "#fdca26"
            ],
            [
             1,
             "#f0f921"
            ]
           ],
           "sequentialminus": [
            [
             0,
             "#0d0887"
            ],
            [
             0.1111111111111111,
             "#46039f"
            ],
            [
             0.2222222222222222,
             "#7201a8"
            ],
            [
             0.3333333333333333,
             "#9c179e"
            ],
            [
             0.4444444444444444,
             "#bd3786"
            ],
            [
             0.5555555555555556,
             "#d8576b"
            ],
            [
             0.6666666666666666,
             "#ed7953"
            ],
            [
             0.7777777777777778,
             "#fb9f3a"
            ],
            [
             0.8888888888888888,
             "#fdca26"
            ],
            [
             1,
             "#f0f921"
            ]
           ]
          },
          "colorway": [
           "#636efa",
           "#EF553B",
           "#00cc96",
           "#ab63fa",
           "#FFA15A",
           "#19d3f3",
           "#FF6692",
           "#B6E880",
           "#FF97FF",
           "#FECB52"
          ],
          "font": {
           "color": "#2a3f5f"
          },
          "geo": {
           "bgcolor": "white",
           "lakecolor": "white",
           "landcolor": "#E5ECF6",
           "showlakes": true,
           "showland": true,
           "subunitcolor": "white"
          },
          "hoverlabel": {
           "align": "left"
          },
          "hovermode": "closest",
          "mapbox": {
           "style": "light"
          },
          "paper_bgcolor": "white",
          "plot_bgcolor": "#E5ECF6",
          "polar": {
           "angularaxis": {
            "gridcolor": "white",
            "linecolor": "white",
            "ticks": ""
           },
           "bgcolor": "#E5ECF6",
           "radialaxis": {
            "gridcolor": "white",
            "linecolor": "white",
            "ticks": ""
           }
          },
          "scene": {
           "xaxis": {
            "backgroundcolor": "#E5ECF6",
            "gridcolor": "white",
            "gridwidth": 2,
            "linecolor": "white",
            "showbackground": true,
            "ticks": "",
            "zerolinecolor": "white"
           },
           "yaxis": {
            "backgroundcolor": "#E5ECF6",
            "gridcolor": "white",
            "gridwidth": 2,
            "linecolor": "white",
            "showbackground": true,
            "ticks": "",
            "zerolinecolor": "white"
           },
           "zaxis": {
            "backgroundcolor": "#E5ECF6",
            "gridcolor": "white",
            "gridwidth": 2,
            "linecolor": "white",
            "showbackground": true,
            "ticks": "",
            "zerolinecolor": "white"
           }
          },
          "shapedefaults": {
           "line": {
            "color": "#2a3f5f"
           }
          },
          "ternary": {
           "aaxis": {
            "gridcolor": "white",
            "linecolor": "white",
            "ticks": ""
           },
           "baxis": {
            "gridcolor": "white",
            "linecolor": "white",
            "ticks": ""
           },
           "bgcolor": "#E5ECF6",
           "caxis": {
            "gridcolor": "white",
            "linecolor": "white",
            "ticks": ""
           }
          },
          "title": {
           "x": 0.05
          },
          "xaxis": {
           "automargin": true,
           "gridcolor": "white",
           "linecolor": "white",
           "ticks": "",
           "title": {
            "standoff": 15
           },
           "zerolinecolor": "white",
           "zerolinewidth": 2
          },
          "yaxis": {
           "automargin": true,
           "gridcolor": "white",
           "linecolor": "white",
           "ticks": "",
           "title": {
            "standoff": 15
           },
           "zerolinecolor": "white",
           "zerolinewidth": 2
          }
         }
        },
        "title": {
         "text": "AMD RX 7900 XTX Roofline Analysis"
        },
        "xaxis": {
         "anchor": "y",
         "domain": [
          0,
          1
         ],
         "title": {
          "text": "Operational Intensity (TFLOPs/GB/s)"
         },
         "type": "log"
        },
        "yaxis": {
         "anchor": "x",
         "domain": [
          0,
          1
         ],
         "title": {
          "text": "Performance (TFLOPs)"
         },
         "type": "log"
        }
       }
      },
      "image/png": "[encoded data removed]"
     },
     "metadata": {},
     "output_type": "display_data"
    }
   ],
   "source": [
    "fig.show()"
   ]
  },
  {
   "cell_type": "markdown",
   "id": "ff6f5c72-0b54-4b31-93c1-30f624c7ad13",
   "metadata": {},
   "source": [
    "# Simple GEMM sweep fp32\n",
    "\n",
    "This sweep is defined as \n",
    "\n",
    "> - Datatype `fp32`\n",
    "> - For `M,N,K` use `N=K` for powers of 2 from 64 to 16384\n",
    "> - `M=1,2,4,...,256`\n",
    "> - Select the best results\n",
    "\n",
    "\n",
    "Some of the profile jobs did not produce any data. Hence only 6 series in the plot"
   ]
  },
  {
   "cell_type": "code",
   "execution_count": 99,
   "id": "51640255-71cb-434c-a23e-8b267195e0bb",
   "metadata": {},
   "outputs": [],
   "source": [
    "fp32_df = load_gemm_data(\"gemm_scan_results_fp32\")\n",
    "fp32_df = calculate_metrics(fp32_df)\n",
    "fig = generate_roofline_plot(fp32_df, roofline)"
   ]
  },
  {
   "cell_type": "code",
   "execution_count": 100,
   "id": "8d3b094f-d4ed-4e84-b449-81bee2c2337f",
   "metadata": {},
   "outputs": [
    {
     "data": {
      "application/vnd.plotly.v1+json": {
       "config": {
        "plotlyServerURL": "https://plot.ly"
       },
       "data": [
        {
         "customdata": [
          [
           0.0104077,
           "DeviceGemmDl<64, 8, 64, 32, 2, 1, 2, 1>",
           256,
           64,
           64
          ],
          [
           0.621163,
           "DeviceGemmDl<256, 128, 128, 16, 2, 4, 4, 1>",
           128,
           4096,
           4096
          ],
          [
           0.111833,
           "DeviceGemmDl<8, 8, 8, 4, 2, 2, 1, 1>",
           8,
           2048,
           2048
          ],
          [
           7.02677,
           "DeviceGemmDl<256, 128, 128, 16, 2, 4, 4, 1>",
           128,
           16384,
           16384
          ],
          [
           13.2725,
           "DeviceGemmDl<128, 128, 64, 16, 2, 4, 4, 1>",
           256,
           16384,
           16384
          ],
          [
           0.0134716,
           "DeviceGemmDl<64, 8, 64, 32, 2, 1, 2, 1>",
           16,
           128,
           128
          ],
          [
           0.0249563,
           "DeviceGemmDl<64, 16, 64, 16, 2, 1, 4, 1>",
           256,
           512,
           512
          ],
          [
           0.0450726,
           "DeviceGemmDl<64, 16, 64, 16, 2, 1, 4, 1>",
           128,
           1024,
           1024
          ],
          [
           0.0511286,
           "DeviceGemmDl<8, 8, 8, 4, 2, 2, 1, 1>",
           32,
           1024,
           1024
          ],
          [
           0.0697369,
           "DeviceGemmDl<64, 8, 64, 32, 2, 1, 2, 1>",
           32,
           2048,
           2048
          ],
          [
           0.0117441,
           "DeviceGemmDl<64, 8, 64, 32, 2, 1, 2, 1>",
           256,
           256,
           256
          ],
          [
           0.31624,
           "DeviceGemmDl<256, 128, 128, 16, 2, 4, 4, 1>",
           256,
           2048,
           2048
          ],
          [
           2.97232,
           "DeviceGemmDl<64, 16, 64, 16, 2, 1, 4, 1>",
           32,
           16384,
           16384
          ],
          [
           0.0076681,
           "DeviceGemmDl<64, 8, 64, 32, 2, 1, 2, 1>",
           256,
           128,
           128
          ],
          [
           0.0132806,
           "DeviceGemmDl<64, 8, 64, 32, 2, 1, 2, 1>",
           64,
           128,
           128
          ],
          [
           1.98152,
           "DeviceGemmDl<64, 64, 64, 8, 2, 4, 4, 1>",
           128,
           8192,
           8192
          ],
          [
           0.0219523,
           "DeviceGemmDl<64, 8, 64, 32, 2, 1, 2, 1>",
           32,
           256,
           256
          ],
          [
           0.0218371,
           "DeviceGemmDl<64, 8, 64, 32, 2, 1, 2, 1>",
           8,
           256,
           256
          ],
          [
           0.0131871,
           "DeviceGemmDl<64, 8, 64, 32, 2, 1, 2, 1>",
           8,
           128,
           128
          ],
          [
           0.272819,
           "DeviceGemmDl<64, 8, 64, 32, 2, 1, 2, 1>",
           32,
           4096,
           4096
          ],
          [
           3.86898,
           "DeviceGemmDl<64, 64, 64, 8, 2, 4, 4, 1>",
           64,
           16384,
           16384
          ],
          [
           0.0103791,
           "DeviceGemmDl<64, 8, 64, 32, 2, 1, 2, 1>",
           128,
           64,
           64
          ],
          [
           1.38714,
           "DeviceGemmDl<64, 16, 64, 16, 2, 1, 4, 1>",
           16,
           16384,
           16384
          ],
          [
           0.0187922,
           "DeviceGemmDl<64, 8, 64, 32, 2, 1, 2, 1>",
           128,
           512,
           512
          ],
          [
           0.0338724,
           "DeviceGemmDl<64, 8, 64, 32, 2, 1, 2, 1>",
           64,
           1024,
           1024
          ],
          [
           0.0390821,
           "DeviceGemmDl<64, 8, 64, 32, 2, 1, 2, 1>",
           16,
           512,
           512
          ],
          [
           0.0679168,
           "DeviceGemmDl<64, 8, 64, 32, 2, 1, 2, 1>",
           16,
           2048,
           2048
          ],
          [
           1.40641,
           "DeviceGemmDl<64, 16, 64, 16, 2, 1, 4, 1>",
           64,
           8192,
           8192
          ],
          [
           0.0105767,
           "DeviceGemmDl<64, 8, 64, 32, 2, 1, 2, 1>",
           32,
           64,
           64
          ],
          [
           0.0452765,
           "DeviceGemmDl<8, 8, 8, 4, 2, 2, 1, 1>",
           16,
           1024,
           1024
          ],
          [
           0.0151762,
           "DeviceGemmDl<8, 8, 8, 4, 2, 2, 1, 1>",
           64,
           256,
           256
          ],
          [
           0.0400491,
           "DeviceGemmDl<64, 8, 64, 32, 2, 1, 2, 1>",
           32,
           512,
           512
          ],
          [
           0.0134902,
           "DeviceGemmDl<64, 8, 64, 32, 2, 1, 2, 1>",
           32,
           128,
           128
          ],
          [
           1.42641,
           "DeviceGemmDl<64, 8, 64, 32, 2, 1, 2, 1>",
           8,
           16384,
           16384
          ],
          [
           0.0104645,
           "DeviceGemmDl<64, 8, 64, 32, 2, 1, 2, 1>",
           64,
           64,
           64
          ],
          [
           0.0103755,
           "DeviceGemmDl<64, 8, 64, 32, 2, 1, 2, 1>",
           16,
           64,
           64
          ],
          [
           0.0113402,
           "DeviceGemmDl<64, 8, 64, 32, 2, 1, 2, 1>",
           128,
           256,
           256
          ],
          [
           3.75722,
           "DeviceGemmDl<128, 128, 64, 16, 2, 4, 4, 1>",
           256,
           8192,
           8192
          ],
          [
           0.132674,
           "DeviceGemmDl<64, 8, 64, 32, 2, 1, 2, 1>",
           16,
           4096,
           4096
          ],
          [
           0.261099,
           "DeviceGemmDl<64, 16, 64, 16, 2, 1, 4, 1>",
           64,
           4096,
           4096
          ],
          [
           0.0221811,
           "DeviceGemmDl<64, 8, 64, 32, 2, 1, 2, 1>",
           16,
           256,
           256
          ],
          [
           0.410963,
           "DeviceGemmDl<64, 16, 64, 16, 2, 1, 4, 1>",
           16,
           8192,
           8192
          ],
          [
           0.0371864,
           "DeviceGemmDl<64, 8, 64, 32, 2, 1, 2, 1>",
           8,
           512,
           512
          ],
          [
           0.971928,
           "DeviceGemmDl<64, 64, 64, 8, 2, 4, 4, 1>",
           256,
           4096,
           4096
          ],
          [
           0.213527,
           "DeviceGemmDl<8, 8, 8, 4, 2, 2, 1, 1>",
           8,
           4096,
           4096
          ],
          [
           0.0467805,
           "DeviceGemmDl<64, 8, 64, 32, 2, 1, 2, 1>",
           8,
           1024,
           1024
          ],
          [
           0.0104173,
           "DeviceGemmDl<64, 8, 64, 32, 2, 1, 2, 1>",
           8,
           64,
           64
          ],
          [
           0.0929571,
           "DeviceGemmDl<64, 16, 64, 16, 2, 1, 4, 1>",
           64,
           2048,
           2048
          ],
          [
           0.568751,
           "DeviceGemmDl<64, 16, 64, 16, 2, 1, 4, 1>",
           32,
           8192,
           8192
          ],
          [
           0.0640528,
           "DeviceGemmDl<64, 16, 64, 16, 2, 1, 4, 1>",
           256,
           1024,
           1024
          ],
          [
           0.0097361,
           "DeviceGemmDl<8, 8, 8, 4, 2, 2, 1, 1>",
           128,
           128,
           128
          ],
          [
           0.337501,
           "DeviceGemmDl<64, 8, 64, 32, 2, 1, 2, 1>",
           8,
           8192,
           8192
          ],
          [
           0.0189322,
           "DeviceGemmDl<64, 64, 8, 32, 2, 2, 1, 1>",
           64,
           512,
           512
          ],
          [
           0.129657,
           "DeviceGemmDl<64, 16, 64, 16, 2, 1, 4, 1>",
           128,
           2048,
           2048
          ]
         ],
         "hovertemplate": "Operational Intensity (TFLOPs/GB/s)=%{x}<br>Performance (TFLOPs)=%{y}<br>time_scaled=%{marker.size}<br>Execution Time (ms)=%{customdata[0]}<br>operation=%{customdata[1]}<br>M=%{marker.color}<br>N=%{customdata[3]}<br>K=%{customdata[4]}<extra></extra>",
         "legendgroup": "",
         "marker": {
          "color": {
           "bdata": "AAGAAAgAgAAAARAAAAGAACAAIAAAAQABIAAAAUAAgAAgAAgACAAgAEAAgAAQAIAAQAAQABAAQAAgABAAQAAgACAACABAABAAgAAAARAAQAAQABAACAAAAQgACAAIAEAAIAAAAYAACABAAIAA",
           "dtype": "i2"
          },
          "coloraxis": "coloraxis",
          "size": {
           "bdata": "gxwvTNwduj+LiVUrbzjpP5ykZLYLZ9U/iTysiNk0BUDM0obPKCUNQKmtNNqUtr0/IopspIs4xD+x6fVbvyzLP2hdbFph8cw/ZRGoG6Xm0D8zHvI7Jr67P9Q8/AvK/uE/QQzF0KyV+z8tkZgE1mq2P2ipu0t3gL0/Gn9ydMuF9j/5rQkMAvfCP6dAaZhA6sI/xZlXQ9VlvT8PqPES2rbgPywyUPC3eP8/FJF+/6oUuj+GHWRjJNjyP7GDWlr9i8E/AH64qsWOxz9zfW4f+E3JP/0BLlrPrdA/IvzL6Ij58j8bi+6j7FO6P9wYxhp3PMs/nZiwGn6Jvz84wV/8np3JP97z963Uu70//rIekPMb8z/VO19qFDC6P/q/goyCE7o/HsidBvRCuz9hL/mAgAP/P5SEmNfHT9c/JWfhhu9Z4D/JXJ1JPhDDP8QXhJCYg+Q/tNDzVuiuyD/7yAfYMozvP9nuJSzhkt0/EESARFOvyz88w8h98SC6P0M3t8JLg9M/hBaTYgsi6D9SIAfqkTLQPwkCMg2MQrk/UB1ABSGX4j9+bnrosJzBPzNH23OJC9c/",
           "dtype": "f8"
          },
          "sizemode": "area",
          "sizeref": 0.009107860615973436,
          "symbol": "circle"
         },
         "mode": "markers",
         "name": "",
         "orientation": "v",
         "showlegend": false,
         "type": "scatter",
         "x": {
          "bdata": "c0q3JIYgjT8fB/xnI9euP/L7T7DIQXA/Uyawb8YhsD9ktomBa8a/Pwh94PngNno/oxi5bE1isD/Tj6OI3jaqP7eMu58p144/Ir5FAmfGjz8zS2huZ9ilPwcpFs/jNro/MS7J0/tRkD99spBm3zaaPwzpexZRYpA/h8qGGmrGrz+aRGEI6TaKP3usEocu124/Cr3dBIUgbT/brVlOySGQP4XvhHXJQaA/mVL/Kds2ij9Av0flIFqAP/gzWQRn2KU/UFt7v4ggnT8zyWaiKdd+PylZ/t3GIYA/2Rcf6MchoD/jgpCOT2KAPyum165mxn8/iSkBOGvYlT/0Vn10iiCNPzQLiIBo2IU/Wi+jAzVecD+EYYxuZtiFP6Xi7MNn2HU/5+3Qb1BioD/5DvS3Kte+P0Hu/RzJQYA/o/GmoWjGnz/xeNtQhiB9P+dhYnL7UYA/wljIWWPGbz+OoRkCiiC9P6roTxT5UXA/rxxOmcchcD8kyjKk3zZqP8MZjmol154/+uw2WMpBkD8ErpC9Zti1Py9rpPxn2JU/BqC6riBacD8TLVXx5TaaP+LvUsqJIK0/",
          "dtype": "f8"
         },
         "xaxis": "x",
         "y": {
          "bdata": "mG4Sg8DKyT9jKCfaVagbQDiGAODYM+M/Olj/5zCPI0ASFD/G3LUkQPblcb0S7aM/iSmRRC+DFUA0nZ0MjtIXQDnWxW00APU/Xmiu00jLDkAlXTP5ZtsGQLZnlgSoKRtAkQ96NqseF0BUHXIz3IDxP46u0t11NsQ/LLe0GhJXIUC/gjRj0XTIPz6/OW3Xlag/eEiM+RRblD+xFp8CYHwPQFBTy9b6wiFAclMDzefcuT/a/pWVJsUYQP32deCckQxAF0hQ/BizD0D1u7A1W3nLP1hzgGCOnv8/A8+9h0tuGEBwtrkxPWGZP2UZ4lgXt+c/tr3dkhyw4T94Qq8/ic/aP5Vm8zgM5rM/LZW3I5wWCEDdCfZf56apPwDz2rY534k/QBNhw9Or9z98fhghPEoiQOSDns2qLxBAF0hQ/BhzIEBlVu9wOzS4P9dMvtnm5hRAmntI+N7fvD/MejGUE60hQJOpglFJHfQ/4qyImujz1j9vlVCPp8R5P9IdxM4UGhdAv4I0Y9E0HkClaybfbMMgQHmRCfg1kts/pN++DpxzCUCzDHGsi1v8P6smiLoPkCBA",
          "dtype": "f8"
         },
         "yaxis": "y"
        },
        {
         "line": {
          "color": "tomato",
          "width": 1
         },
         "mode": "lines",
         "name": "Theoretical Roofline",
         "opacity": 0.45,
         "type": "scatter",
         "x": [
          0.000630957344480193,
          0.0006388675383359555,
          0.0006468769008080802,
          0.0006549866751549052,
          0.0006631981202212669,
          0.0006715125106339014,
          0.0006799311369993016,
          0.0006884553061040521,
          0.0006970863411176753,
          0.0007058255817980214,
          0.0007146743846992355,
          0.0007236341233823251,
          0.0007327061886283754,
          0.0007418919886544327,
          0.000751192949332096,
          0.0007606105144088511,
          0.0007701461457321728,
          0.0007798013234764442,
          0.000789577546372717,
          0.0007994763319413523,
          0.0008094992167275812,
          0.0008196477565400122,
          0.0008299235266921351,
          0.0008403281222468491,
          0.0008508631582640581,
          0.000861530270051368,
          0.0008723311134179319,
          0.0008832673649314691,
          0.0008943407221785147,
          0.0009055529040279276,
          0.0009169056508977024,
          0.0009284007250251302,
          0.0009400399107403378,
          0.0009518250147432648,
          0.0009637578663841089,
          0.0009758403179472874,
          0.0009880742449389624,
          0.0010004615463781623,
          0.0010130041450915617,
          0.0010257039880119522,
          0.0010385630464804566,
          0.001051583316552531,
          0.0010647668193078067,
          0.0010781156011638086,
          0.0010916317341936148,
          0.0011053173164474951,
          0.0011191744722785807,
          0.001133205352672623,
          0.001147412135581875,
          0.0011617970262631687,
          0.0011763622576202283,
          0.0011911100905502726,
          0.0012060428142949638,
          0.0012211627467957602,
          0.001236472235053715,
          0.0012519736554937931,
          0.0012676694143337543,
          0.0012835619479576574,
          0.0012996537232940546,
          0.0013159472381989153,
          0.0013324450218433616,
          0.0013491496351062593,
          0.0013660636709717311,
          0.0013831897549316588,
          0.0014005305453932196,
          0.0014180887340915444,
          0.0014358670465075415,
          0.001453868242290963,
          0.0014720951156887703,
          0.001490550495978879,
          0.0015092372479093273,
          0.001528158272142963,
          0.0015473165057077,
          0.0015667149224524203,
          0.0015863565335085897,
          0.001606244387757669,
          0.0016263815723043691,
          0.0016467712129558556,
          0.0016674164747069512,
          0.001688320562231424,
          0.0017094867203794406,
          0.0017309182346812405,
          0.0017526184318571408,
          0.0017745906803339276,
          0.0017968383907677192,
          0.001819365016573396,
          0.001842174054460647,
          0.0018652690449767564,
          0.001888653573056185,
          0.0019123312685770438,
          0.001936305806924549,
          0.0019605809095615268,
          0.0019851603446060864,
          0.002010047927416527,
          0.002035247521183576,
          0.002060763037530065,
          0.0020865984371181024,
          0.0021127577302638744,
          0.0021392449775601494,
          0.002166064290506586,
          0.0021932198321479423,
          0.002220715817720286,
          0.0022485565153053137,
          0.0022767462464928566,
          0.0023052893870517083,
          0.0023341903676088547,
          0.0023634536743372186,
          0.0023930838496520387,
          0.0024230854929159534,
          0.002453463261152951,
          0.0024842218697712555,
          0.0025153660932952762,
          0.002546900766106747,
          0.0025788307831951314,
          0.0026111611009174596,
          0.00264389673776768,
          0.002677042775155656,
          0.0027106043581959405,
          0.002744586696506415,
          0.0027789950650169643,
          0.0028138348047882815,
          0.0028491113238409316,
          0.0028848300979948268,
          0.0029209966717191993,
          0.0029576166589932533,
          0.0029946957441775984,
          0.0030322396828966016,
          0.0030702543029318278,
          0.0031087455051266215,
          0.0031477192643021177,
          0.003187181630184649,
          0.003227138728344835,
          0.0032675967611484258,
          0.003308562008719064,
          0.003350040829913133,
          0.0033920396633067965,
          0.003434565028195443,
          0.003477623525605645,
          0.003521221839319801,
          0.003565366736913648,
          0.00361006507080674,
          0.003655323779326131,
          0.0037011498877833806,
          0.0037475505095650587,
          0.0037945328472369384,
          0.003842104193661997,
          0.003890271933132471,
          0.003939043542516084,
          0.0039884265924166416,
          0.004038428748349203,
          0.0040890577719299385,
          0.004140321522080949,
          0.004192227956250167,
          0.004244785131646552,
          0.0042980012064907985,
          0.004351884441281653,
          0.004406443200078215,
          0.004461685951798207,
          0.004517621271532588,
          0.004574257841876624,
          0.004631604454277644,
          0.0046896700103997175,
          0.004748463523505391,
          0.004807994119854798,
          0.0048682710401222835,
          0.004929303640830789,
          0.004991101395804241,
          0.005053673897638107,
          0.005117030859188427,
          0.0051811821150794975,
          0.005246137623230447,
          0.005311907466400985,
          0.005378501853756472,
          0.0054459311224526645,
          0.005514205739240302,
          0.0055833363020898075,
          0.005653333541836388,
          0.005724208323845703,
          0.005795971649700466,
          0.005868634658908172,
          0.0059422086306302226,
          0.0060167049854327765,
          0.0060921352870594424,
          0.006168511244226359,
          0.006245844712439618,
          0.006324147695835562,
          0.006403432349044171,
          0.0064837109790756905,
          0.006564996047231092,
          0.0066473001710363145,
          0.006730636126200849,
          0.006815016848600892,
          0.006900455436287239,
          0.006986965151518543,
          0.007074559422819878,
          0.007163251847067224,
          0.007253056191598043,
          0.007343986396348318,
          0.007436056576016424,
          0.0075292810222540064,
          0.007623674205884523,
          0.007719250779149398,
          0.007816025577982458,
          0.007914013624312877,
          0.008013230128396887,
          0.0081136904911789,
          0.008215410306682047,
          0.008318405364428804,
          0.00842269165189196,
          0.008528285356976192,
          0.008635202870530961,
          0.008743460788894696,
          0.00885307591647101,
          0.008964065268337207,
          0.009076446072885356,
          0.009190235774496715,
          0.009305452036249436,
          0.00942211274266037,
          0.009540236002461237,
          0.009659840151409462,
          0.009780943755134493,
          0.009903565612019544,
          0.010027724756119651,
          0.010153440460116217,
          0.010280732238308653,
          0.010409619849643463,
          0.010540123300781362,
          0.010672262849202826,
          0.010806059006352547,
          0.010941532540823369,
          0.011078704481580074,
          0.011217596121223632,
          0.011358229019296368,
          0.011500625005628533,
          0.01164480618372686,
          0.011790794934205621,
          0.011938613918260623,
          0.01208828608118686,
          0.012239834655940163,
          0.012393283166743577,
          0.01254865543273893,
          0.012705975571684151,
          0.012865268003696969,
          0.01302655745504557,
          0.013189868961986699,
          0.01335522787465198,
          0.013522659860982866,
          0.013692190910714969,
          0.013863847339412367,
          0.014037655792552403,
          0.014213643249661775,
          0.014391837028504464,
          0.014572264789322102,
          0.014754954539127618,
          0.014939934636052577,
          0.015127233793749124,
          0.015316881085847096,
          0.01550890595046695,
          0.015703338194789335,
          0.015900207999681955,
          0.01609954592438437,
          0.01630138291125159,
          0.01650575029055715,
          0.016712679785356316,
          0.016922203516410373,
          0.017134354007172545,
          0.01734916418883649,
          0.017566667405448076,
          0.017786897419081207,
          0.018009888415078567,
          0.01823567500735809,
          0.01846429224378588,
          0.018695775611616592,
          0.018930161043001905,
          0.019167484920568148,
          0.01940778408306384,
          0.01965109583107795,
          0.019897457932829925,
          0.02014690863003233,
          0.020399486643826865,
          0.020655231180794962,
          0.020914181939043573,
          0.021176379114367375,
          0.021441863406488206,
          0.02171067602537266,
          0.021982858697628938,
          0.022258453672983944,
          0.022537503730841426,
          0.02282005218692255,
          0.02310614289998951,
          0.023395820278653567,
          0.023689129288268457,
          0.02398611545791008,
          0.02428682488744382,
          0.02459130425468045,
          0.024899600822621683,
          0.025211762446796602,
          0.025527837582690123,
          0.025847875293264436,
          0.02617192525657493,
          0.026500037773481422,
          0.026832263775456163,
          0.027168654832489772,
          0.027509263161096108,
          0.027854141632417676,
          0.028203343780432617,
          0.028556923810264454,
          0.028914936606596237,
          0.029277437742189938,
          0.02964448348651283,
          0.03001613081447198,
          0.03039243741525813,
          0.030773461701300586,
          0.031159262817334363,
          0.03154990064958087,
          0.03194543583504389,
          0.03234592977092191,
          0.03275144462413857,
          0.03316204334099262,
          0.03357778965692869,
          0.033998748106430735,
          0.034424984033039466,
          0.03485656359949527,
          0.03529355379800839,
          0.035736022460657886,
          0.036184038269920796,
          0.03663767076933357,
          0.03709699037428688,
          0.037562068382955914,
          0.03803297698736778,
          0.03850978928460743,
          0.03899257928816425,
          0.03948142193942092,
          0.039976393119286094,
          0.04047756965997322,
          0.04098502935692674,
          0.04149885098089798,
          0.04201911429017245,
          0.04254590004295028,
          0.043079290009882,
          0.04361936698676149,
          0.0441662148073779,
          0.04471991835652895,
          0.04528056358319707,
          0.04584823751389096,
          0.04642302826615441,
          0.047005025062244236,
          0.04759431824297997,
          0.04819099928176712,
          0.048795160798796006,
          0.049406896575419,
          0.05002630156870764,
          0.05065347192619242,
          0.05128850500078749,
          0.05193149936590215,
          0.052582554830742,
          0.05324177245580205,
          0.05390925456855366,
          0.05458510477932853,
          0.055269427997401706,
          0.05596233044727604,
          0.05666391968517116,
          0.057374304615718755,
          0.05809359550886744,
          0.05882190401699959,
          0.05955934319226244,
          0.06030602750411683,
          0.061062072857105784,
          0.06182759660884577,
          0.06260271758824378,
          0.06338755611394237,
          0.06418223401299651,
          0.064986874639784,
          0.06580160289515334,
          0.06662654524581156,
          0.067461829743955,
          0.06830758604714654,
          0.06916394543844144,
          0.07003104084676602,
          0.07090900686755164,
          0.07179797978362724,
          0.07269809758637426,
          0.07360949999714594,
          0.07453232848895605,
          0.07546672630843894,
          0.07641283849808517,
          0.07737081191875567,
          0.07834079527247872,
          0.07932293912553177,
          0.08031739593181354,
          0.08132432005650865,
          0.08234386780004901,
          0.08337619742237598,
          0.08442146916750583,
          0.08547984528840413,
          0.08655149007217142,
          0.08763656986554479,
          0.08873525310071906,
          0.08984771032149219,
          0.09097411420973744,
          0.09211463961220842,
          0.09326946356767969,
          0.09443876533442759,
          0.09562272641805616,
          0.09682153059967086,
          0.09803536396440646,
          0.09926441493031216,
          0.10050887427759882,
          0.10176893517825328,
          0.10304479322602306,
          0.10433664646677787,
          0.1056446954292514,
          0.10696914315616836,
          0.10831019523576196,
          0.10966805983368685,
          0.11104294772533109,
          0.11243507232853432,
          0.11384464973671567,
          0.11527189875241675,
          0.11671704092126593,
          0.11818030056636727,
          0.11966190482312156,
          0.12116208367448351,
          0.122681069986661,
          0.12421909954526174,
          0.12577641109189375,
          0.1273532463612234,
          0.12894985011849935,
          0.13056647019754633,
          0.132203357539235,
          0.13386076623043514,
          0.13553895354345544,
          0.13723817997597945,
          0.13895870929150134,
          0.1407008085602685,
          0.1424647482007384,
          0.14425080202155355,
          0.14605924726404412,
          0.1478903646452629,
          0.14974443840155965,
          0.15162175633270183,
          0.15352260984654897,
          0.1554472940042859,
          0.15739610756622424,
          0.15936935303817762,
          0.16136733671841813,
          0.16339036874522236,
          0.16543876314501174,
          0.16751283788109825,
          0.16961291490304026,
          0.17173932019661728,
          0.17389238383443126,
          0.176072440027143,
          0.17827982717534907,
          0.180514887922111,
          0.18277796920614217,
          0.18506942231566123,
          0.187389602942922,
          0.18973887123942473,
          0.19211759187182162,
          0.19452613407852234,
          0.19696487172700902,
          0.1994341833718708,
          0.20193445231356422,
          0.20446606665791178,
          0.20702941937634597,
          0.20962490836690836,
          0.21225293651601346,
          0.21491391176098773,
          0.21760824715339078,
          0.22033636092313233,
          0.22309867654339202,
          0.22589562279635306,
          0.22872763383976114,
          0.23159514927431546,
          0.23449861421190693,
          0.23743847934471077,
          0.24041520101514519,
          0.24342924128670843,
          0.2464810680157013,
          0.24957115492385165,
          0.2526999816718477,
          0.2558680339337937,
          0.25907580347259884,
          0.26232378821631236,
          0.2656124923354133,
          0.2689424263210716,
          0.2723141070643894,
          0.2757280579366351,
          0.27918480887048547,
          0.28268489644228306,
          0.2862288639553275,
          0.28981726152420995,
          0.2934506461602052,
          0.2971295818577334,
          0.3008546396819079,
          0.3046263978571773,
          0.308445441857082,
          0.3123123644951343,
          0.31622776601683794
         ],
         "y": [
          0.6057190507009853,
          0.6133128368025172,
          0.6210018247757569,
          0.6287872081487089,
          0.6366701954124162,
          0.6446520102085453,
          0.6527338915193295,
          0.66091709385989,
          0.6692028874729683,
          0.6775925585261006,
          0.686087409311266,
          0.694688758447032,
          0.7033979410832404,
          0.7122163091082554,
          0.7211452313588121,
          0.7301860938324971,
          0.739340299902886,
          0.7486092705373865,
          0.7579944445178083,
          0.7674972786636982,
          0.7771192480584779,
          0.7868618462784117,
          0.7967265856244496,
          0.8067149973569752,
          0.8168286319334958,
          0.8270690592493133,
          0.8374378688812146,
          0.8479366703342104,
          0.858567093291374,
          0.8693307878668105,
          0.8802294248617942,
          0.8912646960241251,
          0.9024383143107243,
          0.9137520141535341,
          0.9252075517287445,
          0.9368067052293959,
          0.9485512751414039,
          0.9604430845230358,
          0.9724839792878992,
          0.9846758284914741,
          0.9970205246212384,
          1.0095199838904296,
          1.0221761465354944,
          1.0349909771172563,
          1.0479664648258702,
          1.0611046237895954,
          1.0744074933874375,
          1.0878771385657182,
          1.1015156501585999,
          1.115325145212642,
          1.1293077673154193,
          1.1434656869282618,
          1.1578011017231653,
          1.1723162369239297,
          1.1870133456515664,
          1.2018947092740413,
          1.2169626377604041,
          1.2322194700393512,
          1.2476675743622925,
          1.2633093486709586,
          1.279147220969627,
          1.2951836497020088,
          1.311421124132862,
          1.3278621647343924,
          1.3445093235774908,
          1.3613651847278825,
          1.3784323646472398,
          1.3957135125993245,
          1.4132113110612194,
          1.4309284761397238,
          1.448867757992954,
          1.4670319412572446,
          1.485423845479392,
          1.5040463255543235,
          1.5229022721682461,
          1.5419946122473622,
          1.5613263094121943,
          1.5809003644376214,
          1.600719815718673,
          1.620787739742167,
          1.641107251564263,
          1.6616815052939908,
          1.6825136945828552,
          1.7036070531205705,
          1.7249648551370105,
          1.7465904159104602,
          1.7684870922822211,
          1.790658283177686,
          1.8131074301339376,
          1.8358380178339622,
          1.8588535746475672,
          1.8821576731790657,
          1.905753930821843,
          1.9296460103198658,
          1.9538376203362329,
          1.9783325160288625,
          2.0031344996333784,
          2.0282474210533192,
          2.0536751784577434,
          2.0794217188863224,
          2.1054910388620245,
          2.1318871850114745,
          2.1586142546931013,
          2.1856763966331423,
          2.21307781156964,
          2.2408227529045006,
          2.26891552736373,
          2.297360495665957,
          2.326162073199315,
          2.3553247307068332,
          2.384852994980405,
          2.414751449563465,
          2.4450247354624772,
          2.475677551867326,
          2.506714656880761,
          2.538140868256973,
          2.56996106414943,
          2.6021801838681027,
          2.6348032286461582,
          2.6678352624162858,
          2.7012814125967504,
          2.735146870887294,
          2.769436894075034,
          2.8041568048504315,
          2.8393119926335233,
          2.8749079144104943,
          2.9109500955807377,
          2.9474441308145547,
          2.9843956849215565,
          3.021810493730033,
          3.059694364977263,
          3.0980531792110417,
          3.1368928907024887,
          3.1762195283703014,
          3.2160391967166078,
          3.2563580767745246,
          3.297182427067625,
          3.3385185845814194,
          3.380372965747009,
          3.422752067437102,
          3.4656624679744703,
          3.5091108281530854,
          3.5531038922720453,
          3.5976484891824563,
          3.642751533347461,
          3.688420025915517,
          3.7346610558071722,
          3.7814818008154405,
          3.828889528719976,
          3.876891598415235,
          3.925495461052741,
          3.9747086611977114,
          4.0245388380001605,
          4.07499372638069,
          4.126081158231167,
          4.177809063630387,
          4.230185472075086,
          4.283218513726279,
          4.336916420671285,
          4.391287528201559,
          4.446340276106539,
          4.502083209983729,
          4.558524982565175,
          4.615674355060606,
          4.673540198517392,
          4.7321314951975575,
          4.791457339972071,
          4.851526941732582,
          4.91234962482089,
          4.973934830476318,
          5.036292118301229,
          5.099431167744946,
          5.163361779606213,
          5.228093877554558,
          5.29363750967069,
          5.360002850006215,
          5.4272002001629325,
          5.495239990891874,
          5.564132783712447,
          5.633889272551845,
          5.704520285405014,
          5.7760367860154656,
          5.848449875577065,
          5.921770794457305,
          5.996010923942033,
          6.07118178800214,
          6.147295055082404,
          6.224362539912663,
          6.302396205341848,
          6.381408164194862,
          6.461410681152815,
          6.542416174656856,
          6.624437218835749,
          6.707486545457801,
          6.791577045907083,
          6.876721773184535,
          6.962933943934122,
          7.050226940494386,
          7.138614312975767,
          7.228109781363846,
          7.318727237649142,
          7.4104807479834225,
          7.5033845548631595,
          7.597453079340362,
          7.692700923261011,
          7.789142871531744,
          7.886793894414765,
          7.985669149851652,
          8.085783985816281,
          8.187153942697144,
          8.289794755709723,
          8.393722357338907,
          8.49895287981217,
          8.605502657603719,
          8.713388229969942,
          8.822626343516847,
          8.933233954799459,
          9.045228232953956,
          9.158626562362787,
          9.273446545353083,
          9.389706004929113,
          9.507422987538762,
          9.626615765874865,
          9.74730284171157,
          9.869502948776306,
          9.993235055657724,
          10.118518368750108,
          10.245372335234713,
          10.373816646098446,
          10.503871239190435,
          10.635556302316871,
          10.768892276374686,
          10.903899858524513,
          11.040600005403391,
          11.179013936377785,
          11.319163136837396,
          11.461069361530198,
          11.604754637939385,
          11.750241269702556,
          11.897551840073834,
          12.046709215429374,
          12.197736548816785,
          12.35065728354909,
          12.505495156843747,
          12.66227420350723,
          12.8210187596659,
          12.981753466543552,
          13.14450327428637,
          13.309293445835872,
          13.476149560850308,
          13.645097519675303,
          13.816163547364285,
          13.989374197749218,
          14.164756357562514,
          14.342337250610473,
          14.52214444199916,
          14.704205842413213,
          14.888549712448272,
          15.075204666997761,
          15.264199679694677,
          15.455564087408996,
          15.649327594801527,
          15.845520278934865,
          16.044172593942065,
          16.245315375753957,
          16.448979846885642,
          16.65519762128303,
          16.86400070923015,
          17.07542152231796,
          17.289492878475425,
          17.506248007063768,
          17.725720554034446,
          17.947944587151927,
          18.17295460128183,
          18.400785523745423,
          18.63147271974129,
          18.865051997834833,
          19.101559615516727,
          19.341032284831037,
          19.58350717807379,
          19.829021933563162,
          20.077614661481828,
          20.32932394979268,
          20.58418887022868,
          20.842248984357752,
          21.10354434972378,
          21.368115526064585,
          21.63600358160777,
          21.907250099445648,
          22.18189718398993,
          22.459987467507425,
          22.74156411673772,
          23.026670839593677,
          23.315351891946065,
          23.607652084493232,
          23.903616789716818,
          24.203291948924736,
          24.50672407938252,
          24.81396028153386,
          25.125048246311934,
          25.440036262542165,
          25.758973224437916,
          26.081908639190182,
          26.408892634652265,
          26.73997596712097,
          27.075210029215313,
          27.414646857853874,
          27.75833914233239,
          28.10634023250234,
          28.458704147052316,
          28.815485581893103,
          29.176739918647804,
          29.542523233248563,
          29.912892304640987,
          30.287904623597633,
          30.667618401642134,
          31.052092580085034,
          31.441386839173028,
          31.835561607352915,
          32.23467807065154,
          32.6387981821735,
          33.047984671717884,
          33.46230105551546,
          33.88181164608805,
          34.30658156223157,
          34.736676739123965,
          35.17216393856023,
          35.613110759315404,
          36.059585647637675,
          36.51165790787307,
          36.96939771322313,
          37.43287611663768,
          37.90216506184408,
          38.37733739451465,
          38.858466873574294,
          39.34562818264967,
          39.83889694166206,
          40.33834971856555,
          40.84406404123227,
          41.35611840948672,
          41.87459230729103,
          42.399566215082785,
          42.93112162226779,
          43.469341039869185,
          44.01430801333532,
          44.56610713550823,
          45.12482405975447,
          45.69054551326077,
          46.26335931049644,
          46.84335436684417,
          47.430620712402245,
          48.02524950595933,
          48.627333049144724,
          49.23696480075599,
          49.85423939126606,
          50.47925263751232,
          51.112101557569964,
          51.75288438581151,
          52.401700588155386,
          53.058650877505634,
          53.723837229385,
          54.39736289776432,
          55.07933243109,
          55.769851688512745,
          56.469027856319606,
          57.17696946457195,
          57.893786403952156,
          58.619589942821555,
          59.35449274449194,
          60.098608884714025,
          60.852053869384676,
          61.44,
          61.44,
          61.44,
          61.44,
          61.44,
          61.44,
          61.44,
          61.44,
          61.44,
          61.44,
          61.44,
          61.44,
          61.44,
          61.44,
          61.44,
          61.44,
          61.44,
          61.44,
          61.44,
          61.44,
          61.44,
          61.44,
          61.44,
          61.44,
          61.44,
          61.44,
          61.44,
          61.44,
          61.44,
          61.44,
          61.44,
          61.44,
          61.44,
          61.44,
          61.44,
          61.44,
          61.44,
          61.44,
          61.44,
          61.44,
          61.44,
          61.44,
          61.44,
          61.44,
          61.44,
          61.44,
          61.44,
          61.44,
          61.44,
          61.44,
          61.44,
          61.44,
          61.44,
          61.44,
          61.44,
          61.44,
          61.44,
          61.44,
          61.44,
          61.44,
          61.44,
          61.44,
          61.44,
          61.44,
          61.44,
          61.44,
          61.44,
          61.44,
          61.44,
          61.44,
          61.44,
          61.44,
          61.44,
          61.44,
          61.44,
          61.44,
          61.44,
          61.44,
          61.44,
          61.44,
          61.44,
          61.44,
          61.44,
          61.44,
          61.44,
          61.44,
          61.44,
          61.44,
          61.44,
          61.44,
          61.44,
          61.44,
          61.44,
          61.44,
          61.44,
          61.44,
          61.44,
          61.44,
          61.44,
          61.44,
          61.44,
          61.44,
          61.44,
          61.44,
          61.44,
          61.44,
          61.44,
          61.44,
          61.44,
          61.44,
          61.44,
          61.44,
          61.44,
          61.44,
          61.44,
          61.44,
          61.44,
          61.44,
          61.44,
          61.44,
          61.44,
          61.44,
          61.44,
          61.44,
          61.44,
          61.44,
          61.44,
          61.44,
          61.44
         ]
        }
       ],
       "layout": {
        "coloraxis": {
         "colorbar": {
          "title": {
           "text": "M"
          }
         },
         "colorscale": [
          [
           0,
           "#0d0887"
          ],
          [
           0.1111111111111111,
           "#46039f"
          ],
          [
           0.2222222222222222,
           "#7201a8"
          ],
          [
           0.3333333333333333,
           "#9c179e"
          ],
          [
           0.4444444444444444,
           "#bd3786"
          ],
          [
           0.5555555555555556,
           "#d8576b"
          ],
          [
           0.6666666666666666,
           "#ed7953"
          ],
          [
           0.7777777777777778,
           "#fb9f3a"
          ],
          [
           0.8888888888888888,
           "#fdca26"
          ],
          [
           1,
           "#f0f921"
          ]
         ]
        },
        "legend": {
         "itemsizing": "constant",
         "orientation": "h",
         "tracegroupgap": 0,
         "y": 1.02,
         "yanchor": "bottom"
        },
        "template": {
         "data": {
          "bar": [
           {
            "error_x": {
             "color": "#2a3f5f"
            },
            "error_y": {
             "color": "#2a3f5f"
            },
            "marker": {
             "line": {
              "color": "#E5ECF6",
              "width": 0.5
             },
             "pattern": {
              "fillmode": "overlay",
              "size": 10,
              "solidity": 0.2
             }
            },
            "type": "bar"
           }
          ],
          "barpolar": [
           {
            "marker": {
             "line": {
              "color": "#E5ECF6",
              "width": 0.5
             },
             "pattern": {
              "fillmode": "overlay",
              "size": 10,
              "solidity": 0.2
             }
            },
            "type": "barpolar"
           }
          ],
          "carpet": [
           {
            "aaxis": {
             "endlinecolor": "#2a3f5f",
             "gridcolor": "white",
             "linecolor": "white",
             "minorgridcolor": "white",
             "startlinecolor": "#2a3f5f"
            },
            "baxis": {
             "endlinecolor": "#2a3f5f",
             "gridcolor": "white",
             "linecolor": "white",
             "minorgridcolor": "white",
             "startlinecolor": "#2a3f5f"
            },
            "type": "carpet"
           }
          ],
          "choropleth": [
           {
            "colorbar": {
             "outlinewidth": 0,
             "ticks": ""
            },
            "type": "choropleth"
           }
          ],
          "contour": [
           {
            "colorbar": {
             "outlinewidth": 0,
             "ticks": ""
            },
            "colorscale": [
             [
              0,
              "#0d0887"
             ],
             [
              0.1111111111111111,
              "#46039f"
             ],
             [
              0.2222222222222222,
              "#7201a8"
             ],
             [
              0.3333333333333333,
              "#9c179e"
             ],
             [
              0.4444444444444444,
              "#bd3786"
             ],
             [
              0.5555555555555556,
              "#d8576b"
             ],
             [
              0.6666666666666666,
              "#ed7953"
             ],
             [
              0.7777777777777778,
              "#fb9f3a"
             ],
             [
              0.8888888888888888,
              "#fdca26"
             ],
             [
              1,
              "#f0f921"
             ]
            ],
            "type": "contour"
           }
          ],
          "contourcarpet": [
           {
            "colorbar": {
             "outlinewidth": 0,
             "ticks": ""
            },
            "type": "contourcarpet"
           }
          ],
          "heatmap": [
           {
            "colorbar": {
             "outlinewidth": 0,
             "ticks": ""
            },
            "colorscale": [
             [
              0,
              "#0d0887"
             ],
             [
              0.1111111111111111,
              "#46039f"
             ],
             [
              0.2222222222222222,
              "#7201a8"
             ],
             [
              0.3333333333333333,
              "#9c179e"
             ],
             [
              0.4444444444444444,
              "#bd3786"
             ],
             [
              0.5555555555555556,
              "#d8576b"
             ],
             [
              0.6666666666666666,
              "#ed7953"
             ],
             [
              0.7777777777777778,
              "#fb9f3a"
             ],
             [
              0.8888888888888888,
              "#fdca26"
             ],
             [
              1,
              "#f0f921"
             ]
            ],
            "type": "heatmap"
           }
          ],
          "histogram": [
           {
            "marker": {
             "pattern": {
              "fillmode": "overlay",
              "size": 10,
              "solidity": 0.2
             }
            },
            "type": "histogram"
           }
          ],
          "histogram2d": [
           {
            "colorbar": {
             "outlinewidth": 0,
             "ticks": ""
            },
            "colorscale": [
             [
              0,
              "#0d0887"
             ],
             [
              0.1111111111111111,
              "#46039f"
             ],
             [
              0.2222222222222222,
              "#7201a8"
             ],
             [
              0.3333333333333333,
              "#9c179e"
             ],
             [
              0.4444444444444444,
              "#bd3786"
             ],
             [
              0.5555555555555556,
              "#d8576b"
             ],
             [
              0.6666666666666666,
              "#ed7953"
             ],
             [
              0.7777777777777778,
              "#fb9f3a"
             ],
             [
              0.8888888888888888,
              "#fdca26"
             ],
             [
              1,
              "#f0f921"
             ]
            ],
            "type": "histogram2d"
           }
          ],
          "histogram2dcontour": [
           {
            "colorbar": {
             "outlinewidth": 0,
             "ticks": ""
            },
            "colorscale": [
             [
              0,
              "#0d0887"
             ],
             [
              0.1111111111111111,
              "#46039f"
             ],
             [
              0.2222222222222222,
              "#7201a8"
             ],
             [
              0.3333333333333333,
              "#9c179e"
             ],
             [
              0.4444444444444444,
              "#bd3786"
             ],
             [
              0.5555555555555556,
              "#d8576b"
             ],
             [
              0.6666666666666666,
              "#ed7953"
             ],
             [
              0.7777777777777778,
              "#fb9f3a"
             ],
             [
              0.8888888888888888,
              "#fdca26"
             ],
             [
              1,
              "#f0f921"
             ]
            ],
            "type": "histogram2dcontour"
           }
          ],
          "mesh3d": [
           {
            "colorbar": {
             "outlinewidth": 0,
             "ticks": ""
            },
            "type": "mesh3d"
           }
          ],
          "parcoords": [
           {
            "line": {
             "colorbar": {
              "outlinewidth": 0,
              "ticks": ""
             }
            },
            "type": "parcoords"
           }
          ],
          "pie": [
           {
            "automargin": true,
            "type": "pie"
           }
          ],
          "scatter": [
           {
            "fillpattern": {
             "fillmode": "overlay",
             "size": 10,
             "solidity": 0.2
            },
            "type": "scatter"
           }
          ],
          "scatter3d": [
           {
            "line": {
             "colorbar": {
              "outlinewidth": 0,
              "ticks": ""
             }
            },
            "marker": {
             "colorbar": {
              "outlinewidth": 0,
              "ticks": ""
             }
            },
            "type": "scatter3d"
           }
          ],
          "scattercarpet": [
           {
            "marker": {
             "colorbar": {
              "outlinewidth": 0,
              "ticks": ""
             }
            },
            "type": "scattercarpet"
           }
          ],
          "scattergeo": [
           {
            "marker": {
             "colorbar": {
              "outlinewidth": 0,
              "ticks": ""
             }
            },
            "type": "scattergeo"
           }
          ],
          "scattergl": [
           {
            "marker": {
             "colorbar": {
              "outlinewidth": 0,
              "ticks": ""
             }
            },
            "type": "scattergl"
           }
          ],
          "scattermap": [
           {
            "marker": {
             "colorbar": {
              "outlinewidth": 0,
              "ticks": ""
             }
            },
            "type": "scattermap"
           }
          ],
          "scattermapbox": [
           {
            "marker": {
             "colorbar": {
              "outlinewidth": 0,
              "ticks": ""
             }
            },
            "type": "scattermapbox"
           }
          ],
          "scatterpolar": [
           {
            "marker": {
             "colorbar": {
              "outlinewidth": 0,
              "ticks": ""
             }
            },
            "type": "scatterpolar"
           }
          ],
          "scatterpolargl": [
           {
            "marker": {
             "colorbar": {
              "outlinewidth": 0,
              "ticks": ""
             }
            },
            "type": "scatterpolargl"
           }
          ],
          "scatterternary": [
           {
            "marker": {
             "colorbar": {
              "outlinewidth": 0,
              "ticks": ""
             }
            },
            "type": "scatterternary"
           }
          ],
          "surface": [
           {
            "colorbar": {
             "outlinewidth": 0,
             "ticks": ""
            },
            "colorscale": [
             [
              0,
              "#0d0887"
             ],
             [
              0.1111111111111111,
              "#46039f"
             ],
             [
              0.2222222222222222,
              "#7201a8"
             ],
             [
              0.3333333333333333,
              "#9c179e"
             ],
             [
              0.4444444444444444,
              "#bd3786"
             ],
             [
              0.5555555555555556,
              "#d8576b"
             ],
             [
              0.6666666666666666,
              "#ed7953"
             ],
             [
              0.7777777777777778,
              "#fb9f3a"
             ],
             [
              0.8888888888888888,
              "#fdca26"
             ],
             [
              1,
              "#f0f921"
             ]
            ],
            "type": "surface"
           }
          ],
          "table": [
           {
            "cells": {
             "fill": {
              "color": "#EBF0F8"
             },
             "line": {
              "color": "white"
             }
            },
            "header": {
             "fill": {
              "color": "#C8D4E3"
             },
             "line": {
              "color": "white"
             }
            },
            "type": "table"
           }
          ]
         },
         "layout": {
          "annotationdefaults": {
           "arrowcolor": "#2a3f5f",
           "arrowhead": 0,
           "arrowwidth": 1
          },
          "autotypenumbers": "strict",
          "coloraxis": {
           "colorbar": {
            "outlinewidth": 0,
            "ticks": ""
           }
          },
          "colorscale": {
           "diverging": [
            [
             0,
             "#8e0152"
            ],
            [
             0.1,
             "#c51b7d"
            ],
            [
             0.2,
             "#de77ae"
            ],
            [
             0.3,
             "#f1b6da"
            ],
            [
             0.4,
             "#fde0ef"
            ],
            [
             0.5,
             "#f7f7f7"
            ],
            [
             0.6,
             "#e6f5d0"
            ],
            [
             0.7,
             "#b8e186"
            ],
            [
             0.8,
             "#7fbc41"
            ],
            [
             0.9,
             "#4d9221"
            ],
            [
             1,
             "#276419"
            ]
           ],
           "sequential": [
            [
             0,
             "#0d0887"
            ],
            [
             0.1111111111111111,
             "#46039f"
            ],
            [
             0.2222222222222222,
             "#7201a8"
            ],
            [
             0.3333333333333333,
             "#9c179e"
            ],
            [
             0.4444444444444444,
             "#bd3786"
            ],
            [
             0.5555555555555556,
             "#d8576b"
            ],
            [
             0.6666666666666666,
             "#ed7953"
            ],
            [
             0.7777777777777778,
             "#fb9f3a"
            ],
            [
             0.8888888888888888,
             "#fdca26"
            ],
            [
             1,
             "#f0f921"
            ]
           ],
           "sequentialminus": [
            [
             0,
             "#0d0887"
            ],
            [
             0.1111111111111111,
             "#46039f"
            ],
            [
             0.2222222222222222,
             "#7201a8"
            ],
            [
             0.3333333333333333,
             "#9c179e"
            ],
            [
             0.4444444444444444,
             "#bd3786"
            ],
            [
             0.5555555555555556,
             "#d8576b"
            ],
            [
             0.6666666666666666,
             "#ed7953"
            ],
            [
             0.7777777777777778,
             "#fb9f3a"
            ],
            [
             0.8888888888888888,
             "#fdca26"
            ],
            [
             1,
             "#f0f921"
            ]
           ]
          },
          "colorway": [
           "#636efa",
           "#EF553B",
           "#00cc96",
           "#ab63fa",
           "#FFA15A",
           "#19d3f3",
           "#FF6692",
           "#B6E880",
           "#FF97FF",
           "#FECB52"
          ],
          "font": {
           "color": "#2a3f5f"
          },
          "geo": {
           "bgcolor": "white",
           "lakecolor": "white",
           "landcolor": "#E5ECF6",
           "showlakes": true,
           "showland": true,
           "subunitcolor": "white"
          },
          "hoverlabel": {
           "align": "left"
          },
          "hovermode": "closest",
          "mapbox": {
           "style": "light"
          },
          "paper_bgcolor": "white",
          "plot_bgcolor": "#E5ECF6",
          "polar": {
           "angularaxis": {
            "gridcolor": "white",
            "linecolor": "white",
            "ticks": ""
           },
           "bgcolor": "#E5ECF6",
           "radialaxis": {
            "gridcolor": "white",
            "linecolor": "white",
            "ticks": ""
           }
          },
          "scene": {
           "xaxis": {
            "backgroundcolor": "#E5ECF6",
            "gridcolor": "white",
            "gridwidth": 2,
            "linecolor": "white",
            "showbackground": true,
            "ticks": "",
            "zerolinecolor": "white"
           },
           "yaxis": {
            "backgroundcolor": "#E5ECF6",
            "gridcolor": "white",
            "gridwidth": 2,
            "linecolor": "white",
            "showbackground": true,
            "ticks": "",
            "zerolinecolor": "white"
           },
           "zaxis": {
            "backgroundcolor": "#E5ECF6",
            "gridcolor": "white",
            "gridwidth": 2,
            "linecolor": "white",
            "showbackground": true,
            "ticks": "",
            "zerolinecolor": "white"
           }
          },
          "shapedefaults": {
           "line": {
            "color": "#2a3f5f"
           }
          },
          "ternary": {
           "aaxis": {
            "gridcolor": "white",
            "linecolor": "white",
            "ticks": ""
           },
           "baxis": {
            "gridcolor": "white",
            "linecolor": "white",
            "ticks": ""
           },
           "bgcolor": "#E5ECF6",
           "caxis": {
            "gridcolor": "white",
            "linecolor": "white",
            "ticks": ""
           }
          },
          "title": {
           "x": 0.05
          },
          "xaxis": {
           "automargin": true,
           "gridcolor": "white",
           "linecolor": "white",
           "ticks": "",
           "title": {
            "standoff": 15
           },
           "zerolinecolor": "white",
           "zerolinewidth": 2
          },
          "yaxis": {
           "automargin": true,
           "gridcolor": "white",
           "linecolor": "white",
           "ticks": "",
           "title": {
            "standoff": 15
           },
           "zerolinecolor": "white",
           "zerolinewidth": 2
          }
         }
        },
        "title": {
         "text": "AMD RX 7900 XTX Roofline Analysis"
        },
        "xaxis": {
         "anchor": "y",
         "domain": [
          0,
          1
         ],
         "title": {
          "text": "Operational Intensity (TFLOPs/GB/s)"
         },
         "type": "log"
        },
        "yaxis": {
         "anchor": "x",
         "domain": [
          0,
          1
         ],
         "title": {
          "text": "Performance (TFLOPs)"
         },
         "type": "log"
        }
       }
      },
      "image/png": "[encoded data removed]"
     },
     "metadata": {},
     "output_type": "display_data"
    }
   ],
   "source": [
    "fig.show()"
   ]
  },
  {
   "cell_type": "markdown",
   "id": "c6a70596-9ffc-4cc8-bd53-d4aa1f84183f",
   "metadata": {},
   "source": [
    "# Simple GEMM sweep fp16\n",
    "\n",
    "This sweep is defined as \n",
    "\n",
    "> - Datatype `fp16`\n",
    "> - For `M,N,K` use `N=K` for powers of 2 from 64 to 16384\n",
    "> - `M=1,2,4,...,256`\n",
    "> - Select the best results\n"
   ]
  },
  {
   "cell_type": "code",
   "execution_count": 101,
   "id": "475a0d69-1107-4336-b833-a91ca9882f04",
   "metadata": {},
   "outputs": [],
   "source": [
    "fp16_df = load_gemm_data(\"gemm_scan_results_fp16\")\n",
    "fp16_df = calculate_metrics(fp16_df)\n",
    "fig = generate_roofline_plot(fp16_df, roofline)"
   ]
  },
  {
   "cell_type": "code",
   "execution_count": 102,
   "id": "a40ba575-f435-409a-886a-3a55b1c524c5",
   "metadata": {},
   "outputs": [
    {
     "data": {
      "application/vnd.plotly.v1+json": {
       "config": {
        "plotlyServerURL": "https://plot.ly"
       },
       "data": [
        {
         "customdata": [
          [
           0.926885,
           "DeviceGemmWmma_CShuffle<128, 128, 128, 32, 8, 16, 16, 4, 4> AEnableLds: 1, BEnableLds: 1, NumPrefetch: 1, LoopScheduler: Default, PipelineVersion: v1",
           128,
           16384,
           16384
          ],
          [
           0.00601567,
           "DeviceGemmDpp<64, 1, 64, 64, 8, 4, 1, 32, 1, 1, 8, 8, 4, 4> NumPrefetch: 1, PipelineVersion: v1",
           8,
           64,
           64
          ],
          [
           0.0367844,
           "DeviceGemmDpp<64, 2, 32, 64, 8, 4, 1, 32, 1, 1, 8, 8, 2, 4> NumPrefetch: 1, PipelineVersion: v1",
           4,
           4096,
           4096
          ],
          [
           1.94628,
           "DeviceGemmWmma_CShuffle<256, 128, 160, 64, 8, 16, 16, 2, 5> AEnableLds: 1, BEnableLds: 1, NumPrefetch: 1, LoopScheduler: Default, PipelineVersion: v1",
           256,
           16384,
           16384
          ],
          [
           0.0398564,
           "DeviceGemmDpp<32, 8, 16, 64, 8, 4, 4, 16, 2, 2, 8, 8, 2, 4> NumPrefetch: 1, PipelineVersion: v1",
           8,
           4096,
           4096
          ],
          [
           0.0155362,
           "DeviceGemmDpp<128, 32, 64, 64, 8, 4, 16, 16, 1, 1, 8, 8, 2, 4> NumPrefetch: 1, PipelineVersion: v1",
           64,
           1024,
           1024
          ],
          [
           0.0086401,
           "DeviceGemmDpp<64, 2, 32, 64, 8, 4, 1, 32, 1, 1, 8, 8, 2, 4> NumPrefetch: 1, PipelineVersion: v1",
           2,
           1024,
           1024
          ],
          [
           0.626148,
           "DeviceGemmDpp<128, 1, 128, 64, 8, 4, 1, 32, 1, 1, 8, 8, 4, 4> NumPrefetch: 1, PipelineVersion: v1",
           1,
           16384,
           16384
          ],
          [
           0.0089281,
           "DeviceGemmDpp<128, 4, 32, 64, 8, 4, 1, 32, 1, 1, 8, 8, 1, 4> NumPrefetch: 1, PipelineVersion: v1",
           4,
           1024,
           1024
          ],
          [
           0.006524,
           "DeviceGemmDpp<64, 2, 32, 64, 8, 4, 1, 32, 1, 1, 8, 8, 2, 4> NumPrefetch: 1, PipelineVersion: v1",
           1,
           512,
           512
          ],
          [
           0.0068641,
           "DeviceGemmWmma_CShuffle<32, 16, 16, 64, 8, 16, 16, 1, 1> AEnableLds: 0, BEnableLds: 1, NumPrefetch: 1, LoopScheduler: Default, PipelineVersion: v1",
           4,
           128,
           128
          ],
          [
           0.0380804,
           "DeviceGemmDl<64, 8, 64, 32, 2, 1, 2, 1>",
           64,
           2048,
           2048
          ],
          [
           0.306504,
           "DeviceGemmWmma_CShuffle<128, 64, 80, 64, 8, 16, 16, 1, 5> AEnableLds: 0, BEnableLds: 1, NumPrefetch: 1, LoopScheduler: Default, PipelineVersion: v1",
           128,
           8192,
           8192
          ],
          [
           0.0087881,
           "DeviceGemmDpp<64, 2, 32, 64, 8, 4, 1, 32, 1, 1, 8, 8, 2, 4> NumPrefetch: 1, PipelineVersion: v1",
           1,
           1024,
           1024
          ],
          [
           0.0044441,
           "DeviceGemmDl<64, 8, 64, 32, 2, 1, 2, 1>",
           256,
           128,
           128
          ],
          [
           0.00604947,
           "DeviceGemmDpp<64, 1, 64, 64, 8, 4, 1, 32, 1, 1, 8, 8, 4, 4> NumPrefetch: 1, PipelineVersion: v1",
           16,
           64,
           64
          ],
          [
           0.0197842,
           "DeviceGemmDpp<64, 16, 16, 64, 8, 4, 8, 16, 1, 1, 8, 8, 1, 4> NumPrefetch: 1, PipelineVersion: v1",
           1,
           2048,
           2048
          ],
          [
           0.005372,
           "DeviceGemmDpp<64, 2, 32, 64, 8, 4, 1, 32, 1, 1, 8, 8, 2, 4> NumPrefetch: 1, PipelineVersion: v1",
           8,
           256,
           256
          ],
          [
           0.0745649,
           "DeviceGemmDpp<128, 32, 32, 64, 8, 4, 32, 8, 1, 1, 8, 8, 1, 4> NumPrefetch: 1, PipelineVersion: v1",
           32,
           4096,
           4096
          ],
          [
           0.0065721,
           "DeviceGemmDpp<64, 16, 16, 64, 8, 4, 8, 16, 1, 1, 8, 8, 1, 4> NumPrefetch: 1, PipelineVersion: v1",
           256,
           256,
           256
          ],
          [
           0.701669,
           "DeviceGemmWmma_CShuffle<64, 32, 64, 64, 8, 16, 16, 2, 2> AEnableLds: 1, BEnableLds: 1, NumPrefetch: 1, LoopScheduler: Default, PipelineVersion: v1",
           32,
           16384,
           16384
          ],
          [
           0.0075161,
           "DeviceGemmDpp<64, 16, 16, 64, 8, 4, 8, 16, 1, 1, 8, 8, 1, 4> NumPrefetch: 1, PipelineVersion: v1",
           64,
           512,
           512
          ],
          [
           0.0064321,
           "DeviceGemmDpp<64, 2, 32, 64, 8, 4, 1, 32, 1, 1, 8, 8, 2, 4> NumPrefetch: 1, PipelineVersion: v1",
           8,
           512,
           512
          ],
          [
           0.00578,
           "DeviceGemmDpp<128, 4, 32, 64, 8, 4, 1, 32, 1, 1, 8, 8, 1, 4> NumPrefetch: 1, PipelineVersion: v1",
           32,
           256,
           256
          ],
          [
           0.0065321,
           "DeviceGemmDpp<64, 2, 32, 64, 8, 4, 1, 32, 1, 1, 8, 8, 2, 4> NumPrefetch: 1, PipelineVersion: v1",
           2,
           512,
           512
          ],
          [
           0.0364845,
           "DeviceGemmDpp<64, 1, 64, 64, 8, 4, 1, 32, 1, 1, 8, 8, 4, 4> NumPrefetch: 1, PipelineVersion: v1",
           2,
           4096,
           4096
          ],
          [
           0.145626,
           "DeviceGemmWmma_CShuffle<128, 64, 80, 64, 8, 16, 16, 1, 5> AEnableLds: 0, BEnableLds: 1, NumPrefetch: 1, LoopScheduler: Default, PipelineVersion: v1",
           256,
           4096,
           4096
          ],
          [
           0.0055081,
           "DeviceGemmDpp<32, 1, 32, 64, 8, 4, 1, 32, 1, 1, 8, 8, 4, 4> NumPrefetch: 1, PipelineVersion: v1",
           4,
           256,
           256
          ],
          [
           0.0066401,
           "DeviceGemmDpp<64, 2, 32, 64, 8, 4, 1, 32, 1, 1, 8, 8, 2, 4> NumPrefetch: 1, PipelineVersion: v1",
           4,
           512,
           512
          ],
          [
           0.664468,
           "DeviceGemmDl<64, 8, 64, 32, 2, 1, 2, 1>",
           8,
           16384,
           16384
          ],
          [
           0.649704,
           "DeviceGemmWmma_CShuffle<64, 16, 64, 64, 8, 16, 16, 1, 2> AEnableLds: 1, BEnableLds: 1, NumPrefetch: 1, LoopScheduler: Default, PipelineVersion: v1",
           4,
           16384,
           16384
          ],
          [
           0.0056441,
           "DeviceGemmWmma_CShuffle<32, 16, 16, 64, 8, 16, 16, 1, 1> AEnableLds: 0, BEnableLds: 1, NumPrefetch: 1, LoopScheduler: Default, PipelineVersion: v1",
           32,
           64,
           64
          ],
          [
           0.0474606,
           "DeviceGemmWmma_CShuffle<128, 64, 80, 64, 8, 16, 16, 1, 5> AEnableLds: 0, BEnableLds: 1, NumPrefetch: 1, LoopScheduler: Default, PipelineVersion: v1",
           256,
           2048,
           2048
          ],
          [
           0.006584,
           "DeviceGemmDpp<64, 4, 32, 64, 8, 4, 2, 32, 1, 1, 8, 8, 2, 4> NumPrefetch: 1, PipelineVersion: v1",
           16,
           512,
           512
          ],
          [
           0.0215042,
           "DeviceGemmDpp<64, 16, 16, 64, 8, 4, 8, 16, 1, 1, 8, 8, 1, 4> NumPrefetch: 1, PipelineVersion: v1",
           16,
           2048,
           2048
          ],
          [
           0.19947,
           "DeviceGemmWmma_CShuffle<32, 16, 16, 32, 8, 16, 16, 1, 1> AEnableLds: 1, BEnableLds: 1, NumPrefetch: 2, LoopScheduler: Default, PipelineVersion: v1",
           32,
           8192,
           8192
          ],
          [
           0.005012,
           "DeviceGemmDpp<32, 1, 32, 64, 8, 4, 1, 32, 1, 1, 8, 8, 4, 4> NumPrefetch: 1, PipelineVersion: v1",
           32,
           128,
           128
          ],
          [
           0.0055161,
           "DeviceGemmWmma_CShuffle<32, 16, 16, 64, 8, 16, 16, 1, 1> AEnableLds: 0, BEnableLds: 1, NumPrefetch: 1, LoopScheduler: Default, PipelineVersion: v1",
           64,
           64,
           64
          ],
          [
           0.646576,
           "DeviceGemmWmma_CShuffle<64, 16, 64, 64, 8, 16, 16, 1, 2> AEnableLds: 1, BEnableLds: 1, NumPrefetch: 1, LoopScheduler: Default, PipelineVersion: v1",
           16,
           16384,
           16384
          ],
          [
           0.156966,
           "DeviceGemmDpp<64, 1, 64, 64, 8, 4, 1, 32, 1, 1, 8, 8, 4, 4> NumPrefetch: 1, PipelineVersion: v1",
           2,
           8192,
           8192
          ],
          [
           0.163842,
           "DeviceGemmDpp<32, 8, 16, 64, 8, 4, 4, 16, 2, 2, 8, 8, 2, 4> NumPrefetch: 1, PipelineVersion: v1",
           8,
           8192,
           8192
          ],
          [
           0.15783,
           "DeviceGemmDpp<64, 2, 64, 64, 8, 4, 2, 32, 1, 1, 8, 8, 4, 4> NumPrefetch: 1, PipelineVersion: v1",
           4,
           8192,
           8192
          ],
          [
           0.0668248,
           "DeviceGemmWmma_CShuffle<128, 64, 80, 64, 8, 16, 16, 1, 5> AEnableLds: 0, BEnableLds: 1, NumPrefetch: 1, LoopScheduler: Default, PipelineVersion: v1",
           64,
           4096,
           4096
          ],
          [
           0.159094,
           "DeviceGemmDpp<32, 1, 32, 64, 8, 4, 1, 32, 1, 1, 8, 8, 4, 4> NumPrefetch: 1, PipelineVersion: v1",
           1,
           8192,
           8192
          ],
          [
           0.0044961,
           "DeviceGemmDl<64, 8, 64, 32, 2, 1, 2, 1>",
           64,
           128,
           128
          ],
          [
           0.0057081,
           "DeviceGemmDpp<32, 1, 32, 64, 8, 4, 1, 32, 1, 1, 8, 8, 4, 4> NumPrefetch: 1, PipelineVersion: v1",
           1,
           256,
           256
          ],
          [
           0.0051481,
           "DeviceGemmDpp<64, 16, 16, 64, 8, 4, 8, 16, 1, 1, 8, 8, 1, 4> NumPrefetch: 1, PipelineVersion: v1",
           64,
           256,
           256
          ],
          [
           0.0067641,
           "DeviceGemmWmma_CShuffle<32, 16, 16, 64, 8, 16, 16, 1, 1> AEnableLds: 0, BEnableLds: 1, NumPrefetch: 1, LoopScheduler: Default, PipelineVersion: v1",
           16,
           128,
           128
          ],
          [
           0.45249,
           "DeviceGemmWmma_CShuffle<128, 128, 128, 32, 8, 16, 16, 4, 4> AEnableLds: 1, BEnableLds: 1, NumPrefetch: 1, LoopScheduler: Default, PipelineVersion: v1",
           256,
           8192,
           8192
          ],
          [
           0.670128,
           "DeviceGemmDpp<64, 2, 64, 64, 8, 4, 2, 32, 1, 1, 8, 8, 4, 4> NumPrefetch: 1, PipelineVersion: v1",
           2,
           16384,
           16384
          ],
          [
           0.0056961,
           "DeviceGemmDpp<64, 16, 16, 64, 8, 4, 8, 16, 1, 1, 8, 8, 1, 4> NumPrefetch: 1, PipelineVersion: v1",
           128,
           256,
           256
          ],
          [
           0.0951452,
           "DeviceGemmWmma_CShuffle<128, 64, 80, 64, 8, 16, 16, 1, 5> AEnableLds: 0, BEnableLds: 1, NumPrefetch: 1, LoopScheduler: Default, PipelineVersion: v1",
           128,
           4096,
           4096
          ],
          [
           0.0216642,
           "DeviceGemmDpp<32, 8, 16, 64, 8, 4, 4, 16, 2, 2, 8, 8, 2, 4> NumPrefetch: 1, PipelineVersion: v1",
           8,
           2048,
           2048
          ],
          [
           0.0360764,
           "DeviceGemmWmma_CShuffle<128, 64, 80, 64, 8, 16, 16, 1, 5> AEnableLds: 0, BEnableLds: 1, NumPrefetch: 1, LoopScheduler: Default, PipelineVersion: v1",
           128,
           2048,
           2048
          ],
          [
           0.0069361,
           "DeviceGemmDpp<64, 16, 16, 64, 8, 4, 8, 16, 1, 1, 8, 8, 1, 4> NumPrefetch: 1, PipelineVersion: v1",
           32,
           512,
           512
          ],
          [
           0.0497526,
           "DeviceGemmDpp<64, 16, 16, 64, 8, 4, 8, 16, 1, 1, 8, 8, 1, 4> NumPrefetch: 1, PipelineVersion: v1",
           16,
           4096,
           4096
          ],
          [
           0.0190002,
           "DeviceGemmWmma_CShuffle<128, 64, 80, 64, 8, 16, 16, 1, 5> AEnableLds: 0, BEnableLds: 1, NumPrefetch: 1, LoopScheduler: Default, PipelineVersion: v1",
           128,
           1024,
           1024
          ],
          [
           0.0074841,
           "DeviceGemmDpp<64, 2, 32, 64, 8, 4, 1, 32, 1, 1, 8, 8, 2, 4> NumPrefetch: 1, PipelineVersion: v1",
           4,
           64,
           64
          ],
          [
           0.781702,
           "DeviceGemmWmma_CShuffle<128, 64, 80, 64, 8, 16, 16, 1, 5> AEnableLds: 0, BEnableLds: 1, NumPrefetch: 1, LoopScheduler: Default, PipelineVersion: v1",
           64,
           16384,
           16384
          ],
          [
           0.00593867,
           "DeviceGemmDpp<64, 2, 32, 64, 8, 4, 1, 32, 1, 1, 8, 8, 2, 4> NumPrefetch: 1, PipelineVersion: v1",
           2,
           64,
           64
          ],
          [
           0.005404,
           "DeviceGemmWmma_CShuffle<32, 16, 16, 64, 8, 16, 16, 1, 1> AEnableLds: 0, BEnableLds: 1, NumPrefetch: 1, LoopScheduler: Default, PipelineVersion: v1",
           128,
           64,
           64
          ],
          [
           0.0054121,
           "DeviceGemmDpp<64, 2, 32, 64, 8, 4, 1, 32, 1, 1, 8, 8, 2, 4> NumPrefetch: 1, PipelineVersion: v1",
           16,
           256,
           256
          ],
          [
           0.0207722,
           "DeviceGemmWmma_CShuffle<128, 64, 80, 64, 8, 16, 16, 1, 5> AEnableLds: 0, BEnableLds: 1, NumPrefetch: 1, LoopScheduler: Default, PipelineVersion: v1",
           256,
           1024,
           1024
          ],
          [
           0.0118001,
           "DeviceGemmDpp<64, 16, 16, 64, 8, 4, 8, 16, 1, 1, 8, 8, 1, 4> NumPrefetch: 1, PipelineVersion: v1",
           32,
           1024,
           1024
          ],
          [
           0.0054441,
           "DeviceGemmDpp<32, 1, 32, 64, 8, 4, 1, 32, 1, 1, 8, 8, 4, 4> NumPrefetch: 1, PipelineVersion: v1",
           2,
           256,
           256
          ],
          [
           0.0094001,
           "DeviceGemmDpp<64, 16, 16, 64, 8, 4, 8, 16, 1, 1, 8, 8, 1, 4> NumPrefetch: 1, PipelineVersion: v1",
           16,
           1024,
           1024
          ],
          [
           0.0363085,
           "DeviceGemmDpp<64, 2, 32, 64, 8, 4, 1, 32, 1, 1, 8, 8, 2, 4> NumPrefetch: 1, PipelineVersion: v1",
           1,
           4096,
           4096
          ],
          [
           0.250615,
           "DeviceGemmWmma_CShuffle<128, 64, 80, 64, 8, 16, 16, 1, 5> AEnableLds: 0, BEnableLds: 1, NumPrefetch: 1, LoopScheduler: Default, PipelineVersion: v1",
           64,
           8192,
           8192
          ],
          [
           0.0217323,
           "DeviceGemmDpp<64, 2, 32, 64, 8, 4, 1, 32, 1, 1, 8, 8, 2, 4> NumPrefetch: 1, PipelineVersion: v1",
           4,
           2048,
           2048
          ],
          [
           0.170602,
           "DeviceGemmDpp<64, 16, 32, 64, 8, 4, 8, 32, 1, 1, 8, 8, 2, 4> NumPrefetch: 1, PipelineVersion: v1",
           16,
           8192,
           8192
          ],
          [
           0.0073601,
           "DeviceGemmWmma_CShuffle<32, 16, 16, 64, 8, 16, 16, 1, 1> AEnableLds: 0, BEnableLds: 1, NumPrefetch: 1, LoopScheduler: Default, PipelineVersion: v1",
           1,
           128,
           128
          ],
          [
           0.0120602,
           "DeviceGemmDl<64, 8, 64, 32, 2, 1, 2, 1>",
           256,
           512,
           512
          ],
          [
           0.004488,
           "DeviceGemmDl<64, 8, 64, 32, 2, 1, 2, 1>",
           128,
           128,
           128
          ],
          [
           0.0212283,
           "DeviceGemmDpp<32, 8, 16, 64, 8, 4, 4, 16, 2, 2, 8, 8, 2, 4> NumPrefetch: 1, PipelineVersion: v1",
           2,
           2048,
           2048
          ],
          [
           0.0093201,
           "DeviceGemmDpp<64, 16, 16, 64, 8, 4, 8, 16, 1, 1, 8, 8, 1, 4> NumPrefetch: 1, PipelineVersion: v1",
           128,
           512,
           512
          ],
          [
           0.0089841,
           "DeviceGemmDpp<64, 4, 32, 64, 8, 4, 2, 32, 1, 1, 8, 8, 2, 4> NumPrefetch: 1, PipelineVersion: v1",
           8,
           1024,
           1024
          ],
          [
           0.0263643,
           "DeviceGemmDpp<64, 16, 16, 64, 8, 4, 8, 16, 1, 1, 8, 8, 1, 4> NumPrefetch: 1, PipelineVersion: v1",
           32,
           2048,
           2048
          ],
          [
           0.00591607,
           "DeviceGemmDpp<64, 1, 64, 64, 8, 4, 1, 32, 1, 1, 8, 8, 4, 4> NumPrefetch: 1, PipelineVersion: v1",
           1,
           64,
           64
          ],
          [
           0.005472,
           "DeviceGemmWmma_CShuffle<32, 16, 16, 64, 8, 16, 16, 1, 1> AEnableLds: 0, BEnableLds: 1, NumPrefetch: 1, LoopScheduler: Default, PipelineVersion: v1",
           256,
           64,
           64
          ],
          [
           0.00717528,
           "DeviceGemmDpp<32, 1, 32, 64, 8, 4, 1, 32, 1, 1, 8, 8, 4, 4> NumPrefetch: 1, PipelineVersion: v1",
           8,
           128,
           128
          ],
          [
           0.0073561,
           "DeviceGemmWmma_CShuffle<32, 16, 16, 64, 8, 16, 16, 1, 1> AEnableLds: 0, BEnableLds: 1, NumPrefetch: 1, LoopScheduler: Default, PipelineVersion: v1",
           2,
           128,
           128
          ]
         ],
         "hovertemplate": "Operational Intensity (TFLOPs/GB/s)=%{x}<br>Performance (TFLOPs)=%{y}<br>time_scaled=%{marker.size}<br>Execution Time (ms)=%{customdata[0]}<br>operation=%{customdata[1]}<br>M=%{marker.color}<br>N=%{customdata[3]}<br>K=%{customdata[4]}<extra></extra>",
         "legendgroup": "",
         "marker": {
          "color": {
           "bdata": "gAAIAAQAAAEIAEAAAgABAAQAAQAEAEAAgAABAAABEAABAAgAIAAAASAAQAAIACAAAgACAAABBAAEAAgABAAgAAABEAAQACAAIABAABAAAgAIAAQAQAABAEAAAQBAABAAAAECAIAAgAAIAIAAIAAQAIAABABAAAIAgAAQAAABIAACABAAAQBAAAQAEAABAAABgAACAIAACAAgAAEAAAEIAAIA",
           "dtype": "i2"
          },
          "coloraxis": "coloraxis",
          "size": {
           "bdata": "TRkMTNbO7j8LU1l2BduzP1gOY+iojMg/ol69WktS9j9WDM1h043JP93o5j2w6L8/2XvBGbbLtz+nvPMvSlLpPwH3bwxoMLg/wx7BPm2ttD8EHEURpjW1P5C4Ir1p+sg/1+iBI1K34T8ax+Xfqf+3P0f+hLnlELE/zzXb/Ufpsz9jfXi4BgHCP+PwOBNkw7I/ceD1vOh50T/uk2iP58C0P03bh70Vzuo/rIZvMKwxtj+bULv/Aoi0P7PKY9h1drM/DsBpOLawtD8zgjH8/HLIP7b/MktLbNg/7ypPgtv/sj95PKHKUdy0P6yFi36zFeo/47Kj+RjL6T/95zywiTuzPwuZV1Oo4ss/gCnQXLbFtD8l5EqEM8XCP49WWcFuldw/cNOnD6cfsj/c/TtpYwOzP2Id790uu+k/vBHkkSpb2T8Oc+dA0efZP35hFbYBbdk/ZN54RViL0D+q5azOBIfZP6UaFRBiKrE/3vZws19Xsz8zOt2hOV6yP9oEE9nzDbU/8G8KJIuG5T+gTN3bFDLqP+Af3aAqUrM/U5xD47690z/0OhpgC9fCP5pJR3XiT8g/3YoAGg1StT/+cbBp/4zMP1OC7ebHpME/uDsblZAltj++y7Ek3krsP6h+Za5iurM/xc2tFq3Rsj+2yTcNSdWyP2ZKX361csI/krRy3g/Puz+JRi+IhOOyPx+d7xf80bg/b5ELl99jyD+8YM30CAXgP06mhHOe3sI/eMLpHD9v2j8VCWePZva1P8vt8BsYHbw/hFENQ2wmsT8rTky3RqbCP5118Jbjtrg/qWUJ58tDuD+guAqYkcjEP7pGDjvEsLM/akaAduTvsj+dXvoLXK+1PwugiGPf9LU/",
           "dtype": "f8"
          },
          "sizemode": "area",
          "sizeref": 0.0034877284871388716,
          "symbol": "circle"
         },
         "mode": "markers",
         "name": "",
         "orientation": "v",
         "showlegend": false,
         "type": "scatter",
         "x": {
          "bdata": "VRDWeschwD8reSWo4TZ6P7GrYOggWnA/40ui8GjGzz9gljZL/FGAPzDMJ7eJIK0/aWC7cPxRYD932lNZymFQPwy15XfIQXA/pXEWFPxRUD8RLPe0KNduP36K2SAt164/MLXnAmvGvz/dkIqnHFpQPwDF4BzeNqo/+QbH92nYhT+egPlwNl5QP8neEcQm134/cYsNs8choD9fRuyMaNi1P0qWrRf8UaA/g/efv+E2qj9LatYWZ8Z/P9WVit3jNpo/Sj40VcxBYD+Dm5NtNl5gP0d3cJyOIM0/OZ5cvWTGbz8SX+nvxCFwPwokG/00XoA/zW0R0j9gcD9pi8UiUGKQPx4MGDHjNso/kbp8AyrXjj8w+m3hxiGQP0ltEvLHQaA/k1WRrGfYlT9Ng7PeaNiVP2EMBVMjWpA/LtehL0FgYD+sLAm8IFqAP1e0Bds2XnA/GsSH/2XGrz9e5XyzR2FQP3gUOOdMYqA/Ko4A/slBUD+zwbNXatilPyxDHOviNoo/2cxGmynXzj9r9Z3bRWFgPzMN70JOYrA/HX9zTSrXvj/vniG6x0GAP4UddmKJIL0/rIf9qo4gnT9ihjuXyEGQPxYPL87fNro/ZpqazosgbT8mfs9vyUGwP5NiR6Yo114/ckM+/eI2mj/fgJd2iiCNPw0oL1to2MU/ssY8KCfXnj9KzKP7wyFgPxHFYKNkxo8/cCREE0JgUD96YgP/xiGwP7SFA638UXA/dfuzHf9RkD+bugZexSFQP+gUnTZPYsA/6QKNCGvYpT9MekySIVpgPzDj5QVn2LU/rkcwl8IhgD/mBIUDa8afP3fgjolcxk8/l+fW0IUgnT/QhijYiCB9P186Iwhoxl8/",
          "dtype": "f8"
         },
         "xaxis": "x",
         "y": {
          "bdata": "PujZrPqIUkDUibrFsk+GP+IBZVOuMA1AliGOdXGnUUA4FakwtvAaQGVTrvAuRyFAR1Z+GYwR3z8oDqDf92/rPz2ARX79EO4/c/bOaKuStD/1ewfkt42TP1HaG3xhMixArWnecYoGTECzKVd4l4vOP8FWCRaHM/4/FSOmn8svlj9tyhXe5SLbP4o9tI8V/Mg/W0I+6NnMLEB5I/PIH2wUQOtztRX7ezhACObo8XvbEUBfmiLA6d3kP6eVQiCXOOc/vf+PEyaMxD/nqQ65GW79PyBj7lpCfk1AH7KSoAleuD/MBwQ6kzbUP5fFxObj2hlAjIS2nEtxCkA7ZBQVu8enPw+cM6K0n0ZA+5EiMqxi9D9I3GPpQ/cYQEcDeAskiDVAPfNy2H3Hyj8NEBZf/lS4P/wYc9cSkipABhIUP8Zc+z9JumbyzTYaQErSNZNvNgtAxSCwcmgRQEANNnUeFf/qPz4l58Qe2t0/wTkjSnuDlz8YPiKmRBL6P6GRGbm417M/QBNhw9P7UkBQU8vW+qL5Pzm536EokAdA/Bhz1xKSRkBHyatzDMgIQBfZzvdTwz1AYKsEi8NZA0CGWtO845QlQKjGSzeJQSxAnJH3YAjvcT8K16NwPfpFQEi3kA3FmWY/x2KbVDTWyD+Oc5twr8zYP2N/2T152DlAARjPoKG/FkCsA3unXaeoPzylg/V/jgxA6j2V056S7T/BqKROQCNBQNydtdsutPg/6bevA+csKUB1NJItYDxyPzVeukkMQiZA1cqEX+rn7T/52ch1U0rpP7A9syRAzRxAxRuZR/7g/T9b07zjFF0kQLTPvk3ar1Y/6DHKMy+H2D89UF2vn7SiP9VcTSLrPoI/",
          "dtype": "f8"
         },
         "yaxis": "y"
        },
        {
         "line": {
          "color": "tomato",
          "width": 1
         },
         "mode": "lines",
         "name": "Theoretical Roofline",
         "opacity": 0.45,
         "type": "scatter",
         "x": [
          0.000630957344480193,
          0.0006388675383359555,
          0.0006468769008080802,
          0.0006549866751549052,
          0.0006631981202212669,
          0.0006715125106339014,
          0.0006799311369993016,
          0.0006884553061040521,
          0.0006970863411176753,
          0.0007058255817980214,
          0.0007146743846992355,
          0.0007236341233823251,
          0.0007327061886283754,
          0.0007418919886544327,
          0.000751192949332096,
          0.0007606105144088511,
          0.0007701461457321728,
          0.0007798013234764442,
          0.000789577546372717,
          0.0007994763319413523,
          0.0008094992167275812,
          0.0008196477565400122,
          0.0008299235266921351,
          0.0008403281222468491,
          0.0008508631582640581,
          0.000861530270051368,
          0.0008723311134179319,
          0.0008832673649314691,
          0.0008943407221785147,
          0.0009055529040279276,
          0.0009169056508977024,
          0.0009284007250251302,
          0.0009400399107403378,
          0.0009518250147432648,
          0.0009637578663841089,
          0.0009758403179472874,
          0.0009880742449389624,
          0.0010004615463781623,
          0.0010130041450915617,
          0.0010257039880119522,
          0.0010385630464804566,
          0.001051583316552531,
          0.0010647668193078067,
          0.0010781156011638086,
          0.0010916317341936148,
          0.0011053173164474951,
          0.0011191744722785807,
          0.001133205352672623,
          0.001147412135581875,
          0.0011617970262631687,
          0.0011763622576202283,
          0.0011911100905502726,
          0.0012060428142949638,
          0.0012211627467957602,
          0.001236472235053715,
          0.0012519736554937931,
          0.0012676694143337543,
          0.0012835619479576574,
          0.0012996537232940546,
          0.0013159472381989153,
          0.0013324450218433616,
          0.0013491496351062593,
          0.0013660636709717311,
          0.0013831897549316588,
          0.0014005305453932196,
          0.0014180887340915444,
          0.0014358670465075415,
          0.001453868242290963,
          0.0014720951156887703,
          0.001490550495978879,
          0.0015092372479093273,
          0.001528158272142963,
          0.0015473165057077,
          0.0015667149224524203,
          0.0015863565335085897,
          0.001606244387757669,
          0.0016263815723043691,
          0.0016467712129558556,
          0.0016674164747069512,
          0.001688320562231424,
          0.0017094867203794406,
          0.0017309182346812405,
          0.0017526184318571408,
          0.0017745906803339276,
          0.0017968383907677192,
          0.001819365016573396,
          0.001842174054460647,
          0.0018652690449767564,
          0.001888653573056185,
          0.0019123312685770438,
          0.001936305806924549,
          0.0019605809095615268,
          0.0019851603446060864,
          0.002010047927416527,
          0.002035247521183576,
          0.002060763037530065,
          0.0020865984371181024,
          0.0021127577302638744,
          0.0021392449775601494,
          0.002166064290506586,
          0.0021932198321479423,
          0.002220715817720286,
          0.0022485565153053137,
          0.0022767462464928566,
          0.0023052893870517083,
          0.0023341903676088547,
          0.0023634536743372186,
          0.0023930838496520387,
          0.0024230854929159534,
          0.002453463261152951,
          0.0024842218697712555,
          0.0025153660932952762,
          0.002546900766106747,
          0.0025788307831951314,
          0.0026111611009174596,
          0.00264389673776768,
          0.002677042775155656,
          0.0027106043581959405,
          0.002744586696506415,
          0.0027789950650169643,
          0.0028138348047882815,
          0.0028491113238409316,
          0.0028848300979948268,
          0.0029209966717191993,
          0.0029576166589932533,
          0.0029946957441775984,
          0.0030322396828966016,
          0.0030702543029318278,
          0.0031087455051266215,
          0.0031477192643021177,
          0.003187181630184649,
          0.003227138728344835,
          0.0032675967611484258,
          0.003308562008719064,
          0.003350040829913133,
          0.0033920396633067965,
          0.003434565028195443,
          0.003477623525605645,
          0.003521221839319801,
          0.003565366736913648,
          0.00361006507080674,
          0.003655323779326131,
          0.0037011498877833806,
          0.0037475505095650587,
          0.0037945328472369384,
          0.003842104193661997,
          0.003890271933132471,
          0.003939043542516084,
          0.0039884265924166416,
          0.004038428748349203,
          0.0040890577719299385,
          0.004140321522080949,
          0.004192227956250167,
          0.004244785131646552,
          0.0042980012064907985,
          0.004351884441281653,
          0.004406443200078215,
          0.004461685951798207,
          0.004517621271532588,
          0.004574257841876624,
          0.004631604454277644,
          0.0046896700103997175,
          0.004748463523505391,
          0.004807994119854798,
          0.0048682710401222835,
          0.004929303640830789,
          0.004991101395804241,
          0.005053673897638107,
          0.005117030859188427,
          0.0051811821150794975,
          0.005246137623230447,
          0.005311907466400985,
          0.005378501853756472,
          0.0054459311224526645,
          0.005514205739240302,
          0.0055833363020898075,
          0.005653333541836388,
          0.005724208323845703,
          0.005795971649700466,
          0.005868634658908172,
          0.0059422086306302226,
          0.0060167049854327765,
          0.0060921352870594424,
          0.006168511244226359,
          0.006245844712439618,
          0.006324147695835562,
          0.006403432349044171,
          0.0064837109790756905,
          0.006564996047231092,
          0.0066473001710363145,
          0.006730636126200849,
          0.006815016848600892,
          0.006900455436287239,
          0.006986965151518543,
          0.007074559422819878,
          0.007163251847067224,
          0.007253056191598043,
          0.007343986396348318,
          0.007436056576016424,
          0.0075292810222540064,
          0.007623674205884523,
          0.007719250779149398,
          0.007816025577982458,
          0.007914013624312877,
          0.008013230128396887,
          0.0081136904911789,
          0.008215410306682047,
          0.008318405364428804,
          0.00842269165189196,
          0.008528285356976192,
          0.008635202870530961,
          0.008743460788894696,
          0.00885307591647101,
          0.008964065268337207,
          0.009076446072885356,
          0.009190235774496715,
          0.009305452036249436,
          0.00942211274266037,
          0.009540236002461237,
          0.009659840151409462,
          0.009780943755134493,
          0.009903565612019544,
          0.010027724756119651,
          0.010153440460116217,
          0.010280732238308653,
          0.010409619849643463,
          0.010540123300781362,
          0.010672262849202826,
          0.010806059006352547,
          0.010941532540823369,
          0.011078704481580074,
          0.011217596121223632,
          0.011358229019296368,
          0.011500625005628533,
          0.01164480618372686,
          0.011790794934205621,
          0.011938613918260623,
          0.01208828608118686,
          0.012239834655940163,
          0.012393283166743577,
          0.01254865543273893,
          0.012705975571684151,
          0.012865268003696969,
          0.01302655745504557,
          0.013189868961986699,
          0.01335522787465198,
          0.013522659860982866,
          0.013692190910714969,
          0.013863847339412367,
          0.014037655792552403,
          0.014213643249661775,
          0.014391837028504464,
          0.014572264789322102,
          0.014754954539127618,
          0.014939934636052577,
          0.015127233793749124,
          0.015316881085847096,
          0.01550890595046695,
          0.015703338194789335,
          0.015900207999681955,
          0.01609954592438437,
          0.01630138291125159,
          0.01650575029055715,
          0.016712679785356316,
          0.016922203516410373,
          0.017134354007172545,
          0.01734916418883649,
          0.017566667405448076,
          0.017786897419081207,
          0.018009888415078567,
          0.01823567500735809,
          0.01846429224378588,
          0.018695775611616592,
          0.018930161043001905,
          0.019167484920568148,
          0.01940778408306384,
          0.01965109583107795,
          0.019897457932829925,
          0.02014690863003233,
          0.020399486643826865,
          0.020655231180794962,
          0.020914181939043573,
          0.021176379114367375,
          0.021441863406488206,
          0.02171067602537266,
          0.021982858697628938,
          0.022258453672983944,
          0.022537503730841426,
          0.02282005218692255,
          0.02310614289998951,
          0.023395820278653567,
          0.023689129288268457,
          0.02398611545791008,
          0.02428682488744382,
          0.02459130425468045,
          0.024899600822621683,
          0.025211762446796602,
          0.025527837582690123,
          0.025847875293264436,
          0.02617192525657493,
          0.026500037773481422,
          0.026832263775456163,
          0.027168654832489772,
          0.027509263161096108,
          0.027854141632417676,
          0.028203343780432617,
          0.028556923810264454,
          0.028914936606596237,
          0.029277437742189938,
          0.02964448348651283,
          0.03001613081447198,
          0.03039243741525813,
          0.030773461701300586,
          0.031159262817334363,
          0.03154990064958087,
          0.03194543583504389,
          0.03234592977092191,
          0.03275144462413857,
          0.03316204334099262,
          0.03357778965692869,
          0.033998748106430735,
          0.034424984033039466,
          0.03485656359949527,
          0.03529355379800839,
          0.035736022460657886,
          0.036184038269920796,
          0.03663767076933357,
          0.03709699037428688,
          0.037562068382955914,
          0.03803297698736778,
          0.03850978928460743,
          0.03899257928816425,
          0.03948142193942092,
          0.039976393119286094,
          0.04047756965997322,
          0.04098502935692674,
          0.04149885098089798,
          0.04201911429017245,
          0.04254590004295028,
          0.043079290009882,
          0.04361936698676149,
          0.0441662148073779,
          0.04471991835652895,
          0.04528056358319707,
          0.04584823751389096,
          0.04642302826615441,
          0.047005025062244236,
          0.04759431824297997,
          0.04819099928176712,
          0.048795160798796006,
          0.049406896575419,
          0.05002630156870764,
          0.05065347192619242,
          0.05128850500078749,
          0.05193149936590215,
          0.052582554830742,
          0.05324177245580205,
          0.05390925456855366,
          0.05458510477932853,
          0.055269427997401706,
          0.05596233044727604,
          0.05666391968517116,
          0.057374304615718755,
          0.05809359550886744,
          0.05882190401699959,
          0.05955934319226244,
          0.06030602750411683,
          0.061062072857105784,
          0.06182759660884577,
          0.06260271758824378,
          0.06338755611394237,
          0.06418223401299651,
          0.064986874639784,
          0.06580160289515334,
          0.06662654524581156,
          0.067461829743955,
          0.06830758604714654,
          0.06916394543844144,
          0.07003104084676602,
          0.07090900686755164,
          0.07179797978362724,
          0.07269809758637426,
          0.07360949999714594,
          0.07453232848895605,
          0.07546672630843894,
          0.07641283849808517,
          0.07737081191875567,
          0.07834079527247872,
          0.07932293912553177,
          0.08031739593181354,
          0.08132432005650865,
          0.08234386780004901,
          0.08337619742237598,
          0.08442146916750583,
          0.08547984528840413,
          0.08655149007217142,
          0.08763656986554479,
          0.08873525310071906,
          0.08984771032149219,
          0.09097411420973744,
          0.09211463961220842,
          0.09326946356767969,
          0.09443876533442759,
          0.09562272641805616,
          0.09682153059967086,
          0.09803536396440646,
          0.09926441493031216,
          0.10050887427759882,
          0.10176893517825328,
          0.10304479322602306,
          0.10433664646677787,
          0.1056446954292514,
          0.10696914315616836,
          0.10831019523576196,
          0.10966805983368685,
          0.11104294772533109,
          0.11243507232853432,
          0.11384464973671567,
          0.11527189875241675,
          0.11671704092126593,
          0.11818030056636727,
          0.11966190482312156,
          0.12116208367448351,
          0.122681069986661,
          0.12421909954526174,
          0.12577641109189375,
          0.1273532463612234,
          0.12894985011849935,
          0.13056647019754633,
          0.132203357539235,
          0.13386076623043514,
          0.13553895354345544,
          0.13723817997597945,
          0.13895870929150134,
          0.1407008085602685,
          0.1424647482007384,
          0.14425080202155355,
          0.14605924726404412,
          0.1478903646452629,
          0.14974443840155965,
          0.15162175633270183,
          0.15352260984654897,
          0.1554472940042859,
          0.15739610756622424,
          0.15936935303817762,
          0.16136733671841813,
          0.16339036874522236,
          0.16543876314501174,
          0.16751283788109825,
          0.16961291490304026,
          0.17173932019661728,
          0.17389238383443126,
          0.176072440027143,
          0.17827982717534907,
          0.180514887922111,
          0.18277796920614217,
          0.18506942231566123,
          0.187389602942922,
          0.18973887123942473,
          0.19211759187182162,
          0.19452613407852234,
          0.19696487172700902,
          0.1994341833718708,
          0.20193445231356422,
          0.20446606665791178,
          0.20702941937634597,
          0.20962490836690836,
          0.21225293651601346,
          0.21491391176098773,
          0.21760824715339078,
          0.22033636092313233,
          0.22309867654339202,
          0.22589562279635306,
          0.22872763383976114,
          0.23159514927431546,
          0.23449861421190693,
          0.23743847934471077,
          0.24041520101514519,
          0.24342924128670843,
          0.2464810680157013,
          0.24957115492385165,
          0.2526999816718477,
          0.2558680339337937,
          0.25907580347259884,
          0.26232378821631236,
          0.2656124923354133,
          0.2689424263210716,
          0.2723141070643894,
          0.2757280579366351,
          0.27918480887048547,
          0.28268489644228306,
          0.2862288639553275,
          0.28981726152420995,
          0.2934506461602052,
          0.2971295818577334,
          0.3008546396819079,
          0.3046263978571773,
          0.308445441857082,
          0.3123123644951343,
          0.31622776601683794
         ],
         "y": [
          0.6057190507009853,
          0.6133128368025172,
          0.6210018247757569,
          0.6287872081487089,
          0.6366701954124162,
          0.6446520102085453,
          0.6527338915193295,
          0.66091709385989,
          0.6692028874729683,
          0.6775925585261006,
          0.686087409311266,
          0.694688758447032,
          0.7033979410832404,
          0.7122163091082554,
          0.7211452313588121,
          0.7301860938324971,
          0.739340299902886,
          0.7486092705373865,
          0.7579944445178083,
          0.7674972786636982,
          0.7771192480584779,
          0.7868618462784117,
          0.7967265856244496,
          0.8067149973569752,
          0.8168286319334958,
          0.8270690592493133,
          0.8374378688812146,
          0.8479366703342104,
          0.858567093291374,
          0.8693307878668105,
          0.8802294248617942,
          0.8912646960241251,
          0.9024383143107243,
          0.9137520141535341,
          0.9252075517287445,
          0.9368067052293959,
          0.9485512751414039,
          0.9604430845230358,
          0.9724839792878992,
          0.9846758284914741,
          0.9970205246212384,
          1.0095199838904296,
          1.0221761465354944,
          1.0349909771172563,
          1.0479664648258702,
          1.0611046237895954,
          1.0744074933874375,
          1.0878771385657182,
          1.1015156501585999,
          1.115325145212642,
          1.1293077673154193,
          1.1434656869282618,
          1.1578011017231653,
          1.1723162369239297,
          1.1870133456515664,
          1.2018947092740413,
          1.2169626377604041,
          1.2322194700393512,
          1.2476675743622925,
          1.2633093486709586,
          1.279147220969627,
          1.2951836497020088,
          1.311421124132862,
          1.3278621647343924,
          1.3445093235774908,
          1.3613651847278825,
          1.3784323646472398,
          1.3957135125993245,
          1.4132113110612194,
          1.4309284761397238,
          1.448867757992954,
          1.4670319412572446,
          1.485423845479392,
          1.5040463255543235,
          1.5229022721682461,
          1.5419946122473622,
          1.5613263094121943,
          1.5809003644376214,
          1.600719815718673,
          1.620787739742167,
          1.641107251564263,
          1.6616815052939908,
          1.6825136945828552,
          1.7036070531205705,
          1.7249648551370105,
          1.7465904159104602,
          1.7684870922822211,
          1.790658283177686,
          1.8131074301339376,
          1.8358380178339622,
          1.8588535746475672,
          1.8821576731790657,
          1.905753930821843,
          1.9296460103198658,
          1.9538376203362329,
          1.9783325160288625,
          2.0031344996333784,
          2.0282474210533192,
          2.0536751784577434,
          2.0794217188863224,
          2.1054910388620245,
          2.1318871850114745,
          2.1586142546931013,
          2.1856763966331423,
          2.21307781156964,
          2.2408227529045006,
          2.26891552736373,
          2.297360495665957,
          2.326162073199315,
          2.3553247307068332,
          2.384852994980405,
          2.414751449563465,
          2.4450247354624772,
          2.475677551867326,
          2.506714656880761,
          2.538140868256973,
          2.56996106414943,
          2.6021801838681027,
          2.6348032286461582,
          2.6678352624162858,
          2.7012814125967504,
          2.735146870887294,
          2.769436894075034,
          2.8041568048504315,
          2.8393119926335233,
          2.8749079144104943,
          2.9109500955807377,
          2.9474441308145547,
          2.9843956849215565,
          3.021810493730033,
          3.059694364977263,
          3.0980531792110417,
          3.1368928907024887,
          3.1762195283703014,
          3.2160391967166078,
          3.2563580767745246,
          3.297182427067625,
          3.3385185845814194,
          3.380372965747009,
          3.422752067437102,
          3.4656624679744703,
          3.5091108281530854,
          3.5531038922720453,
          3.5976484891824563,
          3.642751533347461,
          3.688420025915517,
          3.7346610558071722,
          3.7814818008154405,
          3.828889528719976,
          3.876891598415235,
          3.925495461052741,
          3.9747086611977114,
          4.0245388380001605,
          4.07499372638069,
          4.126081158231167,
          4.177809063630387,
          4.230185472075086,
          4.283218513726279,
          4.336916420671285,
          4.391287528201559,
          4.446340276106539,
          4.502083209983729,
          4.558524982565175,
          4.615674355060606,
          4.673540198517392,
          4.7321314951975575,
          4.791457339972071,
          4.851526941732582,
          4.91234962482089,
          4.973934830476318,
          5.036292118301229,
          5.099431167744946,
          5.163361779606213,
          5.228093877554558,
          5.29363750967069,
          5.360002850006215,
          5.4272002001629325,
          5.495239990891874,
          5.564132783712447,
          5.633889272551845,
          5.704520285405014,
          5.7760367860154656,
          5.848449875577065,
          5.921770794457305,
          5.996010923942033,
          6.07118178800214,
          6.147295055082404,
          6.224362539912663,
          6.302396205341848,
          6.381408164194862,
          6.461410681152815,
          6.542416174656856,
          6.624437218835749,
          6.707486545457801,
          6.791577045907083,
          6.876721773184535,
          6.962933943934122,
          7.050226940494386,
          7.138614312975767,
          7.228109781363846,
          7.318727237649142,
          7.4104807479834225,
          7.5033845548631595,
          7.597453079340362,
          7.692700923261011,
          7.789142871531744,
          7.886793894414765,
          7.985669149851652,
          8.085783985816281,
          8.187153942697144,
          8.289794755709723,
          8.393722357338907,
          8.49895287981217,
          8.605502657603719,
          8.713388229969942,
          8.822626343516847,
          8.933233954799459,
          9.045228232953956,
          9.158626562362787,
          9.273446545353083,
          9.389706004929113,
          9.507422987538762,
          9.626615765874865,
          9.74730284171157,
          9.869502948776306,
          9.993235055657724,
          10.118518368750108,
          10.245372335234713,
          10.373816646098446,
          10.503871239190435,
          10.635556302316871,
          10.768892276374686,
          10.903899858524513,
          11.040600005403391,
          11.179013936377785,
          11.319163136837396,
          11.461069361530198,
          11.604754637939385,
          11.750241269702556,
          11.897551840073834,
          12.046709215429374,
          12.197736548816785,
          12.35065728354909,
          12.505495156843747,
          12.66227420350723,
          12.8210187596659,
          12.981753466543552,
          13.14450327428637,
          13.309293445835872,
          13.476149560850308,
          13.645097519675303,
          13.816163547364285,
          13.989374197749218,
          14.164756357562514,
          14.342337250610473,
          14.52214444199916,
          14.704205842413213,
          14.888549712448272,
          15.075204666997761,
          15.264199679694677,
          15.455564087408996,
          15.649327594801527,
          15.845520278934865,
          16.044172593942065,
          16.245315375753957,
          16.448979846885642,
          16.65519762128303,
          16.86400070923015,
          17.07542152231796,
          17.289492878475425,
          17.506248007063768,
          17.725720554034446,
          17.947944587151927,
          18.17295460128183,
          18.400785523745423,
          18.63147271974129,
          18.865051997834833,
          19.101559615516727,
          19.341032284831037,
          19.58350717807379,
          19.829021933563162,
          20.077614661481828,
          20.32932394979268,
          20.58418887022868,
          20.842248984357752,
          21.10354434972378,
          21.368115526064585,
          21.63600358160777,
          21.907250099445648,
          22.18189718398993,
          22.459987467507425,
          22.74156411673772,
          23.026670839593677,
          23.315351891946065,
          23.607652084493232,
          23.903616789716818,
          24.203291948924736,
          24.50672407938252,
          24.81396028153386,
          25.125048246311934,
          25.440036262542165,
          25.758973224437916,
          26.081908639190182,
          26.408892634652265,
          26.73997596712097,
          27.075210029215313,
          27.414646857853874,
          27.75833914233239,
          28.10634023250234,
          28.458704147052316,
          28.815485581893103,
          29.176739918647804,
          29.542523233248563,
          29.912892304640987,
          30.287904623597633,
          30.667618401642134,
          31.052092580085034,
          31.441386839173028,
          31.835561607352915,
          32.23467807065154,
          32.6387981821735,
          33.047984671717884,
          33.46230105551546,
          33.88181164608805,
          34.30658156223157,
          34.736676739123965,
          35.17216393856023,
          35.613110759315404,
          36.059585647637675,
          36.51165790787307,
          36.96939771322313,
          37.43287611663768,
          37.90216506184408,
          38.37733739451465,
          38.858466873574294,
          39.34562818264967,
          39.83889694166206,
          40.33834971856555,
          40.84406404123227,
          41.35611840948672,
          41.87459230729103,
          42.399566215082785,
          42.93112162226779,
          43.469341039869185,
          44.01430801333532,
          44.56610713550823,
          45.12482405975447,
          45.69054551326077,
          46.26335931049644,
          46.84335436684417,
          47.430620712402245,
          48.02524950595933,
          48.627333049144724,
          49.23696480075599,
          49.85423939126606,
          50.47925263751232,
          51.112101557569964,
          51.75288438581151,
          52.401700588155386,
          53.058650877505634,
          53.723837229385,
          54.39736289776432,
          55.07933243109,
          55.769851688512745,
          56.469027856319606,
          57.17696946457195,
          57.893786403952156,
          58.619589942821555,
          59.35449274449194,
          60.098608884714025,
          60.852053869384676,
          61.44,
          61.44,
          61.44,
          61.44,
          61.44,
          61.44,
          61.44,
          61.44,
          61.44,
          61.44,
          61.44,
          61.44,
          61.44,
          61.44,
          61.44,
          61.44,
          61.44,
          61.44,
          61.44,
          61.44,
          61.44,
          61.44,
          61.44,
          61.44,
          61.44,
          61.44,
          61.44,
          61.44,
          61.44,
          61.44,
          61.44,
          61.44,
          61.44,
          61.44,
          61.44,
          61.44,
          61.44,
          61.44,
          61.44,
          61.44,
          61.44,
          61.44,
          61.44,
          61.44,
          61.44,
          61.44,
          61.44,
          61.44,
          61.44,
          61.44,
          61.44,
          61.44,
          61.44,
          61.44,
          61.44,
          61.44,
          61.44,
          61.44,
          61.44,
          61.44,
          61.44,
          61.44,
          61.44,
          61.44,
          61.44,
          61.44,
          61.44,
          61.44,
          61.44,
          61.44,
          61.44,
          61.44,
          61.44,
          61.44,
          61.44,
          61.44,
          61.44,
          61.44,
          61.44,
          61.44,
          61.44,
          61.44,
          61.44,
          61.44,
          61.44,
          61.44,
          61.44,
          61.44,
          61.44,
          61.44,
          61.44,
          61.44,
          61.44,
          61.44,
          61.44,
          61.44,
          61.44,
          61.44,
          61.44,
          61.44,
          61.44,
          61.44,
          61.44,
          61.44,
          61.44,
          61.44,
          61.44,
          61.44,
          61.44,
          61.44,
          61.44,
          61.44,
          61.44,
          61.44,
          61.44,
          61.44,
          61.44,
          61.44,
          61.44,
          61.44,
          61.44,
          61.44,
          61.44,
          61.44,
          61.44,
          61.44,
          61.44,
          61.44,
          61.44
         ]
        }
       ],
       "layout": {
        "coloraxis": {
         "colorbar": {
          "title": {
           "text": "M"
          }
         },
         "colorscale": [
          [
           0,
           "#0d0887"
          ],
          [
           0.1111111111111111,
           "#46039f"
          ],
          [
           0.2222222222222222,
           "#7201a8"
          ],
          [
           0.3333333333333333,
           "#9c179e"
          ],
          [
           0.4444444444444444,
           "#bd3786"
          ],
          [
           0.5555555555555556,
           "#d8576b"
          ],
          [
           0.6666666666666666,
           "#ed7953"
          ],
          [
           0.7777777777777778,
           "#fb9f3a"
          ],
          [
           0.8888888888888888,
           "#fdca26"
          ],
          [
           1,
           "#f0f921"
          ]
         ]
        },
        "legend": {
         "itemsizing": "constant",
         "orientation": "h",
         "tracegroupgap": 0,
         "y": 1.02,
         "yanchor": "bottom"
        },
        "template": {
         "data": {
          "bar": [
           {
            "error_x": {
             "color": "#2a3f5f"
            },
            "error_y": {
             "color": "#2a3f5f"
            },
            "marker": {
             "line": {
              "color": "#E5ECF6",
              "width": 0.5
             },
             "pattern": {
              "fillmode": "overlay",
              "size": 10,
              "solidity": 0.2
             }
            },
            "type": "bar"
           }
          ],
          "barpolar": [
           {
            "marker": {
             "line": {
              "color": "#E5ECF6",
              "width": 0.5
             },
             "pattern": {
              "fillmode": "overlay",
              "size": 10,
              "solidity": 0.2
             }
            },
            "type": "barpolar"
           }
          ],
          "carpet": [
           {
            "aaxis": {
             "endlinecolor": "#2a3f5f",
             "gridcolor": "white",
             "linecolor": "white",
             "minorgridcolor": "white",
             "startlinecolor": "#2a3f5f"
            },
            "baxis": {
             "endlinecolor": "#2a3f5f",
             "gridcolor": "white",
             "linecolor": "white",
             "minorgridcolor": "white",
             "startlinecolor": "#2a3f5f"
            },
            "type": "carpet"
           }
          ],
          "choropleth": [
           {
            "colorbar": {
             "outlinewidth": 0,
             "ticks": ""
            },
            "type": "choropleth"
           }
          ],
          "contour": [
           {
            "colorbar": {
             "outlinewidth": 0,
             "ticks": ""
            },
            "colorscale": [
             [
              0,
              "#0d0887"
             ],
             [
              0.1111111111111111,
              "#46039f"
             ],
             [
              0.2222222222222222,
              "#7201a8"
             ],
             [
              0.3333333333333333,
              "#9c179e"
             ],
             [
              0.4444444444444444,
              "#bd3786"
             ],
             [
              0.5555555555555556,
              "#d8576b"
             ],
             [
              0.6666666666666666,
              "#ed7953"
             ],
             [
              0.7777777777777778,
              "#fb9f3a"
             ],
             [
              0.8888888888888888,
              "#fdca26"
             ],
             [
              1,
              "#f0f921"
             ]
            ],
            "type": "contour"
           }
          ],
          "contourcarpet": [
           {
            "colorbar": {
             "outlinewidth": 0,
             "ticks": ""
            },
            "type": "contourcarpet"
           }
          ],
          "heatmap": [
           {
            "colorbar": {
             "outlinewidth": 0,
             "ticks": ""
            },
            "colorscale": [
             [
              0,
              "#0d0887"
             ],
             [
              0.1111111111111111,
              "#46039f"
             ],
             [
              0.2222222222222222,
              "#7201a8"
             ],
             [
              0.3333333333333333,
              "#9c179e"
             ],
             [
              0.4444444444444444,
              "#bd3786"
             ],
             [
              0.5555555555555556,
              "#d8576b"
             ],
             [
              0.6666666666666666,
              "#ed7953"
             ],
             [
              0.7777777777777778,
              "#fb9f3a"
             ],
             [
              0.8888888888888888,
              "#fdca26"
             ],
             [
              1,
              "#f0f921"
             ]
            ],
            "type": "heatmap"
           }
          ],
          "histogram": [
           {
            "marker": {
             "pattern": {
              "fillmode": "overlay",
              "size": 10,
              "solidity": 0.2
             }
            },
            "type": "histogram"
           }
          ],
          "histogram2d": [
           {
            "colorbar": {
             "outlinewidth": 0,
             "ticks": ""
            },
            "colorscale": [
             [
              0,
              "#0d0887"
             ],
             [
              0.1111111111111111,
              "#46039f"
             ],
             [
              0.2222222222222222,
              "#7201a8"
             ],
             [
              0.3333333333333333,
              "#9c179e"
             ],
             [
              0.4444444444444444,
              "#bd3786"
             ],
             [
              0.5555555555555556,
              "#d8576b"
             ],
             [
              0.6666666666666666,
              "#ed7953"
             ],
             [
              0.7777777777777778,
              "#fb9f3a"
             ],
             [
              0.8888888888888888,
              "#fdca26"
             ],
             [
              1,
              "#f0f921"
             ]
            ],
            "type": "histogram2d"
           }
          ],
          "histogram2dcontour": [
           {
            "colorbar": {
             "outlinewidth": 0,
             "ticks": ""
            },
            "colorscale": [
             [
              0,
              "#0d0887"
             ],
             [
              0.1111111111111111,
              "#46039f"
             ],
             [
              0.2222222222222222,
              "#7201a8"
             ],
             [
              0.3333333333333333,
              "#9c179e"
             ],
             [
              0.4444444444444444,
              "#bd3786"
             ],
             [
              0.5555555555555556,
              "#d8576b"
             ],
             [
              0.6666666666666666,
              "#ed7953"
             ],
             [
              0.7777777777777778,
              "#fb9f3a"
             ],
             [
              0.8888888888888888,
              "#fdca26"
             ],
             [
              1,
              "#f0f921"
             ]
            ],
            "type": "histogram2dcontour"
           }
          ],
          "mesh3d": [
           {
            "colorbar": {
             "outlinewidth": 0,
             "ticks": ""
            },
            "type": "mesh3d"
           }
          ],
          "parcoords": [
           {
            "line": {
             "colorbar": {
              "outlinewidth": 0,
              "ticks": ""
             }
            },
            "type": "parcoords"
           }
          ],
          "pie": [
           {
            "automargin": true,
            "type": "pie"
           }
          ],
          "scatter": [
           {
            "fillpattern": {
             "fillmode": "overlay",
             "size": 10,
             "solidity": 0.2
            },
            "type": "scatter"
           }
          ],
          "scatter3d": [
           {
            "line": {
             "colorbar": {
              "outlinewidth": 0,
              "ticks": ""
             }
            },
            "marker": {
             "colorbar": {
              "outlinewidth": 0,
              "ticks": ""
             }
            },
            "type": "scatter3d"
           }
          ],
          "scattercarpet": [
           {
            "marker": {
             "colorbar": {
              "outlinewidth": 0,
              "ticks": ""
             }
            },
            "type": "scattercarpet"
           }
          ],
          "scattergeo": [
           {
            "marker": {
             "colorbar": {
              "outlinewidth": 0,
              "ticks": ""
             }
            },
            "type": "scattergeo"
           }
          ],
          "scattergl": [
           {
            "marker": {
             "colorbar": {
              "outlinewidth": 0,
              "ticks": ""
             }
            },
            "type": "scattergl"
           }
          ],
          "scattermap": [
           {
            "marker": {
             "colorbar": {
              "outlinewidth": 0,
              "ticks": ""
             }
            },
            "type": "scattermap"
           }
          ],
          "scattermapbox": [
           {
            "marker": {
             "colorbar": {
              "outlinewidth": 0,
              "ticks": ""
             }
            },
            "type": "scattermapbox"
           }
          ],
          "scatterpolar": [
           {
            "marker": {
             "colorbar": {
              "outlinewidth": 0,
              "ticks": ""
             }
            },
            "type": "scatterpolar"
           }
          ],
          "scatterpolargl": [
           {
            "marker": {
             "colorbar": {
              "outlinewidth": 0,
              "ticks": ""
             }
            },
            "type": "scatterpolargl"
           }
          ],
          "scatterternary": [
           {
            "marker": {
             "colorbar": {
              "outlinewidth": 0,
              "ticks": ""
             }
            },
            "type": "scatterternary"
           }
          ],
          "surface": [
           {
            "colorbar": {
             "outlinewidth": 0,
             "ticks": ""
            },
            "colorscale": [
             [
              0,
              "#0d0887"
             ],
             [
              0.1111111111111111,
              "#46039f"
             ],
             [
              0.2222222222222222,
              "#7201a8"
             ],
             [
              0.3333333333333333,
              "#9c179e"
             ],
             [
              0.4444444444444444,
              "#bd3786"
             ],
             [
              0.5555555555555556,
              "#d8576b"
             ],
             [
              0.6666666666666666,
              "#ed7953"
             ],
             [
              0.7777777777777778,
              "#fb9f3a"
             ],
             [
              0.8888888888888888,
              "#fdca26"
             ],
             [
              1,
              "#f0f921"
             ]
            ],
            "type": "surface"
           }
          ],
          "table": [
           {
            "cells": {
             "fill": {
              "color": "#EBF0F8"
             },
             "line": {
              "color": "white"
             }
            },
            "header": {
             "fill": {
              "color": "#C8D4E3"
             },
             "line": {
              "color": "white"
             }
            },
            "type": "table"
           }
          ]
         },
         "layout": {
          "annotationdefaults": {
           "arrowcolor": "#2a3f5f",
           "arrowhead": 0,
           "arrowwidth": 1
          },
          "autotypenumbers": "strict",
          "coloraxis": {
           "colorbar": {
            "outlinewidth": 0,
            "ticks": ""
           }
          },
          "colorscale": {
           "diverging": [
            [
             0,
             "#8e0152"
            ],
            [
             0.1,
             "#c51b7d"
            ],
            [
             0.2,
             "#de77ae"
            ],
            [
             0.3,
             "#f1b6da"
            ],
            [
             0.4,
             "#fde0ef"
            ],
            [
             0.5,
             "#f7f7f7"
            ],
            [
             0.6,
             "#e6f5d0"
            ],
            [
             0.7,
             "#b8e186"
            ],
            [
             0.8,
             "#7fbc41"
            ],
            [
             0.9,
             "#4d9221"
            ],
            [
             1,
             "#276419"
            ]
           ],
           "sequential": [
            [
             0,
             "#0d0887"
            ],
            [
             0.1111111111111111,
             "#46039f"
            ],
            [
             0.2222222222222222,
             "#7201a8"
            ],
            [
             0.3333333333333333,
             "#9c179e"
            ],
            [
             0.4444444444444444,
             "#bd3786"
            ],
            [
             0.5555555555555556,
             "#d8576b"
            ],
            [
             0.6666666666666666,
             "#ed7953"
            ],
            [
             0.7777777777777778,
             "#fb9f3a"
            ],
            [
             0.8888888888888888,
             "#fdca26"
            ],
            [
             1,
             "#f0f921"
            ]
           ],
           "sequentialminus": [
            [
             0,
             "#0d0887"
            ],
            [
             0.1111111111111111,
             "#46039f"
            ],
            [
             0.2222222222222222,
             "#7201a8"
            ],
            [
             0.3333333333333333,
             "#9c179e"
            ],
            [
             0.4444444444444444,
             "#bd3786"
            ],
            [
             0.5555555555555556,
             "#d8576b"
            ],
            [
             0.6666666666666666,
             "#ed7953"
            ],
            [
             0.7777777777777778,
             "#fb9f3a"
            ],
            [
             0.8888888888888888,
             "#fdca26"
            ],
            [
             1,
             "#f0f921"
            ]
           ]
          },
          "colorway": [
           "#636efa",
           "#EF553B",
           "#00cc96",
           "#ab63fa",
           "#FFA15A",
           "#19d3f3",
           "#FF6692",
           "#B6E880",
           "#FF97FF",
           "#FECB52"
          ],
          "font": {
           "color": "#2a3f5f"
          },
          "geo": {
           "bgcolor": "white",
           "lakecolor": "white",
           "landcolor": "#E5ECF6",
           "showlakes": true,
           "showland": true,
           "subunitcolor": "white"
          },
          "hoverlabel": {
           "align": "left"
          },
          "hovermode": "closest",
          "mapbox": {
           "style": "light"
          },
          "paper_bgcolor": "white",
          "plot_bgcolor": "#E5ECF6",
          "polar": {
           "angularaxis": {
            "gridcolor": "white",
            "linecolor": "white",
            "ticks": ""
           },
           "bgcolor": "#E5ECF6",
           "radialaxis": {
            "gridcolor": "white",
            "linecolor": "white",
            "ticks": ""
           }
          },
          "scene": {
           "xaxis": {
            "backgroundcolor": "#E5ECF6",
            "gridcolor": "white",
            "gridwidth": 2,
            "linecolor": "white",
            "showbackground": true,
            "ticks": "",
            "zerolinecolor": "white"
           },
           "yaxis": {
            "backgroundcolor": "#E5ECF6",
            "gridcolor": "white",
            "gridwidth": 2,
            "linecolor": "white",
            "showbackground": true,
            "ticks": "",
            "zerolinecolor": "white"
           },
           "zaxis": {
            "backgroundcolor": "#E5ECF6",
            "gridcolor": "white",
            "gridwidth": 2,
            "linecolor": "white",
            "showbackground": true,
            "ticks": "",
            "zerolinecolor": "white"
           }
          },
          "shapedefaults": {
           "line": {
            "color": "#2a3f5f"
           }
          },
          "ternary": {
           "aaxis": {
            "gridcolor": "white",
            "linecolor": "white",
            "ticks": ""
           },
           "baxis": {
            "gridcolor": "white",
            "linecolor": "white",
            "ticks": ""
           },
           "bgcolor": "#E5ECF6",
           "caxis": {
            "gridcolor": "white",
            "linecolor": "white",
            "ticks": ""
           }
          },
          "title": {
           "x": 0.05
          },
          "xaxis": {
           "automargin": true,
           "gridcolor": "white",
           "linecolor": "white",
           "ticks": "",
           "title": {
            "standoff": 15
           },
           "zerolinecolor": "white",
           "zerolinewidth": 2
          },
          "yaxis": {
           "automargin": true,
           "gridcolor": "white",
           "linecolor": "white",
           "ticks": "",
           "title": {
            "standoff": 15
           },
           "zerolinecolor": "white",
           "zerolinewidth": 2
          }
         }
        },
        "title": {
         "text": "AMD RX 7900 XTX Roofline Analysis"
        },
        "xaxis": {
         "anchor": "y",
         "domain": [
          0,
          1
         ],
         "title": {
          "text": "Operational Intensity (TFLOPs/GB/s)"
         },
         "type": "log"
        },
        "yaxis": {
         "anchor": "x",
         "domain": [
          0,
          1
         ],
         "title": {
          "text": "Performance (TFLOPs)"
         },
         "type": "log"
        }
       }
      },
      "image/png": "[encoded data removed]"
     },
     "metadata": {},
     "output_type": "display_data"
    }
   ],
   "source": [
    "fig.show()"
   ]
  },
  {
   "cell_type": "markdown",
   "id": "7644bd21-480a-4ede-a1d9-65d42e130f9f",
   "metadata": {},
   "source": [
    "# Simple GEMM sweep int8\n",
    "\n",
    "This sweep is defined as \n",
    "\n",
    "> - Datatype `int8`\n",
    "> - For `M,N,K` use `N=K` for powers of 2 from 64 to 16384\n",
    "> - `M=1,2,4,...,256`\n",
    "> - Select the best results\n"
   ]
  },
  {
   "cell_type": "code",
   "execution_count": 104,
   "id": "cc9e241f-f72e-4ce6-9ccc-50dea79207db",
   "metadata": {},
   "outputs": [],
   "source": [
    "int8_df = load_gemm_data(\"gemm_scan_results_int8\")\n",
    "int8_df = calculate_metrics(int8_df)\n",
    "fig = generate_roofline_plot(int8_df, roofline)"
   ]
  },
  {
   "cell_type": "code",
   "execution_count": 106,
   "id": "b63563a3-5664-470b-8dda-dd97493ae857",
   "metadata": {},
   "outputs": [
    {
     "data": {
      "application/vnd.plotly.v1+json": {
       "config": {
        "plotlyServerURL": "https://plot.ly"
       },
       "data": [
        {
         "customdata": [
          [
           0.0066961,
           "DeviceGemmDl<64, 64, 16, 16, 2, 4, 1, 1>",
           64,
           256,
           256
          ],
          [
           0.0041321,
           "DeviceGemmDl<64, 8, 64, 32, 2, 1, 2, 1>",
           128,
           64,
           64
          ],
          [
           0.351048,
           "DeviceGemmWmma_CShuffle<64, 16, 64, 64, 8, 16, 16, 1, 2> AEnableLds: 1, BEnableLds: 1, NumPrefetch: 1, LoopScheduler: Default, PipelineVersion: v1",
           2,
           16384,
           16384
          ],
          [
           0.004528,
           "DeviceGemmDl<64, 8, 64, 32, 2, 1, 2, 1>",
           64,
           64,
           64
          ],
          [
           0.961949,
           "DeviceGemmWmma_CShuffle<256, 128, 128, 64, 8, 16, 16, 4, 2> AEnableLds: 1, BEnableLds: 1, NumPrefetch: 1, LoopScheduler: Default, PipelineVersion: v1",
           128,
           16384,
           16384
          ],
          [
           0.004888,
           "DeviceGemmDl<64, 8, 64, 32, 2, 1, 2, 1>",
           256,
           128,
           128
          ],
          [
           0.00750448,
           "DeviceGemmWmma_CShuffle<32, 16, 16, 32, 8, 16, 16, 1, 1> AEnableLds: 1, BEnableLds: 1, NumPrefetch: 2, LoopScheduler: Default, PipelineVersion: v1",
           2,
           64,
           64
          ],
          [
           0.005044,
           "DeviceGemmDl<64, 64, 8, 32, 2, 2, 1, 1>",
           2,
           128,
           128
          ],
          [
           0.0142442,
           "DeviceGemmWmma_CShuffle<64, 16, 64, 64, 8, 16, 16, 1, 2> AEnableLds: 1, BEnableLds: 1, NumPrefetch: 1, LoopScheduler: Default, PipelineVersion: v1",
           64,
           1024,
           1024
          ],
          [
           0.0138842,
           "DeviceGemmWmma_CShuffle<64, 16, 64, 64, 8, 16, 16, 1, 2> AEnableLds: 1, BEnableLds: 1, NumPrefetch: 1, LoopScheduler: Default, PipelineVersion: v1",
           2,
           1024,
           1024
          ],
          [
           0.350349,
           "DeviceGemmWmma_CShuffle<64, 16, 64, 64, 8, 16, 16, 1, 2> AEnableLds: 1, BEnableLds: 1, NumPrefetch: 1, LoopScheduler: Default, PipelineVersion: v1",
           8,
           16384,
           16384
          ],
          [
           0.38981,
           "DeviceGemmWmma_CShuffle<64, 32, 64, 64, 8, 16, 16, 2, 2> AEnableLds: 1, BEnableLds: 1, NumPrefetch: 1, LoopScheduler: Default, PipelineVersion: v1",
           32,
           16384,
           16384
          ],
          [
           0.004932,
           "DeviceGemmDl<64, 64, 8, 32, 2, 2, 1, 1>",
           32,
           128,
           128
          ],
          [
           0.110409,
           "DeviceGemmWmma_CShuffle<64, 16, 64, 64, 8, 16, 16, 1, 2> AEnableLds: 1, BEnableLds: 1, NumPrefetch: 1, LoopScheduler: Default, PipelineVersion: v1",
           4,
           8192,
           8192
          ],
          [
           0.0232003,
           "DeviceGemmWmma_CShuffle<64, 16, 64, 64, 8, 16, 16, 1, 2> AEnableLds: 1, BEnableLds: 1, NumPrefetch: 1, LoopScheduler: Default, PipelineVersion: v1",
           2,
           2048,
           2048
          ],
          [
           0.005024,
           "DeviceGemmDl<64, 64, 8, 32, 2, 2, 1, 1>",
           64,
           128,
           128
          ],
          [
           0.00564,
           "DeviceGemmDl<64, 64, 8, 32, 2, 2, 1, 1>",
           8,
           128,
           128
          ],
          [
           0.00664,
           "DeviceGemmDl<64, 64, 16, 16, 2, 4, 1, 1>",
           256,
           256,
           256
          ],
          [
           0.114221,
           "DeviceGemmWmma_CShuffle<64, 32, 64, 64, 8, 16, 16, 2, 2> AEnableLds: 1, BEnableLds: 1, NumPrefetch: 1, LoopScheduler: Default, PipelineVersion: v1",
           1,
           8192,
           8192
          ],
          [
           0.0102481,
           "DeviceGemmWmma_CShuffle<64, 32, 64, 64, 8, 16, 16, 2, 2> AEnableLds: 1, BEnableLds: 1, NumPrefetch: 1, LoopScheduler: Default, PipelineVersion: v1",
           256,
           512,
           512
          ],
          [
           0.0071281,
           "DeviceGemmDl<16, 16, 16, 16, 2, 2, 2, 1>",
           32,
           256,
           256
          ],
          [
           0.0094201,
           "DeviceGemmDl<16, 16, 16, 16, 2, 2, 2, 1>",
           8,
           512,
           512
          ],
          [
           0.00748948,
           "DeviceGemmWmma_CShuffle<32, 16, 16, 32, 8, 16, 16, 1, 1> AEnableLds: 1, BEnableLds: 1, NumPrefetch: 2, LoopScheduler: Default, PipelineVersion: v1",
           8,
           64,
           64
          ],
          [
           0.0143522,
           "DeviceGemmWmma_CShuffle<64, 16, 64, 64, 8, 16, 16, 1, 2> AEnableLds: 1, BEnableLds: 1, NumPrefetch: 1, LoopScheduler: Default, PipelineVersion: v1",
           32,
           1024,
           1024
          ],
          [
           0.0070401,
           "DeviceGemmDl<16, 16, 16, 16, 2, 2, 2, 1>",
           8,
           256,
           256
          ],
          [
           0.0151922,
           "DeviceGemmWmma_CShuffle<64, 32, 64, 64, 8, 16, 16, 2, 2> AEnableLds: 1, BEnableLds: 1, NumPrefetch: 1, LoopScheduler: Default, PipelineVersion: v1",
           128,
           1024,
           1024
          ],
          [
           0.167782,
           "DeviceGemmWmma_CShuffle<64, 32, 64, 64, 8, 16, 16, 2, 2> AEnableLds: 1, BEnableLds: 1, NumPrefetch: 1, LoopScheduler: Default, PipelineVersion: v1",
           64,
           8192,
           8192
          ],
          [
           0.0449485,
           "DeviceGemmWmma_CShuffle<64, 32, 64, 64, 8, 16, 16, 2, 2> AEnableLds: 1, BEnableLds: 1, NumPrefetch: 1, LoopScheduler: Default, PipelineVersion: v1",
           16,
           4096,
           4096
          ],
          [
           0.0549607,
           "DeviceGemmWmma_CShuffle<64, 64, 32, 64, 8, 16, 16, 4, 1> AEnableLds: 1, BEnableLds: 1, NumPrefetch: 1, LoopScheduler: Default, PipelineVersion: v1",
           64,
           4096,
           4096
          ],
          [
           0.0041241,
           "DeviceGemmDl<64, 8, 64, 32, 2, 1, 2, 1>",
           256,
           64,
           64
          ],
          [
           0.0049321,
           "DeviceGemmDl<8, 8, 8, 4, 2, 2, 1, 1>",
           32,
           64,
           64
          ],
          [
           0.0139962,
           "DeviceGemmWmma_CShuffle<64, 16, 64, 64, 8, 16, 16, 1, 2> AEnableLds: 1, BEnableLds: 1, NumPrefetch: 1, LoopScheduler: Default, PipelineVersion: v1",
           16,
           1024,
           1024
          ],
          [
           0.129514,
           "DeviceGemmWmma_CShuffle<64, 16, 64, 64, 8, 16, 16, 1, 2> AEnableLds: 1, BEnableLds: 1, NumPrefetch: 1, LoopScheduler: Default, PipelineVersion: v1",
           32,
           8192,
           8192
          ],
          [
           0.0094841,
           "DeviceGemmDl<16, 16, 16, 16, 2, 2, 2, 1>",
           32,
           512,
           512
          ],
          [
           0.0093601,
           "DeviceGemmDl<16, 16, 16, 16, 2, 2, 2, 1>",
           4,
           512,
           512
          ],
          [
           0.0094121,
           "DeviceGemmDl<16, 16, 16, 16, 2, 2, 2, 1>",
           1,
           512,
           512
          ],
          [
           0.0093441,
           "DeviceGemmDl<16, 16, 16, 16, 2, 2, 2, 1>",
           2,
           512,
           512
          ],
          [
           0.588028,
           "DeviceGemmWmma_CShuffle<64, 64, 32, 64, 8, 16, 16, 4, 1> AEnableLds: 1, BEnableLds: 1, NumPrefetch: 1, LoopScheduler: Default, PipelineVersion: v1",
           64,
           16384,
           16384
          ],
          [
           0.0069921,
           "DeviceGemmDl<16, 16, 16, 16, 2, 2, 2, 1>",
           4,
           256,
           256
          ],
          [
           0.0237283,
           "DeviceGemmWmma_CShuffle<64, 32, 64, 64, 8, 16, 16, 2, 2> AEnableLds: 1, BEnableLds: 1, NumPrefetch: 1, LoopScheduler: Default, PipelineVersion: v1",
           4,
           2048,
           2048
          ],
          [
           0.0097321,
           "DeviceGemmWmma_CShuffle<64, 64, 32, 64, 8, 16, 16, 4, 1> AEnableLds: 1, BEnableLds: 1, NumPrefetch: 1, LoopScheduler: Default, PipelineVersion: v1",
           16,
           512,
           512
          ],
          [
           0.0142922,
           "DeviceGemmWmma_CShuffle<64, 16, 64, 64, 8, 16, 16, 1, 2> AEnableLds: 1, BEnableLds: 1, NumPrefetch: 1, LoopScheduler: Default, PipelineVersion: v1",
           4,
           1024,
           1024
          ],
          [
           0.110441,
           "DeviceGemmWmma_CShuffle<64, 16, 64, 64, 8, 16, 16, 1, 2> AEnableLds: 1, BEnableLds: 1, NumPrefetch: 1, LoopScheduler: Default, PipelineVersion: v1",
           16,
           8192,
           8192
          ],
          [
           0.00492,
           "DeviceGemmDl<8, 8, 8, 4, 2, 1, 2, 1>",
           16,
           64,
           64
          ],
          [
           0.0768329,
           "DeviceGemmWmma_CShuffle<64, 64, 32, 64, 8, 16, 16, 4, 1> AEnableLds: 1, BEnableLds: 1, NumPrefetch: 1, LoopScheduler: Default, PipelineVersion: v1",
           128,
           4096,
           4096
          ],
          [
           0.0049561,
           "DeviceGemmDl<64, 64, 8, 32, 2, 2, 1, 1>",
           1,
           128,
           128
          ],
          [
           0.0142082,
           "DeviceGemmDl<16, 16, 16, 16, 2, 2, 2, 1>",
           8,
           1024,
           1024
          ],
          [
           0.354085,
           "DeviceGemmWmma_CShuffle<64, 16, 64, 64, 8, 16, 16, 1, 2> AEnableLds: 1, BEnableLds: 1, NumPrefetch: 1, LoopScheduler: Default, PipelineVersion: v1",
           16,
           16384,
           16384
          ],
          [
           0.0094202,
           "DeviceGemmDl<64, 64, 16, 16, 2, 4, 1, 1>",
           128,
           512,
           512
          ],
          [
           0.0232003,
           "DeviceGemmWmma_CShuffle<64, 16, 64, 64, 8, 16, 16, 1, 2> AEnableLds: 1, BEnableLds: 1, NumPrefetch: 1, LoopScheduler: Default, PipelineVersion: v1",
           16,
           2048,
           2048
          ],
          [
           0.0070361,
           "DeviceGemmDl<16, 16, 16, 16, 2, 2, 2, 1>",
           2,
           256,
           256
          ],
          [
           0.0441926,
           "DeviceGemmWmma_CShuffle<64, 32, 64, 64, 8, 16, 16, 2, 2> AEnableLds: 1, BEnableLds: 1, NumPrefetch: 1, LoopScheduler: Default, PipelineVersion: v1",
           2,
           4096,
           4096
          ],
          [
           0.110293,
           "DeviceGemmWmma_CShuffle<64, 16, 64, 64, 8, 16, 16, 1, 2> AEnableLds: 1, BEnableLds: 1, NumPrefetch: 1, LoopScheduler: Default, PipelineVersion: v1",
           8,
           8192,
           8192
          ],
          [
           1.98607,
           "DeviceGemmWmma_CShuffle<256, 128, 128, 64, 8, 16, 16, 4, 2> AEnableLds: 1, BEnableLds: 1, NumPrefetch: 1, LoopScheduler: Default, PipelineVersion: v1",
           256,
           16384,
           16384
          ],
          [
           0.483766,
           "DeviceGemmWmma_CShuffle<256, 128, 128, 64, 8, 16, 16, 4, 2> AEnableLds: 1, BEnableLds: 1, NumPrefetch: 1, LoopScheduler: Default, PipelineVersion: v1",
           256,
           8192,
           8192
          ],
          [
           0.351281,
           "DeviceGemmWmma_CShuffle<64, 16, 64, 64, 8, 16, 16, 1, 2> AEnableLds: 1, BEnableLds: 1, NumPrefetch: 1, LoopScheduler: Default, PipelineVersion: v1",
           4,
           16384,
           16384
          ],
          [
           0.0445605,
           "DeviceGemmWmma_CShuffle<64, 32, 64, 64, 8, 16, 16, 2, 2> AEnableLds: 1, BEnableLds: 1, NumPrefetch: 1, LoopScheduler: Default, PipelineVersion: v1",
           8,
           4096,
           4096
          ],
          [
           0.291656,
           "DeviceGemmWmma_CShuffle<64, 32, 64, 64, 8, 16, 16, 2, 2> AEnableLds: 1, BEnableLds: 1, NumPrefetch: 1, LoopScheduler: Default, PipelineVersion: v1",
           128,
           8192,
           8192
          ],
          [
           0.147554,
           "DeviceGemmWmma_CShuffle<64, 32, 64, 64, 8, 16, 16, 2, 2> AEnableLds: 1, BEnableLds: 1, NumPrefetch: 1, LoopScheduler: Default, PipelineVersion: v1",
           256,
           4096,
           4096
          ],
          [
           0.005652,
           "DeviceGemmDl<64, 64, 8, 32, 2, 2, 1, 1>",
           16,
           128,
           128
          ],
          [
           0.0292323,
           "DeviceGemmWmma_CShuffle<64, 64, 32, 64, 8, 16, 16, 4, 1> AEnableLds: 1, BEnableLds: 1, NumPrefetch: 1, LoopScheduler: Default, PipelineVersion: v1",
           128,
           2048,
           2048
          ],
          [
           0.0048241,
           "DeviceGemmDl<64, 8, 64, 32, 2, 1, 2, 1>",
           128,
           128,
           128
          ],
          [
           0.0244683,
           "DeviceGemmWmma_CShuffle<64, 32, 64, 64, 8, 16, 16, 2, 2> AEnableLds: 1, BEnableLds: 1, NumPrefetch: 1, LoopScheduler: Default, PipelineVersion: v1",
           64,
           2048,
           2048
          ],
          [
           0.00751348,
           "DeviceGemmDl<64, 64, 8, 32, 2, 2, 1, 1>",
           4,
           64,
           64
          ],
          [
           0.0442365,
           "DeviceGemmWmma_CShuffle<64, 32, 64, 64, 8, 16, 16, 2, 2> AEnableLds: 1, BEnableLds: 1, NumPrefetch: 1, LoopScheduler: Default, PipelineVersion: v1",
           4,
           4096,
           4096
          ],
          [
           0.0141322,
           "DeviceGemmDl<16, 16, 16, 16, 2, 2, 2, 1>",
           1,
           1024,
           1024
          ],
          [
           0.0230403,
           "DeviceGemmWmma_CShuffle<64, 16, 64, 64, 8, 16, 16, 1, 2> AEnableLds: 1, BEnableLds: 1, NumPrefetch: 1, LoopScheduler: Default, PipelineVersion: v1",
           1,
           2048,
           2048
          ],
          [
           0.0063801,
           "DeviceGemmDl<64, 64, 16, 16, 2, 4, 1, 1>",
           128,
           256,
           256
          ],
          [
           0.352053,
           "DeviceGemmWmma_CShuffle<64, 16, 64, 64, 8, 16, 16, 1, 2> AEnableLds: 1, BEnableLds: 1, NumPrefetch: 1, LoopScheduler: Default, PipelineVersion: v1",
           1,
           16384,
           16384
          ],
          [
           0.0232803,
           "DeviceGemmWmma_CShuffle<64, 16, 64, 64, 8, 16, 16, 1, 2> AEnableLds: 1, BEnableLds: 1, NumPrefetch: 1, LoopScheduler: Default, PipelineVersion: v1",
           8,
           2048,
           2048
          ],
          [
           0.0069601,
           "DeviceGemmDl<16, 16, 16, 16, 2, 2, 2, 1>",
           1,
           256,
           256
          ],
          [
           0.0075001,
           "DeviceGemmWmma_CShuffle<64, 64, 32, 64, 8, 16, 16, 4, 1> AEnableLds: 1, BEnableLds: 1, NumPrefetch: 1, LoopScheduler: Default, PipelineVersion: v1",
           16,
           256,
           256
          ],
          [
           0.0069441,
           "DeviceGemmWmma_CShuffle<32, 16, 16, 64, 8, 16, 16, 1, 1> AEnableLds: 0, BEnableLds: 1, NumPrefetch: 1, LoopScheduler: Default, PipelineVersion: v1",
           1,
           64,
           64
          ],
          [
           0.0444566,
           "DeviceGemmWmma_CShuffle<64, 32, 64, 64, 8, 16, 16, 2, 2> AEnableLds: 1, BEnableLds: 1, NumPrefetch: 1, LoopScheduler: Default, PipelineVersion: v1",
           1,
           4096,
           4096
          ],
          [
           0.0174602,
           "DeviceGemmWmma_CShuffle<64, 64, 32, 64, 8, 16, 16, 4, 1> AEnableLds: 1, BEnableLds: 1, NumPrefetch: 1, LoopScheduler: Default, PipelineVersion: v1",
           256,
           1024,
           1024
          ],
          [
           0.0095361,
           "DeviceGemmDl<64, 64, 16, 16, 2, 4, 1, 1>",
           64,
           512,
           512
          ],
          [
           0.0050561,
           "DeviceGemmDl<64, 64, 8, 32, 2, 2, 1, 1>",
           4,
           128,
           128
          ],
          [
           0.110677,
           "DeviceGemmWmma_CShuffle<64, 16, 64, 64, 8, 16, 16, 1, 2> AEnableLds: 1, BEnableLds: 1, NumPrefetch: 1, LoopScheduler: Default, PipelineVersion: v1",
           2,
           8192,
           8192
          ],
          [
           0.0236643,
           "DeviceGemmWmma_CShuffle<64, 16, 64, 64, 8, 16, 16, 1, 2> AEnableLds: 1, BEnableLds: 1, NumPrefetch: 1, LoopScheduler: Default, PipelineVersion: v1",
           32,
           2048,
           2048
          ],
          [
           0.0366524,
           "DeviceGemmWmma_CShuffle<64, 64, 32, 64, 8, 16, 16, 4, 1> AEnableLds: 1, BEnableLds: 1, NumPrefetch: 1, LoopScheduler: Default, PipelineVersion: v1",
           256,
           2048,
           2048
          ],
          [
           0.0456766,
           "DeviceGemmWmma_CShuffle<64, 32, 64, 64, 8, 16, 16, 2, 2> AEnableLds: 1, BEnableLds: 1, NumPrefetch: 1, LoopScheduler: Default, PipelineVersion: v1",
           32,
           4096,
           4096
          ]
         ],
         "hovertemplate": "Operational Intensity (TFLOPs/GB/s)=%{x}<br>Performance (TFLOPs)=%{y}<br>time_scaled=%{marker.size}<br>Execution Time (ms)=%{customdata[0]}<br>operation=%{customdata[1]}<br>M=%{marker.color}<br>N=%{customdata[3]}<br>K=%{customdata[4]}<extra></extra>",
         "legendgroup": "",
         "marker": {
          "color": {
           "bdata": "QACAAAIAQACAAAABAgACAEAAAgAIACAAIAAEAAIAQAAIAAABAQAAASAACAAIACAACACAAEAAEABAAAABIAAQACAAIAAEAAEAAgBAAAQABAAQAAQAEAAQAIAAAQAIABAAgAAQAAIAAgAIAAABAAEEAAgAgAAAARAAgACAAEAABAAEAAEAAQCAAAEACAABABAAAQABAAABQAAEAAIAIAAAASAA",
           "dtype": "i2"
          },
          "coloraxis": "coloraxis",
          "size": {
           "bdata": "9QmJksrytD/zhakkv3SwP5QQofWz9eI/0b1T1fE5sT/WOS+voWLvPyFu/zDm5bE/mMOsaEcttj8F/kO7cC6yPzWrSBepjb4/mQ/WFTAqvj/deTlG3vDiP2fVZPGn+uM/JMr0q3n6sT8WTiQIDUTVP4jSEPcaf8M/HeqNGTQlsj8yxvrNvzmzP/h8Pn9H3LQ/in0JCjyh1T9QLOE5Zuq5P1mo2RAUnbU/HnZAmr3YuD8s26Mqmie2P0z9JK5Bq74/yV6iZ9F6tT90ifBRv42/P7b1Z0wVN9o/j8R+7Ckjyz/vShH4BwLOP2Sg4qaqcLA/2E3OnYX6sT9DdM+KRUm+P9tf3F5ICNc/hKebuk/uuD9EMgOMc8S4PwkM+wQK1rg/pUTspwe/uD+AwVG63onoP6l79ksKaLU/pQGTlpS3wz+Rh4b0N0G5P0lDVP/Tmr4/9Gqe+9ZE1T9Km6ls3/SxPxw6K5BwvdE/ICBk27QFsj9WNKsuxYO+PzNjnSynCuM/G4TXPsbYuD+I0hD3Gn/DP+ChjHBBebU/Ll7PMoDoyj9uYrS2MEHVP+7KJyRpjPY/uBCRMM5B5j/6qVE/UPfiPwMYtE0dBcs/ugTl0BpI4T8/1Zbbi5XYP3740Xv7PrM/uyTGjn7ixT8W2mr52cexP+fEfB6vBcQ/Y+Q+qK4wtj/fgQjf6+vKP64SknzZbr4/HRJQdd1twz8RqTr9uHK0PzIwdk6l/OI/UjXuArSHwz8ZCc5ifFu1PwNCXjafK7Y/BSD1qDJVtT+xVOCqC/3KPxF+T+rd6cA/iClvwMj/uD+I39wOBTSyP7THLninStU/CrCnxsSwwz9VjXCcX4HIP5lT8mU0W8s/",
           "dtype": "f8"
          },
          "sizemode": "area",
          "sizeref": 0.0035231998949818333,
          "symbol": "circle"
         },
         "mode": "markers",
         "name": "",
         "orientation": "v",
         "showlegend": false,
         "type": "scatter",
         "x": {
          "bdata": "1aLV72XYtT/+w/b23jaqP9EHbwFIYXA/utC9bGjYpT+t4S2zxSHQP8XADVvgNro/kVTUtirXbj88c4jdb8ZvP6d8hEOKIL0/tLpsAfxRcD+Jg0d0M16QPyZVyQ39UbA/1A2bpmnYpT/pAM8TNV6AP3xbrmIeWnA/g8iv9E5isD89K9UnhiCNP4GDehtq2MU/oCBhYEphYD8Z+FIzS2LQPzqr/MHoNqo/rJGNCmXGjz9AKmFe4jaKPx6X1Jwo164/mU39MSTXjj/1+1h95DbKP0yS2DrHIcA/aXcO4cdBoD+k5XXjZ8a/Pz1BmjOIIK0/lgFYZktioD+mBEe5bMafP7bF7GLKQbA/7yNcYYcgrT+scO/GxiGAP0Tp2bD7UWA/6GTTVMlBcD8xpyozykHAP9VyZ1hpxn8/ab07P/1RgD9yuJkUKdeeP6Q9h/PJQYA/ParTOP5RoD/dW139atiVP4m/UkQr184/o01pQMYhYD/pDLO9xCGQP4re8QQeWqA/61///GbYxT//Cbm/yCGgP45pfC3GIXA/qX78HzRecD+mUXbqH1qQP8AD1fNmxt8/QUyuICbX3j9ADWZEQWCAPyEFFBz8UZA/2C2w2GTGzz9QLd9kjCDdP/Sd/BDhNpo/Il5zh4ggzT/A46rpbdi1PxqR8Iwk174/MNWqQYogfT8GPL3sHVqAP9qbOB8eWmA/KH/i8jReYD9ztJEmTmLAP5sJdA/IYWA/1xE8PMtBkD9QEKpbyUFgP8mT/0uNIJ0/OiEyIG/GXz/wV9mOQmBgP3Q2GYRp2NU/3SQwgd42uj+cKrUNJtd+P3jNA8xCYHA/sM3jc2jGrz9Eu6t55TbaP7XW0zfGIbA/",
          "dtype": "f8"
         },
         "xaxis": "x",
         "y": {
          "bdata": "l8rbEU4L9D+N1Hsqpz3QP/IMGvoneAhAcO1ESUikvT9kXdxGA9xRQPZAKzBkdfs/LYBjrpDiYT8PP6SEBZyKP2NFDaZh2CJA4IYYr3lV0z+GyVTBqIQoQOF6FK5HCUZAOEnzx7Q2yz/BqKROQHMTQIF2hxQDJOc/wOldvB+32j+HGuDdJcynP7sKKT+pNhRA6StIMxbN8j9vgQTFjzEqQFkWTPxR1OI/5dAi2/l+3D+IdTYmvOuBP8Cy0qQUtBJAnuv7cJAQwz96Nqs+V6sxQPCnxks3mUlApU5AE2HjJ0A2qz5XW4lDQA0AVdy4ReA/yYqGMY42qz92cRsN4C0DQAYSFD/GlEBABHP0+L1N/D/zO01mvK3MP2X3iaguhaw/ZcQFoFG6vD9lqmBUUjdNQHNdQk8UMrM/HCWvzjGg9j/sGFdcHJXrP7MKmwEuyOI/Ns07TtFxM0BLXvgcs0ebP5eQD3o280tAJJBcSNEUez/boswGmeTyP99PjZduQjhAHvmDged+HECHM7+aAyQXQNIZGHlZE6M/63O1FftL+D8NiXssfXgjQDeJQWDlTFFAEoPAyqHBUUAVjErqBHQYQEZCW86lGBhAFvvL7slzTUBBguLHmBtNQITx07g3v7c/S8gHPZtdQkDOUrKchNLrPxsv3SQG8TVAB32GwxTdcT8S91j60EUIQObo8Xub/sI/n8w/+iZN1z+aQuc1dgkFQBEZVvFGZvg/5IOezaoPB0CcdXxqq0iTP+D1mbM+5dE//tSZ9w9UUz+NJ4I4DyfoP8iYu5aQvz5AoFT7dDwmDEDDmsqisIuaPxBdUN8yZwNAHVpkO9+vJkDdJAaBlUtNQFK4HoXrgTdA",
          "dtype": "f8"
         },
         "yaxis": "y"
        },
        {
         "line": {
          "color": "tomato",
          "width": 1
         },
         "mode": "lines",
         "name": "Theoretical Roofline",
         "opacity": 0.45,
         "type": "scatter",
         "x": [
          0.000630957344480193,
          0.0006388675383359555,
          0.0006468769008080802,
          0.0006549866751549052,
          0.0006631981202212669,
          0.0006715125106339014,
          0.0006799311369993016,
          0.0006884553061040521,
          0.0006970863411176753,
          0.0007058255817980214,
          0.0007146743846992355,
          0.0007236341233823251,
          0.0007327061886283754,
          0.0007418919886544327,
          0.000751192949332096,
          0.0007606105144088511,
          0.0007701461457321728,
          0.0007798013234764442,
          0.000789577546372717,
          0.0007994763319413523,
          0.0008094992167275812,
          0.0008196477565400122,
          0.0008299235266921351,
          0.0008403281222468491,
          0.0008508631582640581,
          0.000861530270051368,
          0.0008723311134179319,
          0.0008832673649314691,
          0.0008943407221785147,
          0.0009055529040279276,
          0.0009169056508977024,
          0.0009284007250251302,
          0.0009400399107403378,
          0.0009518250147432648,
          0.0009637578663841089,
          0.0009758403179472874,
          0.0009880742449389624,
          0.0010004615463781623,
          0.0010130041450915617,
          0.0010257039880119522,
          0.0010385630464804566,
          0.001051583316552531,
          0.0010647668193078067,
          0.0010781156011638086,
          0.0010916317341936148,
          0.0011053173164474951,
          0.0011191744722785807,
          0.001133205352672623,
          0.001147412135581875,
          0.0011617970262631687,
          0.0011763622576202283,
          0.0011911100905502726,
          0.0012060428142949638,
          0.0012211627467957602,
          0.001236472235053715,
          0.0012519736554937931,
          0.0012676694143337543,
          0.0012835619479576574,
          0.0012996537232940546,
          0.0013159472381989153,
          0.0013324450218433616,
          0.0013491496351062593,
          0.0013660636709717311,
          0.0013831897549316588,
          0.0014005305453932196,
          0.0014180887340915444,
          0.0014358670465075415,
          0.001453868242290963,
          0.0014720951156887703,
          0.001490550495978879,
          0.0015092372479093273,
          0.001528158272142963,
          0.0015473165057077,
          0.0015667149224524203,
          0.0015863565335085897,
          0.001606244387757669,
          0.0016263815723043691,
          0.0016467712129558556,
          0.0016674164747069512,
          0.001688320562231424,
          0.0017094867203794406,
          0.0017309182346812405,
          0.0017526184318571408,
          0.0017745906803339276,
          0.0017968383907677192,
          0.001819365016573396,
          0.001842174054460647,
          0.0018652690449767564,
          0.001888653573056185,
          0.0019123312685770438,
          0.001936305806924549,
          0.0019605809095615268,
          0.0019851603446060864,
          0.002010047927416527,
          0.002035247521183576,
          0.002060763037530065,
          0.0020865984371181024,
          0.0021127577302638744,
          0.0021392449775601494,
          0.002166064290506586,
          0.0021932198321479423,
          0.002220715817720286,
          0.0022485565153053137,
          0.0022767462464928566,
          0.0023052893870517083,
          0.0023341903676088547,
          0.0023634536743372186,
          0.0023930838496520387,
          0.0024230854929159534,
          0.002453463261152951,
          0.0024842218697712555,
          0.0025153660932952762,
          0.002546900766106747,
          0.0025788307831951314,
          0.0026111611009174596,
          0.00264389673776768,
          0.002677042775155656,
          0.0027106043581959405,
          0.002744586696506415,
          0.0027789950650169643,
          0.0028138348047882815,
          0.0028491113238409316,
          0.0028848300979948268,
          0.0029209966717191993,
          0.0029576166589932533,
          0.0029946957441775984,
          0.0030322396828966016,
          0.0030702543029318278,
          0.0031087455051266215,
          0.0031477192643021177,
          0.003187181630184649,
          0.003227138728344835,
          0.0032675967611484258,
          0.003308562008719064,
          0.003350040829913133,
          0.0033920396633067965,
          0.003434565028195443,
          0.003477623525605645,
          0.003521221839319801,
          0.003565366736913648,
          0.00361006507080674,
          0.003655323779326131,
          0.0037011498877833806,
          0.0037475505095650587,
          0.0037945328472369384,
          0.003842104193661997,
          0.003890271933132471,
          0.003939043542516084,
          0.0039884265924166416,
          0.004038428748349203,
          0.0040890577719299385,
          0.004140321522080949,
          0.004192227956250167,
          0.004244785131646552,
          0.0042980012064907985,
          0.004351884441281653,
          0.004406443200078215,
          0.004461685951798207,
          0.004517621271532588,
          0.004574257841876624,
          0.004631604454277644,
          0.0046896700103997175,
          0.004748463523505391,
          0.004807994119854798,
          0.0048682710401222835,
          0.004929303640830789,
          0.004991101395804241,
          0.005053673897638107,
          0.005117030859188427,
          0.0051811821150794975,
          0.005246137623230447,
          0.005311907466400985,
          0.005378501853756472,
          0.0054459311224526645,
          0.005514205739240302,
          0.0055833363020898075,
          0.005653333541836388,
          0.005724208323845703,
          0.005795971649700466,
          0.005868634658908172,
          0.0059422086306302226,
          0.0060167049854327765,
          0.0060921352870594424,
          0.006168511244226359,
          0.006245844712439618,
          0.006324147695835562,
          0.006403432349044171,
          0.0064837109790756905,
          0.006564996047231092,
          0.0066473001710363145,
          0.006730636126200849,
          0.006815016848600892,
          0.006900455436287239,
          0.006986965151518543,
          0.007074559422819878,
          0.007163251847067224,
          0.007253056191598043,
          0.007343986396348318,
          0.007436056576016424,
          0.0075292810222540064,
          0.007623674205884523,
          0.007719250779149398,
          0.007816025577982458,
          0.007914013624312877,
          0.008013230128396887,
          0.0081136904911789,
          0.008215410306682047,
          0.008318405364428804,
          0.00842269165189196,
          0.008528285356976192,
          0.008635202870530961,
          0.008743460788894696,
          0.00885307591647101,
          0.008964065268337207,
          0.009076446072885356,
          0.009190235774496715,
          0.009305452036249436,
          0.00942211274266037,
          0.009540236002461237,
          0.009659840151409462,
          0.009780943755134493,
          0.009903565612019544,
          0.010027724756119651,
          0.010153440460116217,
          0.010280732238308653,
          0.010409619849643463,
          0.010540123300781362,
          0.010672262849202826,
          0.010806059006352547,
          0.010941532540823369,
          0.011078704481580074,
          0.011217596121223632,
          0.011358229019296368,
          0.011500625005628533,
          0.01164480618372686,
          0.011790794934205621,
          0.011938613918260623,
          0.01208828608118686,
          0.012239834655940163,
          0.012393283166743577,
          0.01254865543273893,
          0.012705975571684151,
          0.012865268003696969,
          0.01302655745504557,
          0.013189868961986699,
          0.01335522787465198,
          0.013522659860982866,
          0.013692190910714969,
          0.013863847339412367,
          0.014037655792552403,
          0.014213643249661775,
          0.014391837028504464,
          0.014572264789322102,
          0.014754954539127618,
          0.014939934636052577,
          0.015127233793749124,
          0.015316881085847096,
          0.01550890595046695,
          0.015703338194789335,
          0.015900207999681955,
          0.01609954592438437,
          0.01630138291125159,
          0.01650575029055715,
          0.016712679785356316,
          0.016922203516410373,
          0.017134354007172545,
          0.01734916418883649,
          0.017566667405448076,
          0.017786897419081207,
          0.018009888415078567,
          0.01823567500735809,
          0.01846429224378588,
          0.018695775611616592,
          0.018930161043001905,
          0.019167484920568148,
          0.01940778408306384,
          0.01965109583107795,
          0.019897457932829925,
          0.02014690863003233,
          0.020399486643826865,
          0.020655231180794962,
          0.020914181939043573,
          0.021176379114367375,
          0.021441863406488206,
          0.02171067602537266,
          0.021982858697628938,
          0.022258453672983944,
          0.022537503730841426,
          0.02282005218692255,
          0.02310614289998951,
          0.023395820278653567,
          0.023689129288268457,
          0.02398611545791008,
          0.02428682488744382,
          0.02459130425468045,
          0.024899600822621683,
          0.025211762446796602,
          0.025527837582690123,
          0.025847875293264436,
          0.02617192525657493,
          0.026500037773481422,
          0.026832263775456163,
          0.027168654832489772,
          0.027509263161096108,
          0.027854141632417676,
          0.028203343780432617,
          0.028556923810264454,
          0.028914936606596237,
          0.029277437742189938,
          0.02964448348651283,
          0.03001613081447198,
          0.03039243741525813,
          0.030773461701300586,
          0.031159262817334363,
          0.03154990064958087,
          0.03194543583504389,
          0.03234592977092191,
          0.03275144462413857,
          0.03316204334099262,
          0.03357778965692869,
          0.033998748106430735,
          0.034424984033039466,
          0.03485656359949527,
          0.03529355379800839,
          0.035736022460657886,
          0.036184038269920796,
          0.03663767076933357,
          0.03709699037428688,
          0.037562068382955914,
          0.03803297698736778,
          0.03850978928460743,
          0.03899257928816425,
          0.03948142193942092,
          0.039976393119286094,
          0.04047756965997322,
          0.04098502935692674,
          0.04149885098089798,
          0.04201911429017245,
          0.04254590004295028,
          0.043079290009882,
          0.04361936698676149,
          0.0441662148073779,
          0.04471991835652895,
          0.04528056358319707,
          0.04584823751389096,
          0.04642302826615441,
          0.047005025062244236,
          0.04759431824297997,
          0.04819099928176712,
          0.048795160798796006,
          0.049406896575419,
          0.05002630156870764,
          0.05065347192619242,
          0.05128850500078749,
          0.05193149936590215,
          0.052582554830742,
          0.05324177245580205,
          0.05390925456855366,
          0.05458510477932853,
          0.055269427997401706,
          0.05596233044727604,
          0.05666391968517116,
          0.057374304615718755,
          0.05809359550886744,
          0.05882190401699959,
          0.05955934319226244,
          0.06030602750411683,
          0.061062072857105784,
          0.06182759660884577,
          0.06260271758824378,
          0.06338755611394237,
          0.06418223401299651,
          0.064986874639784,
          0.06580160289515334,
          0.06662654524581156,
          0.067461829743955,
          0.06830758604714654,
          0.06916394543844144,
          0.07003104084676602,
          0.07090900686755164,
          0.07179797978362724,
          0.07269809758637426,
          0.07360949999714594,
          0.07453232848895605,
          0.07546672630843894,
          0.07641283849808517,
          0.07737081191875567,
          0.07834079527247872,
          0.07932293912553177,
          0.08031739593181354,
          0.08132432005650865,
          0.08234386780004901,
          0.08337619742237598,
          0.08442146916750583,
          0.08547984528840413,
          0.08655149007217142,
          0.08763656986554479,
          0.08873525310071906,
          0.08984771032149219,
          0.09097411420973744,
          0.09211463961220842,
          0.09326946356767969,
          0.09443876533442759,
          0.09562272641805616,
          0.09682153059967086,
          0.09803536396440646,
          0.09926441493031216,
          0.10050887427759882,
          0.10176893517825328,
          0.10304479322602306,
          0.10433664646677787,
          0.1056446954292514,
          0.10696914315616836,
          0.10831019523576196,
          0.10966805983368685,
          0.11104294772533109,
          0.11243507232853432,
          0.11384464973671567,
          0.11527189875241675,
          0.11671704092126593,
          0.11818030056636727,
          0.11966190482312156,
          0.12116208367448351,
          0.122681069986661,
          0.12421909954526174,
          0.12577641109189375,
          0.1273532463612234,
          0.12894985011849935,
          0.13056647019754633,
          0.132203357539235,
          0.13386076623043514,
          0.13553895354345544,
          0.13723817997597945,
          0.13895870929150134,
          0.1407008085602685,
          0.1424647482007384,
          0.14425080202155355,
          0.14605924726404412,
          0.1478903646452629,
          0.14974443840155965,
          0.15162175633270183,
          0.15352260984654897,
          0.1554472940042859,
          0.15739610756622424,
          0.15936935303817762,
          0.16136733671841813,
          0.16339036874522236,
          0.16543876314501174,
          0.16751283788109825,
          0.16961291490304026,
          0.17173932019661728,
          0.17389238383443126,
          0.176072440027143,
          0.17827982717534907,
          0.180514887922111,
          0.18277796920614217,
          0.18506942231566123,
          0.187389602942922,
          0.18973887123942473,
          0.19211759187182162,
          0.19452613407852234,
          0.19696487172700902,
          0.1994341833718708,
          0.20193445231356422,
          0.20446606665791178,
          0.20702941937634597,
          0.20962490836690836,
          0.21225293651601346,
          0.21491391176098773,
          0.21760824715339078,
          0.22033636092313233,
          0.22309867654339202,
          0.22589562279635306,
          0.22872763383976114,
          0.23159514927431546,
          0.23449861421190693,
          0.23743847934471077,
          0.24041520101514519,
          0.24342924128670843,
          0.2464810680157013,
          0.24957115492385165,
          0.2526999816718477,
          0.2558680339337937,
          0.25907580347259884,
          0.26232378821631236,
          0.2656124923354133,
          0.2689424263210716,
          0.2723141070643894,
          0.2757280579366351,
          0.27918480887048547,
          0.28268489644228306,
          0.2862288639553275,
          0.28981726152420995,
          0.2934506461602052,
          0.2971295818577334,
          0.3008546396819079,
          0.3046263978571773,
          0.308445441857082,
          0.3123123644951343,
          0.31622776601683794
         ],
         "y": [
          0.6057190507009853,
          0.6133128368025172,
          0.6210018247757569,
          0.6287872081487089,
          0.6366701954124162,
          0.6446520102085453,
          0.6527338915193295,
          0.66091709385989,
          0.6692028874729683,
          0.6775925585261006,
          0.686087409311266,
          0.694688758447032,
          0.7033979410832404,
          0.7122163091082554,
          0.7211452313588121,
          0.7301860938324971,
          0.739340299902886,
          0.7486092705373865,
          0.7579944445178083,
          0.7674972786636982,
          0.7771192480584779,
          0.7868618462784117,
          0.7967265856244496,
          0.8067149973569752,
          0.8168286319334958,
          0.8270690592493133,
          0.8374378688812146,
          0.8479366703342104,
          0.858567093291374,
          0.8693307878668105,
          0.8802294248617942,
          0.8912646960241251,
          0.9024383143107243,
          0.9137520141535341,
          0.9252075517287445,
          0.9368067052293959,
          0.9485512751414039,
          0.9604430845230358,
          0.9724839792878992,
          0.9846758284914741,
          0.9970205246212384,
          1.0095199838904296,
          1.0221761465354944,
          1.0349909771172563,
          1.0479664648258702,
          1.0611046237895954,
          1.0744074933874375,
          1.0878771385657182,
          1.1015156501585999,
          1.115325145212642,
          1.1293077673154193,
          1.1434656869282618,
          1.1578011017231653,
          1.1723162369239297,
          1.1870133456515664,
          1.2018947092740413,
          1.2169626377604041,
          1.2322194700393512,
          1.2476675743622925,
          1.2633093486709586,
          1.279147220969627,
          1.2951836497020088,
          1.311421124132862,
          1.3278621647343924,
          1.3445093235774908,
          1.3613651847278825,
          1.3784323646472398,
          1.3957135125993245,
          1.4132113110612194,
          1.4309284761397238,
          1.448867757992954,
          1.4670319412572446,
          1.485423845479392,
          1.5040463255543235,
          1.5229022721682461,
          1.5419946122473622,
          1.5613263094121943,
          1.5809003644376214,
          1.600719815718673,
          1.620787739742167,
          1.641107251564263,
          1.6616815052939908,
          1.6825136945828552,
          1.7036070531205705,
          1.7249648551370105,
          1.7465904159104602,
          1.7684870922822211,
          1.790658283177686,
          1.8131074301339376,
          1.8358380178339622,
          1.8588535746475672,
          1.8821576731790657,
          1.905753930821843,
          1.9296460103198658,
          1.9538376203362329,
          1.9783325160288625,
          2.0031344996333784,
          2.0282474210533192,
          2.0536751784577434,
          2.0794217188863224,
          2.1054910388620245,
          2.1318871850114745,
          2.1586142546931013,
          2.1856763966331423,
          2.21307781156964,
          2.2408227529045006,
          2.26891552736373,
          2.297360495665957,
          2.326162073199315,
          2.3553247307068332,
          2.384852994980405,
          2.414751449563465,
          2.4450247354624772,
          2.475677551867326,
          2.506714656880761,
          2.538140868256973,
          2.56996106414943,
          2.6021801838681027,
          2.6348032286461582,
          2.6678352624162858,
          2.7012814125967504,
          2.735146870887294,
          2.769436894075034,
          2.8041568048504315,
          2.8393119926335233,
          2.8749079144104943,
          2.9109500955807377,
          2.9474441308145547,
          2.9843956849215565,
          3.021810493730033,
          3.059694364977263,
          3.0980531792110417,
          3.1368928907024887,
          3.1762195283703014,
          3.2160391967166078,
          3.2563580767745246,
          3.297182427067625,
          3.3385185845814194,
          3.380372965747009,
          3.422752067437102,
          3.4656624679744703,
          3.5091108281530854,
          3.5531038922720453,
          3.5976484891824563,
          3.642751533347461,
          3.688420025915517,
          3.7346610558071722,
          3.7814818008154405,
          3.828889528719976,
          3.876891598415235,
          3.925495461052741,
          3.9747086611977114,
          4.0245388380001605,
          4.07499372638069,
          4.126081158231167,
          4.177809063630387,
          4.230185472075086,
          4.283218513726279,
          4.336916420671285,
          4.391287528201559,
          4.446340276106539,
          4.502083209983729,
          4.558524982565175,
          4.615674355060606,
          4.673540198517392,
          4.7321314951975575,
          4.791457339972071,
          4.851526941732582,
          4.91234962482089,
          4.973934830476318,
          5.036292118301229,
          5.099431167744946,
          5.163361779606213,
          5.228093877554558,
          5.29363750967069,
          5.360002850006215,
          5.4272002001629325,
          5.495239990891874,
          5.564132783712447,
          5.633889272551845,
          5.704520285405014,
          5.7760367860154656,
          5.848449875577065,
          5.921770794457305,
          5.996010923942033,
          6.07118178800214,
          6.147295055082404,
          6.224362539912663,
          6.302396205341848,
          6.381408164194862,
          6.461410681152815,
          6.542416174656856,
          6.624437218835749,
          6.707486545457801,
          6.791577045907083,
          6.876721773184535,
          6.962933943934122,
          7.050226940494386,
          7.138614312975767,
          7.228109781363846,
          7.318727237649142,
          7.4104807479834225,
          7.5033845548631595,
          7.597453079340362,
          7.692700923261011,
          7.789142871531744,
          7.886793894414765,
          7.985669149851652,
          8.085783985816281,
          8.187153942697144,
          8.289794755709723,
          8.393722357338907,
          8.49895287981217,
          8.605502657603719,
          8.713388229969942,
          8.822626343516847,
          8.933233954799459,
          9.045228232953956,
          9.158626562362787,
          9.273446545353083,
          9.389706004929113,
          9.507422987538762,
          9.626615765874865,
          9.74730284171157,
          9.869502948776306,
          9.993235055657724,
          10.118518368750108,
          10.245372335234713,
          10.373816646098446,
          10.503871239190435,
          10.635556302316871,
          10.768892276374686,
          10.903899858524513,
          11.040600005403391,
          11.179013936377785,
          11.319163136837396,
          11.461069361530198,
          11.604754637939385,
          11.750241269702556,
          11.897551840073834,
          12.046709215429374,
          12.197736548816785,
          12.35065728354909,
          12.505495156843747,
          12.66227420350723,
          12.8210187596659,
          12.981753466543552,
          13.14450327428637,
          13.309293445835872,
          13.476149560850308,
          13.645097519675303,
          13.816163547364285,
          13.989374197749218,
          14.164756357562514,
          14.342337250610473,
          14.52214444199916,
          14.704205842413213,
          14.888549712448272,
          15.075204666997761,
          15.264199679694677,
          15.455564087408996,
          15.649327594801527,
          15.845520278934865,
          16.044172593942065,
          16.245315375753957,
          16.448979846885642,
          16.65519762128303,
          16.86400070923015,
          17.07542152231796,
          17.289492878475425,
          17.506248007063768,
          17.725720554034446,
          17.947944587151927,
          18.17295460128183,
          18.400785523745423,
          18.63147271974129,
          18.865051997834833,
          19.101559615516727,
          19.341032284831037,
          19.58350717807379,
          19.829021933563162,
          20.077614661481828,
          20.32932394979268,
          20.58418887022868,
          20.842248984357752,
          21.10354434972378,
          21.368115526064585,
          21.63600358160777,
          21.907250099445648,
          22.18189718398993,
          22.459987467507425,
          22.74156411673772,
          23.026670839593677,
          23.315351891946065,
          23.607652084493232,
          23.903616789716818,
          24.203291948924736,
          24.50672407938252,
          24.81396028153386,
          25.125048246311934,
          25.440036262542165,
          25.758973224437916,
          26.081908639190182,
          26.408892634652265,
          26.73997596712097,
          27.075210029215313,
          27.414646857853874,
          27.75833914233239,
          28.10634023250234,
          28.458704147052316,
          28.815485581893103,
          29.176739918647804,
          29.542523233248563,
          29.912892304640987,
          30.287904623597633,
          30.667618401642134,
          31.052092580085034,
          31.441386839173028,
          31.835561607352915,
          32.23467807065154,
          32.6387981821735,
          33.047984671717884,
          33.46230105551546,
          33.88181164608805,
          34.30658156223157,
          34.736676739123965,
          35.17216393856023,
          35.613110759315404,
          36.059585647637675,
          36.51165790787307,
          36.96939771322313,
          37.43287611663768,
          37.90216506184408,
          38.37733739451465,
          38.858466873574294,
          39.34562818264967,
          39.83889694166206,
          40.33834971856555,
          40.84406404123227,
          41.35611840948672,
          41.87459230729103,
          42.399566215082785,
          42.93112162226779,
          43.469341039869185,
          44.01430801333532,
          44.56610713550823,
          45.12482405975447,
          45.69054551326077,
          46.26335931049644,
          46.84335436684417,
          47.430620712402245,
          48.02524950595933,
          48.627333049144724,
          49.23696480075599,
          49.85423939126606,
          50.47925263751232,
          51.112101557569964,
          51.75288438581151,
          52.401700588155386,
          53.058650877505634,
          53.723837229385,
          54.39736289776432,
          55.07933243109,
          55.769851688512745,
          56.469027856319606,
          57.17696946457195,
          57.893786403952156,
          58.619589942821555,
          59.35449274449194,
          60.098608884714025,
          60.852053869384676,
          61.44,
          61.44,
          61.44,
          61.44,
          61.44,
          61.44,
          61.44,
          61.44,
          61.44,
          61.44,
          61.44,
          61.44,
          61.44,
          61.44,
          61.44,
          61.44,
          61.44,
          61.44,
          61.44,
          61.44,
          61.44,
          61.44,
          61.44,
          61.44,
          61.44,
          61.44,
          61.44,
          61.44,
          61.44,
          61.44,
          61.44,
          61.44,
          61.44,
          61.44,
          61.44,
          61.44,
          61.44,
          61.44,
          61.44,
          61.44,
          61.44,
          61.44,
          61.44,
          61.44,
          61.44,
          61.44,
          61.44,
          61.44,
          61.44,
          61.44,
          61.44,
          61.44,
          61.44,
          61.44,
          61.44,
          61.44,
          61.44,
          61.44,
          61.44,
          61.44,
          61.44,
          61.44,
          61.44,
          61.44,
          61.44,
          61.44,
          61.44,
          61.44,
          61.44,
          61.44,
          61.44,
          61.44,
          61.44,
          61.44,
          61.44,
          61.44,
          61.44,
          61.44,
          61.44,
          61.44,
          61.44,
          61.44,
          61.44,
          61.44,
          61.44,
          61.44,
          61.44,
          61.44,
          61.44,
          61.44,
          61.44,
          61.44,
          61.44,
          61.44,
          61.44,
          61.44,
          61.44,
          61.44,
          61.44,
          61.44,
          61.44,
          61.44,
          61.44,
          61.44,
          61.44,
          61.44,
          61.44,
          61.44,
          61.44,
          61.44,
          61.44,
          61.44,
          61.44,
          61.44,
          61.44,
          61.44,
          61.44,
          61.44,
          61.44,
          61.44,
          61.44,
          61.44,
          61.44,
          61.44,
          61.44,
          61.44,
          61.44,
          61.44,
          61.44
         ]
        }
       ],
       "layout": {
        "coloraxis": {
         "colorbar": {
          "title": {
           "text": "M"
          }
         },
         "colorscale": [
          [
           0,
           "#0d0887"
          ],
          [
           0.1111111111111111,
           "#46039f"
          ],
          [
           0.2222222222222222,
           "#7201a8"
          ],
          [
           0.3333333333333333,
           "#9c179e"
          ],
          [
           0.4444444444444444,
           "#bd3786"
          ],
          [
           0.5555555555555556,
           "#d8576b"
          ],
          [
           0.6666666666666666,
           "#ed7953"
          ],
          [
           0.7777777777777778,
           "#fb9f3a"
          ],
          [
           0.8888888888888888,
           "#fdca26"
          ],
          [
           1,
           "#f0f921"
          ]
         ]
        },
        "legend": {
         "itemsizing": "constant",
         "orientation": "h",
         "tracegroupgap": 0,
         "y": 1.02,
         "yanchor": "bottom"
        },
        "template": {
         "data": {
          "bar": [
           {
            "error_x": {
             "color": "#2a3f5f"
            },
            "error_y": {
             "color": "#2a3f5f"
            },
            "marker": {
             "line": {
              "color": "#E5ECF6",
              "width": 0.5
             },
             "pattern": {
              "fillmode": "overlay",
              "size": 10,
              "solidity": 0.2
             }
            },
            "type": "bar"
           }
          ],
          "barpolar": [
           {
            "marker": {
             "line": {
              "color": "#E5ECF6",
              "width": 0.5
             },
             "pattern": {
              "fillmode": "overlay",
              "size": 10,
              "solidity": 0.2
             }
            },
            "type": "barpolar"
           }
          ],
          "carpet": [
           {
            "aaxis": {
             "endlinecolor": "#2a3f5f",
             "gridcolor": "white",
             "linecolor": "white",
             "minorgridcolor": "white",
             "startlinecolor": "#2a3f5f"
            },
            "baxis": {
             "endlinecolor": "#2a3f5f",
             "gridcolor": "white",
             "linecolor": "white",
             "minorgridcolor": "white",
             "startlinecolor": "#2a3f5f"
            },
            "type": "carpet"
           }
          ],
          "choropleth": [
           {
            "colorbar": {
             "outlinewidth": 0,
             "ticks": ""
            },
            "type": "choropleth"
           }
          ],
          "contour": [
           {
            "colorbar": {
             "outlinewidth": 0,
             "ticks": ""
            },
            "colorscale": [
             [
              0,
              "#0d0887"
             ],
             [
              0.1111111111111111,
              "#46039f"
             ],
             [
              0.2222222222222222,
              "#7201a8"
             ],
             [
              0.3333333333333333,
              "#9c179e"
             ],
             [
              0.4444444444444444,
              "#bd3786"
             ],
             [
              0.5555555555555556,
              "#d8576b"
             ],
             [
              0.6666666666666666,
              "#ed7953"
             ],
             [
              0.7777777777777778,
              "#fb9f3a"
             ],
             [
              0.8888888888888888,
              "#fdca26"
             ],
             [
              1,
              "#f0f921"
             ]
            ],
            "type": "contour"
           }
          ],
          "contourcarpet": [
           {
            "colorbar": {
             "outlinewidth": 0,
             "ticks": ""
            },
            "type": "contourcarpet"
           }
          ],
          "heatmap": [
           {
            "colorbar": {
             "outlinewidth": 0,
             "ticks": ""
            },
            "colorscale": [
             [
              0,
              "#0d0887"
             ],
             [
              0.1111111111111111,
              "#46039f"
             ],
             [
              0.2222222222222222,
              "#7201a8"
             ],
             [
              0.3333333333333333,
              "#9c179e"
             ],
             [
              0.4444444444444444,
              "#bd3786"
             ],
             [
              0.5555555555555556,
              "#d8576b"
             ],
             [
              0.6666666666666666,
              "#ed7953"
             ],
             [
              0.7777777777777778,
              "#fb9f3a"
             ],
             [
              0.8888888888888888,
              "#fdca26"
             ],
             [
              1,
              "#f0f921"
             ]
            ],
            "type": "heatmap"
           }
          ],
          "histogram": [
           {
            "marker": {
             "pattern": {
              "fillmode": "overlay",
              "size": 10,
              "solidity": 0.2
             }
            },
            "type": "histogram"
           }
          ],
          "histogram2d": [
           {
            "colorbar": {
             "outlinewidth": 0,
             "ticks": ""
            },
            "colorscale": [
             [
              0,
              "#0d0887"
             ],
             [
              0.1111111111111111,
              "#46039f"
             ],
             [
              0.2222222222222222,
              "#7201a8"
             ],
             [
              0.3333333333333333,
              "#9c179e"
             ],
             [
              0.4444444444444444,
              "#bd3786"
             ],
             [
              0.5555555555555556,
              "#d8576b"
             ],
             [
              0.6666666666666666,
              "#ed7953"
             ],
             [
              0.7777777777777778,
              "#fb9f3a"
             ],
             [
              0.8888888888888888,
              "#fdca26"
             ],
             [
              1,
              "#f0f921"
             ]
            ],
            "type": "histogram2d"
           }
          ],
          "histogram2dcontour": [
           {
            "colorbar": {
             "outlinewidth": 0,
             "ticks": ""
            },
            "colorscale": [
             [
              0,
              "#0d0887"
             ],
             [
              0.1111111111111111,
              "#46039f"
             ],
             [
              0.2222222222222222,
              "#7201a8"
             ],
             [
              0.3333333333333333,
              "#9c179e"
             ],
             [
              0.4444444444444444,
              "#bd3786"
             ],
             [
              0.5555555555555556,
              "#d8576b"
             ],
             [
              0.6666666666666666,
              "#ed7953"
             ],
             [
              0.7777777777777778,
              "#fb9f3a"
             ],
             [
              0.8888888888888888,
              "#fdca26"
             ],
             [
              1,
              "#f0f921"
             ]
            ],
            "type": "histogram2dcontour"
           }
          ],
          "mesh3d": [
           {
            "colorbar": {
             "outlinewidth": 0,
             "ticks": ""
            },
            "type": "mesh3d"
           }
          ],
          "parcoords": [
           {
            "line": {
             "colorbar": {
              "outlinewidth": 0,
              "ticks": ""
             }
            },
            "type": "parcoords"
           }
          ],
          "pie": [
           {
            "automargin": true,
            "type": "pie"
           }
          ],
          "scatter": [
           {
            "fillpattern": {
             "fillmode": "overlay",
             "size": 10,
             "solidity": 0.2
            },
            "type": "scatter"
           }
          ],
          "scatter3d": [
           {
            "line": {
             "colorbar": {
              "outlinewidth": 0,
              "ticks": ""
             }
            },
            "marker": {
             "colorbar": {
              "outlinewidth": 0,
              "ticks": ""
             }
            },
            "type": "scatter3d"
           }
          ],
          "scattercarpet": [
           {
            "marker": {
             "colorbar": {
              "outlinewidth": 0,
              "ticks": ""
             }
            },
            "type": "scattercarpet"
           }
          ],
          "scattergeo": [
           {
            "marker": {
             "colorbar": {
              "outlinewidth": 0,
              "ticks": ""
             }
            },
            "type": "scattergeo"
           }
          ],
          "scattergl": [
           {
            "marker": {
             "colorbar": {
              "outlinewidth": 0,
              "ticks": ""
             }
            },
            "type": "scattergl"
           }
          ],
          "scattermap": [
           {
            "marker": {
             "colorbar": {
              "outlinewidth": 0,
              "ticks": ""
             }
            },
            "type": "scattermap"
           }
          ],
          "scattermapbox": [
           {
            "marker": {
             "colorbar": {
              "outlinewidth": 0,
              "ticks": ""
             }
            },
            "type": "scattermapbox"
           }
          ],
          "scatterpolar": [
           {
            "marker": {
             "colorbar": {
              "outlinewidth": 0,
              "ticks": ""
             }
            },
            "type": "scatterpolar"
           }
          ],
          "scatterpolargl": [
           {
            "marker": {
             "colorbar": {
              "outlinewidth": 0,
              "ticks": ""
             }
            },
            "type": "scatterpolargl"
           }
          ],
          "scatterternary": [
           {
            "marker": {
             "colorbar": {
              "outlinewidth": 0,
              "ticks": ""
             }
            },
            "type": "scatterternary"
           }
          ],
          "surface": [
           {
            "colorbar": {
             "outlinewidth": 0,
             "ticks": ""
            },
            "colorscale": [
             [
              0,
              "#0d0887"
             ],
             [
              0.1111111111111111,
              "#46039f"
             ],
             [
              0.2222222222222222,
              "#7201a8"
             ],
             [
              0.3333333333333333,
              "#9c179e"
             ],
             [
              0.4444444444444444,
              "#bd3786"
             ],
             [
              0.5555555555555556,
              "#d8576b"
             ],
             [
              0.6666666666666666,
              "#ed7953"
             ],
             [
              0.7777777777777778,
              "#fb9f3a"
             ],
             [
              0.8888888888888888,
              "#fdca26"
             ],
             [
              1,
              "#f0f921"
             ]
            ],
            "type": "surface"
           }
          ],
          "table": [
           {
            "cells": {
             "fill": {
              "color": "#EBF0F8"
             },
             "line": {
              "color": "white"
             }
            },
            "header": {
             "fill": {
              "color": "#C8D4E3"
             },
             "line": {
              "color": "white"
             }
            },
            "type": "table"
           }
          ]
         },
         "layout": {
          "annotationdefaults": {
           "arrowcolor": "#2a3f5f",
           "arrowhead": 0,
           "arrowwidth": 1
          },
          "autotypenumbers": "strict",
          "coloraxis": {
           "colorbar": {
            "outlinewidth": 0,
            "ticks": ""
           }
          },
          "colorscale": {
           "diverging": [
            [
             0,
             "#8e0152"
            ],
            [
             0.1,
             "#c51b7d"
            ],
            [
             0.2,
             "#de77ae"
            ],
            [
             0.3,
             "#f1b6da"
            ],
            [
             0.4,
             "#fde0ef"
            ],
            [
             0.5,
             "#f7f7f7"
            ],
            [
             0.6,
             "#e6f5d0"
            ],
            [
             0.7,
             "#b8e186"
            ],
            [
             0.8,
             "#7fbc41"
            ],
            [
             0.9,
             "#4d9221"
            ],
            [
             1,
             "#276419"
            ]
           ],
           "sequential": [
            [
             0,
             "#0d0887"
            ],
            [
             0.1111111111111111,
             "#46039f"
            ],
            [
             0.2222222222222222,
             "#7201a8"
            ],
            [
             0.3333333333333333,
             "#9c179e"
            ],
            [
             0.4444444444444444,
             "#bd3786"
            ],
            [
             0.5555555555555556,
             "#d8576b"
            ],
            [
             0.6666666666666666,
             "#ed7953"
            ],
            [
             0.7777777777777778,
             "#fb9f3a"
            ],
            [
             0.8888888888888888,
             "#fdca26"
            ],
            [
             1,
             "#f0f921"
            ]
           ],
           "sequentialminus": [
            [
             0,
             "#0d0887"
            ],
            [
             0.1111111111111111,
             "#46039f"
            ],
            [
             0.2222222222222222,
             "#7201a8"
            ],
            [
             0.3333333333333333,
             "#9c179e"
            ],
            [
             0.4444444444444444,
             "#bd3786"
            ],
            [
             0.5555555555555556,
             "#d8576b"
            ],
            [
             0.6666666666666666,
             "#ed7953"
            ],
            [
             0.7777777777777778,
             "#fb9f3a"
            ],
            [
             0.8888888888888888,
             "#fdca26"
            ],
            [
             1,
             "#f0f921"
            ]
           ]
          },
          "colorway": [
           "#636efa",
           "#EF553B",
           "#00cc96",
           "#ab63fa",
           "#FFA15A",
           "#19d3f3",
           "#FF6692",
           "#B6E880",
           "#FF97FF",
           "#FECB52"
          ],
          "font": {
           "color": "#2a3f5f"
          },
          "geo": {
           "bgcolor": "white",
           "lakecolor": "white",
           "landcolor": "#E5ECF6",
           "showlakes": true,
           "showland": true,
           "subunitcolor": "white"
          },
          "hoverlabel": {
           "align": "left"
          },
          "hovermode": "closest",
          "mapbox": {
           "style": "light"
          },
          "paper_bgcolor": "white",
          "plot_bgcolor": "#E5ECF6",
          "polar": {
           "angularaxis": {
            "gridcolor": "white",
            "linecolor": "white",
            "ticks": ""
           },
           "bgcolor": "#E5ECF6",
           "radialaxis": {
            "gridcolor": "white",
            "linecolor": "white",
            "ticks": ""
           }
          },
          "scene": {
           "xaxis": {
            "backgroundcolor": "#E5ECF6",
            "gridcolor": "white",
            "gridwidth": 2,
            "linecolor": "white",
            "showbackground": true,
            "ticks": "",
            "zerolinecolor": "white"
           },
           "yaxis": {
            "backgroundcolor": "#E5ECF6",
            "gridcolor": "white",
            "gridwidth": 2,
            "linecolor": "white",
            "showbackground": true,
            "ticks": "",
            "zerolinecolor": "white"
           },
           "zaxis": {
            "backgroundcolor": "#E5ECF6",
            "gridcolor": "white",
            "gridwidth": 2,
            "linecolor": "white",
            "showbackground": true,
            "ticks": "",
            "zerolinecolor": "white"
           }
          },
          "shapedefaults": {
           "line": {
            "color": "#2a3f5f"
           }
          },
          "ternary": {
           "aaxis": {
            "gridcolor": "white",
            "linecolor": "white",
            "ticks": ""
           },
           "baxis": {
            "gridcolor": "white",
            "linecolor": "white",
            "ticks": ""
           },
           "bgcolor": "#E5ECF6",
           "caxis": {
            "gridcolor": "white",
            "linecolor": "white",
            "ticks": ""
           }
          },
          "title": {
           "x": 0.05
          },
          "xaxis": {
           "automargin": true,
           "gridcolor": "white",
           "linecolor": "white",
           "ticks": "",
           "title": {
            "standoff": 15
           },
           "zerolinecolor": "white",
           "zerolinewidth": 2
          },
          "yaxis": {
           "automargin": true,
           "gridcolor": "white",
           "linecolor": "white",
           "ticks": "",
           "title": {
            "standoff": 15
           },
           "zerolinecolor": "white",
           "zerolinewidth": 2
          }
         }
        },
        "title": {
         "text": "AMD RX 7900 XTX Roofline Analysis"
        },
        "xaxis": {
         "anchor": "y",
         "domain": [
          0,
          1
         ],
         "title": {
          "text": "Operational Intensity (TFLOPs/GB/s)"
         },
         "type": "log"
        },
        "yaxis": {
         "anchor": "x",
         "domain": [
          0,
          1
         ],
         "title": {
          "text": "Performance (TFLOPs)"
         },
         "type": "log"
        }
       }
      },
      "image/png": "[encoded data removed]"
     },
     "metadata": {},
     "output_type": "display_data"
    }
   ],
   "source": [
    "fig.show()"
   ]
  },
  {
   "cell_type": "code",
   "execution_count": null,
   "id": "bf7df67c-c445-48cf-9aaf-b56129f0587c",
   "metadata": {},
   "outputs": [],
   "source": []
  }
 ],
 "metadata": {
  "kernelspec": {
   "display_name": "Python (uv Env)",
   "language": "python",
   "name": "ck_roofline"
  },
  "language_info": {
   "codemirror_mode": {
    "name": "ipython",
    "version": 3
   },
   "file_extension": ".py",
   "mimetype": "text/x-python",
   "name": "python",
   "nbconvert_exporter": "python",
   "pygments_lexer": "ipython3",
   "version": "3.13.2"
  }
 },
 "nbformat": 4,
 "nbformat_minor": 5
}
